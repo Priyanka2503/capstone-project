{
  "cells": [
    {
      "cell_type": "markdown",
      "source": [
        "# Automated ML\n",
        "\n",
        "TODO: Import Dependencies. In the cell below, import all the dependencies that you will need to complete the project."
      ],
      "metadata": {}
    },
    {
      "cell_type": "code",
      "source": [
        "from azureml.core.experiment import Experiment\r\n",
        "from azureml.core.workspace import Workspace\r\n",
        "\r\n",
        "from azureml.core.compute import AmlCompute\r\n",
        "from azureml.core.compute import ComputeTarget\r\n",
        "from azureml.core.compute_target import ComputeTargetException\r\n",
        "\r\n",
        "import azureml.core\r\n",
        "from azureml.train.automl import AutoMLConfig\r\n",
        "from azureml.core.dataset import Dataset\r\n",
        "from azureml.data.dataset_factory import TabularDatasetFactory\r\n",
        "\r\n",
        "from sklearn.model_selection import train_test_split\r\n",
        "\r\n",
        "import pandas as pd\r\n",
        "from azureml.widgets import RunDetails\r\n",
        "\r\n",
        "import joblib \r\n",
        "import azureml.automl\r\n",
        "\r\n",
        "from azureml.core.model import Model\r\n",
        "\r\n",
        "from azureml.pipeline.core import PipelineData, TrainingOutput\r\n",
        "\r\n",
        "from azureml.pipeline.core import Pipeline\r\n",
        "\r\n",
        "import pickle\r\n",
        "\r\n",
        "from azureml.core.model import InferenceConfig\r\n",
        "from azureml.core.environment import Environment\r\n",
        "from azureml.core.conda_dependencies import CondaDependencies\r\n",
        "\r\n",
        "from azureml.core.webservice import Webservice, AciWebservice\r\n",
        "\r\n",
        "import logging\r\n",
        "import os\r\n",
        "\r\n",
        "import requests\r\n",
        "import json"
      ],
      "outputs": [],
      "execution_count": 1,
      "metadata": {
        "gather": {
          "logged": 1610862490428
        },
        "jupyter": {
          "outputs_hidden": false,
          "source_hidden": false
        },
        "nteract": {
          "transient": {
            "deleting": false
          }
        }
      }
    },
    {
      "cell_type": "code",
      "source": [
        "# Check core SDK version number\r\n",
        "print(\"SDK version:\", azureml.core.VERSION)"
      ],
      "outputs": [
        {
          "output_type": "stream",
          "name": "stdout",
          "text": [
            "SDK version: 1.19.0\n"
          ]
        }
      ],
      "execution_count": 2,
      "metadata": {
        "collapsed": true,
        "jupyter": {
          "source_hidden": false,
          "outputs_hidden": false
        },
        "nteract": {
          "transient": {
            "deleting": false
          }
        },
        "gather": {
          "logged": 1610862494470
        }
      }
    },
    {
      "cell_type": "markdown",
      "source": [
        "## Dataset\n",
        "\n",
        "### Overview\n",
        "TODO: In this markdown cell, give an overview of the dataset you are using. Also mention the task you will be performing.\n",
        "\n",
        "\n",
        "TODO: Get data. In the cell below, write code to access the data you will be using in this project. Remember that the dataset needs to be external."
      ],
      "metadata": {}
    },
    {
      "cell_type": "code",
      "source": [
        "ws = Workspace.from_config()\n",
        "\n",
        "# choose a name for experiment\n",
        "experiment_name = 'experiment-1'\n",
        "project_folder = './pipeline-project'\n",
        "\n",
        "experiment=Experiment(ws, experiment_name)\n",
        "experiment"
      ],
      "outputs": [
        {
          "output_type": "execute_result",
          "execution_count": 3,
          "data": {
            "text/plain": "Experiment(Name: experiment-1,\nWorkspace: quick-starts-ws-134986)",
            "text/html": "<table style=\"width:100%\"><tr><th>Name</th><th>Workspace</th><th>Report Page</th><th>Docs Page</th></tr><tr><td>experiment-1</td><td>quick-starts-ws-134986</td><td><a href=\"https://ml.azure.com/experiments/experiment-1?wsid=/subscriptions/f9d5a085-54dc-4215-9ba6-dad5d86e60a0/resourcegroups/aml-quickstarts-134986/workspaces/quick-starts-ws-134986\" target=\"_blank\" rel=\"noopener\">Link to Azure Machine Learning studio</a></td><td><a href=\"https://docs.microsoft.com/en-us/python/api/azureml-core/azureml.core.experiment.Experiment?view=azure-ml-py\" target=\"_blank\" rel=\"noopener\">Link to Documentation</a></td></tr></table>"
          },
          "metadata": {}
        }
      ],
      "execution_count": 3,
      "metadata": {
        "gather": {
          "logged": 1610862498384
        },
        "jupyter": {
          "outputs_hidden": false,
          "source_hidden": false
        },
        "nteract": {
          "transient": {
            "deleting": false
          }
        }
      }
    },
    {
      "cell_type": "code",
      "source": [
        "amlcompute_cluster_name = \"capstone\"\r\n",
        "\r\n",
        "# Verify that cluster does not exist already\r\n",
        "\r\n",
        "try:\r\n",
        "    compute_target = ComputeTarget(workspace=ws, name=amlcompute_cluster_name)\r\n",
        "    print('Found existing cluster, use it.')\r\n",
        "except ComputeTargetException:\r\n",
        "    compute_config = AmlCompute.provisioning_configuration(vm_size='STANDARD_D2_V2',# for GPU, use \"STANDARD_NC6\"\r\n",
        "                                                           #vm_priority = 'lowpriority', # optional\r\n",
        "                                                           max_nodes=4)\r\n",
        "    compute_target = ComputeTarget.create(ws, amlcompute_cluster_name, compute_config)\r\n",
        "\r\n",
        "compute_target.wait_for_completion(show_output=True)"
      ],
      "outputs": [
        {
          "output_type": "stream",
          "name": "stdout",
          "text": [
            "Found existing cluster, use it.\n",
            "\n",
            "Running\n"
          ]
        }
      ],
      "execution_count": 4,
      "metadata": {
        "collapsed": true,
        "jupyter": {
          "source_hidden": false,
          "outputs_hidden": false
        },
        "nteract": {
          "transient": {
            "deleting": false
          }
        },
        "gather": {
          "logged": 1610862593071
        }
      }
    },
    {
      "cell_type": "code",
      "source": [
        "data = pd.read_csv(\"heart_failure_clinical_records_dataset.csv\")"
      ],
      "outputs": [],
      "execution_count": 5,
      "metadata": {
        "collapsed": true,
        "jupyter": {
          "source_hidden": false,
          "outputs_hidden": false
        },
        "nteract": {
          "transient": {
            "deleting": false
          }
        },
        "gather": {
          "logged": 1610862605834
        }
      }
    },
    {
      "cell_type": "code",
      "source": [
        "train, test = train_test_split(data, test_size=0.2, random_state=1 )\r\n",
        "\r\n",
        "if \"training\" not in os.listdir():\r\n",
        "    os.mkdir(\"./training\")\r\n",
        "\r\n",
        "if \"models\" not in os.listdir():\r\n",
        "    os.mkdir(\"./models\")\r\n",
        "if \"outputs\" not in os.listdir():\r\n",
        "    os.mkdir(\"./outputs\")\r\n",
        "\r\n",
        "train.to_csv(\"training/train_data.csv\", index = False)\r\n",
        "\r\n",
        "data_store = ws.get_default_datastore()\r\n",
        "data_store.upload(src_dir = \"./training\", target_path = 'udacity-project', overwrite = True,  show_progress = True)"
      ],
      "outputs": [
        {
          "output_type": "stream",
          "name": "stdout",
          "text": [
            "Uploading an estimated of 1 files\n",
            "Uploading ./training/train_data.csv\n",
            "Uploaded ./training/train_data.csv, 1 files out of an estimated total of 1\n",
            "Uploaded 1 files\n"
          ]
        },
        {
          "output_type": "execute_result",
          "execution_count": 6,
          "data": {
            "text/plain": "$AZUREML_DATAREFERENCE_1c92a6540e3d43b7b5c3b95617302b8f"
          },
          "metadata": {}
        }
      ],
      "execution_count": 6,
      "metadata": {
        "collapsed": true,
        "jupyter": {
          "source_hidden": false,
          "outputs_hidden": false
        },
        "nteract": {
          "transient": {
            "deleting": false
          }
        },
        "gather": {
          "logged": 1610862607605
        }
      }
    },
    {
      "cell_type": "code",
      "source": [
        "train_data = Dataset.Tabular.from_delimited_files(path=data_store.path(\"udacity-project/train_data.csv\"))"
      ],
      "outputs": [],
      "execution_count": 7,
      "metadata": {
        "collapsed": true,
        "jupyter": {
          "source_hidden": false,
          "outputs_hidden": false
        },
        "nteract": {
          "transient": {
            "deleting": false
          }
        },
        "gather": {
          "logged": 1610862616602
        }
      }
    },
    {
      "cell_type": "markdown",
      "source": [
        "## AutoML Configuration\n",
        "\n",
        "TODO: Explain why you chose the automl settings and cofiguration you used below."
      ],
      "metadata": {}
    },
    {
      "cell_type": "code",
      "source": [
        "# TODO: Put your automl settings here\n",
        "automl_settings = {\n",
        "    \"experiment_timeout_minutes\": 20,\n",
        "    \"max_concurrent_iterations\": 5,\n",
        "    \"primary_metric\" : 'AUC_weighted'    \n",
        "}\n",
        "\n",
        "# TODO: Put your automl config here\n",
        "automl_config = AutoMLConfig(\n",
        "    \n",
        "    compute_target = compute_target,\n",
        "    task = \"classification\",\n",
        "    training_data = train_data,\n",
        "    label_column_name = \"DEATH_EVENT\",   \n",
        "    path = project_folder,\n",
        "    enable_early_stopping= True,\n",
        "    featurization= 'auto',\n",
        "    debug_log = \"automl_errors.log\",\n",
        "    )"
      ],
      "outputs": [],
      "execution_count": 8,
      "metadata": {
        "gather": {
          "logged": 1610862630553
        },
        "jupyter": {
          "outputs_hidden": false,
          "source_hidden": false
        },
        "nteract": {
          "transient": {
            "deleting": false
          }
        }
      }
    },
    {
      "cell_type": "code",
      "source": [
        "# TODO: Submit your experiment\n",
        "remote_run = experiment.submit(automl_config, show_output= True)\n",
        "RunDetails(remote_run).show()"
      ],
      "outputs": [
        {
          "output_type": "stream",
          "name": "stdout",
          "text": [
            "Running on remote.\n",
            "No run_configuration provided, running on capstone with default configuration\n",
            "Running on remote compute: capstone\n",
            "Parent Run ID: AutoML_7e5dda8b-129a-40bf-b0eb-0e77ecddb41c\n",
            "\n",
            "Current status: FeaturesGeneration. Generating features for the dataset.\n",
            "Current status: DatasetCrossValidationSplit. Generating individually featurized CV splits.\n",
            "Current status: ModelSelection. Beginning model selection.\n",
            "\n",
            "****************************************************************************************************\n",
            "DATA GUARDRAILS: \n",
            "\n",
            "TYPE:         Cross validation\n",
            "STATUS:       DONE\n",
            "DESCRIPTION:  Each iteration of the trained model was validated through cross-validation.\n",
            "              \n",
            "DETAILS:      \n",
            "+---------------------------------+\n",
            "|Number of folds                  |\n",
            "+=================================+\n",
            "|10                               |\n",
            "+---------------------------------+\n",
            "\n",
            "****************************************************************************************************\n",
            "\n",
            "TYPE:         Class balancing detection\n",
            "STATUS:       PASSED\n",
            "DESCRIPTION:  Your inputs were analyzed, and all classes are balanced in your training data.\n",
            "              Learn more about imbalanced data: https://aka.ms/AutomatedMLImbalancedData\n",
            "\n",
            "****************************************************************************************************\n",
            "\n",
            "TYPE:         Missing feature values imputation\n",
            "STATUS:       PASSED\n",
            "DESCRIPTION:  No feature missing values were detected in the training data.\n",
            "              Learn more about missing value imputation: https://aka.ms/AutomatedMLFeaturization\n",
            "\n",
            "****************************************************************************************************\n",
            "\n",
            "TYPE:         High cardinality feature detection\n",
            "STATUS:       PASSED\n",
            "DESCRIPTION:  Your inputs were analyzed, and no high cardinality features were detected.\n",
            "              Learn more about high cardinality feature handling: https://aka.ms/AutomatedMLFeaturization\n",
            "\n",
            "****************************************************************************************************\n",
            "\n",
            "****************************************************************************************************\n",
            "ITERATION: The iteration being evaluated.\n",
            "PIPELINE: A summary description of the pipeline being evaluated.\n",
            "DURATION: Time taken for the current iteration.\n",
            "METRIC: The result of computing score on the fitted pipeline.\n",
            "BEST: The best observed score thus far.\n",
            "****************************************************************************************************\n",
            "\n",
            " ITERATION   PIPELINE                                       DURATION      METRIC      BEST\n",
            "         0   MaxAbsScaler LightGBM                          0:00:44       0.8036    0.8036\n",
            "         1   MaxAbsScaler XGBoostClassifier                 0:00:45       0.8328    0.8328\n",
            "         2   MinMaxScaler RandomForest                      0:00:42       0.8161    0.8328\n",
            "         3   MinMaxScaler RandomForest                      0:00:50       0.8076    0.8328\n",
            "         4   MinMaxScaler RandomForest                      0:00:41       0.8328    0.8328\n",
            "         5   MinMaxScaler SVM                               0:00:53       0.6993    0.8328\n",
            "         6   MaxAbsScaler GradientBoosting                  0:00:53       0.8370    0.8370\n",
            "         7   StandardScalerWrapper RandomForest             0:00:49       0.8371    0.8371\n",
            "         8   SparseNormalizer XGBoostClassifier             0:00:41       0.7953    0.8371\n",
            "         9   SparseNormalizer LightGBM                      0:00:46       0.7576    0.8371\n",
            "        10   RobustScaler RandomForest                      0:00:43       0.8580    0.8580\n",
            "        11   MaxAbsScaler LightGBM                          0:00:43       0.8074    0.8580\n",
            "        12   RobustScaler ExtremeRandomTrees                0:00:45       0.8411    0.8580\n",
            "        13   SparseNormalizer XGBoostClassifier             0:01:50       0.7870    0.8580\n",
            "        14   StandardScalerWrapper ExtremeRandomTrees       0:00:44       0.8203    0.8580\n",
            "        15   StandardScalerWrapper XGBoostClassifier        0:00:49       0.8201    0.8580\n",
            "        16   StandardScalerWrapper GradientBoosting         0:00:39       0.8078    0.8580\n",
            "        17   StandardScalerWrapper ExtremeRandomTrees       0:00:50       0.7239    0.8580\n",
            "        18   SparseNormalizer XGBoostClassifier             0:00:45       0.7870    0.8580\n",
            "        19   StandardScalerWrapper LightGBM                 0:00:45       0.8161    0.8580\n",
            "        20   StandardScalerWrapper LightGBM                 0:00:42       0.8371    0.8580\n",
            "        21   MaxAbsScaler ExtremeRandomTrees                0:01:11       0.7699    0.8580\n",
            "        22   StandardScalerWrapper LightGBM                 0:00:50       0.8203    0.8580\n",
            "        23   StandardScalerWrapper LightGBM                 0:00:41       0.7322    0.8580\n",
            "        24   StandardScalerWrapper XGBoostClassifier        0:00:56       0.8326    0.8580\n",
            "        25   MaxAbsScaler RandomForest                      0:00:44       0.6571    0.8580\n",
            "        26   SparseNormalizer XGBoostClassifier             0:00:46       0.7870    0.8580\n",
            "        27   SparseNormalizer XGBoostClassifier             0:00:58       0.7826    0.8580\n",
            "        28   StandardScalerWrapper KNN                      0:00:44       0.6152    0.8580\n",
            "        29   StandardScalerWrapper ExtremeRandomTrees       0:00:47       0.8203    0.8580\n",
            "        30    VotingEnsemble                                0:01:35       0.8665    0.8665\n",
            "        31    StackEnsemble                                 0:01:45       0.8411    0.8665\n"
          ]
        },
        {
          "output_type": "display_data",
          "data": {
            "text/plain": "_AutoMLWidget(widget_settings={'childWidgetDisplay': 'popup', 'send_telemetry': False, 'log_level': 'INFO', 's…",
            "application/vnd.jupyter.widget-view+json": {
              "version_major": 2,
              "version_minor": 0,
              "model_id": "c30fd3146e0c4a5ea83cdcef4f998746"
            }
          },
          "metadata": {}
        },
        {
          "output_type": "display_data",
          "data": {
            "application/aml.mini.widget.v1": "{\"status\": \"Completed\", \"workbench_run_details_uri\": \"https://ml.azure.com/experiments/experiment-1/runs/AutoML_7e5dda8b-129a-40bf-b0eb-0e77ecddb41c?wsid=/subscriptions/f9d5a085-54dc-4215-9ba6-dad5d86e60a0/resourcegroups/aml-quickstarts-134986/workspaces/quick-starts-ws-134986\", \"run_id\": \"AutoML_7e5dda8b-129a-40bf-b0eb-0e77ecddb41c\", \"run_properties\": {\"run_id\": \"AutoML_7e5dda8b-129a-40bf-b0eb-0e77ecddb41c\", \"created_utc\": \"2021-01-17T05:50:33.490357Z\", \"properties\": {\"num_iterations\": \"1000\", \"training_type\": \"TrainFull\", \"acquisition_function\": \"EI\", \"primary_metric\": \"accuracy\", \"train_split\": \"0\", \"acquisition_parameter\": \"0\", \"num_cross_validation\": null, \"target\": \"capstone\", \"AMLSettingsJsonString\": \"{\\\"path\\\":null,\\\"name\\\":\\\"experiment-1\\\",\\\"subscription_id\\\":\\\"f9d5a085-54dc-4215-9ba6-dad5d86e60a0\\\",\\\"resource_group\\\":\\\"aml-quickstarts-134986\\\",\\\"workspace_name\\\":\\\"quick-starts-ws-134986\\\",\\\"region\\\":\\\"southcentralus\\\",\\\"compute_target\\\":\\\"capstone\\\",\\\"spark_service\\\":null,\\\"azure_service\\\":\\\"remote\\\",\\\"many_models\\\":false,\\\"pipeline_fetch_max_batch_size\\\":1,\\\"iterations\\\":1000,\\\"primary_metric\\\":\\\"accuracy\\\",\\\"task_type\\\":\\\"classification\\\",\\\"data_script\\\":null,\\\"validation_size\\\":0.0,\\\"n_cross_validations\\\":null,\\\"y_min\\\":null,\\\"y_max\\\":null,\\\"num_classes\\\":null,\\\"featurization\\\":\\\"auto\\\",\\\"_ignore_package_version_incompatibilities\\\":false,\\\"is_timeseries\\\":false,\\\"max_cores_per_iteration\\\":1,\\\"max_concurrent_iterations\\\":1,\\\"iteration_timeout_minutes\\\":null,\\\"mem_in_mb\\\":null,\\\"enforce_time_on_windows\\\":false,\\\"experiment_timeout_minutes\\\":8640,\\\"experiment_exit_score\\\":null,\\\"whitelist_models\\\":null,\\\"blacklist_algos\\\":[\\\"TensorFlowLinearClassifier\\\",\\\"TensorFlowDNN\\\"],\\\"supported_models\\\":[\\\"LinearSVM\\\",\\\"XGBoostClassifier\\\",\\\"SVM\\\",\\\"SGD\\\",\\\"DecisionTree\\\",\\\"ExtremeRandomTrees\\\",\\\"GradientBoosting\\\",\\\"AveragedPerceptronClassifier\\\",\\\"TensorFlowLinearClassifier\\\",\\\"BernoulliNaiveBayes\\\",\\\"TensorFlowDNN\\\",\\\"KNN\\\",\\\"LogisticRegression\\\",\\\"LightGBM\\\",\\\"MultinomialNaiveBayes\\\",\\\"RandomForest\\\"],\\\"auto_blacklist\\\":true,\\\"blacklist_samples_reached\\\":false,\\\"exclude_nan_labels\\\":true,\\\"verbosity\\\":20,\\\"_debug_log\\\":\\\"azureml_automl.log\\\",\\\"show_warnings\\\":false,\\\"model_explainability\\\":true,\\\"service_url\\\":null,\\\"sdk_url\\\":null,\\\"sdk_packages\\\":null,\\\"enable_onnx_compatible_models\\\":false,\\\"enable_split_onnx_featurizer_estimator_models\\\":false,\\\"vm_type\\\":\\\"STANDARD_DS3_V2\\\",\\\"telemetry_verbosity\\\":20,\\\"send_telemetry\\\":true,\\\"enable_dnn\\\":false,\\\"scenario\\\":\\\"SDK-1.13.0\\\",\\\"environment_label\\\":null,\\\"force_text_dnn\\\":false,\\\"enable_feature_sweeping\\\":true,\\\"enable_early_stopping\\\":true,\\\"early_stopping_n_iters\\\":10,\\\"metrics\\\":null,\\\"enable_ensembling\\\":true,\\\"enable_stack_ensembling\\\":true,\\\"ensemble_iterations\\\":15,\\\"enable_tf\\\":false,\\\"enable_subsampling\\\":null,\\\"subsample_seed\\\":null,\\\"enable_nimbusml\\\":false,\\\"enable_streaming\\\":false,\\\"force_streaming\\\":false,\\\"track_child_runs\\\":true,\\\"allowed_private_models\\\":[],\\\"label_column_name\\\":\\\"DEATH_EVENT\\\",\\\"weight_column_name\\\":null,\\\"cv_split_column_names\\\":null,\\\"enable_local_managed\\\":false,\\\"_local_managed_run_id\\\":null,\\\"cost_mode\\\":1,\\\"lag_length\\\":0,\\\"metric_operation\\\":\\\"maximize\\\",\\\"preprocess\\\":true}\", \"DataPrepJsonString\": \"{\\\\\\\"training_data\\\\\\\": \\\\\\\"{\\\\\\\\\\\\\\\"blocks\\\\\\\\\\\\\\\": [{\\\\\\\\\\\\\\\"id\\\\\\\\\\\\\\\": \\\\\\\\\\\\\\\"c5155f75-08a4-4533-89af-680e758dc104\\\\\\\\\\\\\\\", \\\\\\\\\\\\\\\"type\\\\\\\\\\\\\\\": \\\\\\\\\\\\\\\"Microsoft.DPrep.GetDatastoreFilesBlock\\\\\\\\\\\\\\\", \\\\\\\\\\\\\\\"arguments\\\\\\\\\\\\\\\": {\\\\\\\\\\\\\\\"datastores\\\\\\\\\\\\\\\": [{\\\\\\\\\\\\\\\"datastoreName\\\\\\\\\\\\\\\": \\\\\\\\\\\\\\\"workspaceblobstore\\\\\\\\\\\\\\\", \\\\\\\\\\\\\\\"path\\\\\\\\\\\\\\\": \\\\\\\\\\\\\\\"udacity-project/train_data.csv\\\\\\\\\\\\\\\", \\\\\\\\\\\\\\\"resourceGroup\\\\\\\\\\\\\\\": \\\\\\\\\\\\\\\"aml-quickstarts-134986\\\\\\\\\\\\\\\", \\\\\\\\\\\\\\\"subscription\\\\\\\\\\\\\\\": \\\\\\\\\\\\\\\"f9d5a085-54dc-4215-9ba6-dad5d86e60a0\\\\\\\\\\\\\\\", \\\\\\\\\\\\\\\"workspaceName\\\\\\\\\\\\\\\": \\\\\\\\\\\\\\\"quick-starts-ws-134986\\\\\\\\\\\\\\\"}]}, \\\\\\\\\\\\\\\"localData\\\\\\\\\\\\\\\": {}, \\\\\\\\\\\\\\\"isEnabled\\\\\\\\\\\\\\\": true, \\\\\\\\\\\\\\\"name\\\\\\\\\\\\\\\": null, \\\\\\\\\\\\\\\"annotation\\\\\\\\\\\\\\\": null}, {\\\\\\\\\\\\\\\"id\\\\\\\\\\\\\\\": \\\\\\\\\\\\\\\"40673b13-c649-42ed-a616-af59e89f60d1\\\\\\\\\\\\\\\", \\\\\\\\\\\\\\\"type\\\\\\\\\\\\\\\": \\\\\\\\\\\\\\\"Microsoft.DPrep.ParseDelimitedBlock\\\\\\\\\\\\\\\", \\\\\\\\\\\\\\\"arguments\\\\\\\\\\\\\\\": {\\\\\\\\\\\\\\\"columnHeadersMode\\\\\\\\\\\\\\\": 3, \\\\\\\\\\\\\\\"fileEncoding\\\\\\\\\\\\\\\": 0, \\\\\\\\\\\\\\\"handleQuotedLineBreaks\\\\\\\\\\\\\\\": false, \\\\\\\\\\\\\\\"preview\\\\\\\\\\\\\\\": false, \\\\\\\\\\\\\\\"separator\\\\\\\\\\\\\\\": \\\\\\\\\\\\\\\",\\\\\\\\\\\\\\\", \\\\\\\\\\\\\\\"skipRows\\\\\\\\\\\\\\\": 0, \\\\\\\\\\\\\\\"skipRowsMode\\\\\\\\\\\\\\\": 0}, \\\\\\\\\\\\\\\"localData\\\\\\\\\\\\\\\": {}, \\\\\\\\\\\\\\\"isEnabled\\\\\\\\\\\\\\\": true, \\\\\\\\\\\\\\\"name\\\\\\\\\\\\\\\": null, \\\\\\\\\\\\\\\"annotation\\\\\\\\\\\\\\\": null}, {\\\\\\\\\\\\\\\"id\\\\\\\\\\\\\\\": \\\\\\\\\\\\\\\"2d800409-8c2a-473f-b16d-69a79839acb8\\\\\\\\\\\\\\\", \\\\\\\\\\\\\\\"type\\\\\\\\\\\\\\\": \\\\\\\\\\\\\\\"Microsoft.DPrep.DropColumnsBlock\\\\\\\\\\\\\\\", \\\\\\\\\\\\\\\"arguments\\\\\\\\\\\\\\\": {\\\\\\\\\\\\\\\"columns\\\\\\\\\\\\\\\": {\\\\\\\\\\\\\\\"type\\\\\\\\\\\\\\\": 0, \\\\\\\\\\\\\\\"details\\\\\\\\\\\\\\\": {\\\\\\\\\\\\\\\"selectedColumns\\\\\\\\\\\\\\\": [\\\\\\\\\\\\\\\"Path\\\\\\\\\\\\\\\"]}}}, \\\\\\\\\\\\\\\"localData\\\\\\\\\\\\\\\": {}, \\\\\\\\\\\\\\\"isEnabled\\\\\\\\\\\\\\\": true, \\\\\\\\\\\\\\\"name\\\\\\\\\\\\\\\": null, \\\\\\\\\\\\\\\"annotation\\\\\\\\\\\\\\\": null}, {\\\\\\\\\\\\\\\"id\\\\\\\\\\\\\\\": \\\\\\\\\\\\\\\"f3aa8a3b-145a-47e1-86ce-ebb97cfb68dd\\\\\\\\\\\\\\\", \\\\\\\\\\\\\\\"type\\\\\\\\\\\\\\\": \\\\\\\\\\\\\\\"Microsoft.DPrep.SetColumnTypesBlock\\\\\\\\\\\\\\\", \\\\\\\\\\\\\\\"arguments\\\\\\\\\\\\\\\": {\\\\\\\\\\\\\\\"columnConversion\\\\\\\\\\\\\\\": [{\\\\\\\\\\\\\\\"column\\\\\\\\\\\\\\\": {\\\\\\\\\\\\\\\"type\\\\\\\\\\\\\\\": 2, \\\\\\\\\\\\\\\"details\\\\\\\\\\\\\\\": {\\\\\\\\\\\\\\\"selectedColumn\\\\\\\\\\\\\\\": \\\\\\\\\\\\\\\"age\\\\\\\\\\\\\\\"}}, \\\\\\\\\\\\\\\"typeProperty\\\\\\\\\\\\\\\": 3}, {\\\\\\\\\\\\\\\"column\\\\\\\\\\\\\\\": {\\\\\\\\\\\\\\\"type\\\\\\\\\\\\\\\": 2, \\\\\\\\\\\\\\\"details\\\\\\\\\\\\\\\": {\\\\\\\\\\\\\\\"selectedColumn\\\\\\\\\\\\\\\": \\\\\\\\\\\\\\\"anaemia\\\\\\\\\\\\\\\"}}, \\\\\\\\\\\\\\\"typeProperty\\\\\\\\\\\\\\\": 2}, {\\\\\\\\\\\\\\\"column\\\\\\\\\\\\\\\": {\\\\\\\\\\\\\\\"type\\\\\\\\\\\\\\\": 2, \\\\\\\\\\\\\\\"details\\\\\\\\\\\\\\\": {\\\\\\\\\\\\\\\"selectedColumn\\\\\\\\\\\\\\\": \\\\\\\\\\\\\\\"creatinine_phosphokinase\\\\\\\\\\\\\\\"}}, \\\\\\\\\\\\\\\"typeProperty\\\\\\\\\\\\\\\": 2}, {\\\\\\\\\\\\\\\"column\\\\\\\\\\\\\\\": {\\\\\\\\\\\\\\\"type\\\\\\\\\\\\\\\": 2, \\\\\\\\\\\\\\\"details\\\\\\\\\\\\\\\": {\\\\\\\\\\\\\\\"selectedColumn\\\\\\\\\\\\\\\": \\\\\\\\\\\\\\\"diabetes\\\\\\\\\\\\\\\"}}, \\\\\\\\\\\\\\\"typeProperty\\\\\\\\\\\\\\\": 2}, {\\\\\\\\\\\\\\\"column\\\\\\\\\\\\\\\": {\\\\\\\\\\\\\\\"type\\\\\\\\\\\\\\\": 2, \\\\\\\\\\\\\\\"details\\\\\\\\\\\\\\\": {\\\\\\\\\\\\\\\"selectedColumn\\\\\\\\\\\\\\\": \\\\\\\\\\\\\\\"ejection_fraction\\\\\\\\\\\\\\\"}}, \\\\\\\\\\\\\\\"typeProperty\\\\\\\\\\\\\\\": 2}, {\\\\\\\\\\\\\\\"column\\\\\\\\\\\\\\\": {\\\\\\\\\\\\\\\"type\\\\\\\\\\\\\\\": 2, \\\\\\\\\\\\\\\"details\\\\\\\\\\\\\\\": {\\\\\\\\\\\\\\\"selectedColumn\\\\\\\\\\\\\\\": \\\\\\\\\\\\\\\"high_blood_pressure\\\\\\\\\\\\\\\"}}, \\\\\\\\\\\\\\\"typeProperty\\\\\\\\\\\\\\\": 2}, {\\\\\\\\\\\\\\\"column\\\\\\\\\\\\\\\": {\\\\\\\\\\\\\\\"type\\\\\\\\\\\\\\\": 2, \\\\\\\\\\\\\\\"details\\\\\\\\\\\\\\\": {\\\\\\\\\\\\\\\"selectedColumn\\\\\\\\\\\\\\\": \\\\\\\\\\\\\\\"platelets\\\\\\\\\\\\\\\"}}, \\\\\\\\\\\\\\\"typeProperty\\\\\\\\\\\\\\\": 3}, {\\\\\\\\\\\\\\\"column\\\\\\\\\\\\\\\": {\\\\\\\\\\\\\\\"type\\\\\\\\\\\\\\\": 2, \\\\\\\\\\\\\\\"details\\\\\\\\\\\\\\\": {\\\\\\\\\\\\\\\"selectedColumn\\\\\\\\\\\\\\\": \\\\\\\\\\\\\\\"serum_creatinine\\\\\\\\\\\\\\\"}}, \\\\\\\\\\\\\\\"typeProperty\\\\\\\\\\\\\\\": 3}, {\\\\\\\\\\\\\\\"column\\\\\\\\\\\\\\\": {\\\\\\\\\\\\\\\"type\\\\\\\\\\\\\\\": 2, \\\\\\\\\\\\\\\"details\\\\\\\\\\\\\\\": {\\\\\\\\\\\\\\\"selectedColumn\\\\\\\\\\\\\\\": \\\\\\\\\\\\\\\"serum_sodium\\\\\\\\\\\\\\\"}}, \\\\\\\\\\\\\\\"typeProperty\\\\\\\\\\\\\\\": 2}, {\\\\\\\\\\\\\\\"column\\\\\\\\\\\\\\\": {\\\\\\\\\\\\\\\"type\\\\\\\\\\\\\\\": 2, \\\\\\\\\\\\\\\"details\\\\\\\\\\\\\\\": {\\\\\\\\\\\\\\\"selectedColumn\\\\\\\\\\\\\\\": \\\\\\\\\\\\\\\"sex\\\\\\\\\\\\\\\"}}, \\\\\\\\\\\\\\\"typeProperty\\\\\\\\\\\\\\\": 2}, {\\\\\\\\\\\\\\\"column\\\\\\\\\\\\\\\": {\\\\\\\\\\\\\\\"type\\\\\\\\\\\\\\\": 2, \\\\\\\\\\\\\\\"details\\\\\\\\\\\\\\\": {\\\\\\\\\\\\\\\"selectedColumn\\\\\\\\\\\\\\\": \\\\\\\\\\\\\\\"smoking\\\\\\\\\\\\\\\"}}, \\\\\\\\\\\\\\\"typeProperty\\\\\\\\\\\\\\\": 2}, {\\\\\\\\\\\\\\\"column\\\\\\\\\\\\\\\": {\\\\\\\\\\\\\\\"type\\\\\\\\\\\\\\\": 2, \\\\\\\\\\\\\\\"details\\\\\\\\\\\\\\\": {\\\\\\\\\\\\\\\"selectedColumn\\\\\\\\\\\\\\\": \\\\\\\\\\\\\\\"time\\\\\\\\\\\\\\\"}}, \\\\\\\\\\\\\\\"typeProperty\\\\\\\\\\\\\\\": 2}, {\\\\\\\\\\\\\\\"column\\\\\\\\\\\\\\\": {\\\\\\\\\\\\\\\"type\\\\\\\\\\\\\\\": 2, \\\\\\\\\\\\\\\"details\\\\\\\\\\\\\\\": {\\\\\\\\\\\\\\\"selectedColumn\\\\\\\\\\\\\\\": \\\\\\\\\\\\\\\"DEATH_EVENT\\\\\\\\\\\\\\\"}}, \\\\\\\\\\\\\\\"typeProperty\\\\\\\\\\\\\\\": 2}]}, \\\\\\\\\\\\\\\"localData\\\\\\\\\\\\\\\": {}, \\\\\\\\\\\\\\\"isEnabled\\\\\\\\\\\\\\\": true, \\\\\\\\\\\\\\\"name\\\\\\\\\\\\\\\": null, \\\\\\\\\\\\\\\"annotation\\\\\\\\\\\\\\\": null}], \\\\\\\\\\\\\\\"inspectors\\\\\\\\\\\\\\\": [], \\\\\\\\\\\\\\\"meta\\\\\\\\\\\\\\\": {\\\\\\\\\\\\\\\"savedDatasetId\\\\\\\\\\\\\\\": \\\\\\\\\\\\\\\"c97d16dd-a494-46af-ba7a-4c94899350ea\\\\\\\\\\\\\\\", \\\\\\\\\\\\\\\"datasetType\\\\\\\\\\\\\\\": \\\\\\\\\\\\\\\"tabular\\\\\\\\\\\\\\\", \\\\\\\\\\\\\\\"subscriptionId\\\\\\\\\\\\\\\": \\\\\\\\\\\\\\\"f9d5a085-54dc-4215-9ba6-dad5d86e60a0\\\\\\\\\\\\\\\", \\\\\\\\\\\\\\\"workspaceId\\\\\\\\\\\\\\\": \\\\\\\\\\\\\\\"14dcadd8-0f2c-4059-b98f-7a3614641c20\\\\\\\\\\\\\\\", \\\\\\\\\\\\\\\"workspaceLocation\\\\\\\\\\\\\\\": \\\\\\\\\\\\\\\"southcentralus\\\\\\\\\\\\\\\"}}\\\\\\\", \\\\\\\"activities\\\\\\\": 0}\", \"EnableSubsampling\": null, \"runTemplate\": \"AutoML\", \"azureml.runsource\": \"automl\", \"display_task_type\": \"classification\", \"dependencies_versions\": \"{\\\"azureml-widgets\\\": \\\"1.19.0\\\", \\\"azureml-train\\\": \\\"1.19.0\\\", \\\"azureml-train-restclients-hyperdrive\\\": \\\"1.19.0\\\", \\\"azureml-train-core\\\": \\\"1.19.0\\\", \\\"azureml-train-automl\\\": \\\"1.19.0\\\", \\\"azureml-train-automl-runtime\\\": \\\"1.19.0\\\", \\\"azureml-train-automl-client\\\": \\\"1.19.0\\\", \\\"azureml-tensorboard\\\": \\\"1.19.0\\\", \\\"azureml-telemetry\\\": \\\"1.19.0\\\", \\\"azureml-sdk\\\": \\\"1.19.0\\\", \\\"azureml-samples\\\": \\\"0+unknown\\\", \\\"azureml-pipeline\\\": \\\"1.19.0\\\", \\\"azureml-pipeline-steps\\\": \\\"1.19.0\\\", \\\"azureml-pipeline-core\\\": \\\"1.19.0\\\", \\\"azureml-opendatasets\\\": \\\"1.19.0\\\", \\\"azureml-model-management-sdk\\\": \\\"1.0.1b6.post1\\\", \\\"azureml-mlflow\\\": \\\"1.19.0\\\", \\\"azureml-interpret\\\": \\\"1.19.0\\\", \\\"azureml-explain-model\\\": \\\"1.19.0\\\", \\\"azureml-defaults\\\": \\\"1.19.0\\\", \\\"azureml-dataset-runtime\\\": \\\"1.19.0.post1\\\", \\\"azureml-dataprep\\\": \\\"2.6.1\\\", \\\"azureml-dataprep-rslex\\\": \\\"1.4.0\\\", \\\"azureml-dataprep-native\\\": \\\"26.0.0\\\", \\\"azureml-datadrift\\\": \\\"1.19.0\\\", \\\"azureml-core\\\": \\\"1.19.0\\\", \\\"azureml-contrib-services\\\": \\\"1.19.0\\\", \\\"azureml-contrib-server\\\": \\\"1.19.0\\\", \\\"azureml-contrib-reinforcementlearning\\\": \\\"1.19.0\\\", \\\"azureml-contrib-pipeline-steps\\\": \\\"1.19.0\\\", \\\"azureml-contrib-notebook\\\": \\\"1.19.0\\\", \\\"azureml-contrib-interpret\\\": \\\"1.19.0\\\", \\\"azureml-contrib-gbdt\\\": \\\"1.19.0\\\", \\\"azureml-contrib-fairness\\\": \\\"1.19.0\\\", \\\"azureml-contrib-dataset\\\": \\\"1.19.0\\\", \\\"azureml-cli-common\\\": \\\"1.19.0\\\", \\\"azureml-automl-runtime\\\": \\\"1.19.0\\\", \\\"azureml-automl-core\\\": \\\"1.19.0\\\", \\\"azureml-accel-models\\\": \\\"1.19.0\\\"}\", \"_aml_system_scenario_identification\": \"Remote.Parent\", \"ClientType\": \"SDK\", \"environment_cpu_name\": \"AzureML-AutoML\", \"environment_cpu_label\": \"prod\", \"environment_gpu_name\": \"AzureML-AutoML-GPU\", \"environment_gpu_label\": \"prod\", \"root_attribution\": \"automl\", \"attribution\": \"AutoML\", \"Orchestrator\": \"AutoML\", \"CancelUri\": \"https://southcentralus.experiments.azureml.net/jasmine/v1.0/subscriptions/f9d5a085-54dc-4215-9ba6-dad5d86e60a0/resourceGroups/aml-quickstarts-134986/providers/Microsoft.MachineLearningServices/workspaces/quick-starts-ws-134986/experimentids/643ea06b-da16-4e6e-9bdc-400aebb619d8/cancel/AutoML_7e5dda8b-129a-40bf-b0eb-0e77ecddb41c\", \"ClientSdkVersion\": \"1.19.0\", \"snapshotId\": \"00000000-0000-0000-0000-000000000000\", \"SetupRunId\": \"AutoML_7e5dda8b-129a-40bf-b0eb-0e77ecddb41c_setup\", \"SetupRunContainerId\": \"dcid.AutoML_7e5dda8b-129a-40bf-b0eb-0e77ecddb41c_setup\", \"FeaturizationRunJsonPath\": \"featurizer_container.json\", \"FeaturizationRunId\": \"AutoML_7e5dda8b-129a-40bf-b0eb-0e77ecddb41c_featurize\", \"ProblemInfoJsonString\": \"{\\\"dataset_num_categorical\\\": 0, \\\"is_sparse\\\": false, \\\"subsampling\\\": false, \\\"dataset_classes\\\": 2, \\\"dataset_features\\\": 12, \\\"dataset_samples\\\": 239, \\\"single_frequency_class_detected\\\": false}\", \"ModelExplainRunId\": \"AutoML_7e5dda8b-129a-40bf-b0eb-0e77ecddb41c_ModelExplain\"}, \"tags\": {\"model_explain_run\": \"best_run\", \"_aml_system_azureml.automlComponent\": \"AutoML\", \"pipeline_id\": \"\", \"score\": \"\", \"predicted_cost\": \"\", \"fit_time\": \"\", \"training_percent\": \"\", \"iteration\": \"\", \"run_preprocessor\": \"\", \"run_algorithm\": \"\", \"dynamic_whitelisting_iterations\": \"<25>;\", \"automl_best_child_run_id\": \"AutoML_7e5dda8b-129a-40bf-b0eb-0e77ecddb41c_30\", \"model_explain_best_run_child_id\": \"AutoML_7e5dda8b-129a-40bf-b0eb-0e77ecddb41c_30\"}, \"end_time_utc\": \"2021-01-17T06:30:58.179861Z\", \"status\": \"Completed\", \"log_files\": {}, \"log_groups\": [], \"run_duration\": \"0:40:24\"}, \"child_runs\": [{\"run_id\": \"AutoML_7e5dda8b-129a-40bf-b0eb-0e77ecddb41c_0\", \"run_number\": 41, \"metric\": null, \"status\": \"Completed\", \"run_type\": \"azureml.scriptrun\", \"training_percent\": \"100\", \"start_time\": \"2021-01-17T05:53:39.088655Z\", \"end_time\": \"2021-01-17T05:54:23.420465Z\", \"created_time\": \"2021-01-17T05:53:20.896438Z\", \"created_time_dt\": \"2021-01-17T05:53:20.896438Z\", \"duration\": \"0:01:02\", \"iteration\": \"0\", \"goal\": \"accuracy_max\", \"run_name\": \"MaxAbsScaler, LightGBM\", \"run_properties\": \"copy=True\", \"primary_metric\": 0.80362319, \"best_metric\": 0.80362319}, {\"run_id\": \"AutoML_7e5dda8b-129a-40bf-b0eb-0e77ecddb41c_1\", \"run_number\": 43, \"metric\": null, \"status\": \"Completed\", \"run_type\": \"azureml.scriptrun\", \"training_percent\": \"100\", \"start_time\": \"2021-01-17T05:54:38.107067Z\", \"end_time\": \"2021-01-17T05:55:23.438785Z\", \"created_time\": \"2021-01-17T05:54:24.774094Z\", \"created_time_dt\": \"2021-01-17T05:54:24.774094Z\", \"duration\": \"0:00:58\", \"iteration\": \"1\", \"goal\": \"accuracy_max\", \"run_name\": \"MaxAbsScaler, XGBoostClassifier\", \"run_properties\": \"copy=True\", \"primary_metric\": 0.83278986, \"best_metric\": 0.83278986}, {\"run_id\": \"AutoML_7e5dda8b-129a-40bf-b0eb-0e77ecddb41c_2\", \"run_number\": 44, \"metric\": null, \"status\": \"Completed\", \"run_type\": \"azureml.scriptrun\", \"training_percent\": \"100\", \"start_time\": \"2021-01-17T05:55:37.058013Z\", \"end_time\": \"2021-01-17T05:56:18.976707Z\", \"created_time\": \"2021-01-17T05:55:25.245677Z\", \"created_time_dt\": \"2021-01-17T05:55:25.245677Z\", \"duration\": \"0:00:53\", \"iteration\": \"2\", \"goal\": \"accuracy_max\", \"run_name\": \"MinMaxScaler, RandomForest\", \"run_properties\": \"copy=True, feature_range=(0, 1\", \"primary_metric\": 0.81612319, \"best_metric\": 0.83278986}, {\"run_id\": \"AutoML_7e5dda8b-129a-40bf-b0eb-0e77ecddb41c_3\", \"run_number\": 45, \"metric\": null, \"status\": \"Completed\", \"run_type\": \"azureml.scriptrun\", \"training_percent\": \"100\", \"start_time\": \"2021-01-17T05:56:33.448892Z\", \"end_time\": \"2021-01-17T05:57:23.889377Z\", \"created_time\": \"2021-01-17T05:56:21.443248Z\", \"created_time_dt\": \"2021-01-17T05:56:21.443248Z\", \"duration\": \"0:01:02\", \"iteration\": \"3\", \"goal\": \"accuracy_max\", \"run_name\": \"MinMaxScaler, RandomForest\", \"run_properties\": \"copy=True, feature_range=(0, 1\", \"primary_metric\": 0.8076087, \"best_metric\": 0.83278986}, {\"run_id\": \"AutoML_7e5dda8b-129a-40bf-b0eb-0e77ecddb41c_4\", \"run_number\": 46, \"metric\": null, \"status\": \"Completed\", \"run_type\": \"azureml.scriptrun\", \"training_percent\": \"100\", \"start_time\": \"2021-01-17T05:57:43.628493Z\", \"end_time\": \"2021-01-17T05:58:25.014396Z\", \"created_time\": \"2021-01-17T05:57:26.207661Z\", \"created_time_dt\": \"2021-01-17T05:57:26.207661Z\", \"duration\": \"0:00:58\", \"iteration\": \"4\", \"goal\": \"accuracy_max\", \"run_name\": \"MinMaxScaler, RandomForest\", \"run_properties\": \"copy=True, feature_range=(0, 1\", \"primary_metric\": 0.83278986, \"best_metric\": 0.83278986}, {\"run_id\": \"AutoML_7e5dda8b-129a-40bf-b0eb-0e77ecddb41c_5\", \"run_number\": 47, \"metric\": null, \"status\": \"Completed\", \"run_type\": \"azureml.scriptrun\", \"training_percent\": \"100\", \"start_time\": \"2021-01-17T05:58:37.858967Z\", \"end_time\": \"2021-01-17T05:59:31.217181Z\", \"created_time\": \"2021-01-17T05:58:27.682674Z\", \"created_time_dt\": \"2021-01-17T05:58:27.682674Z\", \"duration\": \"0:01:03\", \"iteration\": \"5\", \"goal\": \"accuracy_max\", \"run_name\": \"MinMaxScaler, SVM\", \"run_properties\": \"copy=True, feature_range=(0, 1\", \"primary_metric\": 0.69927536, \"best_metric\": 0.83278986}, {\"run_id\": \"AutoML_7e5dda8b-129a-40bf-b0eb-0e77ecddb41c_6\", \"run_number\": 48, \"metric\": null, \"status\": \"Completed\", \"run_type\": \"azureml.scriptrun\", \"training_percent\": \"100\", \"start_time\": \"2021-01-17T05:59:53.109566Z\", \"end_time\": \"2021-01-17T06:00:46.561053Z\", \"created_time\": \"2021-01-17T05:59:34.009723Z\", \"created_time_dt\": \"2021-01-17T05:59:34.009723Z\", \"duration\": \"0:01:12\", \"iteration\": \"6\", \"goal\": \"accuracy_max\", \"run_name\": \"MaxAbsScaler, GradientBoosting\", \"run_properties\": \"copy=True\", \"primary_metric\": 0.83695652, \"best_metric\": 0.83695652}, {\"run_id\": \"AutoML_7e5dda8b-129a-40bf-b0eb-0e77ecddb41c_7\", \"run_number\": 49, \"metric\": null, \"status\": \"Completed\", \"run_type\": \"azureml.scriptrun\", \"training_percent\": \"100\", \"start_time\": \"2021-01-17T06:01:02.478485Z\", \"end_time\": \"2021-01-17T06:01:51.115684Z\", \"created_time\": \"2021-01-17T06:00:48.946873Z\", \"created_time_dt\": \"2021-01-17T06:00:48.946873Z\", \"duration\": \"0:01:02\", \"iteration\": \"7\", \"goal\": \"accuracy_max\", \"run_name\": \"StandardScalerWrapper, RandomForest\", \"run_properties\": \"<azureml.automl.runtime.shared.model_wrappers.StandardScalerWrapper object at 0x7f7a3027ce48\", \"primary_metric\": 0.83713768, \"best_metric\": 0.83713768}, {\"run_id\": \"AutoML_7e5dda8b-129a-40bf-b0eb-0e77ecddb41c_8\", \"run_number\": 50, \"metric\": null, \"status\": \"Completed\", \"run_type\": \"azureml.scriptrun\", \"training_percent\": \"100\", \"start_time\": \"2021-01-17T06:02:12.055273Z\", \"end_time\": \"2021-01-17T06:02:53.315135Z\", \"created_time\": \"2021-01-17T06:01:53.718155Z\", \"created_time_dt\": \"2021-01-17T06:01:53.718155Z\", \"duration\": \"0:00:59\", \"iteration\": \"8\", \"goal\": \"accuracy_max\", \"run_name\": \"SparseNormalizer, XGBoostClassifier\", \"run_properties\": \"<azureml.automl.runtime.shared.model_wrappers.SparseNormalizer object at 0x7f359fb014e0\", \"primary_metric\": 0.79528986, \"best_metric\": 0.83713768}, {\"run_id\": \"AutoML_7e5dda8b-129a-40bf-b0eb-0e77ecddb41c_9\", \"run_number\": 51, \"metric\": null, \"status\": \"Completed\", \"run_type\": \"azureml.scriptrun\", \"training_percent\": \"100\", \"start_time\": \"2021-01-17T06:03:08.932802Z\", \"end_time\": \"2021-01-17T06:03:54.545258Z\", \"created_time\": \"2021-01-17T06:02:55.735679Z\", \"created_time_dt\": \"2021-01-17T06:02:55.735679Z\", \"duration\": \"0:00:58\", \"iteration\": \"9\", \"goal\": \"accuracy_max\", \"run_name\": \"SparseNormalizer, LightGBM\", \"run_properties\": \"<azureml.automl.runtime.shared.model_wrappers.SparseNormalizer object at 0x7f4deabbc208\", \"primary_metric\": 0.7576087, \"best_metric\": 0.83713768}, {\"run_id\": \"AutoML_7e5dda8b-129a-40bf-b0eb-0e77ecddb41c_10\", \"run_number\": 52, \"metric\": null, \"status\": \"Completed\", \"run_type\": \"azureml.scriptrun\", \"training_percent\": \"100\", \"start_time\": \"2021-01-17T06:04:15.434926Z\", \"end_time\": \"2021-01-17T06:04:58.623924Z\", \"created_time\": \"2021-01-17T06:03:57.697236Z\", \"created_time_dt\": \"2021-01-17T06:03:57.697236Z\", \"duration\": \"0:01:00\", \"iteration\": \"10\", \"goal\": \"accuracy_max\", \"run_name\": \"RobustScaler, RandomForest\", \"run_properties\": \"copy=True, quantile_range=[10, 90], with_centering=True,\\n             with_scaling=True\", \"primary_metric\": 0.85797101, \"best_metric\": 0.85797101}, {\"run_id\": \"AutoML_7e5dda8b-129a-40bf-b0eb-0e77ecddb41c_11\", \"run_number\": 53, \"metric\": null, \"status\": \"Completed\", \"run_type\": \"azureml.scriptrun\", \"training_percent\": \"100\", \"start_time\": \"2021-01-17T06:05:16.126044Z\", \"end_time\": \"2021-01-17T06:05:59.349534Z\", \"created_time\": \"2021-01-17T06:05:01.823641Z\", \"created_time_dt\": \"2021-01-17T06:05:01.823641Z\", \"duration\": \"0:00:57\", \"iteration\": \"11\", \"goal\": \"accuracy_max\", \"run_name\": \"MaxAbsScaler, LightGBM\", \"run_properties\": \"copy=True\", \"primary_metric\": 0.80742754, \"best_metric\": 0.85797101}, {\"run_id\": \"AutoML_7e5dda8b-129a-40bf-b0eb-0e77ecddb41c_12\", \"run_number\": 54, \"metric\": null, \"status\": \"Completed\", \"run_type\": \"azureml.scriptrun\", \"training_percent\": \"100\", \"start_time\": \"2021-01-17T06:06:16.714086Z\", \"end_time\": \"2021-01-17T06:07:01.26758Z\", \"created_time\": \"2021-01-17T06:06:02.71523Z\", \"created_time_dt\": \"2021-01-17T06:06:02.71523Z\", \"duration\": \"0:00:58\", \"iteration\": \"12\", \"goal\": \"accuracy_max\", \"run_name\": \"RobustScaler, ExtremeRandomTrees\", \"run_properties\": \"copy=True, quantile_range=[25, 75], with_centering=True,\\n             with_scaling=False\", \"primary_metric\": 0.84112319, \"best_metric\": 0.85797101}, {\"run_id\": \"AutoML_7e5dda8b-129a-40bf-b0eb-0e77ecddb41c_13\", \"run_number\": 55, \"metric\": null, \"status\": \"Completed\", \"run_type\": \"azureml.scriptrun\", \"training_percent\": \"100\", \"start_time\": \"2021-01-17T06:07:18.890513Z\", \"end_time\": \"2021-01-17T06:09:08.490555Z\", \"created_time\": \"2021-01-17T06:07:04.959565Z\", \"created_time_dt\": \"2021-01-17T06:07:04.959565Z\", \"duration\": \"0:02:03\", \"iteration\": \"13\", \"goal\": \"accuracy_max\", \"run_name\": \"SparseNormalizer, XGBoostClassifier\", \"run_properties\": \"<azureml.automl.runtime.shared.model_wrappers.SparseNormalizer object at 0x7fe5756e15f8\", \"primary_metric\": 0.78695652, \"best_metric\": 0.85797101}, {\"run_id\": \"AutoML_7e5dda8b-129a-40bf-b0eb-0e77ecddb41c_14\", \"run_number\": 56, \"metric\": null, \"status\": \"Completed\", \"run_type\": \"azureml.scriptrun\", \"training_percent\": \"100\", \"start_time\": \"2021-01-17T06:09:23.793407Z\", \"end_time\": \"2021-01-17T06:10:07.934345Z\", \"created_time\": \"2021-01-17T06:09:10.406878Z\", \"created_time_dt\": \"2021-01-17T06:09:10.406878Z\", \"duration\": \"0:00:57\", \"iteration\": \"14\", \"goal\": \"accuracy_max\", \"run_name\": \"StandardScalerWrapper, ExtremeRandomTrees\", \"run_properties\": \"<azureml.automl.runtime.shared.model_wrappers.StandardScalerWrapper object at 0x7f45b115eeb8\", \"primary_metric\": 0.82028986, \"best_metric\": 0.85797101}, {\"run_id\": \"AutoML_7e5dda8b-129a-40bf-b0eb-0e77ecddb41c_15\", \"run_number\": 57, \"metric\": null, \"status\": \"Completed\", \"run_type\": \"azureml.scriptrun\", \"training_percent\": \"100\", \"start_time\": \"2021-01-17T06:10:22.868289Z\", \"end_time\": \"2021-01-17T06:11:11.514222Z\", \"created_time\": \"2021-01-17T06:10:09.702321Z\", \"created_time_dt\": \"2021-01-17T06:10:09.702321Z\", \"duration\": \"0:01:01\", \"iteration\": \"15\", \"goal\": \"accuracy_max\", \"run_name\": \"StandardScalerWrapper, XGBoostClassifier\", \"run_properties\": \"<azureml.automl.runtime.shared.model_wrappers.StandardScalerWrapper object at 0x7efc94b3b0b8\", \"primary_metric\": 0.8201087, \"best_metric\": 0.85797101}, {\"run_id\": \"AutoML_7e5dda8b-129a-40bf-b0eb-0e77ecddb41c_16\", \"run_number\": 58, \"metric\": null, \"status\": \"Completed\", \"run_type\": \"azureml.scriptrun\", \"training_percent\": \"100\", \"start_time\": \"2021-01-17T06:11:26.57566Z\", \"end_time\": \"2021-01-17T06:12:05.594225Z\", \"created_time\": \"2021-01-17T06:11:13.196994Z\", \"created_time_dt\": \"2021-01-17T06:11:13.196994Z\", \"duration\": \"0:00:52\", \"iteration\": \"16\", \"goal\": \"accuracy_max\", \"run_name\": \"StandardScalerWrapper, GradientBoosting\", \"run_properties\": \"<azureml.automl.runtime.shared.model_wrappers.StandardScalerWrapper object at 0x7f0d72cab748\", \"primary_metric\": 0.80778986, \"best_metric\": 0.85797101}, {\"run_id\": \"AutoML_7e5dda8b-129a-40bf-b0eb-0e77ecddb41c_17\", \"run_number\": 59, \"metric\": null, \"status\": \"Completed\", \"run_type\": \"azureml.scriptrun\", \"training_percent\": \"100\", \"start_time\": \"2021-01-17T06:12:21.769881Z\", \"end_time\": \"2021-01-17T06:13:11.868456Z\", \"created_time\": \"2021-01-17T06:12:07.524898Z\", \"created_time_dt\": \"2021-01-17T06:12:07.524898Z\", \"duration\": \"0:01:04\", \"iteration\": \"17\", \"goal\": \"accuracy_max\", \"run_name\": \"StandardScalerWrapper, ExtremeRandomTrees\", \"run_properties\": \"<azureml.automl.runtime.shared.model_wrappers.StandardScalerWrapper object at 0x7f7f20211048\", \"primary_metric\": 0.72391304, \"best_metric\": 0.85797101}, {\"run_id\": \"AutoML_7e5dda8b-129a-40bf-b0eb-0e77ecddb41c_18\", \"run_number\": 60, \"metric\": null, \"status\": \"Completed\", \"run_type\": \"azureml.scriptrun\", \"training_percent\": \"100\", \"start_time\": \"2021-01-17T06:13:29.419404Z\", \"end_time\": \"2021-01-17T06:14:14.790684Z\", \"created_time\": \"2021-01-17T06:13:14.719192Z\", \"created_time_dt\": \"2021-01-17T06:13:14.719192Z\", \"duration\": \"0:01:00\", \"iteration\": \"18\", \"goal\": \"accuracy_max\", \"run_name\": \"SparseNormalizer, XGBoostClassifier\", \"run_properties\": \"<azureml.automl.runtime.shared.model_wrappers.SparseNormalizer object at 0x7f5a3616b630\", \"primary_metric\": 0.78695652, \"best_metric\": 0.85797101}, {\"run_id\": \"AutoML_7e5dda8b-129a-40bf-b0eb-0e77ecddb41c_19\", \"run_number\": 61, \"metric\": null, \"status\": \"Completed\", \"run_type\": \"azureml.scriptrun\", \"training_percent\": \"100\", \"start_time\": \"2021-01-17T06:14:30.34095Z\", \"end_time\": \"2021-01-17T06:15:15.307565Z\", \"created_time\": \"2021-01-17T06:14:17.464684Z\", \"created_time_dt\": \"2021-01-17T06:14:17.464684Z\", \"duration\": \"0:00:57\", \"iteration\": \"19\", \"goal\": \"accuracy_max\", \"run_name\": \"StandardScalerWrapper, LightGBM\", \"run_properties\": \"<azureml.automl.runtime.shared.model_wrappers.StandardScalerWrapper object at 0x7ff8a0a1eb70\", \"primary_metric\": 0.81612319, \"best_metric\": 0.85797101}, {\"run_id\": \"AutoML_7e5dda8b-129a-40bf-b0eb-0e77ecddb41c_20\", \"run_number\": 62, \"metric\": null, \"status\": \"Completed\", \"run_type\": \"azureml.scriptrun\", \"training_percent\": \"100\", \"start_time\": \"2021-01-17T06:15:29.738766Z\", \"end_time\": \"2021-01-17T06:16:11.552399Z\", \"created_time\": \"2021-01-17T06:15:17.685497Z\", \"created_time_dt\": \"2021-01-17T06:15:17.685497Z\", \"duration\": \"0:00:53\", \"iteration\": \"20\", \"goal\": \"accuracy_max\", \"run_name\": \"StandardScalerWrapper, LightGBM\", \"run_properties\": \"<azureml.automl.runtime.shared.model_wrappers.StandardScalerWrapper object at 0x7f9f7dfd9470\", \"primary_metric\": 0.83713768, \"best_metric\": 0.85797101}, {\"run_id\": \"AutoML_7e5dda8b-129a-40bf-b0eb-0e77ecddb41c_21\", \"run_number\": 63, \"metric\": null, \"status\": \"Completed\", \"run_type\": \"azureml.scriptrun\", \"training_percent\": \"100\", \"start_time\": \"2021-01-17T06:16:28.410091Z\", \"end_time\": \"2021-01-17T06:17:39.232274Z\", \"created_time\": \"2021-01-17T06:16:14.235759Z\", \"created_time_dt\": \"2021-01-17T06:16:14.235759Z\", \"duration\": \"0:01:24\", \"iteration\": \"21\", \"goal\": \"accuracy_max\", \"run_name\": \"MaxAbsScaler, ExtremeRandomTrees\", \"run_properties\": \"copy=True\", \"primary_metric\": 0.76992754, \"best_metric\": 0.85797101}, {\"run_id\": \"AutoML_7e5dda8b-129a-40bf-b0eb-0e77ecddb41c_22\", \"run_number\": 64, \"metric\": null, \"status\": \"Completed\", \"run_type\": \"azureml.scriptrun\", \"training_percent\": \"100\", \"start_time\": \"2021-01-17T06:18:07.041123Z\", \"end_time\": \"2021-01-17T06:18:57.40865Z\", \"created_time\": \"2021-01-17T06:17:54.9378Z\", \"created_time_dt\": \"2021-01-17T06:17:54.9378Z\", \"duration\": \"0:01:02\", \"iteration\": \"22\", \"goal\": \"accuracy_max\", \"run_name\": \"StandardScalerWrapper, LightGBM\", \"run_properties\": \"<azureml.automl.runtime.shared.model_wrappers.StandardScalerWrapper object at 0x7f99152449e8\", \"primary_metric\": 0.82028986, \"best_metric\": 0.85797101}, {\"run_id\": \"AutoML_7e5dda8b-129a-40bf-b0eb-0e77ecddb41c_23\", \"run_number\": 65, \"metric\": null, \"status\": \"Completed\", \"run_type\": \"azureml.scriptrun\", \"training_percent\": \"100\", \"start_time\": \"2021-01-17T06:19:17.318527Z\", \"end_time\": \"2021-01-17T06:19:58.107545Z\", \"created_time\": \"2021-01-17T06:19:00.440239Z\", \"created_time_dt\": \"2021-01-17T06:19:00.440239Z\", \"duration\": \"0:00:57\", \"iteration\": \"23\", \"goal\": \"accuracy_max\", \"run_name\": \"StandardScalerWrapper, LightGBM\", \"run_properties\": \"<azureml.automl.runtime.shared.model_wrappers.StandardScalerWrapper object at 0x7f13f3bbe240\", \"primary_metric\": 0.73224638, \"best_metric\": 0.85797101}, {\"run_id\": \"AutoML_7e5dda8b-129a-40bf-b0eb-0e77ecddb41c_24\", \"run_number\": 66, \"metric\": null, \"status\": \"Completed\", \"run_type\": \"azureml.scriptrun\", \"training_percent\": \"100\", \"start_time\": \"2021-01-17T06:20:19.077513Z\", \"end_time\": \"2021-01-17T06:21:15.535972Z\", \"created_time\": \"2021-01-17T06:20:00.766652Z\", \"created_time_dt\": \"2021-01-17T06:20:00.766652Z\", \"duration\": \"0:01:14\", \"iteration\": \"24\", \"goal\": \"accuracy_max\", \"run_name\": \"StandardScalerWrapper, XGBoostClassifier\", \"run_properties\": \"<azureml.automl.runtime.shared.model_wrappers.StandardScalerWrapper object at 0x7f8775f69438\", \"primary_metric\": 0.8326087, \"best_metric\": 0.85797101}, {\"run_id\": \"AutoML_7e5dda8b-129a-40bf-b0eb-0e77ecddb41c_25\", \"run_number\": 67, \"metric\": null, \"status\": \"Completed\", \"run_type\": \"azureml.scriptrun\", \"training_percent\": \"100\", \"start_time\": \"2021-01-17T06:21:38.517179Z\", \"end_time\": \"2021-01-17T06:22:22.713727Z\", \"created_time\": \"2021-01-17T06:21:21.996591Z\", \"created_time_dt\": \"2021-01-17T06:21:21.996591Z\", \"duration\": \"0:01:00\", \"iteration\": \"25\", \"goal\": \"accuracy_max\", \"run_name\": \"MaxAbsScaler, RandomForest\", \"run_properties\": \"copy=True\", \"primary_metric\": 0.65706522, \"best_metric\": 0.85797101}, {\"run_id\": \"AutoML_7e5dda8b-129a-40bf-b0eb-0e77ecddb41c_26\", \"run_number\": 68, \"metric\": null, \"status\": \"Completed\", \"run_type\": \"azureml.scriptrun\", \"training_percent\": \"100\", \"start_time\": \"2021-01-17T06:22:39.314153Z\", \"end_time\": \"2021-01-17T06:23:25.232137Z\", \"created_time\": \"2021-01-17T06:22:25.106943Z\", \"created_time_dt\": \"2021-01-17T06:22:25.106943Z\", \"duration\": \"0:01:00\", \"iteration\": \"26\", \"goal\": \"accuracy_max\", \"run_name\": \"SparseNormalizer, XGBoostClassifier\", \"run_properties\": \"<azureml.automl.runtime.shared.model_wrappers.SparseNormalizer object at 0x7f3e366f5eb8\", \"primary_metric\": 0.78695652, \"best_metric\": 0.85797101}, {\"run_id\": \"AutoML_7e5dda8b-129a-40bf-b0eb-0e77ecddb41c_27\", \"run_number\": 69, \"metric\": null, \"status\": \"Completed\", \"run_type\": \"azureml.scriptrun\", \"training_percent\": \"100\", \"start_time\": \"2021-01-17T06:23:47.489299Z\", \"end_time\": \"2021-01-17T06:24:45.57454Z\", \"created_time\": \"2021-01-17T06:23:27.583101Z\", \"created_time_dt\": \"2021-01-17T06:23:27.583101Z\", \"duration\": \"0:01:17\", \"iteration\": \"27\", \"goal\": \"accuracy_max\", \"run_name\": \"SparseNormalizer, XGBoostClassifier\", \"run_properties\": \"<azureml.automl.runtime.shared.model_wrappers.SparseNormalizer object at 0x7efebc102198\", \"primary_metric\": 0.7826087, \"best_metric\": 0.85797101}, {\"run_id\": \"AutoML_7e5dda8b-129a-40bf-b0eb-0e77ecddb41c_28\", \"run_number\": 70, \"metric\": null, \"status\": \"Completed\", \"run_type\": \"azureml.scriptrun\", \"training_percent\": \"100\", \"start_time\": \"2021-01-17T06:25:00.857223Z\", \"end_time\": \"2021-01-17T06:25:45.095841Z\", \"created_time\": \"2021-01-17T06:24:47.441263Z\", \"created_time_dt\": \"2021-01-17T06:24:47.441263Z\", \"duration\": \"0:00:57\", \"iteration\": \"28\", \"goal\": \"accuracy_max\", \"run_name\": \"StandardScalerWrapper, KNN\", \"run_properties\": \"<azureml.automl.runtime.shared.model_wrappers.StandardScalerWrapper object at 0x7faa983d2e48\", \"primary_metric\": 0.61521739, \"best_metric\": 0.85797101}, {\"run_id\": \"AutoML_7e5dda8b-129a-40bf-b0eb-0e77ecddb41c_29\", \"run_number\": 71, \"metric\": null, \"status\": \"Completed\", \"run_type\": \"azureml.scriptrun\", \"training_percent\": \"100\", \"start_time\": \"2021-01-17T06:26:03.281342Z\", \"end_time\": \"2021-01-17T06:26:50.304588Z\", \"created_time\": \"2021-01-17T06:25:47.015931Z\", \"created_time_dt\": \"2021-01-17T06:25:47.015931Z\", \"duration\": \"0:01:03\", \"iteration\": \"29\", \"goal\": \"accuracy_max\", \"run_name\": \"StandardScalerWrapper, ExtremeRandomTrees\", \"run_properties\": \"<azureml.automl.runtime.shared.model_wrappers.StandardScalerWrapper object at 0x7fcb52b898d0\", \"primary_metric\": 0.82028986, \"best_metric\": 0.85797101}, {\"run_id\": \"AutoML_7e5dda8b-129a-40bf-b0eb-0e77ecddb41c_30\", \"run_number\": 72, \"metric\": null, \"status\": \"Completed\", \"run_type\": \"azureml.scriptrun\", \"training_percent\": \"100\", \"start_time\": \"2021-01-17T06:27:06.922934Z\", \"end_time\": \"2021-01-17T06:28:41.891188Z\", \"created_time\": \"2021-01-17T06:26:52.406447Z\", \"created_time_dt\": \"2021-01-17T06:26:52.406447Z\", \"duration\": \"0:01:49\", \"iteration\": \"30\", \"goal\": \"accuracy_max\", \"run_name\": \"VotingEnsemble\", \"run_properties\": \"classification_labels=None,\\n                              estimators=[('10',\\n                                           Pipeline(memory=None,\\n                                                    steps=[('robustscaler',\\n                                                            RobustScaler(copy=True,\\n                                                                         quantile_range=[10,\\n                                                                                         90],\\n                                                                         with_centering=True,\\n                                                                         with_scaling=True\", \"primary_metric\": 0.86648551, \"best_metric\": 0.86648551}, {\"run_id\": \"AutoML_7e5dda8b-129a-40bf-b0eb-0e77ecddb41c_31\", \"run_number\": 73, \"metric\": null, \"status\": \"Completed\", \"run_type\": \"azureml.scriptrun\", \"training_percent\": \"100\", \"start_time\": \"2021-01-17T06:29:03.057036Z\", \"end_time\": \"2021-01-17T06:30:48.230233Z\", \"created_time\": \"2021-01-17T06:28:44.51058Z\", \"created_time_dt\": \"2021-01-17T06:28:44.51058Z\", \"duration\": \"0:02:03\", \"iteration\": \"31\", \"goal\": \"accuracy_max\", \"run_name\": \"StackEnsemble\", \"run_properties\": \"base_learners=[('10',\\n                                        Pipeline(memory=None,\\n                                                 steps=[('robustscaler',\\n                                                         RobustScaler(copy=True,\\n                                                                      quantile_range=[10,\\n                                                                                      90],\\n                                                                      with_centering=True,\\n                                                                      with_scaling=True\", \"primary_metric\": 0.84112319, \"best_metric\": 0.86648551}], \"children_metrics\": {\"categories\": [0], \"series\": {\"balanced_accuracy\": [{\"categories\": [\"0\", \"1\", \"2\", \"3\", \"4\", \"5\", \"6\", \"7\", \"8\", \"9\", \"10\", \"11\", \"12\", \"13\", \"14\", \"15\", \"16\", \"17\", \"18\", \"19\", \"20\", \"21\", \"22\", \"23\", \"24\", \"25\", \"26\", \"27\", \"28\", \"29\", \"30\", \"31\"], \"mode\": \"markers\", \"name\": \"balanced_accuracy\", \"stepped\": false, \"type\": \"scatter\", \"data\": [0.7736210317460317, 0.8073313492063491, 0.7920337301587301, 0.766904761904762, 0.8120337301587301, 0.6149900793650793, 0.8123015873015873, 0.8050099206349206, 0.7589484126984127, 0.7039980158730158, 0.8315674603174603, 0.7630853174603175, 0.7952976190476191, 0.7401289682539682, 0.767936507936508, 0.7852579365079365, 0.7813690476190477, 0.6123412698412698, 0.7267261904761906, 0.7737698412698413, 0.8129662698412699, 0.762390873015873, 0.7621626984126985, 0.6169246031746031, 0.7921428571428573, 0.5, 0.7196130952380952, 0.7305158730158731, 0.5325892857142855, 0.7633531746031746, 0.8353472222222222, 0.8166071428571428]}, {\"categories\": [\"0\", \"1\", \"2\", \"3\", \"4\", \"5\", \"6\", \"7\", \"8\", \"9\", \"10\", \"11\", \"12\", \"13\", \"14\", \"15\", \"16\", \"17\", \"18\", \"19\", \"20\", \"21\", \"22\", \"23\", \"24\", \"25\", \"26\", \"27\", \"28\", \"29\", \"30\", \"31\"], \"mode\": \"lines\", \"name\": \"balanced_accuracy_max\", \"stepped\": true, \"type\": \"scatter\", \"data\": [0.7736210317460317, 0.8073313492063491, 0.8073313492063491, 0.8073313492063491, 0.8120337301587301, 0.8120337301587301, 0.8123015873015873, 0.8123015873015873, 0.8123015873015873, 0.8123015873015873, 0.8315674603174603, 0.8315674603174603, 0.8315674603174603, 0.8315674603174603, 0.8315674603174603, 0.8315674603174603, 0.8315674603174603, 0.8315674603174603, 0.8315674603174603, 0.8315674603174603, 0.8315674603174603, 0.8315674603174603, 0.8315674603174603, 0.8315674603174603, 0.8315674603174603, 0.8315674603174603, 0.8315674603174603, 0.8315674603174603, 0.8315674603174603, 0.8315674603174603, 0.8353472222222222, 0.8353472222222222]}], \"average_precision_score_weighted\": [{\"categories\": [\"0\", \"1\", \"2\", \"3\", \"4\", \"5\", \"6\", \"7\", \"8\", \"9\", \"10\", \"11\", \"12\", \"13\", \"14\", \"15\", \"16\", \"17\", \"18\", \"19\", \"20\", \"21\", \"22\", \"23\", \"24\", \"25\", \"26\", \"27\", \"28\", \"29\", \"30\", \"31\"], \"mode\": \"markers\", \"name\": \"average_precision_score_weighted\", \"stepped\": false, \"type\": \"scatter\", \"data\": [0.9000109067542017, 0.9062493235409341, 0.9041646030084938, 0.9091345828768219, 0.8932642387089486, 0.7722581266571666, 0.9203180089694509, 0.9149157698752195, 0.8892709763067692, 0.8695251206961228, 0.9109529610538118, 0.9239958851872677, 0.9134470909017871, 0.8769847466282888, 0.907438086595674, 0.9000525144294913, 0.9041449422895234, 0.9008155849263334, 0.8674156676055904, 0.9128504843064971, 0.9092164769696023, 0.8661375388413852, 0.9236405740839378, 0.9090844252697504, 0.8924249352974636, 0.9082879118611131, 0.8555474650413422, 0.8650686318970259, 0.665966008407603, 0.9038899950978252, 0.9217634603046083, 0.921748023464523]}, {\"categories\": [\"0\", \"1\", \"2\", \"3\", \"4\", \"5\", \"6\", \"7\", \"8\", \"9\", \"10\", \"11\", \"12\", \"13\", \"14\", \"15\", \"16\", \"17\", \"18\", \"19\", \"20\", \"21\", \"22\", \"23\", \"24\", \"25\", \"26\", \"27\", \"28\", \"29\", \"30\", \"31\"], \"mode\": \"lines\", \"name\": \"average_precision_score_weighted_max\", \"stepped\": true, \"type\": \"scatter\", \"data\": [0.9000109067542017, 0.9062493235409341, 0.9062493235409341, 0.9091345828768219, 0.9091345828768219, 0.9091345828768219, 0.9203180089694509, 0.9203180089694509, 0.9203180089694509, 0.9203180089694509, 0.9203180089694509, 0.9239958851872677, 0.9239958851872677, 0.9239958851872677, 0.9239958851872677, 0.9239958851872677, 0.9239958851872677, 0.9239958851872677, 0.9239958851872677, 0.9239958851872677, 0.9239958851872677, 0.9239958851872677, 0.9239958851872677, 0.9239958851872677, 0.9239958851872677, 0.9239958851872677, 0.9239958851872677, 0.9239958851872677, 0.9239958851872677, 0.9239958851872677, 0.9239958851872677, 0.9239958851872677]}], \"precision_score_weighted\": [{\"categories\": [\"0\", \"1\", \"2\", \"3\", \"4\", \"5\", \"6\", \"7\", \"8\", \"9\", \"10\", \"11\", \"12\", \"13\", \"14\", \"15\", \"16\", \"17\", \"18\", \"19\", \"20\", \"21\", \"22\", \"23\", \"24\", \"25\", \"26\", \"27\", \"28\", \"29\", \"30\", \"31\"], \"mode\": \"markers\", \"name\": \"precision_score_weighted\", \"stepped\": false, \"type\": \"scatter\", \"data\": [0.8264842830302515, 0.8525607416879796, 0.8300203653976033, 0.8176807042535943, 0.8444175052267283, 0.686145647248336, 0.8525257276823772, 0.8520758880719844, 0.8112608538318593, 0.7657794141684133, 0.8711147203446595, 0.8279759634593731, 0.8631007637088537, 0.7791219746225467, 0.8481202568862416, 0.8325822067957617, 0.8246180679079412, 0.6896101667211507, 0.7794008638924678, 0.8278744982928335, 0.8481736897657614, 0.7969327264872172, 0.8495572214219577, 0.777602500156848, 0.8441655898745093, 0.4350251391514388, 0.7848711675109911, 0.7828037327057636, 0.5883179935621591, 0.8471822921896957, 0.8805218757188866, 0.8557467730449668]}, {\"categories\": [\"0\", \"1\", \"2\", \"3\", \"4\", \"5\", \"6\", \"7\", \"8\", \"9\", \"10\", \"11\", \"12\", \"13\", \"14\", \"15\", \"16\", \"17\", \"18\", \"19\", \"20\", \"21\", \"22\", \"23\", \"24\", \"25\", \"26\", \"27\", \"28\", \"29\", \"30\", \"31\"], \"mode\": \"lines\", \"name\": \"precision_score_weighted_max\", \"stepped\": true, \"type\": \"scatter\", \"data\": [0.8264842830302515, 0.8525607416879796, 0.8525607416879796, 0.8525607416879796, 0.8525607416879796, 0.8525607416879796, 0.8525607416879796, 0.8525607416879796, 0.8525607416879796, 0.8525607416879796, 0.8711147203446595, 0.8711147203446595, 0.8711147203446595, 0.8711147203446595, 0.8711147203446595, 0.8711147203446595, 0.8711147203446595, 0.8711147203446595, 0.8711147203446595, 0.8711147203446595, 0.8711147203446595, 0.8711147203446595, 0.8711147203446595, 0.8711147203446595, 0.8711147203446595, 0.8711147203446595, 0.8711147203446595, 0.8711147203446595, 0.8711147203446595, 0.8711147203446595, 0.8805218757188866, 0.8805218757188866]}], \"log_loss\": [{\"categories\": [\"0\", \"1\", \"2\", \"3\", \"4\", \"5\", \"6\", \"7\", \"8\", \"9\", \"10\", \"11\", \"12\", \"13\", \"14\", \"15\", \"16\", \"17\", \"18\", \"19\", \"20\", \"21\", \"22\", \"23\", \"24\", \"25\", \"26\", \"27\", \"28\", \"29\", \"30\", \"31\"], \"mode\": \"markers\", \"name\": \"log_loss\", \"stepped\": false, \"type\": \"scatter\", \"data\": [0.5113835461600813, 0.43916675172891606, 0.40625946295714793, 0.41366236487294195, 0.41714125489162157, 0.5826510373288964, 0.37361352504921325, 0.4204534636311771, 0.4368330343800504, 0.45681774272477, 0.38868275529931695, 0.4419951541328616, 0.42241494099461485, 0.4953771145376439, 0.450868815747062, 0.48725722088088164, 0.4337982723396096, 0.5244584986938946, 0.5195945949605545, 0.427510315925983, 0.39725839217696435, 0.6591761715387225, 0.4454239083402453, 0.5259830167294383, 0.4679135696343851, 0.573286552966181, 0.5270440876879416, 0.5094007601275111, 0.699584983432689, 0.44583206740506587, 0.4194321404794401, 0.39526817762715394]}, {\"categories\": [\"0\", \"1\", \"2\", \"3\", \"4\", \"5\", \"6\", \"7\", \"8\", \"9\", \"10\", \"11\", \"12\", \"13\", \"14\", \"15\", \"16\", \"17\", \"18\", \"19\", \"20\", \"21\", \"22\", \"23\", \"24\", \"25\", \"26\", \"27\", \"28\", \"29\", \"30\", \"31\"], \"mode\": \"lines\", \"name\": \"log_loss_min\", \"stepped\": true, \"type\": \"scatter\", \"data\": [0.5113835461600813, 0.43916675172891606, 0.40625946295714793, 0.40625946295714793, 0.40625946295714793, 0.40625946295714793, 0.37361352504921325, 0.37361352504921325, 0.37361352504921325, 0.37361352504921325, 0.37361352504921325, 0.37361352504921325, 0.37361352504921325, 0.37361352504921325, 0.37361352504921325, 0.37361352504921325, 0.37361352504921325, 0.37361352504921325, 0.37361352504921325, 0.37361352504921325, 0.37361352504921325, 0.37361352504921325, 0.37361352504921325, 0.37361352504921325, 0.37361352504921325, 0.37361352504921325, 0.37361352504921325, 0.37361352504921325, 0.37361352504921325, 0.37361352504921325, 0.37361352504921325, 0.37361352504921325]}], \"precision_score_macro\": [{\"categories\": [\"0\", \"1\", \"2\", \"3\", \"4\", \"5\", \"6\", \"7\", \"8\", \"9\", \"10\", \"11\", \"12\", \"13\", \"14\", \"15\", \"16\", \"17\", \"18\", \"19\", \"20\", \"21\", \"22\", \"23\", \"24\", \"25\", \"26\", \"27\", \"28\", \"29\", \"30\", \"31\"], \"mode\": \"markers\", \"name\": \"precision_score_macro\", \"stepped\": false, \"type\": \"scatter\", \"data\": [0.8126825341840822, 0.8394327731092437, 0.8126734295116649, 0.8047600479585773, 0.8271545284780579, 0.6511554454317612, 0.8384033613445379, 0.8419106590004424, 0.7973112482632606, 0.7509576437363655, 0.8613509570494864, 0.8226451545530493, 0.8633266544257256, 0.7428665413533835, 0.8510167129052579, 0.8217250233426705, 0.8068359931691976, 0.6623163887980822, 0.7519729470735662, 0.8192789264828738, 0.8335504201680672, 0.7573487696514012, 0.8570506256729168, 0.7921630905326558, 0.8373090675664205, 0.32853260869565215, 0.7627116811636935, 0.7497689445057867, 0.5445103874883286, 0.8510216825097698, 0.8751488095238095, 0.8411928104575164]}, {\"categories\": [\"0\", \"1\", \"2\", \"3\", \"4\", \"5\", \"6\", \"7\", \"8\", \"9\", \"10\", \"11\", \"12\", \"13\", \"14\", \"15\", \"16\", \"17\", \"18\", \"19\", \"20\", \"21\", \"22\", \"23\", \"24\", \"25\", \"26\", \"27\", \"28\", \"29\", \"30\", \"31\"], \"mode\": \"lines\", \"name\": \"precision_score_macro_max\", \"stepped\": true, \"type\": \"scatter\", \"data\": [0.8126825341840822, 0.8394327731092437, 0.8394327731092437, 0.8394327731092437, 0.8394327731092437, 0.8394327731092437, 0.8394327731092437, 0.8419106590004424, 0.8419106590004424, 0.8419106590004424, 0.8613509570494864, 0.8613509570494864, 0.8633266544257256, 0.8633266544257256, 0.8633266544257256, 0.8633266544257256, 0.8633266544257256, 0.8633266544257256, 0.8633266544257256, 0.8633266544257256, 0.8633266544257256, 0.8633266544257256, 0.8633266544257256, 0.8633266544257256, 0.8633266544257256, 0.8633266544257256, 0.8633266544257256, 0.8633266544257256, 0.8633266544257256, 0.8633266544257256, 0.8751488095238095, 0.8751488095238095]}], \"f1_score_micro\": [{\"categories\": [\"0\", \"1\", \"2\", \"3\", \"4\", \"5\", \"6\", \"7\", \"8\", \"9\", \"10\", \"11\", \"12\", \"13\", \"14\", \"15\", \"16\", \"17\", \"18\", \"19\", \"20\", \"21\", \"22\", \"23\", \"24\", \"25\", \"26\", \"27\", \"28\", \"29\", \"30\", \"31\"], \"mode\": \"markers\", \"name\": \"f1_score_micro\", \"stepped\": false, \"type\": \"scatter\", \"data\": [0.803623188405797, 0.8327898550724638, 0.8161231884057971, 0.8076086956521739, 0.8327898550724637, 0.6992753623188406, 0.8369565217391305, 0.8371376811594203, 0.7952898550724637, 0.7576086956521739, 0.8579710144927535, 0.807427536231884, 0.841123188405797, 0.7869565217391304, 0.8202898550724637, 0.8201086956521738, 0.8077898550724637, 0.7239130434782608, 0.7869565217391304, 0.8161231884057971, 0.8371376811594203, 0.769927536231884, 0.8202898550724639, 0.7322463768115941, 0.8326086956521739, 0.6570652173913043, 0.7869565217391304, 0.782608695652174, 0.6152173913043478, 0.8202898550724637, 0.8664855072463767, 0.841123188405797]}, {\"categories\": [\"0\", \"1\", \"2\", \"3\", \"4\", \"5\", \"6\", \"7\", \"8\", \"9\", \"10\", \"11\", \"12\", \"13\", \"14\", \"15\", \"16\", \"17\", \"18\", \"19\", \"20\", \"21\", \"22\", \"23\", \"24\", \"25\", \"26\", \"27\", \"28\", \"29\", \"30\", \"31\"], \"mode\": \"lines\", \"name\": \"f1_score_micro_max\", \"stepped\": true, \"type\": \"scatter\", \"data\": [0.803623188405797, 0.8327898550724638, 0.8327898550724638, 0.8327898550724638, 0.8327898550724638, 0.8327898550724638, 0.8369565217391305, 0.8371376811594203, 0.8371376811594203, 0.8371376811594203, 0.8579710144927535, 0.8579710144927535, 0.8579710144927535, 0.8579710144927535, 0.8579710144927535, 0.8579710144927535, 0.8579710144927535, 0.8579710144927535, 0.8579710144927535, 0.8579710144927535, 0.8579710144927535, 0.8579710144927535, 0.8579710144927535, 0.8579710144927535, 0.8579710144927535, 0.8579710144927535, 0.8579710144927535, 0.8579710144927535, 0.8579710144927535, 0.8579710144927535, 0.8664855072463767, 0.8664855072463767]}], \"recall_score_weighted\": [{\"categories\": [\"0\", \"1\", \"2\", \"3\", \"4\", \"5\", \"6\", \"7\", \"8\", \"9\", \"10\", \"11\", \"12\", \"13\", \"14\", \"15\", \"16\", \"17\", \"18\", \"19\", \"20\", \"21\", \"22\", \"23\", \"24\", \"25\", \"26\", \"27\", \"28\", \"29\", \"30\", \"31\"], \"mode\": \"markers\", \"name\": \"recall_score_weighted\", \"stepped\": false, \"type\": \"scatter\", \"data\": [0.803623188405797, 0.8327898550724638, 0.8161231884057971, 0.8076086956521739, 0.8327898550724637, 0.6992753623188406, 0.8369565217391305, 0.8371376811594203, 0.7952898550724637, 0.7576086956521739, 0.8579710144927535, 0.807427536231884, 0.841123188405797, 0.7869565217391304, 0.8202898550724637, 0.8201086956521738, 0.8077898550724637, 0.7239130434782608, 0.7869565217391304, 0.8161231884057971, 0.8371376811594203, 0.769927536231884, 0.8202898550724639, 0.7322463768115941, 0.8326086956521739, 0.6570652173913043, 0.7869565217391304, 0.782608695652174, 0.6152173913043478, 0.8202898550724637, 0.8664855072463767, 0.841123188405797]}, {\"categories\": [\"0\", \"1\", \"2\", \"3\", \"4\", \"5\", \"6\", \"7\", \"8\", \"9\", \"10\", \"11\", \"12\", \"13\", \"14\", \"15\", \"16\", \"17\", \"18\", \"19\", \"20\", \"21\", \"22\", \"23\", \"24\", \"25\", \"26\", \"27\", \"28\", \"29\", \"30\", \"31\"], \"mode\": \"lines\", \"name\": \"recall_score_weighted_max\", \"stepped\": true, \"type\": \"scatter\", \"data\": [0.803623188405797, 0.8327898550724638, 0.8327898550724638, 0.8327898550724638, 0.8327898550724638, 0.8327898550724638, 0.8369565217391305, 0.8371376811594203, 0.8371376811594203, 0.8371376811594203, 0.8579710144927535, 0.8579710144927535, 0.8579710144927535, 0.8579710144927535, 0.8579710144927535, 0.8579710144927535, 0.8579710144927535, 0.8579710144927535, 0.8579710144927535, 0.8579710144927535, 0.8579710144927535, 0.8579710144927535, 0.8579710144927535, 0.8579710144927535, 0.8579710144927535, 0.8579710144927535, 0.8579710144927535, 0.8579710144927535, 0.8579710144927535, 0.8579710144927535, 0.8664855072463767, 0.8664855072463767]}], \"recall_score_macro\": [{\"categories\": [\"0\", \"1\", \"2\", \"3\", \"4\", \"5\", \"6\", \"7\", \"8\", \"9\", \"10\", \"11\", \"12\", \"13\", \"14\", \"15\", \"16\", \"17\", \"18\", \"19\", \"20\", \"21\", \"22\", \"23\", \"24\", \"25\", \"26\", \"27\", \"28\", \"29\", \"30\", \"31\"], \"mode\": \"markers\", \"name\": \"recall_score_macro\", \"stepped\": false, \"type\": \"scatter\", \"data\": [0.7736210317460317, 0.8073313492063491, 0.7920337301587301, 0.766904761904762, 0.8120337301587301, 0.6149900793650793, 0.8123015873015873, 0.8050099206349206, 0.7589484126984127, 0.7039980158730158, 0.8315674603174603, 0.7630853174603175, 0.7952976190476191, 0.7401289682539682, 0.767936507936508, 0.7852579365079365, 0.7813690476190477, 0.6123412698412698, 0.7267261904761906, 0.7737698412698413, 0.8129662698412699, 0.762390873015873, 0.7621626984126985, 0.6169246031746031, 0.7921428571428573, 0.5, 0.7196130952380952, 0.7305158730158731, 0.5325892857142855, 0.7633531746031746, 0.8353472222222222, 0.8166071428571428]}, {\"categories\": [\"0\", \"1\", \"2\", \"3\", \"4\", \"5\", \"6\", \"7\", \"8\", \"9\", \"10\", \"11\", \"12\", \"13\", \"14\", \"15\", \"16\", \"17\", \"18\", \"19\", \"20\", \"21\", \"22\", \"23\", \"24\", \"25\", \"26\", \"27\", \"28\", \"29\", \"30\", \"31\"], \"mode\": \"lines\", \"name\": \"recall_score_macro_max\", \"stepped\": true, \"type\": \"scatter\", \"data\": [0.7736210317460317, 0.8073313492063491, 0.8073313492063491, 0.8073313492063491, 0.8120337301587301, 0.8120337301587301, 0.8123015873015873, 0.8123015873015873, 0.8123015873015873, 0.8123015873015873, 0.8315674603174603, 0.8315674603174603, 0.8315674603174603, 0.8315674603174603, 0.8315674603174603, 0.8315674603174603, 0.8315674603174603, 0.8315674603174603, 0.8315674603174603, 0.8315674603174603, 0.8315674603174603, 0.8315674603174603, 0.8315674603174603, 0.8315674603174603, 0.8315674603174603, 0.8315674603174603, 0.8315674603174603, 0.8315674603174603, 0.8315674603174603, 0.8315674603174603, 0.8353472222222222, 0.8353472222222222]}], \"average_precision_score_macro\": [{\"categories\": [\"0\", \"1\", \"2\", \"3\", \"4\", \"5\", \"6\", \"7\", \"8\", \"9\", \"10\", \"11\", \"12\", \"13\", \"14\", \"15\", \"16\", \"17\", \"18\", \"19\", \"20\", \"21\", \"22\", \"23\", \"24\", \"25\", \"26\", \"27\", \"28\", \"29\", \"30\", \"31\"], \"mode\": \"markers\", \"name\": \"average_precision_score_macro\", \"stepped\": false, \"type\": \"scatter\", \"data\": [0.8734810462911631, 0.8810761649352858, 0.8847793008601377, 0.8910013666806845, 0.8670800313754381, 0.7313955068446775, 0.8994772049308176, 0.8931127732213794, 0.865745270426918, 0.8431819910988084, 0.8917340626369036, 0.9046531182862003, 0.8886711625176265, 0.850346263237299, 0.8848515923664511, 0.8757662965026978, 0.8806807506872978, 0.879362775975042, 0.8380261614223272, 0.8908506116893842, 0.8867507150055645, 0.8420317131044539, 0.9040588686483059, 0.8825482855274125, 0.8684501648489853, 0.8883964803799504, 0.8240082795995234, 0.8347984780701555, 0.6259734159206587, 0.882219952866844, 0.8997866246221664, 0.899458389759085]}, {\"categories\": [\"0\", \"1\", \"2\", \"3\", \"4\", \"5\", \"6\", \"7\", \"8\", \"9\", \"10\", \"11\", \"12\", \"13\", \"14\", \"15\", \"16\", \"17\", \"18\", \"19\", \"20\", \"21\", \"22\", \"23\", \"24\", \"25\", \"26\", \"27\", \"28\", \"29\", \"30\", \"31\"], \"mode\": \"lines\", \"name\": \"average_precision_score_macro_max\", \"stepped\": true, \"type\": \"scatter\", \"data\": [0.8734810462911631, 0.8810761649352858, 0.8847793008601377, 0.8910013666806845, 0.8910013666806845, 0.8910013666806845, 0.8994772049308176, 0.8994772049308176, 0.8994772049308176, 0.8994772049308176, 0.8994772049308176, 0.9046531182862003, 0.9046531182862003, 0.9046531182862003, 0.9046531182862003, 0.9046531182862003, 0.9046531182862003, 0.9046531182862003, 0.9046531182862003, 0.9046531182862003, 0.9046531182862003, 0.9046531182862003, 0.9046531182862003, 0.9046531182862003, 0.9046531182862003, 0.9046531182862003, 0.9046531182862003, 0.9046531182862003, 0.9046531182862003, 0.9046531182862003, 0.9046531182862003, 0.9046531182862003]}], \"f1_score_weighted\": [{\"categories\": [\"0\", \"1\", \"2\", \"3\", \"4\", \"5\", \"6\", \"7\", \"8\", \"9\", \"10\", \"11\", \"12\", \"13\", \"14\", \"15\", \"16\", \"17\", \"18\", \"19\", \"20\", \"21\", \"22\", \"23\", \"24\", \"25\", \"26\", \"27\", \"28\", \"29\", \"30\", \"31\"], \"mode\": \"markers\", \"name\": \"f1_score_weighted\", \"stepped\": false, \"type\": \"scatter\", \"data\": [0.7983012006870832, 0.8299387381180269, 0.8139925099064207, 0.8017387821860449, 0.8313374958670879, 0.65823512640519, 0.8341224313222083, 0.8327778641878029, 0.7895213329484945, 0.7487020748702494, 0.8551146656027914, 0.7968499616783586, 0.8323590004142088, 0.7745669121464461, 0.8081030678081509, 0.8155320937338587, 0.804900581522707, 0.6608831791181367, 0.7699001133551964, 0.808989675985386, 0.834967724705615, 0.7729390117477865, 0.8034754804332398, 0.6760353108463841, 0.8266518445384797, 0.5225129294808928, 0.7672274587848558, 0.7674878756143978, 0.5863894908462948, 0.8064305855465367, 0.862545964281124, 0.8385817925145511]}, {\"categories\": [\"0\", \"1\", \"2\", \"3\", \"4\", \"5\", \"6\", \"7\", \"8\", \"9\", \"10\", \"11\", \"12\", \"13\", \"14\", \"15\", \"16\", \"17\", \"18\", \"19\", \"20\", \"21\", \"22\", \"23\", \"24\", \"25\", \"26\", \"27\", \"28\", \"29\", \"30\", \"31\"], \"mode\": \"lines\", \"name\": \"f1_score_weighted_max\", \"stepped\": true, \"type\": \"scatter\", \"data\": [0.7983012006870832, 0.8299387381180269, 0.8299387381180269, 0.8299387381180269, 0.8313374958670879, 0.8313374958670879, 0.8341224313222083, 0.8341224313222083, 0.8341224313222083, 0.8341224313222083, 0.8551146656027914, 0.8551146656027914, 0.8551146656027914, 0.8551146656027914, 0.8551146656027914, 0.8551146656027914, 0.8551146656027914, 0.8551146656027914, 0.8551146656027914, 0.8551146656027914, 0.8551146656027914, 0.8551146656027914, 0.8551146656027914, 0.8551146656027914, 0.8551146656027914, 0.8551146656027914, 0.8551146656027914, 0.8551146656027914, 0.8551146656027914, 0.8551146656027914, 0.862545964281124, 0.862545964281124]}], \"norm_macro_recall\": [{\"categories\": [\"0\", \"1\", \"2\", \"3\", \"4\", \"5\", \"6\", \"7\", \"8\", \"9\", \"10\", \"11\", \"12\", \"13\", \"14\", \"15\", \"16\", \"17\", \"18\", \"19\", \"20\", \"21\", \"22\", \"23\", \"24\", \"25\", \"26\", \"27\", \"28\", \"29\", \"30\", \"31\"], \"mode\": \"markers\", \"name\": \"norm_macro_recall\", \"stepped\": false, \"type\": \"scatter\", \"data\": [0.5472420634920635, 0.6146626984126984, 0.5840674603174604, 0.5338095238095237, 0.6240674603174603, 0.23553571428571432, 0.6246031746031746, 0.6100198412698413, 0.5178968253968254, 0.40799603174603183, 0.6631349206349206, 0.526170634920635, 0.5905952380952381, 0.4802579365079366, 0.5358730158730158, 0.570515873015873, 0.5627380952380953, 0.23093253968253968, 0.453452380952381, 0.5475396825396827, 0.6259325396825397, 0.5247817460317462, 0.5243253968253969, 0.23384920634920636, 0.5842857142857143, 0.0, 0.4392261904761905, 0.46103174603174607, 0.10857142857142851, 0.5267063492063493, 0.6706944444444444, 0.6332142857142857]}, {\"categories\": [\"0\", \"1\", \"2\", \"3\", \"4\", \"5\", \"6\", \"7\", \"8\", \"9\", \"10\", \"11\", \"12\", \"13\", \"14\", \"15\", \"16\", \"17\", \"18\", \"19\", \"20\", \"21\", \"22\", \"23\", \"24\", \"25\", \"26\", \"27\", \"28\", \"29\", \"30\", \"31\"], \"mode\": \"lines\", \"name\": \"norm_macro_recall_max\", \"stepped\": true, \"type\": \"scatter\", \"data\": [0.5472420634920635, 0.6146626984126984, 0.6146626984126984, 0.6146626984126984, 0.6240674603174603, 0.6240674603174603, 0.6246031746031746, 0.6246031746031746, 0.6246031746031746, 0.6246031746031746, 0.6631349206349206, 0.6631349206349206, 0.6631349206349206, 0.6631349206349206, 0.6631349206349206, 0.6631349206349206, 0.6631349206349206, 0.6631349206349206, 0.6631349206349206, 0.6631349206349206, 0.6631349206349206, 0.6631349206349206, 0.6631349206349206, 0.6631349206349206, 0.6631349206349206, 0.6631349206349206, 0.6631349206349206, 0.6631349206349206, 0.6631349206349206, 0.6631349206349206, 0.6706944444444444, 0.6706944444444444]}], \"weighted_accuracy\": [{\"categories\": [\"0\", \"1\", \"2\", \"3\", \"4\", \"5\", \"6\", \"7\", \"8\", \"9\", \"10\", \"11\", \"12\", \"13\", \"14\", \"15\", \"16\", \"17\", \"18\", \"19\", \"20\", \"21\", \"22\", \"23\", \"24\", \"25\", \"26\", \"27\", \"28\", \"29\", \"30\", \"31\"], \"mode\": \"markers\", \"name\": \"weighted_accuracy\", \"stepped\": false, \"type\": \"scatter\", \"data\": [0.8281719400210239, 0.8530407794486867, 0.8348280078535624, 0.8381824736983849, 0.8482143353575369, 0.7640264058658467, 0.8562562007523434, 0.8622824415543798, 0.8229007141181685, 0.7963780221880512, 0.8780866280938605, 0.842609333055331, 0.8764702407325359, 0.8202576298574369, 0.8613311310346026, 0.8474653583187817, 0.8281030475991903, 0.8093186991234242, 0.8318385502184924, 0.8487207989088414, 0.8556859921638129, 0.7748400184176462, 0.865982325140956, 0.8196167913332812, 0.8630102426438011, 0.7769550939560583, 0.8368676970123451, 0.8200942384042673, 0.6790892169894098, 0.8639212211246928, 0.8904642202472483, 0.86007575560131]}, {\"categories\": [\"0\", \"1\", \"2\", \"3\", \"4\", \"5\", \"6\", \"7\", \"8\", \"9\", \"10\", \"11\", \"12\", \"13\", \"14\", \"15\", \"16\", \"17\", \"18\", \"19\", \"20\", \"21\", \"22\", \"23\", \"24\", \"25\", \"26\", \"27\", \"28\", \"29\", \"30\", \"31\"], \"mode\": \"lines\", \"name\": \"weighted_accuracy_max\", \"stepped\": true, \"type\": \"scatter\", \"data\": [0.8281719400210239, 0.8530407794486867, 0.8530407794486867, 0.8530407794486867, 0.8530407794486867, 0.8530407794486867, 0.8562562007523434, 0.8622824415543798, 0.8622824415543798, 0.8622824415543798, 0.8780866280938605, 0.8780866280938605, 0.8780866280938605, 0.8780866280938605, 0.8780866280938605, 0.8780866280938605, 0.8780866280938605, 0.8780866280938605, 0.8780866280938605, 0.8780866280938605, 0.8780866280938605, 0.8780866280938605, 0.8780866280938605, 0.8780866280938605, 0.8780866280938605, 0.8780866280938605, 0.8780866280938605, 0.8780866280938605, 0.8780866280938605, 0.8780866280938605, 0.8904642202472483, 0.8904642202472483]}], \"AUC_macro\": [{\"categories\": [\"0\", \"1\", \"2\", \"3\", \"4\", \"5\", \"6\", \"7\", \"8\", \"9\", \"10\", \"11\", \"12\", \"13\", \"14\", \"15\", \"16\", \"17\", \"18\", \"19\", \"20\", \"21\", \"22\", \"23\", \"24\", \"25\", \"26\", \"27\", \"28\", \"29\", \"30\", \"31\"], \"mode\": \"markers\", \"name\": \"AUC_macro\", \"stepped\": false, \"type\": \"scatter\", \"data\": [0.8900892857142857, 0.8878893849206347, 0.8903505291005291, 0.8905166997354497, 0.8709383267195768, 0.7138797949735449, 0.9061830357142858, 0.8977455357142856, 0.867113921957672, 0.8414616402116402, 0.89682208994709, 0.9121883267195766, 0.8977083333333333, 0.8560400132275132, 0.8855133928571428, 0.882266865079365, 0.8887491732804232, 0.8812375992063493, 0.8495155423280425, 0.8966005291005292, 0.8940186838624339, 0.8322263558201058, 0.9156142526455027, 0.891521164021164, 0.8900405092592594, 0.8869874338624338, 0.8296924603174605, 0.8417778604497353, 0.5790261243386243, 0.8818816137566138, 0.907691798941799, 0.9083920304232803]}, {\"categories\": [\"0\", \"1\", \"2\", \"3\", \"4\", \"5\", \"6\", \"7\", \"8\", \"9\", \"10\", \"11\", \"12\", \"13\", \"14\", \"15\", \"16\", \"17\", \"18\", \"19\", \"20\", \"21\", \"22\", \"23\", \"24\", \"25\", \"26\", \"27\", \"28\", \"29\", \"30\", \"31\"], \"mode\": \"lines\", \"name\": \"AUC_macro_max\", \"stepped\": true, \"type\": \"scatter\", \"data\": [0.8900892857142857, 0.8900892857142857, 0.8903505291005291, 0.8905166997354497, 0.8905166997354497, 0.8905166997354497, 0.9061830357142858, 0.9061830357142858, 0.9061830357142858, 0.9061830357142858, 0.9061830357142858, 0.9121883267195766, 0.9121883267195766, 0.9121883267195766, 0.9121883267195766, 0.9121883267195766, 0.9121883267195766, 0.9121883267195766, 0.9121883267195766, 0.9121883267195766, 0.9121883267195766, 0.9121883267195766, 0.9156142526455027, 0.9156142526455027, 0.9156142526455027, 0.9156142526455027, 0.9156142526455027, 0.9156142526455027, 0.9156142526455027, 0.9156142526455027, 0.9156142526455027, 0.9156142526455027]}], \"accuracy\": [{\"categories\": [\"0\", \"1\", \"2\", \"3\", \"4\", \"5\", \"6\", \"7\", \"8\", \"9\", \"10\", \"11\", \"12\", \"13\", \"14\", \"15\", \"16\", \"17\", \"18\", \"19\", \"20\", \"21\", \"22\", \"23\", \"24\", \"25\", \"26\", \"27\", \"28\", \"29\", \"30\", \"31\"], \"mode\": \"markers\", \"name\": \"accuracy\", \"stepped\": false, \"type\": \"scatter\", \"data\": [0.803623188405797, 0.8327898550724638, 0.8161231884057971, 0.8076086956521739, 0.8327898550724637, 0.6992753623188406, 0.8369565217391305, 0.8371376811594203, 0.7952898550724637, 0.7576086956521739, 0.8579710144927535, 0.807427536231884, 0.841123188405797, 0.7869565217391304, 0.8202898550724637, 0.8201086956521738, 0.8077898550724637, 0.7239130434782608, 0.7869565217391304, 0.8161231884057971, 0.8371376811594203, 0.769927536231884, 0.8202898550724639, 0.7322463768115941, 0.8326086956521739, 0.6570652173913043, 0.7869565217391304, 0.782608695652174, 0.6152173913043478, 0.8202898550724637, 0.8664855072463767, 0.841123188405797]}, {\"categories\": [\"0\", \"1\", \"2\", \"3\", \"4\", \"5\", \"6\", \"7\", \"8\", \"9\", \"10\", \"11\", \"12\", \"13\", \"14\", \"15\", \"16\", \"17\", \"18\", \"19\", \"20\", \"21\", \"22\", \"23\", \"24\", \"25\", \"26\", \"27\", \"28\", \"29\", \"30\", \"31\"], \"mode\": \"lines\", \"name\": \"accuracy_max\", \"stepped\": true, \"type\": \"scatter\", \"data\": [0.803623188405797, 0.8327898550724638, 0.8327898550724638, 0.8327898550724638, 0.8327898550724638, 0.8327898550724638, 0.8369565217391305, 0.8371376811594203, 0.8371376811594203, 0.8371376811594203, 0.8579710144927535, 0.8579710144927535, 0.8579710144927535, 0.8579710144927535, 0.8579710144927535, 0.8579710144927535, 0.8579710144927535, 0.8579710144927535, 0.8579710144927535, 0.8579710144927535, 0.8579710144927535, 0.8579710144927535, 0.8579710144927535, 0.8579710144927535, 0.8579710144927535, 0.8579710144927535, 0.8579710144927535, 0.8579710144927535, 0.8579710144927535, 0.8579710144927535, 0.8664855072463767, 0.8664855072463767]}], \"precision_score_micro\": [{\"categories\": [\"0\", \"1\", \"2\", \"3\", \"4\", \"5\", \"6\", \"7\", \"8\", \"9\", \"10\", \"11\", \"12\", \"13\", \"14\", \"15\", \"16\", \"17\", \"18\", \"19\", \"20\", \"21\", \"22\", \"23\", \"24\", \"25\", \"26\", \"27\", \"28\", \"29\", \"30\", \"31\"], \"mode\": \"markers\", \"name\": \"precision_score_micro\", \"stepped\": false, \"type\": \"scatter\", \"data\": [0.803623188405797, 0.8327898550724638, 0.8161231884057971, 0.8076086956521739, 0.8327898550724637, 0.6992753623188406, 0.8369565217391305, 0.8371376811594203, 0.7952898550724637, 0.7576086956521739, 0.8579710144927535, 0.807427536231884, 0.841123188405797, 0.7869565217391304, 0.8202898550724637, 0.8201086956521738, 0.8077898550724637, 0.7239130434782608, 0.7869565217391304, 0.8161231884057971, 0.8371376811594203, 0.769927536231884, 0.8202898550724639, 0.7322463768115941, 0.8326086956521739, 0.6570652173913043, 0.7869565217391304, 0.782608695652174, 0.6152173913043478, 0.8202898550724637, 0.8664855072463767, 0.841123188405797]}, {\"categories\": [\"0\", \"1\", \"2\", \"3\", \"4\", \"5\", \"6\", \"7\", \"8\", \"9\", \"10\", \"11\", \"12\", \"13\", \"14\", \"15\", \"16\", \"17\", \"18\", \"19\", \"20\", \"21\", \"22\", \"23\", \"24\", \"25\", \"26\", \"27\", \"28\", \"29\", \"30\", \"31\"], \"mode\": \"lines\", \"name\": \"precision_score_micro_max\", \"stepped\": true, \"type\": \"scatter\", \"data\": [0.803623188405797, 0.8327898550724638, 0.8327898550724638, 0.8327898550724638, 0.8327898550724638, 0.8327898550724638, 0.8369565217391305, 0.8371376811594203, 0.8371376811594203, 0.8371376811594203, 0.8579710144927535, 0.8579710144927535, 0.8579710144927535, 0.8579710144927535, 0.8579710144927535, 0.8579710144927535, 0.8579710144927535, 0.8579710144927535, 0.8579710144927535, 0.8579710144927535, 0.8579710144927535, 0.8579710144927535, 0.8579710144927535, 0.8579710144927535, 0.8579710144927535, 0.8579710144927535, 0.8579710144927535, 0.8579710144927535, 0.8579710144927535, 0.8579710144927535, 0.8664855072463767, 0.8664855072463767]}], \"recall_score_micro\": [{\"categories\": [\"0\", \"1\", \"2\", \"3\", \"4\", \"5\", \"6\", \"7\", \"8\", \"9\", \"10\", \"11\", \"12\", \"13\", \"14\", \"15\", \"16\", \"17\", \"18\", \"19\", \"20\", \"21\", \"22\", \"23\", \"24\", \"25\", \"26\", \"27\", \"28\", \"29\", \"30\", \"31\"], \"mode\": \"markers\", \"name\": \"recall_score_micro\", \"stepped\": false, \"type\": \"scatter\", \"data\": [0.803623188405797, 0.8327898550724638, 0.8161231884057971, 0.8076086956521739, 0.8327898550724637, 0.6992753623188406, 0.8369565217391305, 0.8371376811594203, 0.7952898550724637, 0.7576086956521739, 0.8579710144927535, 0.807427536231884, 0.841123188405797, 0.7869565217391304, 0.8202898550724637, 0.8201086956521738, 0.8077898550724637, 0.7239130434782608, 0.7869565217391304, 0.8161231884057971, 0.8371376811594203, 0.769927536231884, 0.8202898550724639, 0.7322463768115941, 0.8326086956521739, 0.6570652173913043, 0.7869565217391304, 0.782608695652174, 0.6152173913043478, 0.8202898550724637, 0.8664855072463767, 0.841123188405797]}, {\"categories\": [\"0\", \"1\", \"2\", \"3\", \"4\", \"5\", \"6\", \"7\", \"8\", \"9\", \"10\", \"11\", \"12\", \"13\", \"14\", \"15\", \"16\", \"17\", \"18\", \"19\", \"20\", \"21\", \"22\", \"23\", \"24\", \"25\", \"26\", \"27\", \"28\", \"29\", \"30\", \"31\"], \"mode\": \"lines\", \"name\": \"recall_score_micro_max\", \"stepped\": true, \"type\": \"scatter\", \"data\": [0.803623188405797, 0.8327898550724638, 0.8327898550724638, 0.8327898550724638, 0.8327898550724638, 0.8327898550724638, 0.8369565217391305, 0.8371376811594203, 0.8371376811594203, 0.8371376811594203, 0.8579710144927535, 0.8579710144927535, 0.8579710144927535, 0.8579710144927535, 0.8579710144927535, 0.8579710144927535, 0.8579710144927535, 0.8579710144927535, 0.8579710144927535, 0.8579710144927535, 0.8579710144927535, 0.8579710144927535, 0.8579710144927535, 0.8579710144927535, 0.8579710144927535, 0.8579710144927535, 0.8579710144927535, 0.8579710144927535, 0.8579710144927535, 0.8579710144927535, 0.8664855072463767, 0.8664855072463767]}], \"f1_score_macro\": [{\"categories\": [\"0\", \"1\", \"2\", \"3\", \"4\", \"5\", \"6\", \"7\", \"8\", \"9\", \"10\", \"11\", \"12\", \"13\", \"14\", \"15\", \"16\", \"17\", \"18\", \"19\", \"20\", \"21\", \"22\", \"23\", \"24\", \"25\", \"26\", \"27\", \"28\", \"29\", \"30\", \"31\"], \"mode\": \"markers\", \"name\": \"f1_score_macro\", \"stepped\": false, \"type\": \"scatter\", \"data\": [0.7716529969862921, 0.8066550600718466, 0.7899021533047085, 0.7698432537371765, 0.8093053188486129, 0.5929964113866293, 0.8111818436520828, 0.8076106456589802, 0.7584139741504543, 0.7064911180030122, 0.8336416980599672, 0.7666956909841159, 0.8026801516648184, 0.7319854163629046, 0.7752821239218297, 0.7892228956211405, 0.7793380655809907, 0.5825052200748795, 0.7242932639256169, 0.7794510991854445, 0.8124015837630638, 0.7479562154196616, 0.7710681096259844, 0.6015765761722116, 0.7976818212622293, 0.3958087526508579, 0.7194765248778007, 0.721849705601619, 0.5199844620356704, 0.7685743316742241, 0.8406519254371142, 0.8155193892763931]}, {\"categories\": [\"0\", \"1\", \"2\", \"3\", \"4\", \"5\", \"6\", \"7\", \"8\", \"9\", \"10\", \"11\", \"12\", \"13\", \"14\", \"15\", \"16\", \"17\", \"18\", \"19\", \"20\", \"21\", \"22\", \"23\", \"24\", \"25\", \"26\", \"27\", \"28\", \"29\", \"30\", \"31\"], \"mode\": \"lines\", \"name\": \"f1_score_macro_max\", \"stepped\": true, \"type\": \"scatter\", \"data\": [0.7716529969862921, 0.8066550600718466, 0.8066550600718466, 0.8066550600718466, 0.8093053188486129, 0.8093053188486129, 0.8111818436520828, 0.8111818436520828, 0.8111818436520828, 0.8111818436520828, 0.8336416980599672, 0.8336416980599672, 0.8336416980599672, 0.8336416980599672, 0.8336416980599672, 0.8336416980599672, 0.8336416980599672, 0.8336416980599672, 0.8336416980599672, 0.8336416980599672, 0.8336416980599672, 0.8336416980599672, 0.8336416980599672, 0.8336416980599672, 0.8336416980599672, 0.8336416980599672, 0.8336416980599672, 0.8336416980599672, 0.8336416980599672, 0.8336416980599672, 0.8406519254371142, 0.8406519254371142]}], \"AUC_micro\": [{\"categories\": [\"0\", \"1\", \"2\", \"3\", \"4\", \"5\", \"6\", \"7\", \"8\", \"9\", \"10\", \"11\", \"12\", \"13\", \"14\", \"15\", \"16\", \"17\", \"18\", \"19\", \"20\", \"21\", \"22\", \"23\", \"24\", \"25\", \"26\", \"27\", \"28\", \"29\", \"30\", \"31\"], \"mode\": \"markers\", \"name\": \"AUC_micro\", \"stepped\": false, \"type\": \"scatter\", \"data\": [0.8869486452425962, 0.8970683023524471, 0.8984880408527621, 0.8932255566057551, 0.8900234325771897, 0.7621068315479941, 0.9121028932997269, 0.8983298545473639, 0.8809145925225792, 0.8601160470489393, 0.903040327662256, 0.9091515044108383, 0.9000233013022474, 0.8697417821886159, 0.8883296576349506, 0.8885459331022896, 0.8915665695232095, 0.8530482041587902, 0.8643250498844781, 0.8983567659105229, 0.898985572883848, 0.8375196912413359, 0.8980482697962611, 0.8486655902121403, 0.9013583674648183, 0.8299310150178535, 0.849286520688931, 0.8639200666876705, 0.672184808863684, 0.8885843310228945, 0.9087038568578029, 0.9054554584120982]}, {\"categories\": [\"0\", \"1\", \"2\", \"3\", \"4\", \"5\", \"6\", \"7\", \"8\", \"9\", \"10\", \"11\", \"12\", \"13\", \"14\", \"15\", \"16\", \"17\", \"18\", \"19\", \"20\", \"21\", \"22\", \"23\", \"24\", \"25\", \"26\", \"27\", \"28\", \"29\", \"30\", \"31\"], \"mode\": \"lines\", \"name\": \"AUC_micro_max\", \"stepped\": true, \"type\": \"scatter\", \"data\": [0.8869486452425962, 0.8970683023524471, 0.8984880408527621, 0.8984880408527621, 0.8984880408527621, 0.8984880408527621, 0.9121028932997269, 0.9121028932997269, 0.9121028932997269, 0.9121028932997269, 0.9121028932997269, 0.9121028932997269, 0.9121028932997269, 0.9121028932997269, 0.9121028932997269, 0.9121028932997269, 0.9121028932997269, 0.9121028932997269, 0.9121028932997269, 0.9121028932997269, 0.9121028932997269, 0.9121028932997269, 0.9121028932997269, 0.9121028932997269, 0.9121028932997269, 0.9121028932997269, 0.9121028932997269, 0.9121028932997269, 0.9121028932997269, 0.9121028932997269, 0.9121028932997269, 0.9121028932997269]}], \"AUC_weighted\": [{\"categories\": [\"0\", \"1\", \"2\", \"3\", \"4\", \"5\", \"6\", \"7\", \"8\", \"9\", \"10\", \"11\", \"12\", \"13\", \"14\", \"15\", \"16\", \"17\", \"18\", \"19\", \"20\", \"21\", \"22\", \"23\", \"24\", \"25\", \"26\", \"27\", \"28\", \"29\", \"30\", \"31\"], \"mode\": \"markers\", \"name\": \"AUC_weighted\", \"stepped\": false, \"type\": \"scatter\", \"data\": [0.8900892857142857, 0.887889384920635, 0.8903505291005291, 0.8905166997354497, 0.8709383267195768, 0.7138797949735449, 0.9061830357142858, 0.8977455357142856, 0.867113921957672, 0.8414616402116403, 0.89682208994709, 0.9121883267195766, 0.8977083333333333, 0.8560400132275132, 0.8855133928571428, 0.882266865079365, 0.8887491732804232, 0.8812375992063493, 0.8495155423280423, 0.8966005291005292, 0.8940186838624339, 0.8322263558201058, 0.9156142526455028, 0.891521164021164, 0.8900405092592594, 0.8869874338624338, 0.8296924603174605, 0.8417778604497353, 0.5790261243386243, 0.8818816137566138, 0.907691798941799, 0.9083920304232805]}, {\"categories\": [\"0\", \"1\", \"2\", \"3\", \"4\", \"5\", \"6\", \"7\", \"8\", \"9\", \"10\", \"11\", \"12\", \"13\", \"14\", \"15\", \"16\", \"17\", \"18\", \"19\", \"20\", \"21\", \"22\", \"23\", \"24\", \"25\", \"26\", \"27\", \"28\", \"29\", \"30\", \"31\"], \"mode\": \"lines\", \"name\": \"AUC_weighted_max\", \"stepped\": true, \"type\": \"scatter\", \"data\": [0.8900892857142857, 0.8900892857142857, 0.8903505291005291, 0.8905166997354497, 0.8905166997354497, 0.8905166997354497, 0.9061830357142858, 0.9061830357142858, 0.9061830357142858, 0.9061830357142858, 0.9061830357142858, 0.9121883267195766, 0.9121883267195766, 0.9121883267195766, 0.9121883267195766, 0.9121883267195766, 0.9121883267195766, 0.9121883267195766, 0.9121883267195766, 0.9121883267195766, 0.9121883267195766, 0.9121883267195766, 0.9156142526455028, 0.9156142526455028, 0.9156142526455028, 0.9156142526455028, 0.9156142526455028, 0.9156142526455028, 0.9156142526455028, 0.9156142526455028, 0.9156142526455028, 0.9156142526455028]}], \"average_precision_score_micro\": [{\"categories\": [\"0\", \"1\", \"2\", \"3\", \"4\", \"5\", \"6\", \"7\", \"8\", \"9\", \"10\", \"11\", \"12\", \"13\", \"14\", \"15\", \"16\", \"17\", \"18\", \"19\", \"20\", \"21\", \"22\", \"23\", \"24\", \"25\", \"26\", \"27\", \"28\", \"29\", \"30\", \"31\"], \"mode\": \"markers\", \"name\": \"average_precision_score_micro\", \"stepped\": false, \"type\": \"scatter\", \"data\": [0.8883364970720043, 0.9012837561354352, 0.895661874031393, 0.8987800130813903, 0.8926377114002015, 0.769589402347005, 0.9176717650146212, 0.9034219146135245, 0.8884409313069461, 0.8688518130569701, 0.902816111508119, 0.9161205127751387, 0.9069534256081166, 0.8737909521383888, 0.8941771462812991, 0.8915284995929132, 0.8954427582063126, 0.8640938669269286, 0.868734053549785, 0.9070541086462047, 0.9048041410364747, 0.843007240254631, 0.9061585455328871, 0.8654966988627015, 0.8933044555825157, 0.8471227582843406, 0.8521848941971685, 0.8645135086698114, 0.6835015713888744, 0.8919794340106588, 0.9146826644385687, 0.9118978903572685]}, {\"categories\": [\"0\", \"1\", \"2\", \"3\", \"4\", \"5\", \"6\", \"7\", \"8\", \"9\", \"10\", \"11\", \"12\", \"13\", \"14\", \"15\", \"16\", \"17\", \"18\", \"19\", \"20\", \"21\", \"22\", \"23\", \"24\", \"25\", \"26\", \"27\", \"28\", \"29\", \"30\", \"31\"], \"mode\": \"lines\", \"name\": \"average_precision_score_micro_max\", \"stepped\": true, \"type\": \"scatter\", \"data\": [0.8883364970720043, 0.9012837561354352, 0.9012837561354352, 0.9012837561354352, 0.9012837561354352, 0.9012837561354352, 0.9176717650146212, 0.9176717650146212, 0.9176717650146212, 0.9176717650146212, 0.9176717650146212, 0.9176717650146212, 0.9176717650146212, 0.9176717650146212, 0.9176717650146212, 0.9176717650146212, 0.9176717650146212, 0.9176717650146212, 0.9176717650146212, 0.9176717650146212, 0.9176717650146212, 0.9176717650146212, 0.9176717650146212, 0.9176717650146212, 0.9176717650146212, 0.9176717650146212, 0.9176717650146212, 0.9176717650146212, 0.9176717650146212, 0.9176717650146212, 0.9176717650146212, 0.9176717650146212]}], \"matthews_correlation\": [{\"categories\": [\"0\", \"1\", \"2\", \"3\", \"4\", \"5\", \"6\", \"7\", \"8\", \"9\", \"10\", \"11\", \"12\", \"13\", \"14\", \"15\", \"16\", \"17\", \"18\", \"19\", \"20\", \"21\", \"22\", \"23\", \"24\", \"25\", \"26\", \"27\", \"28\", \"29\", \"30\", \"31\"], \"mode\": \"markers\", \"name\": \"matthews_correlation\", \"stepped\": false, \"type\": \"scatter\", \"data\": [0.5811470680333605, 0.6424444597531219, 0.6012249116972047, 0.5650584894278572, 0.6359492253065371, 0.28657803643905283, 0.646962238176516, 0.6423843383833763, 0.5488449685263656, 0.4426525313480642, 0.6889638552971423, 0.5773601481353696, 0.6495974279932926, 0.49378911251113944, 0.6073591429527803, 0.6029385253439449, 0.5843188064411107, 0.29211524824700813, 0.4879237817500983, 0.5880830096865278, 0.6431838740884861, 0.519049741723422, 0.6055624497988552, 0.35991494968179527, 0.6225594714719273, 0.0, 0.48899635272300035, 0.4876379803309233, 0.07510551228121276, 0.5973475091692735, 0.7061087749830668, 0.6541377761162476]}, {\"categories\": [\"0\", \"1\", \"2\", \"3\", \"4\", \"5\", \"6\", \"7\", \"8\", \"9\", \"10\", \"11\", \"12\", \"13\", \"14\", \"15\", \"16\", \"17\", \"18\", \"19\", \"20\", \"21\", \"22\", \"23\", \"24\", \"25\", \"26\", \"27\", \"28\", \"29\", \"30\", \"31\"], \"mode\": \"lines\", \"name\": \"matthews_correlation_max\", \"stepped\": true, \"type\": \"scatter\", \"data\": [0.5811470680333605, 0.6424444597531219, 0.6424444597531219, 0.6424444597531219, 0.6424444597531219, 0.6424444597531219, 0.646962238176516, 0.646962238176516, 0.646962238176516, 0.646962238176516, 0.6889638552971423, 0.6889638552971423, 0.6889638552971423, 0.6889638552971423, 0.6889638552971423, 0.6889638552971423, 0.6889638552971423, 0.6889638552971423, 0.6889638552971423, 0.6889638552971423, 0.6889638552971423, 0.6889638552971423, 0.6889638552971423, 0.6889638552971423, 0.6889638552971423, 0.6889638552971423, 0.6889638552971423, 0.6889638552971423, 0.6889638552971423, 0.6889638552971423, 0.7061087749830668, 0.7061087749830668]}]}, \"metricName\": null, \"primaryMetricName\": \"accuracy\", \"showLegend\": false}, \"run_metrics\": [{\"name\": \"experiment_status\", \"run_id\": \"AutoML_7e5dda8b-129a-40bf-b0eb-0e77ecddb41c\", \"categories\": [0, 1, 2, 3, 4, 5, 6, 7, 8, 9, 10, 11, 12, 13], \"series\": [{\"data\": [\"DatasetEvaluation\", \"FeaturesGeneration\", \"DatasetFeaturization\", \"DatasetFeaturizationCompleted\", \"DatasetCrossValidationSplit\", \"ModelSelection\", \"BestRunExplainModel\", \"ModelExplanationDataSetSetup\", \"PickSurrogateModel\", \"EngineeredFeatureExplanations\", \"EngineeredFeatureExplanations\", \"RawFeaturesExplanations\", \"RawFeaturesExplanations\", \"BestRunExplainModel\"]}]}, {\"name\": \"experiment_status_description\", \"run_id\": \"AutoML_7e5dda8b-129a-40bf-b0eb-0e77ecddb41c\", \"categories\": [0, 1, 2, 3, 4, 5, 6, 7, 8, 9, 10, 11, 12, 13], \"series\": [{\"data\": [\"Gathering dataset statistics.\", \"Generating features for the dataset.\", \"Beginning to fit featurizers and featurize the dataset.\", \"Completed fit featurizers and featurizing the dataset.\", \"Generating individually featurized CV splits.\", \"Beginning model selection.\", \"Best run model explanations started\", \"Model explanations data setup completed\", \"Choosing LightGBM as the surrogate model for explanations\", \"Computation of engineered features started\", \"Computation of engineered features completed\", \"Computation of raw features started\", \"Computation of raw features completed\", \"Best run model explanations completed\"]}]}, {\"name\": \"average_precision_score_micro\", \"run_id\": \"AutoML_7e5dda8b-129a-40bf-b0eb-0e77ecddb41c\", \"categories\": [0], \"series\": [{\"data\": [0.9146826644385687]}]}, {\"name\": \"accuracy\", \"run_id\": \"AutoML_7e5dda8b-129a-40bf-b0eb-0e77ecddb41c\", \"categories\": [0], \"series\": [{\"data\": [0.8664855072463767]}]}, {\"name\": \"precision_score_micro\", \"run_id\": \"AutoML_7e5dda8b-129a-40bf-b0eb-0e77ecddb41c\", \"categories\": [0], \"series\": [{\"data\": [0.8664855072463767]}]}, {\"name\": \"precision_score_macro\", \"run_id\": \"AutoML_7e5dda8b-129a-40bf-b0eb-0e77ecddb41c\", \"categories\": [0], \"series\": [{\"data\": [0.8751488095238095]}]}, {\"name\": \"weighted_accuracy\", \"run_id\": \"AutoML_7e5dda8b-129a-40bf-b0eb-0e77ecddb41c\", \"categories\": [0], \"series\": [{\"data\": [0.8904642202472483]}]}, {\"name\": \"matthews_correlation\", \"run_id\": \"AutoML_7e5dda8b-129a-40bf-b0eb-0e77ecddb41c\", \"categories\": [0], \"series\": [{\"data\": [0.7061087749830668]}]}, {\"name\": \"recall_score_weighted\", \"run_id\": \"AutoML_7e5dda8b-129a-40bf-b0eb-0e77ecddb41c\", \"categories\": [0], \"series\": [{\"data\": [0.8664855072463767]}]}, {\"name\": \"recall_score_micro\", \"run_id\": \"AutoML_7e5dda8b-129a-40bf-b0eb-0e77ecddb41c\", \"categories\": [0], \"series\": [{\"data\": [0.8664855072463767]}]}, {\"name\": \"norm_macro_recall\", \"run_id\": \"AutoML_7e5dda8b-129a-40bf-b0eb-0e77ecddb41c\", \"categories\": [0], \"series\": [{\"data\": [0.6706944444444444]}]}, {\"name\": \"precision_score_weighted\", \"run_id\": \"AutoML_7e5dda8b-129a-40bf-b0eb-0e77ecddb41c\", \"categories\": [0], \"series\": [{\"data\": [0.8805218757188866]}]}, {\"name\": \"AUC_weighted\", \"run_id\": \"AutoML_7e5dda8b-129a-40bf-b0eb-0e77ecddb41c\", \"categories\": [0], \"series\": [{\"data\": [0.907691798941799]}]}, {\"name\": \"f1_score_weighted\", \"run_id\": \"AutoML_7e5dda8b-129a-40bf-b0eb-0e77ecddb41c\", \"categories\": [0], \"series\": [{\"data\": [0.862545964281124]}]}, {\"name\": \"average_precision_score_weighted\", \"run_id\": \"AutoML_7e5dda8b-129a-40bf-b0eb-0e77ecddb41c\", \"categories\": [0], \"series\": [{\"data\": [0.9217634603046083]}]}, {\"name\": \"recall_score_macro\", \"run_id\": \"AutoML_7e5dda8b-129a-40bf-b0eb-0e77ecddb41c\", \"categories\": [0], \"series\": [{\"data\": [0.8353472222222222]}]}, {\"name\": \"AUC_macro\", \"run_id\": \"AutoML_7e5dda8b-129a-40bf-b0eb-0e77ecddb41c\", \"categories\": [0], \"series\": [{\"data\": [0.907691798941799]}]}, {\"name\": \"log_loss\", \"run_id\": \"AutoML_7e5dda8b-129a-40bf-b0eb-0e77ecddb41c\", \"categories\": [0], \"series\": [{\"data\": [0.4194321404794401]}]}, {\"name\": \"f1_score_macro\", \"run_id\": \"AutoML_7e5dda8b-129a-40bf-b0eb-0e77ecddb41c\", \"categories\": [0], \"series\": [{\"data\": [0.8406519254371142]}]}, {\"name\": \"AUC_micro\", \"run_id\": \"AutoML_7e5dda8b-129a-40bf-b0eb-0e77ecddb41c\", \"categories\": [0], \"series\": [{\"data\": [0.9087038568578029]}]}, {\"name\": \"balanced_accuracy\", \"run_id\": \"AutoML_7e5dda8b-129a-40bf-b0eb-0e77ecddb41c\", \"categories\": [0], \"series\": [{\"data\": [0.8353472222222222]}]}, {\"name\": \"average_precision_score_macro\", \"run_id\": \"AutoML_7e5dda8b-129a-40bf-b0eb-0e77ecddb41c\", \"categories\": [0], \"series\": [{\"data\": [0.8997866246221664]}]}, {\"name\": \"f1_score_micro\", \"run_id\": \"AutoML_7e5dda8b-129a-40bf-b0eb-0e77ecddb41c\", \"categories\": [0], \"series\": [{\"data\": [0.8664855072463767]}]}], \"run_logs\": \"\\nRun is completed.\", \"graph\": {}, \"widget_settings\": {\"childWidgetDisplay\": \"popup\", \"send_telemetry\": false, \"log_level\": \"INFO\", \"sdk_version\": \"1.19.0\"}, \"loading\": false}"
          },
          "metadata": {}
        }
      ],
      "execution_count": 9,
      "metadata": {
        "gather": {
          "logged": 1610865065624
        },
        "jupyter": {
          "outputs_hidden": false,
          "source_hidden": false
        },
        "nteract": {
          "transient": {
            "deleting": false
          }
        }
      }
    },
    {
      "cell_type": "markdown",
      "source": [
        "## Run Details\n",
        "\n",
        "OPTIONAL: Write about the different models trained and their performance. Why do you think some models did better than others?\n",
        "\n",
        "TODO: In the cell below, use the `RunDetails` widget to show the different experiments."
      ],
      "metadata": {}
    },
    {
      "cell_type": "code",
      "source": [
        "remote_run.wait_for_completion(show_output=True)"
      ],
      "outputs": [
        {
          "output_type": "stream",
          "name": "stdout",
          "text": [
            "\n",
            "\n",
            "****************************************************************************************************\n",
            "DATA GUARDRAILS: \n",
            "\n",
            "TYPE:         Cross validation\n",
            "STATUS:       DONE\n",
            "DESCRIPTION:  Each iteration of the trained model was validated through cross-validation.\n",
            "              \n",
            "DETAILS:      \n",
            "+---------------------------------+\n",
            "|Number of folds                  |\n",
            "+=================================+\n",
            "|10                               |\n",
            "+---------------------------------+\n",
            "\n",
            "****************************************************************************************************\n",
            "\n",
            "TYPE:         Class balancing detection\n",
            "STATUS:       PASSED\n",
            "DESCRIPTION:  Your inputs were analyzed, and all classes are balanced in your training data.\n",
            "              Learn more about imbalanced data: https://aka.ms/AutomatedMLImbalancedData\n",
            "\n",
            "****************************************************************************************************\n",
            "\n",
            "TYPE:         Missing feature values imputation\n",
            "STATUS:       PASSED\n",
            "DESCRIPTION:  No feature missing values were detected in the training data.\n",
            "              Learn more about missing value imputation: https://aka.ms/AutomatedMLFeaturization\n",
            "\n",
            "****************************************************************************************************\n",
            "\n",
            "TYPE:         High cardinality feature detection\n",
            "STATUS:       PASSED\n",
            "DESCRIPTION:  Your inputs were analyzed, and no high cardinality features were detected.\n",
            "              Learn more about high cardinality feature handling: https://aka.ms/AutomatedMLFeaturization\n",
            "\n",
            "****************************************************************************************************\n",
            "\n",
            "****************************************************************************************************\n",
            "ITERATION: The iteration being evaluated.\n",
            "PIPELINE: A summary description of the pipeline being evaluated.\n",
            "DURATION: Time taken for the current iteration.\n",
            "METRIC: The result of computing score on the fitted pipeline.\n",
            "BEST: The best observed score thus far.\n",
            "****************************************************************************************************\n",
            "\n",
            " ITERATION   PIPELINE                                       DURATION      METRIC      BEST\n",
            "         0   MaxAbsScaler LightGBM                          0:00:44       0.8036    0.8036\n",
            "         1   MaxAbsScaler XGBoostClassifier                 0:00:45       0.8328    0.8328\n",
            "         2   MinMaxScaler RandomForest                      0:00:42       0.8161    0.8328\n",
            "         3   MinMaxScaler RandomForest                      0:00:50       0.8076    0.8328\n",
            "         4   MinMaxScaler RandomForest                      0:00:41       0.8328    0.8328\n",
            "         5   MinMaxScaler SVM                               0:00:53       0.6993    0.8328\n",
            "         6   MaxAbsScaler GradientBoosting                  0:00:53       0.8370    0.8370\n",
            "         7   StandardScalerWrapper RandomForest             0:00:49       0.8371    0.8371\n",
            "         8   SparseNormalizer XGBoostClassifier             0:00:41       0.7953    0.8371\n",
            "         9   SparseNormalizer LightGBM                      0:00:46       0.7576    0.8371\n",
            "        10   RobustScaler RandomForest                      0:00:43       0.8580    0.8580\n",
            "        11   MaxAbsScaler LightGBM                          0:00:43       0.8074    0.8580\n",
            "        12   RobustScaler ExtremeRandomTrees                0:00:45       0.8411    0.8580\n",
            "        13   SparseNormalizer XGBoostClassifier             0:01:50       0.7870    0.8580\n",
            "        14   StandardScalerWrapper ExtremeRandomTrees       0:00:44       0.8203    0.8580\n",
            "        15   StandardScalerWrapper XGBoostClassifier        0:00:49       0.8201    0.8580\n",
            "        16   StandardScalerWrapper GradientBoosting         0:00:39       0.8078    0.8580\n",
            "        17   StandardScalerWrapper ExtremeRandomTrees       0:00:50       0.7239    0.8580\n",
            "        18   SparseNormalizer XGBoostClassifier             0:00:45       0.7870    0.8580\n",
            "        19   StandardScalerWrapper LightGBM                 0:00:45       0.8161    0.8580\n",
            "        20   StandardScalerWrapper LightGBM                 0:00:42       0.8371    0.8580\n",
            "        21   MaxAbsScaler ExtremeRandomTrees                0:01:11       0.7699    0.8580\n",
            "        22   StandardScalerWrapper LightGBM                 0:00:50       0.8203    0.8580\n",
            "        23   StandardScalerWrapper LightGBM                 0:00:41       0.7322    0.8580\n",
            "        24   StandardScalerWrapper XGBoostClassifier        0:00:56       0.8326    0.8580\n",
            "        25   MaxAbsScaler RandomForest                      0:00:44       0.6571    0.8580\n",
            "        26   SparseNormalizer XGBoostClassifier             0:00:46       0.7870    0.8580\n",
            "        27   SparseNormalizer XGBoostClassifier             0:00:58       0.7826    0.8580\n",
            "        28   StandardScalerWrapper KNN                      0:00:44       0.6152    0.8580\n",
            "        29   StandardScalerWrapper ExtremeRandomTrees       0:00:47       0.8203    0.8580\n",
            "        30    VotingEnsemble                                0:01:35       0.8665    0.8665\n",
            "        31    StackEnsemble                                 0:01:45       0.8411    0.8665\n"
          ]
        },
        {
          "output_type": "execute_result",
          "execution_count": 10,
          "data": {
            "text/plain": "{'runId': 'AutoML_7e5dda8b-129a-40bf-b0eb-0e77ecddb41c',\n 'target': 'capstone',\n 'status': 'Completed',\n 'startTimeUtc': '2021-01-17T05:50:49.243369Z',\n 'endTimeUtc': '2021-01-17T06:30:58.179861Z',\n 'properties': {'num_iterations': '1000',\n  'training_type': 'TrainFull',\n  'acquisition_function': 'EI',\n  'primary_metric': 'accuracy',\n  'train_split': '0',\n  'acquisition_parameter': '0',\n  'num_cross_validation': None,\n  'target': 'capstone',\n  'AMLSettingsJsonString': '{\"path\":null,\"name\":\"experiment-1\",\"subscription_id\":\"f9d5a085-54dc-4215-9ba6-dad5d86e60a0\",\"resource_group\":\"aml-quickstarts-134986\",\"workspace_name\":\"quick-starts-ws-134986\",\"region\":\"southcentralus\",\"compute_target\":\"capstone\",\"spark_service\":null,\"azure_service\":\"remote\",\"many_models\":false,\"pipeline_fetch_max_batch_size\":1,\"iterations\":1000,\"primary_metric\":\"accuracy\",\"task_type\":\"classification\",\"data_script\":null,\"validation_size\":0.0,\"n_cross_validations\":null,\"y_min\":null,\"y_max\":null,\"num_classes\":null,\"featurization\":\"auto\",\"_ignore_package_version_incompatibilities\":false,\"is_timeseries\":false,\"max_cores_per_iteration\":1,\"max_concurrent_iterations\":1,\"iteration_timeout_minutes\":null,\"mem_in_mb\":null,\"enforce_time_on_windows\":false,\"experiment_timeout_minutes\":8640,\"experiment_exit_score\":null,\"whitelist_models\":null,\"blacklist_algos\":[\"TensorFlowLinearClassifier\",\"TensorFlowDNN\"],\"supported_models\":[\"LinearSVM\",\"XGBoostClassifier\",\"SVM\",\"SGD\",\"DecisionTree\",\"ExtremeRandomTrees\",\"GradientBoosting\",\"AveragedPerceptronClassifier\",\"TensorFlowLinearClassifier\",\"BernoulliNaiveBayes\",\"TensorFlowDNN\",\"KNN\",\"LogisticRegression\",\"LightGBM\",\"MultinomialNaiveBayes\",\"RandomForest\"],\"auto_blacklist\":true,\"blacklist_samples_reached\":false,\"exclude_nan_labels\":true,\"verbosity\":20,\"_debug_log\":\"azureml_automl.log\",\"show_warnings\":false,\"model_explainability\":true,\"service_url\":null,\"sdk_url\":null,\"sdk_packages\":null,\"enable_onnx_compatible_models\":false,\"enable_split_onnx_featurizer_estimator_models\":false,\"vm_type\":\"STANDARD_DS3_V2\",\"telemetry_verbosity\":20,\"send_telemetry\":true,\"enable_dnn\":false,\"scenario\":\"SDK-1.13.0\",\"environment_label\":null,\"force_text_dnn\":false,\"enable_feature_sweeping\":true,\"enable_early_stopping\":true,\"early_stopping_n_iters\":10,\"metrics\":null,\"enable_ensembling\":true,\"enable_stack_ensembling\":true,\"ensemble_iterations\":15,\"enable_tf\":false,\"enable_subsampling\":null,\"subsample_seed\":null,\"enable_nimbusml\":false,\"enable_streaming\":false,\"force_streaming\":false,\"track_child_runs\":true,\"allowed_private_models\":[],\"label_column_name\":\"DEATH_EVENT\",\"weight_column_name\":null,\"cv_split_column_names\":null,\"enable_local_managed\":false,\"_local_managed_run_id\":null,\"cost_mode\":1,\"lag_length\":0,\"metric_operation\":\"maximize\",\"preprocess\":true}',\n  'DataPrepJsonString': '{\\\\\"training_data\\\\\": \\\\\"{\\\\\\\\\\\\\"blocks\\\\\\\\\\\\\": [{\\\\\\\\\\\\\"id\\\\\\\\\\\\\": \\\\\\\\\\\\\"c5155f75-08a4-4533-89af-680e758dc104\\\\\\\\\\\\\", \\\\\\\\\\\\\"type\\\\\\\\\\\\\": \\\\\\\\\\\\\"Microsoft.DPrep.GetDatastoreFilesBlock\\\\\\\\\\\\\", \\\\\\\\\\\\\"arguments\\\\\\\\\\\\\": {\\\\\\\\\\\\\"datastores\\\\\\\\\\\\\": [{\\\\\\\\\\\\\"datastoreName\\\\\\\\\\\\\": \\\\\\\\\\\\\"workspaceblobstore\\\\\\\\\\\\\", \\\\\\\\\\\\\"path\\\\\\\\\\\\\": \\\\\\\\\\\\\"udacity-project/train_data.csv\\\\\\\\\\\\\", \\\\\\\\\\\\\"resourceGroup\\\\\\\\\\\\\": \\\\\\\\\\\\\"aml-quickstarts-134986\\\\\\\\\\\\\", \\\\\\\\\\\\\"subscription\\\\\\\\\\\\\": \\\\\\\\\\\\\"f9d5a085-54dc-4215-9ba6-dad5d86e60a0\\\\\\\\\\\\\", \\\\\\\\\\\\\"workspaceName\\\\\\\\\\\\\": \\\\\\\\\\\\\"quick-starts-ws-134986\\\\\\\\\\\\\"}]}, \\\\\\\\\\\\\"localData\\\\\\\\\\\\\": {}, \\\\\\\\\\\\\"isEnabled\\\\\\\\\\\\\": true, \\\\\\\\\\\\\"name\\\\\\\\\\\\\": null, \\\\\\\\\\\\\"annotation\\\\\\\\\\\\\": null}, {\\\\\\\\\\\\\"id\\\\\\\\\\\\\": \\\\\\\\\\\\\"40673b13-c649-42ed-a616-af59e89f60d1\\\\\\\\\\\\\", \\\\\\\\\\\\\"type\\\\\\\\\\\\\": \\\\\\\\\\\\\"Microsoft.DPrep.ParseDelimitedBlock\\\\\\\\\\\\\", \\\\\\\\\\\\\"arguments\\\\\\\\\\\\\": {\\\\\\\\\\\\\"columnHeadersMode\\\\\\\\\\\\\": 3, \\\\\\\\\\\\\"fileEncoding\\\\\\\\\\\\\": 0, \\\\\\\\\\\\\"handleQuotedLineBreaks\\\\\\\\\\\\\": false, \\\\\\\\\\\\\"preview\\\\\\\\\\\\\": false, \\\\\\\\\\\\\"separator\\\\\\\\\\\\\": \\\\\\\\\\\\\",\\\\\\\\\\\\\", \\\\\\\\\\\\\"skipRows\\\\\\\\\\\\\": 0, \\\\\\\\\\\\\"skipRowsMode\\\\\\\\\\\\\": 0}, \\\\\\\\\\\\\"localData\\\\\\\\\\\\\": {}, \\\\\\\\\\\\\"isEnabled\\\\\\\\\\\\\": true, \\\\\\\\\\\\\"name\\\\\\\\\\\\\": null, \\\\\\\\\\\\\"annotation\\\\\\\\\\\\\": null}, {\\\\\\\\\\\\\"id\\\\\\\\\\\\\": \\\\\\\\\\\\\"2d800409-8c2a-473f-b16d-69a79839acb8\\\\\\\\\\\\\", \\\\\\\\\\\\\"type\\\\\\\\\\\\\": \\\\\\\\\\\\\"Microsoft.DPrep.DropColumnsBlock\\\\\\\\\\\\\", \\\\\\\\\\\\\"arguments\\\\\\\\\\\\\": {\\\\\\\\\\\\\"columns\\\\\\\\\\\\\": {\\\\\\\\\\\\\"type\\\\\\\\\\\\\": 0, \\\\\\\\\\\\\"details\\\\\\\\\\\\\": {\\\\\\\\\\\\\"selectedColumns\\\\\\\\\\\\\": [\\\\\\\\\\\\\"Path\\\\\\\\\\\\\"]}}}, \\\\\\\\\\\\\"localData\\\\\\\\\\\\\": {}, \\\\\\\\\\\\\"isEnabled\\\\\\\\\\\\\": true, \\\\\\\\\\\\\"name\\\\\\\\\\\\\": null, \\\\\\\\\\\\\"annotation\\\\\\\\\\\\\": null}, {\\\\\\\\\\\\\"id\\\\\\\\\\\\\": \\\\\\\\\\\\\"f3aa8a3b-145a-47e1-86ce-ebb97cfb68dd\\\\\\\\\\\\\", \\\\\\\\\\\\\"type\\\\\\\\\\\\\": \\\\\\\\\\\\\"Microsoft.DPrep.SetColumnTypesBlock\\\\\\\\\\\\\", \\\\\\\\\\\\\"arguments\\\\\\\\\\\\\": {\\\\\\\\\\\\\"columnConversion\\\\\\\\\\\\\": [{\\\\\\\\\\\\\"column\\\\\\\\\\\\\": {\\\\\\\\\\\\\"type\\\\\\\\\\\\\": 2, \\\\\\\\\\\\\"details\\\\\\\\\\\\\": {\\\\\\\\\\\\\"selectedColumn\\\\\\\\\\\\\": \\\\\\\\\\\\\"age\\\\\\\\\\\\\"}}, \\\\\\\\\\\\\"typeProperty\\\\\\\\\\\\\": 3}, {\\\\\\\\\\\\\"column\\\\\\\\\\\\\": {\\\\\\\\\\\\\"type\\\\\\\\\\\\\": 2, \\\\\\\\\\\\\"details\\\\\\\\\\\\\": {\\\\\\\\\\\\\"selectedColumn\\\\\\\\\\\\\": \\\\\\\\\\\\\"anaemia\\\\\\\\\\\\\"}}, \\\\\\\\\\\\\"typeProperty\\\\\\\\\\\\\": 2}, {\\\\\\\\\\\\\"column\\\\\\\\\\\\\": {\\\\\\\\\\\\\"type\\\\\\\\\\\\\": 2, \\\\\\\\\\\\\"details\\\\\\\\\\\\\": {\\\\\\\\\\\\\"selectedColumn\\\\\\\\\\\\\": \\\\\\\\\\\\\"creatinine_phosphokinase\\\\\\\\\\\\\"}}, \\\\\\\\\\\\\"typeProperty\\\\\\\\\\\\\": 2}, {\\\\\\\\\\\\\"column\\\\\\\\\\\\\": {\\\\\\\\\\\\\"type\\\\\\\\\\\\\": 2, \\\\\\\\\\\\\"details\\\\\\\\\\\\\": {\\\\\\\\\\\\\"selectedColumn\\\\\\\\\\\\\": \\\\\\\\\\\\\"diabetes\\\\\\\\\\\\\"}}, \\\\\\\\\\\\\"typeProperty\\\\\\\\\\\\\": 2}, {\\\\\\\\\\\\\"column\\\\\\\\\\\\\": {\\\\\\\\\\\\\"type\\\\\\\\\\\\\": 2, \\\\\\\\\\\\\"details\\\\\\\\\\\\\": {\\\\\\\\\\\\\"selectedColumn\\\\\\\\\\\\\": \\\\\\\\\\\\\"ejection_fraction\\\\\\\\\\\\\"}}, \\\\\\\\\\\\\"typeProperty\\\\\\\\\\\\\": 2}, {\\\\\\\\\\\\\"column\\\\\\\\\\\\\": {\\\\\\\\\\\\\"type\\\\\\\\\\\\\": 2, \\\\\\\\\\\\\"details\\\\\\\\\\\\\": {\\\\\\\\\\\\\"selectedColumn\\\\\\\\\\\\\": \\\\\\\\\\\\\"high_blood_pressure\\\\\\\\\\\\\"}}, \\\\\\\\\\\\\"typeProperty\\\\\\\\\\\\\": 2}, {\\\\\\\\\\\\\"column\\\\\\\\\\\\\": {\\\\\\\\\\\\\"type\\\\\\\\\\\\\": 2, \\\\\\\\\\\\\"details\\\\\\\\\\\\\": {\\\\\\\\\\\\\"selectedColumn\\\\\\\\\\\\\": \\\\\\\\\\\\\"platelets\\\\\\\\\\\\\"}}, \\\\\\\\\\\\\"typeProperty\\\\\\\\\\\\\": 3}, {\\\\\\\\\\\\\"column\\\\\\\\\\\\\": {\\\\\\\\\\\\\"type\\\\\\\\\\\\\": 2, \\\\\\\\\\\\\"details\\\\\\\\\\\\\": {\\\\\\\\\\\\\"selectedColumn\\\\\\\\\\\\\": \\\\\\\\\\\\\"serum_creatinine\\\\\\\\\\\\\"}}, \\\\\\\\\\\\\"typeProperty\\\\\\\\\\\\\": 3}, {\\\\\\\\\\\\\"column\\\\\\\\\\\\\": {\\\\\\\\\\\\\"type\\\\\\\\\\\\\": 2, \\\\\\\\\\\\\"details\\\\\\\\\\\\\": {\\\\\\\\\\\\\"selectedColumn\\\\\\\\\\\\\": \\\\\\\\\\\\\"serum_sodium\\\\\\\\\\\\\"}}, \\\\\\\\\\\\\"typeProperty\\\\\\\\\\\\\": 2}, {\\\\\\\\\\\\\"column\\\\\\\\\\\\\": {\\\\\\\\\\\\\"type\\\\\\\\\\\\\": 2, \\\\\\\\\\\\\"details\\\\\\\\\\\\\": {\\\\\\\\\\\\\"selectedColumn\\\\\\\\\\\\\": \\\\\\\\\\\\\"sex\\\\\\\\\\\\\"}}, \\\\\\\\\\\\\"typeProperty\\\\\\\\\\\\\": 2}, {\\\\\\\\\\\\\"column\\\\\\\\\\\\\": {\\\\\\\\\\\\\"type\\\\\\\\\\\\\": 2, \\\\\\\\\\\\\"details\\\\\\\\\\\\\": {\\\\\\\\\\\\\"selectedColumn\\\\\\\\\\\\\": \\\\\\\\\\\\\"smoking\\\\\\\\\\\\\"}}, \\\\\\\\\\\\\"typeProperty\\\\\\\\\\\\\": 2}, {\\\\\\\\\\\\\"column\\\\\\\\\\\\\": {\\\\\\\\\\\\\"type\\\\\\\\\\\\\": 2, \\\\\\\\\\\\\"details\\\\\\\\\\\\\": {\\\\\\\\\\\\\"selectedColumn\\\\\\\\\\\\\": \\\\\\\\\\\\\"time\\\\\\\\\\\\\"}}, \\\\\\\\\\\\\"typeProperty\\\\\\\\\\\\\": 2}, {\\\\\\\\\\\\\"column\\\\\\\\\\\\\": {\\\\\\\\\\\\\"type\\\\\\\\\\\\\": 2, \\\\\\\\\\\\\"details\\\\\\\\\\\\\": {\\\\\\\\\\\\\"selectedColumn\\\\\\\\\\\\\": \\\\\\\\\\\\\"DEATH_EVENT\\\\\\\\\\\\\"}}, \\\\\\\\\\\\\"typeProperty\\\\\\\\\\\\\": 2}]}, \\\\\\\\\\\\\"localData\\\\\\\\\\\\\": {}, \\\\\\\\\\\\\"isEnabled\\\\\\\\\\\\\": true, \\\\\\\\\\\\\"name\\\\\\\\\\\\\": null, \\\\\\\\\\\\\"annotation\\\\\\\\\\\\\": null}], \\\\\\\\\\\\\"inspectors\\\\\\\\\\\\\": [], \\\\\\\\\\\\\"meta\\\\\\\\\\\\\": {\\\\\\\\\\\\\"savedDatasetId\\\\\\\\\\\\\": \\\\\\\\\\\\\"c97d16dd-a494-46af-ba7a-4c94899350ea\\\\\\\\\\\\\", \\\\\\\\\\\\\"datasetType\\\\\\\\\\\\\": \\\\\\\\\\\\\"tabular\\\\\\\\\\\\\", \\\\\\\\\\\\\"subscriptionId\\\\\\\\\\\\\": \\\\\\\\\\\\\"f9d5a085-54dc-4215-9ba6-dad5d86e60a0\\\\\\\\\\\\\", \\\\\\\\\\\\\"workspaceId\\\\\\\\\\\\\": \\\\\\\\\\\\\"14dcadd8-0f2c-4059-b98f-7a3614641c20\\\\\\\\\\\\\", \\\\\\\\\\\\\"workspaceLocation\\\\\\\\\\\\\": \\\\\\\\\\\\\"southcentralus\\\\\\\\\\\\\"}}\\\\\", \\\\\"activities\\\\\": 0}',\n  'EnableSubsampling': None,\n  'runTemplate': 'AutoML',\n  'azureml.runsource': 'automl',\n  'display_task_type': 'classification',\n  'dependencies_versions': '{\"azureml-widgets\": \"1.19.0\", \"azureml-train\": \"1.19.0\", \"azureml-train-restclients-hyperdrive\": \"1.19.0\", \"azureml-train-core\": \"1.19.0\", \"azureml-train-automl\": \"1.19.0\", \"azureml-train-automl-runtime\": \"1.19.0\", \"azureml-train-automl-client\": \"1.19.0\", \"azureml-tensorboard\": \"1.19.0\", \"azureml-telemetry\": \"1.19.0\", \"azureml-sdk\": \"1.19.0\", \"azureml-samples\": \"0+unknown\", \"azureml-pipeline\": \"1.19.0\", \"azureml-pipeline-steps\": \"1.19.0\", \"azureml-pipeline-core\": \"1.19.0\", \"azureml-opendatasets\": \"1.19.0\", \"azureml-model-management-sdk\": \"1.0.1b6.post1\", \"azureml-mlflow\": \"1.19.0\", \"azureml-interpret\": \"1.19.0\", \"azureml-explain-model\": \"1.19.0\", \"azureml-defaults\": \"1.19.0\", \"azureml-dataset-runtime\": \"1.19.0.post1\", \"azureml-dataprep\": \"2.6.1\", \"azureml-dataprep-rslex\": \"1.4.0\", \"azureml-dataprep-native\": \"26.0.0\", \"azureml-datadrift\": \"1.19.0\", \"azureml-core\": \"1.19.0\", \"azureml-contrib-services\": \"1.19.0\", \"azureml-contrib-server\": \"1.19.0\", \"azureml-contrib-reinforcementlearning\": \"1.19.0\", \"azureml-contrib-pipeline-steps\": \"1.19.0\", \"azureml-contrib-notebook\": \"1.19.0\", \"azureml-contrib-interpret\": \"1.19.0\", \"azureml-contrib-gbdt\": \"1.19.0\", \"azureml-contrib-fairness\": \"1.19.0\", \"azureml-contrib-dataset\": \"1.19.0\", \"azureml-cli-common\": \"1.19.0\", \"azureml-automl-runtime\": \"1.19.0\", \"azureml-automl-core\": \"1.19.0\", \"azureml-accel-models\": \"1.19.0\"}',\n  '_aml_system_scenario_identification': 'Remote.Parent',\n  'ClientType': 'SDK',\n  'environment_cpu_name': 'AzureML-AutoML',\n  'environment_cpu_label': 'prod',\n  'environment_gpu_name': 'AzureML-AutoML-GPU',\n  'environment_gpu_label': 'prod',\n  'root_attribution': 'automl',\n  'attribution': 'AutoML',\n  'Orchestrator': 'AutoML',\n  'CancelUri': 'https://southcentralus.experiments.azureml.net/jasmine/v1.0/subscriptions/f9d5a085-54dc-4215-9ba6-dad5d86e60a0/resourceGroups/aml-quickstarts-134986/providers/Microsoft.MachineLearningServices/workspaces/quick-starts-ws-134986/experimentids/643ea06b-da16-4e6e-9bdc-400aebb619d8/cancel/AutoML_7e5dda8b-129a-40bf-b0eb-0e77ecddb41c',\n  'ClientSdkVersion': '1.19.0',\n  'snapshotId': '00000000-0000-0000-0000-000000000000',\n  'SetupRunId': 'AutoML_7e5dda8b-129a-40bf-b0eb-0e77ecddb41c_setup',\n  'SetupRunContainerId': 'dcid.AutoML_7e5dda8b-129a-40bf-b0eb-0e77ecddb41c_setup',\n  'FeaturizationRunJsonPath': 'featurizer_container.json',\n  'FeaturizationRunId': 'AutoML_7e5dda8b-129a-40bf-b0eb-0e77ecddb41c_featurize',\n  'ProblemInfoJsonString': '{\"dataset_num_categorical\": 0, \"is_sparse\": false, \"subsampling\": false, \"dataset_classes\": 2, \"dataset_features\": 12, \"dataset_samples\": 239, \"single_frequency_class_detected\": false}',\n  'ModelExplainRunId': 'AutoML_7e5dda8b-129a-40bf-b0eb-0e77ecddb41c_ModelExplain'},\n 'inputDatasets': [{'dataset': {'id': 'c97d16dd-a494-46af-ba7a-4c94899350ea'}, 'consumptionDetails': {'type': 'RunInput', 'inputName': 'training_data', 'mechanism': 'Direct'}}],\n 'outputDatasets': [],\n 'logFiles': {}}"
          },
          "metadata": {}
        }
      ],
      "execution_count": 10,
      "metadata": {
        "gather": {
          "logged": 1610865585093
        },
        "jupyter": {
          "outputs_hidden": false,
          "source_hidden": false
        },
        "nteract": {
          "transient": {
            "deleting": false
          }
        }
      }
    },
    {
      "cell_type": "markdown",
      "source": [
        "## Best Model\n",
        "\n",
        "TODO: In the cell below, get the best model from the automl experiments and display all the properties of the model.\n",
        "\n"
      ],
      "metadata": {}
    },
    {
      "cell_type": "code",
      "source": [
        "best_model, fitted_model = remote_run.get_output()\r\n",
        "\r\n",
        "print(best_model)"
      ],
      "outputs": [
        {
          "output_type": "stream",
          "name": "stdout",
          "text": [
            "Run(Experiment: experiment-1,\n",
            "Id: AutoML_7e5dda8b-129a-40bf-b0eb-0e77ecddb41c_30,\n",
            "Type: azureml.scriptrun,\n",
            "Status: Completed)\n"
          ]
        }
      ],
      "execution_count": 11,
      "metadata": {
        "gather": {
          "logged": 1610865607869
        },
        "jupyter": {
          "outputs_hidden": false,
          "source_hidden": false
        },
        "nteract": {
          "transient": {
            "deleting": false
          }
        }
      }
    },
    {
      "cell_type": "code",
      "source": [
        "print(fitted_model)"
      ],
      "outputs": [
        {
          "output_type": "stream",
          "name": "stdout",
          "text": [
            "Pipeline(memory=None,\n",
            "         steps=[('datatransformer',\n",
            "                 DataTransformer(enable_dnn=None, enable_feature_sweeping=None,\n",
            "                                 feature_sweeping_config=None,\n",
            "                                 feature_sweeping_timeout=None,\n",
            "                                 featurization_config=None, force_text_dnn=None,\n",
            "                                 is_cross_validation=None,\n",
            "                                 is_onnx_compatible=None, logger=None,\n",
            "                                 observer=None, task=None, working_dir=None)),\n",
            "                ('prefittedsoftvotingclassifier',...\n",
            "                                                                                                subsample=0.3963157894736842,\n",
            "                                                                                                subsample_for_bin=200000,\n",
            "                                                                                                subsample_freq=0,\n",
            "                                                                                                verbose=-10))],\n",
            "                                                                     verbose=False))],\n",
            "                                               flatten_transform=None,\n",
            "                                               weights=[0.2857142857142857,\n",
            "                                                        0.14285714285714285,\n",
            "                                                        0.07142857142857142,\n",
            "                                                        0.07142857142857142,\n",
            "                                                        0.07142857142857142,\n",
            "                                                        0.07142857142857142,\n",
            "                                                        0.07142857142857142,\n",
            "                                                        0.07142857142857142,\n",
            "                                                        0.07142857142857142,\n",
            "                                                        0.07142857142857142]))],\n",
            "         verbose=False)\n"
          ]
        }
      ],
      "execution_count": 12,
      "metadata": {
        "collapsed": true,
        "jupyter": {
          "source_hidden": false,
          "outputs_hidden": false
        },
        "nteract": {
          "transient": {
            "deleting": false
          }
        },
        "gather": {
          "logged": 1610865651298
        }
      }
    },
    {
      "cell_type": "code",
      "source": [
        "#TODO: Save the best model\r\n",
        "best_model.download_file('outputs/model.pkl', 'outputs/model.pkl')\r\n",
        "best_model.download_file('outputs/scoring_file_v_1_0_0.py', 'outputs/score_aml.py')\r\n",
        "best_model.download_file('automl_driver.py', 'outputs/automl_driver.py')"
      ],
      "outputs": [],
      "execution_count": 20,
      "metadata": {
        "gather": {
          "logged": 1610866658913
        },
        "jupyter": {
          "outputs_hidden": false,
          "source_hidden": false
        },
        "nteract": {
          "transient": {
            "deleting": false
          }
        }
      }
    },
    {
      "cell_type": "markdown",
      "source": [
        "## Model Deployment\n",
        "\n",
        "Remember you have to deploy only one of the two models you trained.. Perform the steps in the rest of this notebook only if you wish to deploy this model.\n",
        "\n",
        "TODO: In the cell below, register the model, create an inference config and deploy the model as a web service."
      ],
      "metadata": {}
    },
    {
      "cell_type": "code",
      "source": [
        "model = Model.register(workspace = ws,\r\n",
        "                        model_path =\"outputs/model.pkl\",\r\n",
        "                        model_name = \"model\")\r\n",
        "\r\n",
        "\r\n",
        "print(model.name)"
      ],
      "outputs": [
        {
          "output_type": "stream",
          "name": "stdout",
          "text": [
            "Registering model model\n",
            "model\n"
          ]
        }
      ],
      "execution_count": 21,
      "metadata": {
        "gather": {
          "logged": 1610866662597
        },
        "jupyter": {
          "outputs_hidden": false,
          "source_hidden": false
        },
        "nteract": {
          "transient": {
            "deleting": false
          }
        }
      }
    },
    {
      "cell_type": "code",
      "source": [
        "# Define Deployment\r\n",
        "\r\n",
        "aci_config = AciWebservice.deploy_configuration(cpu_cores=1, memory_gb=2,\r\n",
        "                                              enable_app_insights=True) \r\n"
      ],
      "outputs": [],
      "execution_count": 22,
      "metadata": {
        "collapsed": true,
        "jupyter": {
          "source_hidden": false,
          "outputs_hidden": false
        },
        "nteract": {
          "transient": {
            "deleting": false
          }
        },
        "gather": {
          "logged": 1610866664685
        }
      }
    },
    {
      "cell_type": "code",
      "source": [
        "from azureml.core.conda_dependencies import CondaDependencies\r\n",
        "\r\n",
        "azureml_pip_packages = [\r\n",
        "    'azureml-interpret', 'azureml-train-automl', 'azureml-defaults'\r\n",
        "]\r\n",
        "\r\n",
        "myenv = CondaDependencies.create(conda_packages=['scikit-learn', 'pandas', 'numpy', 'py-xgboost<=0.80'],\r\n",
        "                                 pip_packages=azureml_pip_packages,\r\n",
        "                                 pin_sdk_version=True)\r\n",
        "\r\n",
        "with open(\"env.yml\",\"w\") as f:\r\n",
        "    f.write(myenv.serialize_to_string())\r\n",
        "\r\n",
        "with open(\"env.yml\",\"r\") as f:\r\n",
        "    print(f.read())"
      ],
      "outputs": [
        {
          "output_type": "stream",
          "name": "stdout",
          "text": [
            "# Conda environment specification. The dependencies defined in this file will\n",
            "# be automatically provisioned for runs with userManagedDependencies=False.\n",
            "\n",
            "# Details about the Conda environment file format:\n",
            "# https://conda.io/docs/user-guide/tasks/manage-environments.html#create-env-file-manually\n",
            "\n",
            "name: project_environment\n",
            "dependencies:\n",
            "  # The python interpreter version.\n",
            "  # Currently Azure ML only supports 3.5.2 and later.\n",
            "- python=3.6.2\n",
            "\n",
            "- pip:\n",
            "  - azureml-interpret~=1.19.0\n",
            "  - azureml-train-automl~=1.19.0\n",
            "  - azureml-defaults~=1.19.0\n",
            "- scikit-learn\n",
            "- pandas\n",
            "- numpy\n",
            "- py-xgboost<=0.80\n",
            "channels:\n",
            "- anaconda\n",
            "- conda-forge\n",
            "\n"
          ]
        }
      ],
      "execution_count": 23,
      "metadata": {
        "collapsed": true,
        "jupyter": {
          "source_hidden": false,
          "outputs_hidden": false
        },
        "nteract": {
          "transient": {
            "deleting": false
          }
        },
        "gather": {
          "logged": 1610866667473
        }
      }
    },
    {
      "cell_type": "code",
      "source": [
        "# Create the environment\r\n",
        "\r\n",
        "env = Environment.from_conda_specification(name='env',file_path = 'env.yml')\r\n",
        "\r\n",
        "# myenv = Environment(workspace=ws, name=\"myenv\")\r\n",
        "\r\n",
        "inference_config = InferenceConfig(entry_script='./score.py',environment=env)\r\n",
        "\r\n",
        "f = open(\"envnew.yml\", \"w\")\r\n",
        "f.write(env.python.conda_dependencies.serialize_to_string())\r\n",
        "f.close()\r\n",
        "\r\n",
        "print(\"packages\", env.python.conda_dependencies.serialize_to_string())"
      ],
      "outputs": [
        {
          "output_type": "stream",
          "name": "stdout",
          "text": [
            "packages # Conda environment specification. The dependencies defined in this file will\n",
            "# be automatically provisioned for runs with userManagedDependencies=False.\n",
            "\n",
            "# Details about the Conda environment file format:\n",
            "# https://conda.io/docs/user-guide/tasks/manage-environments.html#create-env-file-manually\n",
            "\n",
            "name: project_environment\n",
            "dependencies:\n",
            "  # The python interpreter version.\n",
            "  # Currently Azure ML only supports 3.5.2 and later.\n",
            "- python=3.6.2\n",
            "\n",
            "- pip:\n",
            "  - azureml-interpret~=1.19.0\n",
            "  - azureml-train-automl~=1.19.0\n",
            "  - azureml-defaults~=1.19.0\n",
            "- scikit-learn\n",
            "- pandas\n",
            "- numpy\n",
            "- py-xgboost<=0.80\n",
            "channels:\n",
            "- anaconda\n",
            "- conda-forge\n",
            "\n"
          ]
        }
      ],
      "execution_count": 24,
      "metadata": {
        "collapsed": true,
        "jupyter": {
          "source_hidden": false,
          "outputs_hidden": false
        },
        "nteract": {
          "transient": {
            "deleting": false
          }
        },
        "gather": {
          "logged": 1610866672650
        }
      }
    },
    {
      "cell_type": "code",
      "source": [
        "service_name = 'services'\r\n",
        "\r\n",
        "services = Model.deploy(ws, service_name, [model], inference_config, deployment_config=aci_config)"
      ],
      "outputs": [],
      "execution_count": 26,
      "metadata": {
        "collapsed": true,
        "jupyter": {
          "source_hidden": false,
          "outputs_hidden": false
        },
        "nteract": {
          "transient": {
            "deleting": false
          }
        },
        "gather": {
          "logged": 1610866699971
        }
      }
    },
    {
      "cell_type": "code",
      "source": [
        "services.wait_for_deployment(True)\r\n",
        "print(services.state)"
      ],
      "outputs": [
        {
          "output_type": "stream",
          "name": "stdout",
          "text": [
            "Tips: You can try get_logs(): https://aka.ms/debugimage#dockerlog or local deployment: https://aka.ms/debugimage#debug-locally to debug if deployment takes longer than 10 minutes.\n",
            "Running............................\n",
            "Succeeded\n",
            "ACI service creation operation finished, operation \"Succeeded\"\n",
            "Healthy\n"
          ]
        }
      ],
      "execution_count": 27,
      "metadata": {
        "collapsed": true,
        "jupyter": {
          "source_hidden": false,
          "outputs_hidden": false
        },
        "nteract": {
          "transient": {
            "deleting": false
          }
        },
        "gather": {
          "logged": 1610866851466
        }
      }
    },
    {
      "cell_type": "code",
      "source": [
        "print(\"scoring URI: \" + services.scoring_uri)"
      ],
      "outputs": [
        {
          "output_type": "stream",
          "name": "stdout",
          "text": [
            "scoring URI: http://ab406a55-6adc-4e32-aa00-1812ebdf7a4d.southcentralus.azurecontainer.io/score\n"
          ]
        }
      ],
      "execution_count": 29,
      "metadata": {
        "collapsed": true,
        "jupyter": {
          "source_hidden": false,
          "outputs_hidden": false
        },
        "nteract": {
          "transient": {
            "deleting": false
          }
        },
        "gather": {
          "logged": 1610866940258
        }
      }
    },
    {
      "cell_type": "markdown",
      "source": [
        "TODO: In the cell below, send a request to the web service you deployed to test it."
      ],
      "metadata": {
        "collapsed": true,
        "gather": {
          "logged": 1598431657736
        },
        "jupyter": {
          "outputs_hidden": false,
          "source_hidden": false
        },
        "nteract": {
          "transient": {
            "deleting": false
          }
        }
      }
    },
    {
      "cell_type": "code",
      "source": [
        "scoring_uri = 'http://ab406a55-6adc-4e32-aa00-1812ebdf7a4d.southcentralus.azurecontainer.io/score'\r\n",
        "headers = {'Content-Type':'application/json'}\r\n",
        "\r\n",
        "test_data = json.dumps({'data':[{\r\n",
        "    'age':75,\r\n",
        "    'anaemia':0,\r\n",
        "    'creatinine_phosphokinase':582,\r\n",
        "    'diabetes':0,\r\n",
        "    'ejection_fraction':20,\r\n",
        "    'high_blood_pressure':1,\r\n",
        "    'platelets':265000,\r\n",
        "    'serum_creatinine':1.9,\r\n",
        "    'serum_sodium':130,\r\n",
        "    'sex':1,\r\n",
        "    'smoking':0,\r\n",
        "    'time':4}\r\n",
        "    ]\r\n",
        "        })\r\n",
        "\r\n",
        "test_data2 = json.dumps({'data':[{\r\n",
        "    'age':40,\r\n",
        "    'anaemia':0,\r\n",
        "    'creatinine_phosphokinase':321,\r\n",
        "    'diabetes':0,\r\n",
        "    'ejection_fraction':35,\r\n",
        "    'high_blood_pressure':0,\r\n",
        "    'platelets':265000,\r\n",
        "    'serum_creatinine':1,\r\n",
        "    'serum_sodium':130,\r\n",
        "    'sex':1,\r\n",
        "    'smoking':0,\r\n",
        "    'time':198}\r\n",
        "    ]\r\n",
        "        })\r\n",
        "\r\n",
        "\r\n",
        "response = requests.post(scoring_uri, data=test_data2, headers=headers)\r\n",
        "\r\n",
        "print(\"Result:\",response.text)"
      ],
      "outputs": [
        {
          "output_type": "stream",
          "name": "stdout",
          "text": [
            "Result: \"Must pass 2-d input. shape=()\"\n"
          ]
        }
      ],
      "execution_count": 30,
      "metadata": {
        "gather": {
          "logged": 1610866989663
        },
        "jupyter": {
          "outputs_hidden": false,
          "source_hidden": false
        },
        "nteract": {
          "transient": {
            "deleting": false
          }
        }
      }
    },
    {
      "cell_type": "markdown",
      "source": [
        "TODO: In the cell below, print the logs of the web service and delete the service"
      ],
      "metadata": {
        "collapsed": true,
        "gather": {
          "logged": 1598432765711
        },
        "jupyter": {
          "outputs_hidden": false,
          "source_hidden": false
        },
        "nteract": {
          "transient": {
            "deleting": false
          }
        }
      }
    },
    {
      "cell_type": "code",
      "source": [
        "print(service.get_logs())"
      ],
      "outputs": [
        {
          "output_type": "stream",
          "name": "stdout",
          "text": [
            "2021-01-17T07:02:53,156659703+00:00 - gunicorn/run \n",
            "2021-01-17T07:02:53,159072472+00:00 - rsyslog/run \n",
            "2021-01-17T07:02:53,161537944+00:00 - nginx/run \n",
            "/usr/sbin/nginx: /azureml-envs/azureml_c48771bbe5fa224df5d541af81b23025/lib/libcrypto.so.1.0.0: no version information available (required by /usr/sbin/nginx)\n",
            "/usr/sbin/nginx: /azureml-envs/azureml_c48771bbe5fa224df5d541af81b23025/lib/libcrypto.so.1.0.0: no version information available (required by /usr/sbin/nginx)\n",
            "/usr/sbin/nginx: /azureml-envs/azureml_c48771bbe5fa224df5d541af81b23025/lib/libssl.so.1.0.0: no version information available (required by /usr/sbin/nginx)\n",
            "/usr/sbin/nginx: /azureml-envs/azureml_c48771bbe5fa224df5d541af81b23025/lib/libssl.so.1.0.0: no version information available (required by /usr/sbin/nginx)\n",
            "/usr/sbin/nginx: /azureml-envs/azureml_c48771bbe5fa224df5d541af81b23025/lib/libssl.so.1.0.0: no version information available (required by /usr/sbin/nginx)\n",
            "2021-01-17T07:02:53,176550596+00:00 - iot-server/run \n",
            "EdgeHubConnectionString and IOTEDGE_IOTHUBHOSTNAME are not set. Exiting...\n",
            "2021-01-17T07:02:53,361160934+00:00 - iot-server/finish 1 0\n",
            "2021-01-17T07:02:53,362631737+00:00 - Exit code 1 is normal. Not restarting iot-server.\n",
            "Starting gunicorn 19.9.0\n",
            "Listening at: http://127.0.0.1:31311 (11)\n",
            "Using worker: sync\n",
            "worker timeout is set to 300\n",
            "Booting worker with pid: 40\n",
            "SPARK_HOME not set. Skipping PySpark Initialization.\n",
            "Initializing logger\n",
            "2021-01-17 07:02:54,029 | root | INFO | Starting up app insights client\n",
            "Starting up app insights client\n",
            "2021-01-17 07:02:54,030 | root | INFO | Starting up request id generator\n",
            "Starting up request id generator\n",
            "2021-01-17 07:02:54,030 | root | INFO | Starting up app insight hooks\n",
            "Starting up app insight hooks\n",
            "2021-01-17 07:02:54,030 | root | INFO | Invoking user's init function\n",
            "Invoking user's init function\n",
            "Found model:\n",
            "False\n",
            "2021-01-17 07:02:54,030 | root | ERROR | User's init function failed\n",
            "User's init function failed\n",
            "2021-01-17 07:02:54,031 | root | ERROR | Encountered Exception Traceback (most recent call last):\n",
            "  File \"/var/azureml-server/aml_blueprint.py\", line 177, in register\n",
            "    main.init()\n",
            "  File \"/var/azureml-app/score.py\", line 11, in init\n",
            "    model = joblib.load(model_path)\n",
            "  File \"/azureml-envs/azureml_c48771bbe5fa224df5d541af81b23025/lib/python3.6/site-packages/joblib/numpy_pickle.py\", line 597, in load\n",
            "    with open(filename, 'rb') as f:\n",
            "FileNotFoundError: [Errno 2] No such file or directory: 'azureml-models/automl/1/model.pkl'\n",
            "\n",
            "Encountered Exception Traceback (most recent call last):\n",
            "  File \"/var/azureml-server/aml_blueprint.py\", line 177, in register\n",
            "    main.init()\n",
            "  File \"/var/azureml-app/score.py\", line 11, in init\n",
            "    model = joblib.load(model_path)\n",
            "  File \"/azureml-envs/azureml_c48771bbe5fa224df5d541af81b23025/lib/python3.6/site-packages/joblib/numpy_pickle.py\", line 597, in load\n",
            "    with open(filename, 'rb') as f:\n",
            "FileNotFoundError: [Errno 2] No such file or directory: 'azureml-models/automl/1/model.pkl'\n",
            "\n",
            "Worker exiting (pid: 40)\n",
            "Shutting down: Master\n",
            "Reason: Worker failed to boot.\n",
            "2021-01-17T07:02:54,249542289+00:00 - gunicorn/finish 3 0\n",
            "2021-01-17T07:02:54,250894784+00:00 - Exit code 3 is not normal. Killing image.\n",
            "\n"
          ]
        }
      ],
      "execution_count": 31,
      "metadata": {
        "jupyter": {
          "outputs_hidden": false,
          "source_hidden": false
        },
        "nteract": {
          "transient": {
            "deleting": false
          }
        },
        "gather": {
          "logged": 1610867002446
        }
      }
    },
    {
      "cell_type": "code",
      "source": [
        "print(response.status_code)\r\n",
        "print(response.elapsed)\r\n",
        "\r\n",
        "service.delete()"
      ],
      "outputs": [
        {
          "output_type": "stream",
          "name": "stdout",
          "text": [
            "200\n",
            "0:00:00.055716\n"
          ]
        }
      ],
      "execution_count": 34,
      "metadata": {
        "collapsed": true,
        "jupyter": {
          "source_hidden": false,
          "outputs_hidden": false
        },
        "nteract": {
          "transient": {
            "deleting": false
          }
        },
        "gather": {
          "logged": 1610629304939
        }
      }
    }
  ],
  "metadata": {
    "kernel_info": {
      "name": "python3-azureml"
    },
    "kernelspec": {
      "name": "python3-azureml",
      "language": "python",
      "display_name": "Python 3.6 - AzureML"
    },
    "language_info": {
      "name": "python",
      "version": "3.6.9",
      "mimetype": "text/x-python",
      "codemirror_mode": {
        "name": "ipython",
        "version": 3
      },
      "pygments_lexer": "ipython3",
      "nbconvert_exporter": "python",
      "file_extension": ".py"
    },
    "nteract": {
      "version": "nteract-front-end@1.0.0"
    }
  },
  "nbformat": 4,
  "nbformat_minor": 2
}