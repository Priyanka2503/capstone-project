{
  "cells": [
    {
      "cell_type": "markdown",
      "source": [
        "# Automated ML\n",
        "\n",
        "TODO: Import Dependencies. In the cell below, import all the dependencies that you will need to complete the project."
      ],
      "metadata": {}
    },
    {
      "cell_type": "code",
      "source": [
        "from azureml.core.experiment import Experiment\r\n",
        "from azureml.core.workspace import Workspace\r\n",
        "\r\n",
        "from azureml.core.compute import AmlCompute\r\n",
        "from azureml.core.compute import ComputeTarget\r\n",
        "from azureml.core.compute_target import ComputeTargetException\r\n",
        "\r\n",
        "import azureml.core\r\n",
        "from azureml.train.automl import AutoMLConfig\r\n",
        "from azureml.core.dataset import Dataset\r\n",
        "\r\n",
        "\r\n",
        "from sklearn.model_selection import train_test_split\r\n",
        "\r\n",
        "import pandas as pd\r\n",
        "from azureml.widgets import RunDetails\r\n",
        "\r\n",
        "import joblib \r\n",
        "import azureml.automl\r\n",
        "\r\n",
        "from azureml.core.model import Model\r\n",
        "\r\n",
        "from azureml.pipeline.core import PipelineData, TrainingOutput\r\n",
        "\r\n",
        "from azureml.pipeline.core import Pipeline\r\n",
        "\r\n",
        "import pickle\r\n",
        "\r\n",
        "from azureml.core.model import InferenceConfig\r\n",
        "from azureml.core.environment import Environment\r\n",
        "from azureml.core.conda_dependencies import CondaDependencies\r\n",
        "\r\n",
        "from azureml.core.webservice import Webservice, AciWebservice\r\n",
        "\r\n",
        "import logging\r\n",
        "import os\r\n",
        "\r\n",
        "import requests\r\n",
        "import json"
      ],
      "outputs": [],
      "execution_count": 1,
      "metadata": {
        "gather": {
          "logged": 1611399956316
        },
        "jupyter": {
          "outputs_hidden": false,
          "source_hidden": false
        },
        "nteract": {
          "transient": {
            "deleting": false
          }
        }
      }
    },
    {
      "cell_type": "markdown",
      "source": [
        "## Dataset\n",
        "\n",
        "### Overview\n",
        "TODO: In this markdown cell, give an overview of the dataset you are using. Also mention the task you will be performing.\n",
        "\n",
        "\n",
        "TODO: Get data. In the cell below, write code to access the data you will be using in this project. Remember that the dataset needs to be external."
      ],
      "metadata": {}
    },
    {
      "cell_type": "code",
      "source": [
        "ws = Workspace.from_config()\n",
        "\n",
        "# choose a name for experiment\n",
        "experiment_name = 'experiment-1'\n",
        "project_folder = './pipeline-project'\n",
        "\n",
        "experiment=Experiment(ws, experiment_name)\n",
        "experiment"
      ],
      "outputs": [
        {
          "output_type": "execute_result",
          "execution_count": 2,
          "data": {
            "text/plain": "Experiment(Name: experiment-1,\nWorkspace: quick-starts-ws-135766)",
            "text/html": "<table style=\"width:100%\"><tr><th>Name</th><th>Workspace</th><th>Report Page</th><th>Docs Page</th></tr><tr><td>experiment-1</td><td>quick-starts-ws-135766</td><td><a href=\"https://ml.azure.com/experiments/experiment-1?wsid=/subscriptions/1b944a9b-fdae-4f97-aeb1-b7eea0beac53/resourcegroups/aml-quickstarts-135766/workspaces/quick-starts-ws-135766\" target=\"_blank\" rel=\"noopener\">Link to Azure Machine Learning studio</a></td><td><a href=\"https://docs.microsoft.com/en-us/python/api/azureml-core/azureml.core.experiment.Experiment?view=azure-ml-py\" target=\"_blank\" rel=\"noopener\">Link to Documentation</a></td></tr></table>"
          },
          "metadata": {}
        }
      ],
      "execution_count": 2,
      "metadata": {
        "gather": {
          "logged": 1611399963236
        },
        "jupyter": {
          "outputs_hidden": false,
          "source_hidden": false
        },
        "nteract": {
          "transient": {
            "deleting": false
          }
        }
      }
    },
    {
      "cell_type": "code",
      "source": [
        "amlcompute_cluster_name = \"capstone\"\r\n",
        "\r\n",
        "# Verify that cluster does not exist already\r\n",
        "\r\n",
        "try:\r\n",
        "    compute_target = ComputeTarget(workspace=ws, name=amlcompute_cluster_name)\r\n",
        "    print('Found existing cluster, use it.')\r\n",
        "except ComputeTargetException:\r\n",
        "    compute_config = AmlCompute.provisioning_configuration(vm_size='STANDARD_D2_V2',\r\n",
        "                                                           max_nodes=4)\r\n",
        "    compute_target = ComputeTarget.create(ws, amlcompute_cluster_name, compute_config)\r\n",
        "\r\n",
        "compute_target.wait_for_completion(show_output=True)"
      ],
      "outputs": [
        {
          "output_type": "stream",
          "name": "stdout",
          "text": [
            "Found existing cluster, use it.\n",
            "\n",
            "Running\n"
          ]
        }
      ],
      "execution_count": 3,
      "metadata": {
        "collapsed": true,
        "jupyter": {
          "source_hidden": false,
          "outputs_hidden": false
        },
        "nteract": {
          "transient": {
            "deleting": false
          }
        },
        "gather": {
          "logged": 1611399970354
        }
      }
    },
    {
      "cell_type": "code",
      "source": [
        "# test to see if dataset is in store\r\n",
        "key = 'heartfailuredataset'\r\n",
        "if key in ws.datasets.keys(): \r\n",
        "    dataset = ws.datasets[key] \r\n",
        "    print('Found dataset')\r\n",
        "\r\n",
        "# if not, load the dataset, save it to the store\r\n",
        "else:\r\n",
        "    url = 'https://raw.githubusercontent.com/Priyanka2503/capstone-project/main/heart_failure_clinical_records_dataset.csv'\r\n",
        "    dataset = Dataset.Tabular.from_delimited_files(url)\r\n",
        "    dataset = dataset.register(workspace=ws, name=key)"
      ],
      "outputs": [
        {
          "output_type": "stream",
          "name": "stdout",
          "text": [
            "Found dataset\n"
          ]
        }
      ],
      "execution_count": 4,
      "metadata": {
        "collapsed": true,
        "jupyter": {
          "source_hidden": false,
          "outputs_hidden": false
        },
        "nteract": {
          "transient": {
            "deleting": false
          }
        },
        "gather": {
          "logged": 1611399970681
        }
      }
    },
    {
      "cell_type": "code",
      "source": [
        "# split into data and test sets\r\n",
        "ds = dataset.to_pandas_dataframe()\r\n",
        "# use train test split\r\n",
        "train, test = train_test_split(ds, random_state=625, shuffle=True)\r\n",
        "\r\n",
        "# then write the train data to a file and load to datastore\r\n",
        "train.to_csv('train.csv', index=False)\r\n",
        "datastore = ws.get_default_datastore()\r\n",
        "datastore.upload_files(files = ['./train.csv'])\r\n",
        "\r\n",
        "# then read to tabular dataset for automl\r\n",
        "train = Dataset.Tabular.from_delimited_files(path = [(datastore,'train.csv')])"
      ],
      "outputs": [
        {
          "output_type": "stream",
          "name": "stdout",
          "text": [
            "Uploading an estimated of 1 files\n",
            "Target already exists. Skipping upload for train.csv\n",
            "Uploaded 0 files\n"
          ]
        }
      ],
      "execution_count": 5,
      "metadata": {
        "collapsed": true,
        "jupyter": {
          "source_hidden": false,
          "outputs_hidden": false
        },
        "nteract": {
          "transient": {
            "deleting": false
          }
        },
        "gather": {
          "logged": 1611399979152
        }
      }
    },
    {
      "cell_type": "markdown",
      "source": [
        "## AutoML Configuration\n",
        "\n",
        "TODO: Explain why you chose the automl settings and cofiguration you used below."
      ],
      "metadata": {}
    },
    {
      "cell_type": "code",
      "source": [
        "automl_settings = {\n",
        "    \"experiment_timeout_minutes\":30,\n",
        "    \"enable_early_stopping\":True,    \n",
        "    \"primary_metric\":'accuracy',\n",
        "    \"n_cross_validations\":5,    \n",
        "}\n",
        "\n",
        "automl_config = AutoMLConfig(\n",
        "    compute_target=compute_target, \n",
        "    task='classification', \n",
        "    training_data=train,\n",
        "    label_column_name='DEATH_EVENT',\n",
        "    **automl_settings)"
      ],
      "outputs": [],
      "execution_count": 6,
      "metadata": {
        "gather": {
          "logged": 1611399981036
        },
        "jupyter": {
          "outputs_hidden": false,
          "source_hidden": false
        },
        "nteract": {
          "transient": {
            "deleting": false
          }
        }
      }
    },
    {
      "cell_type": "markdown",
      "source": [
        "## Run Details\n",
        "\n",
        "OPTIONAL: Write about the different models trained and their performance. Why do you think some models did better than others?\n",
        "\n",
        "TODO: In the cell below, use the `RunDetails` widget to show the different experiments."
      ],
      "metadata": {}
    },
    {
      "cell_type": "code",
      "source": [
        "# TODO: Submit your experiment\r\n",
        "run = experiment.submit(automl_config)\r\n",
        "RunDetails(run).show()"
      ],
      "outputs": [
        {
          "output_type": "stream",
          "name": "stdout",
          "text": [
            "Running on remote.\n"
          ]
        },
        {
          "output_type": "display_data",
          "data": {
            "text/plain": "_AutoMLWidget(widget_settings={'childWidgetDisplay': 'popup', 'send_telemetry': False, 'log_level': 'INFO', 's…",
            "application/vnd.jupyter.widget-view+json": {
              "version_major": 2,
              "version_minor": 0,
              "model_id": "c948cbcb9f0e41bfbc5664f182359ce5"
            }
          },
          "metadata": {}
        },
        {
          "output_type": "display_data",
          "data": {
            "application/aml.mini.widget.v1": "{\"status\": \"Completed\", \"workbench_run_details_uri\": \"https://ml.azure.com/experiments/experiment-1/runs/AutoML_b3923bf1-8a73-4fe2-a388-ca7b8c4c8b62?wsid=/subscriptions/1b944a9b-fdae-4f97-aeb1-b7eea0beac53/resourcegroups/aml-quickstarts-135766/workspaces/quick-starts-ws-135766\", \"run_id\": \"AutoML_b3923bf1-8a73-4fe2-a388-ca7b8c4c8b62\", \"run_properties\": {\"run_id\": \"AutoML_b3923bf1-8a73-4fe2-a388-ca7b8c4c8b62\", \"created_utc\": \"2021-01-23T11:06:28.031517Z\", \"properties\": {\"num_iterations\": \"1000\", \"training_type\": \"TrainFull\", \"acquisition_function\": \"EI\", \"primary_metric\": \"accuracy\", \"train_split\": \"0\", \"acquisition_parameter\": \"0\", \"num_cross_validation\": \"5\", \"target\": \"capstone\", \"AMLSettingsJsonString\": \"{\\\"path\\\":null,\\\"name\\\":\\\"experiment-1\\\",\\\"subscription_id\\\":\\\"1b944a9b-fdae-4f97-aeb1-b7eea0beac53\\\",\\\"resource_group\\\":\\\"aml-quickstarts-135766\\\",\\\"workspace_name\\\":\\\"quick-starts-ws-135766\\\",\\\"region\\\":\\\"southcentralus\\\",\\\"compute_target\\\":\\\"capstone\\\",\\\"spark_service\\\":null,\\\"azure_service\\\":\\\"remote\\\",\\\"many_models\\\":false,\\\"pipeline_fetch_max_batch_size\\\":1,\\\"iterations\\\":1000,\\\"primary_metric\\\":\\\"accuracy\\\",\\\"task_type\\\":\\\"classification\\\",\\\"data_script\\\":null,\\\"validation_size\\\":0.0,\\\"n_cross_validations\\\":5,\\\"y_min\\\":null,\\\"y_max\\\":null,\\\"num_classes\\\":null,\\\"featurization\\\":\\\"auto\\\",\\\"_ignore_package_version_incompatibilities\\\":false,\\\"is_timeseries\\\":false,\\\"max_cores_per_iteration\\\":1,\\\"max_concurrent_iterations\\\":1,\\\"iteration_timeout_minutes\\\":null,\\\"mem_in_mb\\\":null,\\\"enforce_time_on_windows\\\":false,\\\"experiment_timeout_minutes\\\":30,\\\"experiment_exit_score\\\":null,\\\"whitelist_models\\\":null,\\\"blacklist_algos\\\":[\\\"TensorFlowLinearClassifier\\\",\\\"TensorFlowDNN\\\"],\\\"supported_models\\\":[\\\"DecisionTree\\\",\\\"MultinomialNaiveBayes\\\",\\\"TensorFlowDNN\\\",\\\"BernoulliNaiveBayes\\\",\\\"LightGBM\\\",\\\"SGD\\\",\\\"KNN\\\",\\\"ExtremeRandomTrees\\\",\\\"SVM\\\",\\\"XGBoostClassifier\\\",\\\"TensorFlowLinearClassifier\\\",\\\"LinearSVM\\\",\\\"AveragedPerceptronClassifier\\\",\\\"RandomForest\\\",\\\"GradientBoosting\\\",\\\"LogisticRegression\\\"],\\\"auto_blacklist\\\":true,\\\"blacklist_samples_reached\\\":false,\\\"exclude_nan_labels\\\":true,\\\"verbosity\\\":20,\\\"_debug_log\\\":\\\"azureml_automl.log\\\",\\\"show_warnings\\\":false,\\\"model_explainability\\\":true,\\\"service_url\\\":null,\\\"sdk_url\\\":null,\\\"sdk_packages\\\":null,\\\"enable_onnx_compatible_models\\\":false,\\\"enable_split_onnx_featurizer_estimator_models\\\":false,\\\"vm_type\\\":\\\"STANDARD_DS3_V2\\\",\\\"telemetry_verbosity\\\":20,\\\"send_telemetry\\\":true,\\\"enable_dnn\\\":false,\\\"scenario\\\":\\\"SDK-1.13.0\\\",\\\"environment_label\\\":null,\\\"force_text_dnn\\\":false,\\\"enable_feature_sweeping\\\":true,\\\"enable_early_stopping\\\":true,\\\"early_stopping_n_iters\\\":10,\\\"metrics\\\":null,\\\"enable_ensembling\\\":true,\\\"enable_stack_ensembling\\\":true,\\\"ensemble_iterations\\\":15,\\\"enable_tf\\\":false,\\\"enable_subsampling\\\":null,\\\"subsample_seed\\\":null,\\\"enable_nimbusml\\\":false,\\\"enable_streaming\\\":false,\\\"force_streaming\\\":false,\\\"track_child_runs\\\":true,\\\"allowed_private_models\\\":[],\\\"label_column_name\\\":\\\"DEATH_EVENT\\\",\\\"weight_column_name\\\":null,\\\"cv_split_column_names\\\":null,\\\"enable_local_managed\\\":false,\\\"_local_managed_run_id\\\":null,\\\"cost_mode\\\":1,\\\"lag_length\\\":0,\\\"metric_operation\\\":\\\"maximize\\\",\\\"preprocess\\\":true}\", \"DataPrepJsonString\": \"{\\\\\\\"training_data\\\\\\\": \\\\\\\"{\\\\\\\\\\\\\\\"blocks\\\\\\\\\\\\\\\": [{\\\\\\\\\\\\\\\"id\\\\\\\\\\\\\\\": \\\\\\\\\\\\\\\"cf3cd64f-7f5b-4787-bd18-fd9ed4516d72\\\\\\\\\\\\\\\", \\\\\\\\\\\\\\\"type\\\\\\\\\\\\\\\": \\\\\\\\\\\\\\\"Microsoft.DPrep.GetDatastoreFilesBlock\\\\\\\\\\\\\\\", \\\\\\\\\\\\\\\"arguments\\\\\\\\\\\\\\\": {\\\\\\\\\\\\\\\"datastores\\\\\\\\\\\\\\\": [{\\\\\\\\\\\\\\\"datastoreName\\\\\\\\\\\\\\\": \\\\\\\\\\\\\\\"workspaceblobstore\\\\\\\\\\\\\\\", \\\\\\\\\\\\\\\"path\\\\\\\\\\\\\\\": \\\\\\\\\\\\\\\"train.csv\\\\\\\\\\\\\\\", \\\\\\\\\\\\\\\"resourceGroup\\\\\\\\\\\\\\\": \\\\\\\\\\\\\\\"aml-quickstarts-135766\\\\\\\\\\\\\\\", \\\\\\\\\\\\\\\"subscription\\\\\\\\\\\\\\\": \\\\\\\\\\\\\\\"1b944a9b-fdae-4f97-aeb1-b7eea0beac53\\\\\\\\\\\\\\\", \\\\\\\\\\\\\\\"workspaceName\\\\\\\\\\\\\\\": \\\\\\\\\\\\\\\"quick-starts-ws-135766\\\\\\\\\\\\\\\"}]}, \\\\\\\\\\\\\\\"localData\\\\\\\\\\\\\\\": {}, \\\\\\\\\\\\\\\"isEnabled\\\\\\\\\\\\\\\": true, \\\\\\\\\\\\\\\"name\\\\\\\\\\\\\\\": null, \\\\\\\\\\\\\\\"annotation\\\\\\\\\\\\\\\": null}, {\\\\\\\\\\\\\\\"id\\\\\\\\\\\\\\\": \\\\\\\\\\\\\\\"220037dd-6e54-4f30-a0ec-ed12bf6d4e27\\\\\\\\\\\\\\\", \\\\\\\\\\\\\\\"type\\\\\\\\\\\\\\\": \\\\\\\\\\\\\\\"Microsoft.DPrep.ParseDelimitedBlock\\\\\\\\\\\\\\\", \\\\\\\\\\\\\\\"arguments\\\\\\\\\\\\\\\": {\\\\\\\\\\\\\\\"columnHeadersMode\\\\\\\\\\\\\\\": 3, \\\\\\\\\\\\\\\"fileEncoding\\\\\\\\\\\\\\\": 0, \\\\\\\\\\\\\\\"handleQuotedLineBreaks\\\\\\\\\\\\\\\": false, \\\\\\\\\\\\\\\"preview\\\\\\\\\\\\\\\": false, \\\\\\\\\\\\\\\"separator\\\\\\\\\\\\\\\": \\\\\\\\\\\\\\\",\\\\\\\\\\\\\\\", \\\\\\\\\\\\\\\"skipRows\\\\\\\\\\\\\\\": 0, \\\\\\\\\\\\\\\"skipRowsMode\\\\\\\\\\\\\\\": 0}, \\\\\\\\\\\\\\\"localData\\\\\\\\\\\\\\\": {}, \\\\\\\\\\\\\\\"isEnabled\\\\\\\\\\\\\\\": true, \\\\\\\\\\\\\\\"name\\\\\\\\\\\\\\\": null, \\\\\\\\\\\\\\\"annotation\\\\\\\\\\\\\\\": null}, {\\\\\\\\\\\\\\\"id\\\\\\\\\\\\\\\": \\\\\\\\\\\\\\\"9981ba25-63ec-4062-b2ea-ed7acf695b02\\\\\\\\\\\\\\\", \\\\\\\\\\\\\\\"type\\\\\\\\\\\\\\\": \\\\\\\\\\\\\\\"Microsoft.DPrep.DropColumnsBlock\\\\\\\\\\\\\\\", \\\\\\\\\\\\\\\"arguments\\\\\\\\\\\\\\\": {\\\\\\\\\\\\\\\"columns\\\\\\\\\\\\\\\": {\\\\\\\\\\\\\\\"type\\\\\\\\\\\\\\\": 0, \\\\\\\\\\\\\\\"details\\\\\\\\\\\\\\\": {\\\\\\\\\\\\\\\"selectedColumns\\\\\\\\\\\\\\\": [\\\\\\\\\\\\\\\"Path\\\\\\\\\\\\\\\"]}}}, \\\\\\\\\\\\\\\"localData\\\\\\\\\\\\\\\": {}, \\\\\\\\\\\\\\\"isEnabled\\\\\\\\\\\\\\\": true, \\\\\\\\\\\\\\\"name\\\\\\\\\\\\\\\": null, \\\\\\\\\\\\\\\"annotation\\\\\\\\\\\\\\\": null}, {\\\\\\\\\\\\\\\"id\\\\\\\\\\\\\\\": \\\\\\\\\\\\\\\"e64a13a9-3e3d-432e-99f5-5d8cc2242c7c\\\\\\\\\\\\\\\", \\\\\\\\\\\\\\\"type\\\\\\\\\\\\\\\": \\\\\\\\\\\\\\\"Microsoft.DPrep.SetColumnTypesBlock\\\\\\\\\\\\\\\", \\\\\\\\\\\\\\\"arguments\\\\\\\\\\\\\\\": {\\\\\\\\\\\\\\\"columnConversion\\\\\\\\\\\\\\\": [{\\\\\\\\\\\\\\\"column\\\\\\\\\\\\\\\": {\\\\\\\\\\\\\\\"type\\\\\\\\\\\\\\\": 2, \\\\\\\\\\\\\\\"details\\\\\\\\\\\\\\\": {\\\\\\\\\\\\\\\"selectedColumn\\\\\\\\\\\\\\\": \\\\\\\\\\\\\\\"age\\\\\\\\\\\\\\\"}}, \\\\\\\\\\\\\\\"typeProperty\\\\\\\\\\\\\\\": 3}, {\\\\\\\\\\\\\\\"column\\\\\\\\\\\\\\\": {\\\\\\\\\\\\\\\"type\\\\\\\\\\\\\\\": 2, \\\\\\\\\\\\\\\"details\\\\\\\\\\\\\\\": {\\\\\\\\\\\\\\\"selectedColumn\\\\\\\\\\\\\\\": \\\\\\\\\\\\\\\"anaemia\\\\\\\\\\\\\\\"}}, \\\\\\\\\\\\\\\"typeProperty\\\\\\\\\\\\\\\": 2}, {\\\\\\\\\\\\\\\"column\\\\\\\\\\\\\\\": {\\\\\\\\\\\\\\\"type\\\\\\\\\\\\\\\": 2, \\\\\\\\\\\\\\\"details\\\\\\\\\\\\\\\": {\\\\\\\\\\\\\\\"selectedColumn\\\\\\\\\\\\\\\": \\\\\\\\\\\\\\\"creatinine_phosphokinase\\\\\\\\\\\\\\\"}}, \\\\\\\\\\\\\\\"typeProperty\\\\\\\\\\\\\\\": 2}, {\\\\\\\\\\\\\\\"column\\\\\\\\\\\\\\\": {\\\\\\\\\\\\\\\"type\\\\\\\\\\\\\\\": 2, \\\\\\\\\\\\\\\"details\\\\\\\\\\\\\\\": {\\\\\\\\\\\\\\\"selectedColumn\\\\\\\\\\\\\\\": \\\\\\\\\\\\\\\"diabetes\\\\\\\\\\\\\\\"}}, \\\\\\\\\\\\\\\"typeProperty\\\\\\\\\\\\\\\": 2}, {\\\\\\\\\\\\\\\"column\\\\\\\\\\\\\\\": {\\\\\\\\\\\\\\\"type\\\\\\\\\\\\\\\": 2, \\\\\\\\\\\\\\\"details\\\\\\\\\\\\\\\": {\\\\\\\\\\\\\\\"selectedColumn\\\\\\\\\\\\\\\": \\\\\\\\\\\\\\\"ejection_fraction\\\\\\\\\\\\\\\"}}, \\\\\\\\\\\\\\\"typeProperty\\\\\\\\\\\\\\\": 2}, {\\\\\\\\\\\\\\\"column\\\\\\\\\\\\\\\": {\\\\\\\\\\\\\\\"type\\\\\\\\\\\\\\\": 2, \\\\\\\\\\\\\\\"details\\\\\\\\\\\\\\\": {\\\\\\\\\\\\\\\"selectedColumn\\\\\\\\\\\\\\\": \\\\\\\\\\\\\\\"high_blood_pressure\\\\\\\\\\\\\\\"}}, \\\\\\\\\\\\\\\"typeProperty\\\\\\\\\\\\\\\": 2}, {\\\\\\\\\\\\\\\"column\\\\\\\\\\\\\\\": {\\\\\\\\\\\\\\\"type\\\\\\\\\\\\\\\": 2, \\\\\\\\\\\\\\\"details\\\\\\\\\\\\\\\": {\\\\\\\\\\\\\\\"selectedColumn\\\\\\\\\\\\\\\": \\\\\\\\\\\\\\\"platelets\\\\\\\\\\\\\\\"}}, \\\\\\\\\\\\\\\"typeProperty\\\\\\\\\\\\\\\": 3}, {\\\\\\\\\\\\\\\"column\\\\\\\\\\\\\\\": {\\\\\\\\\\\\\\\"type\\\\\\\\\\\\\\\": 2, \\\\\\\\\\\\\\\"details\\\\\\\\\\\\\\\": {\\\\\\\\\\\\\\\"selectedColumn\\\\\\\\\\\\\\\": \\\\\\\\\\\\\\\"serum_creatinine\\\\\\\\\\\\\\\"}}, \\\\\\\\\\\\\\\"typeProperty\\\\\\\\\\\\\\\": 3}, {\\\\\\\\\\\\\\\"column\\\\\\\\\\\\\\\": {\\\\\\\\\\\\\\\"type\\\\\\\\\\\\\\\": 2, \\\\\\\\\\\\\\\"details\\\\\\\\\\\\\\\": {\\\\\\\\\\\\\\\"selectedColumn\\\\\\\\\\\\\\\": \\\\\\\\\\\\\\\"serum_sodium\\\\\\\\\\\\\\\"}}, \\\\\\\\\\\\\\\"typeProperty\\\\\\\\\\\\\\\": 2}, {\\\\\\\\\\\\\\\"column\\\\\\\\\\\\\\\": {\\\\\\\\\\\\\\\"type\\\\\\\\\\\\\\\": 2, \\\\\\\\\\\\\\\"details\\\\\\\\\\\\\\\": {\\\\\\\\\\\\\\\"selectedColumn\\\\\\\\\\\\\\\": \\\\\\\\\\\\\\\"sex\\\\\\\\\\\\\\\"}}, \\\\\\\\\\\\\\\"typeProperty\\\\\\\\\\\\\\\": 2}, {\\\\\\\\\\\\\\\"column\\\\\\\\\\\\\\\": {\\\\\\\\\\\\\\\"type\\\\\\\\\\\\\\\": 2, \\\\\\\\\\\\\\\"details\\\\\\\\\\\\\\\": {\\\\\\\\\\\\\\\"selectedColumn\\\\\\\\\\\\\\\": \\\\\\\\\\\\\\\"smoking\\\\\\\\\\\\\\\"}}, \\\\\\\\\\\\\\\"typeProperty\\\\\\\\\\\\\\\": 2}, {\\\\\\\\\\\\\\\"column\\\\\\\\\\\\\\\": {\\\\\\\\\\\\\\\"type\\\\\\\\\\\\\\\": 2, \\\\\\\\\\\\\\\"details\\\\\\\\\\\\\\\": {\\\\\\\\\\\\\\\"selectedColumn\\\\\\\\\\\\\\\": \\\\\\\\\\\\\\\"time\\\\\\\\\\\\\\\"}}, \\\\\\\\\\\\\\\"typeProperty\\\\\\\\\\\\\\\": 2}, {\\\\\\\\\\\\\\\"column\\\\\\\\\\\\\\\": {\\\\\\\\\\\\\\\"type\\\\\\\\\\\\\\\": 2, \\\\\\\\\\\\\\\"details\\\\\\\\\\\\\\\": {\\\\\\\\\\\\\\\"selectedColumn\\\\\\\\\\\\\\\": \\\\\\\\\\\\\\\"DEATH_EVENT\\\\\\\\\\\\\\\"}}, \\\\\\\\\\\\\\\"typeProperty\\\\\\\\\\\\\\\": 2}]}, \\\\\\\\\\\\\\\"localData\\\\\\\\\\\\\\\": {}, \\\\\\\\\\\\\\\"isEnabled\\\\\\\\\\\\\\\": true, \\\\\\\\\\\\\\\"name\\\\\\\\\\\\\\\": null, \\\\\\\\\\\\\\\"annotation\\\\\\\\\\\\\\\": null}], \\\\\\\\\\\\\\\"inspectors\\\\\\\\\\\\\\\": [], \\\\\\\\\\\\\\\"meta\\\\\\\\\\\\\\\": {\\\\\\\\\\\\\\\"savedDatasetId\\\\\\\\\\\\\\\": \\\\\\\\\\\\\\\"6cb39102-24d6-4214-899f-52d588f1866b\\\\\\\\\\\\\\\", \\\\\\\\\\\\\\\"datasetType\\\\\\\\\\\\\\\": \\\\\\\\\\\\\\\"tabular\\\\\\\\\\\\\\\", \\\\\\\\\\\\\\\"subscriptionId\\\\\\\\\\\\\\\": \\\\\\\\\\\\\\\"1b944a9b-fdae-4f97-aeb1-b7eea0beac53\\\\\\\\\\\\\\\", \\\\\\\\\\\\\\\"workspaceId\\\\\\\\\\\\\\\": \\\\\\\\\\\\\\\"13569223-e60c-47b3-a579-cd1b964312c9\\\\\\\\\\\\\\\", \\\\\\\\\\\\\\\"workspaceLocation\\\\\\\\\\\\\\\": \\\\\\\\\\\\\\\"southcentralus\\\\\\\\\\\\\\\"}}\\\\\\\", \\\\\\\"activities\\\\\\\": 0}\", \"EnableSubsampling\": null, \"runTemplate\": \"AutoML\", \"azureml.runsource\": \"automl\", \"display_task_type\": \"classification\", \"dependencies_versions\": \"{\\\"azureml-widgets\\\": \\\"1.19.0\\\", \\\"azureml-train\\\": \\\"1.19.0\\\", \\\"azureml-train-restclients-hyperdrive\\\": \\\"1.19.0\\\", \\\"azureml-train-core\\\": \\\"1.19.0\\\", \\\"azureml-train-automl\\\": \\\"1.19.0\\\", \\\"azureml-train-automl-runtime\\\": \\\"1.19.0\\\", \\\"azureml-train-automl-client\\\": \\\"1.19.0\\\", \\\"azureml-tensorboard\\\": \\\"1.19.0\\\", \\\"azureml-telemetry\\\": \\\"1.19.0\\\", \\\"azureml-sdk\\\": \\\"1.19.0\\\", \\\"azureml-samples\\\": \\\"0+unknown\\\", \\\"azureml-pipeline\\\": \\\"1.19.0\\\", \\\"azureml-pipeline-steps\\\": \\\"1.19.0\\\", \\\"azureml-pipeline-core\\\": \\\"1.19.0\\\", \\\"azureml-opendatasets\\\": \\\"1.19.0\\\", \\\"azureml-model-management-sdk\\\": \\\"1.0.1b6.post1\\\", \\\"azureml-mlflow\\\": \\\"1.19.0\\\", \\\"azureml-interpret\\\": \\\"1.19.0\\\", \\\"azureml-explain-model\\\": \\\"1.19.0\\\", \\\"azureml-defaults\\\": \\\"1.19.0\\\", \\\"azureml-dataset-runtime\\\": \\\"1.19.0.post1\\\", \\\"azureml-dataprep\\\": \\\"2.6.1\\\", \\\"azureml-dataprep-rslex\\\": \\\"1.4.0\\\", \\\"azureml-dataprep-native\\\": \\\"26.0.0\\\", \\\"azureml-datadrift\\\": \\\"1.19.0\\\", \\\"azureml-core\\\": \\\"1.19.0\\\", \\\"azureml-contrib-services\\\": \\\"1.19.0\\\", \\\"azureml-contrib-server\\\": \\\"1.19.0\\\", \\\"azureml-contrib-reinforcementlearning\\\": \\\"1.19.0\\\", \\\"azureml-contrib-pipeline-steps\\\": \\\"1.19.0\\\", \\\"azureml-contrib-notebook\\\": \\\"1.19.0\\\", \\\"azureml-contrib-interpret\\\": \\\"1.19.0\\\", \\\"azureml-contrib-gbdt\\\": \\\"1.19.0\\\", \\\"azureml-contrib-fairness\\\": \\\"1.19.0\\\", \\\"azureml-contrib-dataset\\\": \\\"1.19.0\\\", \\\"azureml-cli-common\\\": \\\"1.19.0\\\", \\\"azureml-automl-runtime\\\": \\\"1.19.0\\\", \\\"azureml-automl-core\\\": \\\"1.19.0\\\", \\\"azureml-accel-models\\\": \\\"1.19.0\\\"}\", \"_aml_system_scenario_identification\": \"Remote.Parent\", \"ClientType\": \"SDK\", \"environment_cpu_name\": \"AzureML-AutoML\", \"environment_cpu_label\": \"prod\", \"environment_gpu_name\": \"AzureML-AutoML-GPU\", \"environment_gpu_label\": \"prod\", \"root_attribution\": \"automl\", \"attribution\": \"AutoML\", \"Orchestrator\": \"AutoML\", \"CancelUri\": \"https://southcentralus.experiments.azureml.net/jasmine/v1.0/subscriptions/1b944a9b-fdae-4f97-aeb1-b7eea0beac53/resourceGroups/aml-quickstarts-135766/providers/Microsoft.MachineLearningServices/workspaces/quick-starts-ws-135766/experimentids/34ffc6e0-3cfd-4308-8ab5-d0ba70b8aef0/cancel/AutoML_b3923bf1-8a73-4fe2-a388-ca7b8c4c8b62\", \"ClientSdkVersion\": \"1.20.0\", \"snapshotId\": \"00000000-0000-0000-0000-000000000000\", \"SetupRunId\": \"AutoML_b3923bf1-8a73-4fe2-a388-ca7b8c4c8b62_setup\", \"SetupRunContainerId\": \"dcid.AutoML_b3923bf1-8a73-4fe2-a388-ca7b8c4c8b62_setup\", \"FeaturizationRunJsonPath\": \"featurizer_container.json\", \"FeaturizationRunId\": \"AutoML_b3923bf1-8a73-4fe2-a388-ca7b8c4c8b62_featurize\", \"ProblemInfoJsonString\": \"{\\\"dataset_num_categorical\\\": 0, \\\"is_sparse\\\": false, \\\"subsampling\\\": false, \\\"dataset_classes\\\": 2, \\\"dataset_features\\\": 12, \\\"dataset_samples\\\": 224, \\\"single_frequency_class_detected\\\": false}\", \"ModelExplainRunId\": \"AutoML_b3923bf1-8a73-4fe2-a388-ca7b8c4c8b62_ModelExplain\"}, \"tags\": {\"model_explain_run\": \"best_run\", \"_aml_system_azureml.automlComponent\": \"AutoML\", \"pipeline_id\": \"\", \"score\": \"\", \"predicted_cost\": \"\", \"fit_time\": \"\", \"training_percent\": \"\", \"iteration\": \"\", \"run_preprocessor\": \"\", \"run_algorithm\": \"\", \"dynamic_whitelisting_iterations\": \"<25>;\", \"automl_best_child_run_id\": \"AutoML_b3923bf1-8a73-4fe2-a388-ca7b8c4c8b62_29\", \"model_explain_best_run_child_id\": \"AutoML_b3923bf1-8a73-4fe2-a388-ca7b8c4c8b62_29\"}, \"end_time_utc\": \"2021-01-23T11:44:18.896034Z\", \"status\": \"Completed\", \"log_files\": {}, \"log_groups\": [], \"run_duration\": \"0:37:50\"}, \"child_runs\": [{\"run_id\": \"AutoML_b3923bf1-8a73-4fe2-a388-ca7b8c4c8b62_0\", \"run_number\": 74, \"metric\": null, \"status\": \"Completed\", \"run_type\": \"azureml.scriptrun\", \"training_percent\": \"100\", \"start_time\": \"2021-01-23T11:09:57.462332Z\", \"end_time\": \"2021-01-23T11:10:42.074866Z\", \"created_time\": \"2021-01-23T11:09:37.495379Z\", \"created_time_dt\": \"2021-01-23T11:09:37.495379Z\", \"duration\": \"0:01:04\", \"iteration\": \"0\", \"goal\": \"accuracy_max\", \"run_name\": \"MaxAbsScaler, LightGBM\", \"run_properties\": \"copy=True\", \"primary_metric\": 0.83474747, \"best_metric\": 0.83474747}, {\"run_id\": \"AutoML_b3923bf1-8a73-4fe2-a388-ca7b8c4c8b62_1\", \"run_number\": 75, \"metric\": null, \"status\": \"Completed\", \"run_type\": \"azureml.scriptrun\", \"training_percent\": \"100\", \"start_time\": \"2021-01-23T11:11:00.296311Z\", \"end_time\": \"2021-01-23T11:11:46.148546Z\", \"created_time\": \"2021-01-23T11:10:45.478844Z\", \"created_time_dt\": \"2021-01-23T11:10:45.478844Z\", \"duration\": \"0:01:00\", \"iteration\": \"1\", \"goal\": \"accuracy_max\", \"run_name\": \"MaxAbsScaler, XGBoostClassifier\", \"run_properties\": \"copy=True\", \"primary_metric\": 0.83010101, \"best_metric\": 0.83474747}, {\"run_id\": \"AutoML_b3923bf1-8a73-4fe2-a388-ca7b8c4c8b62_2\", \"run_number\": 76, \"metric\": null, \"status\": \"Completed\", \"run_type\": \"azureml.scriptrun\", \"training_percent\": \"100\", \"start_time\": \"2021-01-23T11:12:03.876334Z\", \"end_time\": \"2021-01-23T11:12:54.508183Z\", \"created_time\": \"2021-01-23T11:11:50.320329Z\", \"created_time_dt\": \"2021-01-23T11:11:50.320329Z\", \"duration\": \"0:01:04\", \"iteration\": \"2\", \"goal\": \"accuracy_max\", \"run_name\": \"MinMaxScaler, RandomForest\", \"run_properties\": \"copy=True, feature_range=(0, 1\", \"primary_metric\": 0.82575758, \"best_metric\": 0.83474747}, {\"run_id\": \"AutoML_b3923bf1-8a73-4fe2-a388-ca7b8c4c8b62_3\", \"run_number\": 77, \"metric\": null, \"status\": \"Completed\", \"run_type\": \"azureml.scriptrun\", \"training_percent\": \"100\", \"start_time\": \"2021-01-23T11:13:09.015298Z\", \"end_time\": \"2021-01-23T11:14:00.885467Z\", \"created_time\": \"2021-01-23T11:12:56.793773Z\", \"created_time_dt\": \"2021-01-23T11:12:56.793773Z\", \"duration\": \"0:01:04\", \"iteration\": \"3\", \"goal\": \"accuracy_max\", \"run_name\": \"MinMaxScaler, RandomForest\", \"run_properties\": \"copy=True, feature_range=(0, 1\", \"primary_metric\": 0.84373737, \"best_metric\": 0.84373737}, {\"run_id\": \"AutoML_b3923bf1-8a73-4fe2-a388-ca7b8c4c8b62_4\", \"run_number\": 78, \"metric\": null, \"status\": \"Completed\", \"run_type\": \"azureml.scriptrun\", \"training_percent\": \"100\", \"start_time\": \"2021-01-23T11:14:17.213138Z\", \"end_time\": \"2021-01-23T11:15:05.484032Z\", \"created_time\": \"2021-01-23T11:14:03.564022Z\", \"created_time_dt\": \"2021-01-23T11:14:03.564022Z\", \"duration\": \"0:01:01\", \"iteration\": \"4\", \"goal\": \"accuracy_max\", \"run_name\": \"MinMaxScaler, RandomForest\", \"run_properties\": \"copy=True, feature_range=(0, 1\", \"primary_metric\": 0.86141414, \"best_metric\": 0.86141414}, {\"run_id\": \"AutoML_b3923bf1-8a73-4fe2-a388-ca7b8c4c8b62_5\", \"run_number\": 79, \"metric\": null, \"status\": \"Completed\", \"run_type\": \"azureml.scriptrun\", \"training_percent\": \"100\", \"start_time\": \"2021-01-23T11:15:20.192884Z\", \"end_time\": \"2021-01-23T11:16:12.476534Z\", \"created_time\": \"2021-01-23T11:15:07.869112Z\", \"created_time_dt\": \"2021-01-23T11:15:07.869112Z\", \"duration\": \"0:01:04\", \"iteration\": \"5\", \"goal\": \"accuracy_max\", \"run_name\": \"MinMaxScaler, SVM\", \"run_properties\": \"copy=True, feature_range=(0, 1\", \"primary_metric\": 0.74121212, \"best_metric\": 0.86141414}, {\"run_id\": \"AutoML_b3923bf1-8a73-4fe2-a388-ca7b8c4c8b62_6\", \"run_number\": 80, \"metric\": null, \"status\": \"Completed\", \"run_type\": \"azureml.scriptrun\", \"training_percent\": \"100\", \"start_time\": \"2021-01-23T11:16:28.746774Z\", \"end_time\": \"2021-01-23T11:17:16.960632Z\", \"created_time\": \"2021-01-23T11:16:15.445129Z\", \"created_time_dt\": \"2021-01-23T11:16:15.445129Z\", \"duration\": \"0:01:01\", \"iteration\": \"6\", \"goal\": \"accuracy_max\", \"run_name\": \"MaxAbsScaler, GradientBoosting\", \"run_properties\": \"copy=True\", \"primary_metric\": 0.8479798, \"best_metric\": 0.86141414}, {\"run_id\": \"AutoML_b3923bf1-8a73-4fe2-a388-ca7b8c4c8b62_7\", \"run_number\": 81, \"metric\": null, \"status\": \"Completed\", \"run_type\": \"azureml.scriptrun\", \"training_percent\": \"100\", \"start_time\": \"2021-01-23T11:17:30.273465Z\", \"end_time\": \"2021-01-23T11:18:15.000488Z\", \"created_time\": \"2021-01-23T11:17:19.143555Z\", \"created_time_dt\": \"2021-01-23T11:17:19.143555Z\", \"duration\": \"0:00:55\", \"iteration\": \"7\", \"goal\": \"accuracy_max\", \"run_name\": \"StandardScalerWrapper, RandomForest\", \"run_properties\": \"<azureml.automl.runtime.shared.model_wrappers.StandardScalerWrapper object at 0x7f0f25422b70\", \"primary_metric\": 0.83474747, \"best_metric\": 0.86141414}, {\"run_id\": \"AutoML_b3923bf1-8a73-4fe2-a388-ca7b8c4c8b62_8\", \"run_number\": 82, \"metric\": null, \"status\": \"Completed\", \"run_type\": \"azureml.scriptrun\", \"training_percent\": \"100\", \"start_time\": \"2021-01-23T11:18:28.265413Z\", \"end_time\": \"2021-01-23T11:19:12.914564Z\", \"created_time\": \"2021-01-23T11:18:17.182752Z\", \"created_time_dt\": \"2021-01-23T11:18:17.182752Z\", \"duration\": \"0:00:55\", \"iteration\": \"8\", \"goal\": \"accuracy_max\", \"run_name\": \"SparseNormalizer, XGBoostClassifier\", \"run_properties\": \"<azureml.automl.runtime.shared.model_wrappers.SparseNormalizer object at 0x7f3ff2f69630\", \"primary_metric\": 0.85282828, \"best_metric\": 0.86141414}, {\"run_id\": \"AutoML_b3923bf1-8a73-4fe2-a388-ca7b8c4c8b62_9\", \"run_number\": 83, \"metric\": null, \"status\": \"Completed\", \"run_type\": \"azureml.scriptrun\", \"training_percent\": \"100\", \"start_time\": \"2021-01-23T11:19:26.245304Z\", \"end_time\": \"2021-01-23T11:20:16.64297Z\", \"created_time\": \"2021-01-23T11:19:15.044572Z\", \"created_time_dt\": \"2021-01-23T11:19:15.044572Z\", \"duration\": \"0:01:01\", \"iteration\": \"9\", \"goal\": \"accuracy_max\", \"run_name\": \"SparseNormalizer, LightGBM\", \"run_properties\": \"<azureml.automl.runtime.shared.model_wrappers.SparseNormalizer object at 0x7f6b3a771b70\", \"primary_metric\": 0.8569697, \"best_metric\": 0.86141414}, {\"run_id\": \"AutoML_b3923bf1-8a73-4fe2-a388-ca7b8c4c8b62_10\", \"run_number\": 84, \"metric\": null, \"status\": \"Completed\", \"run_type\": \"azureml.scriptrun\", \"training_percent\": \"100\", \"start_time\": \"2021-01-23T11:20:32.118424Z\", \"end_time\": \"2021-01-23T11:21:21.502515Z\", \"created_time\": \"2021-01-23T11:20:18.931811Z\", \"created_time_dt\": \"2021-01-23T11:20:18.931811Z\", \"duration\": \"0:01:02\", \"iteration\": \"10\", \"goal\": \"accuracy_max\", \"run_name\": \"RobustScaler, RandomForest\", \"run_properties\": \"copy=True, quantile_range=[10, 90], with_centering=True,\\n             with_scaling=True\", \"primary_metric\": 0.84343434, \"best_metric\": 0.86141414}, {\"run_id\": \"AutoML_b3923bf1-8a73-4fe2-a388-ca7b8c4c8b62_11\", \"run_number\": 85, \"metric\": null, \"status\": \"Completed\", \"run_type\": \"azureml.scriptrun\", \"training_percent\": \"100\", \"start_time\": \"2021-01-23T11:21:41.035485Z\", \"end_time\": \"2021-01-23T11:22:32.159233Z\", \"created_time\": \"2021-01-23T11:21:23.421408Z\", \"created_time_dt\": \"2021-01-23T11:21:23.421408Z\", \"duration\": \"0:01:08\", \"iteration\": \"11\", \"goal\": \"accuracy_max\", \"run_name\": \"MaxAbsScaler, LightGBM\", \"run_properties\": \"copy=True\", \"primary_metric\": 0.83464646, \"best_metric\": 0.86141414}, {\"run_id\": \"AutoML_b3923bf1-8a73-4fe2-a388-ca7b8c4c8b62_12\", \"run_number\": 86, \"metric\": null, \"status\": \"Completed\", \"run_type\": \"azureml.scriptrun\", \"training_percent\": \"100\", \"start_time\": \"2021-01-23T11:22:47.641712Z\", \"end_time\": \"2021-01-23T11:23:37.999507Z\", \"created_time\": \"2021-01-23T11:22:35.131191Z\", \"created_time_dt\": \"2021-01-23T11:22:35.131191Z\", \"duration\": \"0:01:02\", \"iteration\": \"12\", \"goal\": \"accuracy_max\", \"run_name\": \"SparseNormalizer, XGBoostClassifier\", \"run_properties\": \"<azureml.automl.runtime.shared.model_wrappers.SparseNormalizer object at 0x7fcaab8bf208\", \"primary_metric\": 0.80373737, \"best_metric\": 0.86141414}, {\"run_id\": \"AutoML_b3923bf1-8a73-4fe2-a388-ca7b8c4c8b62_13\", \"run_number\": 87, \"metric\": null, \"status\": \"Completed\", \"run_type\": \"azureml.scriptrun\", \"training_percent\": \"100\", \"start_time\": \"2021-01-23T11:23:52.027874Z\", \"end_time\": \"2021-01-23T11:24:34.756225Z\", \"created_time\": \"2021-01-23T11:23:40.126826Z\", \"created_time_dt\": \"2021-01-23T11:23:40.126826Z\", \"duration\": \"0:00:54\", \"iteration\": \"13\", \"goal\": \"accuracy_max\", \"run_name\": \"RobustScaler, ExtremeRandomTrees\", \"run_properties\": \"copy=True, quantile_range=[25, 75], with_centering=True,\\n             with_scaling=False\", \"primary_metric\": 0.83929293, \"best_metric\": 0.86141414}, {\"run_id\": \"AutoML_b3923bf1-8a73-4fe2-a388-ca7b8c4c8b62_14\", \"run_number\": 88, \"metric\": null, \"status\": \"Completed\", \"run_type\": \"azureml.scriptrun\", \"training_percent\": \"100\", \"start_time\": \"2021-01-23T11:24:49.76293Z\", \"end_time\": \"2021-01-23T11:25:40.987282Z\", \"created_time\": \"2021-01-23T11:24:37.132377Z\", \"created_time_dt\": \"2021-01-23T11:24:37.132377Z\", \"duration\": \"0:01:03\", \"iteration\": \"14\", \"goal\": \"accuracy_max\", \"run_name\": \"StandardScalerWrapper, LightGBM\", \"run_properties\": \"<azureml.automl.runtime.shared.model_wrappers.StandardScalerWrapper object at 0x7f5244050e80\", \"primary_metric\": 0.83020202, \"best_metric\": 0.86141414}, {\"run_id\": \"AutoML_b3923bf1-8a73-4fe2-a388-ca7b8c4c8b62_15\", \"run_number\": 89, \"metric\": null, \"status\": \"Completed\", \"run_type\": \"azureml.scriptrun\", \"training_percent\": \"100\", \"start_time\": \"2021-01-23T11:25:59.834055Z\", \"end_time\": \"2021-01-23T11:26:45.559036Z\", \"created_time\": \"2021-01-23T11:25:44.397498Z\", \"created_time_dt\": \"2021-01-23T11:25:44.397498Z\", \"duration\": \"0:01:01\", \"iteration\": \"15\", \"goal\": \"accuracy_max\", \"run_name\": \"StandardScalerWrapper, XGBoostClassifier\", \"run_properties\": \"<azureml.automl.runtime.shared.model_wrappers.StandardScalerWrapper object at 0x7f0b0436ea58\", \"primary_metric\": 0.82151515, \"best_metric\": 0.86141414}, {\"run_id\": \"AutoML_b3923bf1-8a73-4fe2-a388-ca7b8c4c8b62_16\", \"run_number\": 90, \"metric\": null, \"status\": \"Completed\", \"run_type\": \"azureml.scriptrun\", \"training_percent\": \"100\", \"start_time\": \"2021-01-23T11:27:05.41387Z\", \"end_time\": \"2021-01-23T11:27:51.576356Z\", \"created_time\": \"2021-01-23T11:26:48.648538Z\", \"created_time_dt\": \"2021-01-23T11:26:48.648538Z\", \"duration\": \"0:01:02\", \"iteration\": \"16\", \"goal\": \"accuracy_max\", \"run_name\": \"StandardScalerWrapper, XGBoostClassifier\", \"run_properties\": \"<azureml.automl.runtime.shared.model_wrappers.StandardScalerWrapper object at 0x7f8931ef5400\", \"primary_metric\": 0.84343434, \"best_metric\": 0.86141414}, {\"run_id\": \"AutoML_b3923bf1-8a73-4fe2-a388-ca7b8c4c8b62_17\", \"run_number\": 91, \"metric\": null, \"status\": \"Completed\", \"run_type\": \"azureml.scriptrun\", \"training_percent\": \"100\", \"start_time\": \"2021-01-23T11:28:07.407624Z\", \"end_time\": \"2021-01-23T11:29:00.656886Z\", \"created_time\": \"2021-01-23T11:27:55.035244Z\", \"created_time_dt\": \"2021-01-23T11:27:55.035244Z\", \"duration\": \"0:01:05\", \"iteration\": \"17\", \"goal\": \"accuracy_max\", \"run_name\": \"StandardScalerWrapper, RandomForest\", \"run_properties\": \"<azureml.automl.runtime.shared.model_wrappers.StandardScalerWrapper object at 0x7f30c6dd8908\", \"primary_metric\": 0.85262626, \"best_metric\": 0.86141414}, {\"run_id\": \"AutoML_b3923bf1-8a73-4fe2-a388-ca7b8c4c8b62_18\", \"run_number\": 92, \"metric\": null, \"status\": \"Completed\", \"run_type\": \"azureml.scriptrun\", \"training_percent\": \"100\", \"start_time\": \"2021-01-23T11:29:17.081983Z\", \"end_time\": \"2021-01-23T11:30:04.675638Z\", \"created_time\": \"2021-01-23T11:29:03.873526Z\", \"created_time_dt\": \"2021-01-23T11:29:03.873526Z\", \"duration\": \"0:01:00\", \"iteration\": \"18\", \"goal\": \"accuracy_max\", \"run_name\": \"MinMaxScaler, RandomForest\", \"run_properties\": \"copy=True, feature_range=(0, 1\", \"primary_metric\": 0.84787879, \"best_metric\": 0.86141414}, {\"run_id\": \"AutoML_b3923bf1-8a73-4fe2-a388-ca7b8c4c8b62_19\", \"run_number\": 93, \"metric\": null, \"status\": \"Completed\", \"run_type\": \"azureml.scriptrun\", \"training_percent\": \"100\", \"start_time\": \"2021-01-23T11:30:18.183911Z\", \"end_time\": \"2021-01-23T11:31:00.20111Z\", \"created_time\": \"2021-01-23T11:30:06.787271Z\", \"created_time_dt\": \"2021-01-23T11:30:06.787271Z\", \"duration\": \"0:00:53\", \"iteration\": \"19\", \"goal\": \"accuracy_max\", \"run_name\": \"MinMaxScaler, LightGBM\", \"run_properties\": \"copy=True, feature_range=(0, 1\", \"primary_metric\": 0.8259596, \"best_metric\": 0.86141414}, {\"run_id\": \"AutoML_b3923bf1-8a73-4fe2-a388-ca7b8c4c8b62_20\", \"run_number\": 94, \"metric\": null, \"status\": \"Completed\", \"run_type\": \"azureml.scriptrun\", \"training_percent\": \"100\", \"start_time\": \"2021-01-23T11:31:17.714112Z\", \"end_time\": \"2021-01-23T11:32:06.614386Z\", \"created_time\": \"2021-01-23T11:31:02.667599Z\", \"created_time_dt\": \"2021-01-23T11:31:02.667599Z\", \"duration\": \"0:01:03\", \"iteration\": \"20\", \"goal\": \"accuracy_max\", \"run_name\": \"RobustScaler, KNN\", \"run_properties\": \"copy=True, quantile_range=[25, 75], with_centering=True,\\n             with_scaling=False\", \"primary_metric\": 0.62111111, \"best_metric\": 0.86141414}, {\"run_id\": \"AutoML_b3923bf1-8a73-4fe2-a388-ca7b8c4c8b62_21\", \"run_number\": 95, \"metric\": null, \"status\": \"Completed\", \"run_type\": \"azureml.scriptrun\", \"training_percent\": \"100\", \"start_time\": \"2021-01-23T11:32:25.398734Z\", \"end_time\": \"2021-01-23T11:33:27.538418Z\", \"created_time\": \"2021-01-23T11:32:08.873383Z\", \"created_time_dt\": \"2021-01-23T11:32:08.873383Z\", \"duration\": \"0:01:18\", \"iteration\": \"21\", \"goal\": \"accuracy_max\", \"run_name\": \"SparseNormalizer, RandomForest\", \"run_properties\": \"<azureml.automl.runtime.shared.model_wrappers.SparseNormalizer object at 0x7f49a9ee9470\", \"primary_metric\": 0.86181818, \"best_metric\": 0.86181818}, {\"run_id\": \"AutoML_b3923bf1-8a73-4fe2-a388-ca7b8c4c8b62_22\", \"run_number\": 96, \"metric\": null, \"status\": \"Completed\", \"run_type\": \"azureml.scriptrun\", \"training_percent\": \"100\", \"start_time\": \"2021-01-23T11:33:40.312443Z\", \"end_time\": \"2021-01-23T11:34:25.03683Z\", \"created_time\": \"2021-01-23T11:33:29.762398Z\", \"created_time_dt\": \"2021-01-23T11:33:29.762398Z\", \"duration\": \"0:00:55\", \"iteration\": \"22\", \"goal\": \"accuracy_max\", \"run_name\": \"MinMaxScaler, LightGBM\", \"run_properties\": \"copy=True, feature_range=(0, 1\", \"primary_metric\": 0.8479798, \"best_metric\": 0.86181818}, {\"run_id\": \"AutoML_b3923bf1-8a73-4fe2-a388-ca7b8c4c8b62_23\", \"run_number\": 97, \"metric\": null, \"status\": \"Completed\", \"run_type\": \"azureml.scriptrun\", \"training_percent\": \"100\", \"start_time\": \"2021-01-23T11:34:39.405931Z\", \"end_time\": \"2021-01-23T11:35:27.732766Z\", \"created_time\": \"2021-01-23T11:34:26.891452Z\", \"created_time_dt\": \"2021-01-23T11:34:26.891452Z\", \"duration\": \"0:01:00\", \"iteration\": \"23\", \"goal\": \"accuracy_max\", \"run_name\": \"SparseNormalizer, LightGBM\", \"run_properties\": \"<azureml.automl.runtime.shared.model_wrappers.SparseNormalizer object at 0x7f13bd99f2e8\", \"primary_metric\": 0.85272727, \"best_metric\": 0.86181818}, {\"run_id\": \"AutoML_b3923bf1-8a73-4fe2-a388-ca7b8c4c8b62_24\", \"run_number\": 98, \"metric\": null, \"status\": \"Completed\", \"run_type\": \"azureml.scriptrun\", \"training_percent\": \"100\", \"start_time\": \"2021-01-23T11:35:41.824602Z\", \"end_time\": \"2021-01-23T11:36:25.166597Z\", \"created_time\": \"2021-01-23T11:35:30.162019Z\", \"created_time_dt\": \"2021-01-23T11:35:30.162019Z\", \"duration\": \"0:00:55\", \"iteration\": \"24\", \"goal\": \"accuracy_max\", \"run_name\": \"MaxAbsScaler, LightGBM\", \"run_properties\": \"copy=True\", \"primary_metric\": 0.84808081, \"best_metric\": 0.86181818}, {\"run_id\": \"AutoML_b3923bf1-8a73-4fe2-a388-ca7b8c4c8b62_25\", \"run_number\": 99, \"metric\": null, \"status\": \"Completed\", \"run_type\": \"azureml.scriptrun\", \"training_percent\": \"100\", \"start_time\": \"2021-01-23T11:36:39.924367Z\", \"end_time\": \"2021-01-23T11:37:25.729262Z\", \"created_time\": \"2021-01-23T11:36:27.839164Z\", \"created_time_dt\": \"2021-01-23T11:36:27.839164Z\", \"duration\": \"0:00:57\", \"iteration\": \"25\", \"goal\": \"accuracy_max\", \"run_name\": \"StandardScalerWrapper, RandomForest\", \"run_properties\": \"<azureml.automl.runtime.shared.model_wrappers.StandardScalerWrapper object at 0x7f06cbc6f3c8\", \"primary_metric\": 0.60727273, \"best_metric\": 0.86181818}, {\"run_id\": \"AutoML_b3923bf1-8a73-4fe2-a388-ca7b8c4c8b62_26\", \"run_number\": 100, \"metric\": null, \"status\": \"Completed\", \"run_type\": \"azureml.scriptrun\", \"training_percent\": \"100\", \"start_time\": \"2021-01-23T11:37:39.460097Z\", \"end_time\": \"2021-01-23T11:38:27.641456Z\", \"created_time\": \"2021-01-23T11:37:27.416646Z\", \"created_time_dt\": \"2021-01-23T11:37:27.416646Z\", \"duration\": \"0:01:00\", \"iteration\": \"26\", \"goal\": \"accuracy_max\", \"run_name\": \"StandardScalerWrapper, XGBoostClassifier\", \"run_properties\": \"<azureml.automl.runtime.shared.model_wrappers.StandardScalerWrapper object at 0x7f511501c978\", \"primary_metric\": 0.84787879, \"best_metric\": 0.86181818}, {\"run_id\": \"AutoML_b3923bf1-8a73-4fe2-a388-ca7b8c4c8b62_27\", \"run_number\": 101, \"metric\": null, \"status\": \"Completed\", \"run_type\": \"azureml.scriptrun\", \"training_percent\": \"100\", \"start_time\": \"2021-01-23T11:38:46.230573Z\", \"end_time\": \"2021-01-23T11:39:33.254983Z\", \"created_time\": \"2021-01-23T11:38:29.894471Z\", \"created_time_dt\": \"2021-01-23T11:38:29.894471Z\", \"duration\": \"0:01:03\", \"iteration\": \"27\", \"goal\": \"accuracy_max\", \"run_name\": \"MaxAbsScaler, LightGBM\", \"run_properties\": \"copy=True\", \"primary_metric\": 0.85242424, \"best_metric\": 0.86181818}, {\"run_id\": \"AutoML_b3923bf1-8a73-4fe2-a388-ca7b8c4c8b62_28\", \"run_number\": 102, \"metric\": null, \"status\": \"Completed\", \"run_type\": \"azureml.scriptrun\", \"training_percent\": \"100\", \"start_time\": \"2021-01-23T11:39:54.786639Z\", \"end_time\": \"2021-01-23T11:40:44.625008Z\", \"created_time\": \"2021-01-23T11:39:38.123556Z\", \"created_time_dt\": \"2021-01-23T11:39:38.123556Z\", \"duration\": \"0:01:06\", \"iteration\": \"28\", \"goal\": \"accuracy_max\", \"run_name\": \"SparseNormalizer, LightGBM\", \"run_properties\": \"<azureml.automl.runtime.shared.model_wrappers.SparseNormalizer object at 0x7f920b027160\", \"primary_metric\": 0.83929293, \"best_metric\": 0.86181818}, {\"run_id\": \"AutoML_b3923bf1-8a73-4fe2-a388-ca7b8c4c8b62_29\", \"run_number\": 103, \"metric\": null, \"status\": \"Completed\", \"run_type\": \"azureml.scriptrun\", \"training_percent\": \"100\", \"start_time\": \"2021-01-23T11:41:04.455822Z\", \"end_time\": \"2021-01-23T11:42:25.683555Z\", \"created_time\": \"2021-01-23T11:40:46.600902Z\", \"created_time_dt\": \"2021-01-23T11:40:46.600902Z\", \"duration\": \"0:01:39\", \"iteration\": \"29\", \"goal\": \"accuracy_max\", \"run_name\": \"VotingEnsemble\", \"run_properties\": \"classification_labels=None,\\n                              estimators=[('21',\\n                                           Pipeline(memory=None,\\n                                                    steps=[('sparsenormalizer',\\n                                                            <azureml.automl.runtime.shared.model_wrappers.SparseNormalizer object at 0x7fca843c5748>\", \"primary_metric\": 0.87939394, \"best_metric\": 0.87939394}, {\"run_id\": \"AutoML_b3923bf1-8a73-4fe2-a388-ca7b8c4c8b62_30\", \"run_number\": 104, \"metric\": null, \"status\": \"Completed\", \"run_type\": \"azureml.scriptrun\", \"training_percent\": \"100\", \"start_time\": \"2021-01-23T11:42:42.001192Z\", \"end_time\": \"2021-01-23T11:44:08.805958Z\", \"created_time\": \"2021-01-23T11:42:27.084317Z\", \"created_time_dt\": \"2021-01-23T11:42:27.084317Z\", \"duration\": \"0:01:41\", \"iteration\": \"30\", \"goal\": \"accuracy_max\", \"run_name\": \"StackEnsemble\", \"run_properties\": \"base_learners=[('21',\\n                                        Pipeline(memory=None,\\n                                                 steps=[('sparsenormalizer',\\n                                                         <azureml.automl.runtime.shared.model_wrappers.SparseNormalizer object at 0x7efffc6a0f28>\", \"primary_metric\": 0.86606061, \"best_metric\": 0.87939394}], \"children_metrics\": {\"categories\": [0], \"series\": {\"precision_score_micro\": [{\"categories\": [\"0\", \"1\", \"2\", \"3\", \"4\", \"5\", \"6\", \"7\", \"8\", \"9\", \"10\", \"11\", \"12\", \"13\", \"14\", \"15\", \"16\", \"17\", \"18\", \"19\", \"20\", \"21\", \"22\", \"23\", \"24\", \"25\", \"26\", \"27\", \"28\", \"29\", \"30\"], \"mode\": \"markers\", \"name\": \"precision_score_micro\", \"stepped\": false, \"type\": \"scatter\", \"data\": [0.8347474747474747, 0.83010101010101, 0.8257575757575758, 0.8437373737373738, 0.8614141414141414, 0.7412121212121212, 0.847979797979798, 0.8347474747474747, 0.8528282828282828, 0.856969696969697, 0.8434343434343434, 0.8346464646464646, 0.8037373737373738, 0.8392929292929294, 0.8302020202020202, 0.8215151515151515, 0.8434343434343434, 0.8526262626262626, 0.8478787878787879, 0.8259595959595959, 0.6211111111111111, 0.8618181818181819, 0.847979797979798, 0.8527272727272728, 0.8480808080808082, 0.6072727272727272, 0.8478787878787879, 0.8524242424242423, 0.8392929292929292, 0.8793939393939395, 0.866060606060606]}, {\"categories\": [\"0\", \"1\", \"2\", \"3\", \"4\", \"5\", \"6\", \"7\", \"8\", \"9\", \"10\", \"11\", \"12\", \"13\", \"14\", \"15\", \"16\", \"17\", \"18\", \"19\", \"20\", \"21\", \"22\", \"23\", \"24\", \"25\", \"26\", \"27\", \"28\", \"29\", \"30\"], \"mode\": \"lines\", \"name\": \"precision_score_micro_max\", \"stepped\": true, \"type\": \"scatter\", \"data\": [0.8347474747474747, 0.8347474747474747, 0.8347474747474747, 0.8437373737373738, 0.8614141414141414, 0.8614141414141414, 0.8614141414141414, 0.8614141414141414, 0.8614141414141414, 0.8614141414141414, 0.8614141414141414, 0.8614141414141414, 0.8614141414141414, 0.8614141414141414, 0.8614141414141414, 0.8614141414141414, 0.8614141414141414, 0.8614141414141414, 0.8614141414141414, 0.8614141414141414, 0.8614141414141414, 0.8618181818181819, 0.8618181818181819, 0.8618181818181819, 0.8618181818181819, 0.8618181818181819, 0.8618181818181819, 0.8618181818181819, 0.8618181818181819, 0.8793939393939395, 0.8793939393939395]}], \"AUC_macro\": [{\"categories\": [\"0\", \"1\", \"2\", \"3\", \"4\", \"5\", \"6\", \"7\", \"8\", \"9\", \"10\", \"11\", \"12\", \"13\", \"14\", \"15\", \"16\", \"17\", \"18\", \"19\", \"20\", \"21\", \"22\", \"23\", \"24\", \"25\", \"26\", \"27\", \"28\", \"29\", \"30\"], \"mode\": \"markers\", \"name\": \"AUC_macro\", \"stepped\": false, \"type\": \"scatter\", \"data\": [0.890215601392072, 0.8973908836261778, 0.8943765384941855, 0.9032234954587895, 0.9026985824632885, 0.7805729564553093, 0.9223040488922841, 0.9020337832102537, 0.8885682030387911, 0.8823673711909006, 0.918732874968169, 0.9208372803666922, 0.8534165181224005, 0.8957484084542907, 0.9140710466004585, 0.9083406332229862, 0.9154302690773278, 0.9205977421271537, 0.8888736949325186, 0.9194755962991256, 0.4728593498005263, 0.897567948391478, 0.9244722858840507, 0.8825498684322215, 0.9247774382480266, 0.6630213903743316, 0.9170638315932435, 0.9252871572871573, 0.8864077752313048, 0.9085396825396824, 0.9048192852898735]}, {\"categories\": [\"0\", \"1\", \"2\", \"3\", \"4\", \"5\", \"6\", \"7\", \"8\", \"9\", \"10\", \"11\", \"12\", \"13\", \"14\", \"15\", \"16\", \"17\", \"18\", \"19\", \"20\", \"21\", \"22\", \"23\", \"24\", \"25\", \"26\", \"27\", \"28\", \"29\", \"30\"], \"mode\": \"lines\", \"name\": \"AUC_macro_max\", \"stepped\": true, \"type\": \"scatter\", \"data\": [0.890215601392072, 0.8973908836261778, 0.8973908836261778, 0.9032234954587895, 0.9032234954587895, 0.9032234954587895, 0.9223040488922841, 0.9223040488922841, 0.9223040488922841, 0.9223040488922841, 0.9223040488922841, 0.9223040488922841, 0.9223040488922841, 0.9223040488922841, 0.9223040488922841, 0.9223040488922841, 0.9223040488922841, 0.9223040488922841, 0.9223040488922841, 0.9223040488922841, 0.9223040488922841, 0.9223040488922841, 0.9244722858840507, 0.9244722858840507, 0.9247774382480266, 0.9247774382480266, 0.9247774382480266, 0.9252871572871573, 0.9252871572871573, 0.9252871572871573, 0.9252871572871573]}], \"log_loss\": [{\"categories\": [\"0\", \"1\", \"2\", \"3\", \"4\", \"5\", \"6\", \"7\", \"8\", \"9\", \"10\", \"11\", \"12\", \"13\", \"14\", \"15\", \"16\", \"17\", \"18\", \"19\", \"20\", \"21\", \"22\", \"23\", \"24\", \"25\", \"26\", \"27\", \"28\", \"29\", \"30\"], \"mode\": \"markers\", \"name\": \"log_loss\", \"stepped\": false, \"type\": \"scatter\", \"data\": [0.45849672220591664, 0.4173490000249826, 0.5251290790176236, 0.38610618648655465, 0.37450178010801966, 0.5471205453729685, 0.3497657856382842, 0.3898565289314394, 0.37720906405341403, 0.3812205581659865, 0.3633944720163703, 0.4072264376420353, 0.48421738214259247, 0.4049508217534881, 0.45163945603470584, 0.4820442358558763, 0.3809306183985775, 0.37916533401785657, 0.7996359361616926, 0.37191681487938427, 1.6343835637360686, 0.3962434150939008, 0.3694936669352049, 0.3873158095166462, 0.37664111056891125, 0.6782308813703508, 0.41765695906922184, 0.35789866179365964, 0.39403930617011923, 0.3507362704565146, 0.3624163846290563]}, {\"categories\": [\"0\", \"1\", \"2\", \"3\", \"4\", \"5\", \"6\", \"7\", \"8\", \"9\", \"10\", \"11\", \"12\", \"13\", \"14\", \"15\", \"16\", \"17\", \"18\", \"19\", \"20\", \"21\", \"22\", \"23\", \"24\", \"25\", \"26\", \"27\", \"28\", \"29\", \"30\"], \"mode\": \"lines\", \"name\": \"log_loss_min\", \"stepped\": true, \"type\": \"scatter\", \"data\": [0.45849672220591664, 0.4173490000249826, 0.4173490000249826, 0.38610618648655465, 0.37450178010801966, 0.37450178010801966, 0.3497657856382842, 0.3497657856382842, 0.3497657856382842, 0.3497657856382842, 0.3497657856382842, 0.3497657856382842, 0.3497657856382842, 0.3497657856382842, 0.3497657856382842, 0.3497657856382842, 0.3497657856382842, 0.3497657856382842, 0.3497657856382842, 0.3497657856382842, 0.3497657856382842, 0.3497657856382842, 0.3497657856382842, 0.3497657856382842, 0.3497657856382842, 0.3497657856382842, 0.3497657856382842, 0.3497657856382842, 0.3497657856382842, 0.3497657856382842, 0.3497657856382842]}], \"balanced_accuracy\": [{\"categories\": [\"0\", \"1\", \"2\", \"3\", \"4\", \"5\", \"6\", \"7\", \"8\", \"9\", \"10\", \"11\", \"12\", \"13\", \"14\", \"15\", \"16\", \"17\", \"18\", \"19\", \"20\", \"21\", \"22\", \"23\", \"24\", \"25\", \"26\", \"27\", \"28\", \"29\", \"30\"], \"mode\": \"markers\", \"name\": \"balanced_accuracy\", \"stepped\": false, \"type\": \"scatter\", \"data\": [0.7998841354723708, 0.7948573975044564, 0.7763801884390119, 0.7911153552330022, 0.8277285459638402, 0.6231156098803158, 0.8145492742551566, 0.764698242933537, 0.807501909854851, 0.8042818945760123, 0.7876279602750191, 0.7731601731601732, 0.7589865036923861, 0.7642653425006367, 0.7608492487904253, 0.7570397249809014, 0.7901769798828623, 0.7901476954418131, 0.8049121466768525, 0.7666475681181563, 0.5073682200152788, 0.8476305067481539, 0.7984122740005093, 0.8117328749681689, 0.7980201171377642, 0.6695339954163483, 0.7881041507512097, 0.7974738986503693, 0.785737203972498, 0.8421963330786859, 0.8205564043799338]}, {\"categories\": [\"0\", \"1\", \"2\", \"3\", \"4\", \"5\", \"6\", \"7\", \"8\", \"9\", \"10\", \"11\", \"12\", \"13\", \"14\", \"15\", \"16\", \"17\", \"18\", \"19\", \"20\", \"21\", \"22\", \"23\", \"24\", \"25\", \"26\", \"27\", \"28\", \"29\", \"30\"], \"mode\": \"lines\", \"name\": \"balanced_accuracy_max\", \"stepped\": true, \"type\": \"scatter\", \"data\": [0.7998841354723708, 0.7998841354723708, 0.7998841354723708, 0.7998841354723708, 0.8277285459638402, 0.8277285459638402, 0.8277285459638402, 0.8277285459638402, 0.8277285459638402, 0.8277285459638402, 0.8277285459638402, 0.8277285459638402, 0.8277285459638402, 0.8277285459638402, 0.8277285459638402, 0.8277285459638402, 0.8277285459638402, 0.8277285459638402, 0.8277285459638402, 0.8277285459638402, 0.8277285459638402, 0.8476305067481539, 0.8476305067481539, 0.8476305067481539, 0.8476305067481539, 0.8476305067481539, 0.8476305067481539, 0.8476305067481539, 0.8476305067481539, 0.8476305067481539, 0.8476305067481539]}], \"f1_score_weighted\": [{\"categories\": [\"0\", \"1\", \"2\", \"3\", \"4\", \"5\", \"6\", \"7\", \"8\", \"9\", \"10\", \"11\", \"12\", \"13\", \"14\", \"15\", \"16\", \"17\", \"18\", \"19\", \"20\", \"21\", \"22\", \"23\", \"24\", \"25\", \"26\", \"27\", \"28\", \"29\", \"30\"], \"mode\": \"markers\", \"name\": \"f1_score_weighted\", \"stepped\": false, \"type\": \"scatter\", \"data\": [0.8335436758943086, 0.829802471117889, 0.8208435270526847, 0.8386605598114277, 0.8603441226191084, 0.7041925248849725, 0.847282729761209, 0.8258177781821082, 0.8483222427045923, 0.8528650432270861, 0.839284276692681, 0.8277458568231342, 0.8019672655084555, 0.8262316094062377, 0.8195860595230073, 0.811753084008655, 0.8400090168102985, 0.8449226682422772, 0.8463066696431927, 0.8180328209112568, 0.5947065708037059, 0.8625665925254895, 0.8444591704760975, 0.8502968238260277, 0.8440877533556685, 0.5861305050522981, 0.8424064945648245, 0.8482942898715674, 0.8340629230244312, 0.8774581198242867, 0.8628592157212587]}, {\"categories\": [\"0\", \"1\", \"2\", \"3\", \"4\", \"5\", \"6\", \"7\", \"8\", \"9\", \"10\", \"11\", \"12\", \"13\", \"14\", \"15\", \"16\", \"17\", \"18\", \"19\", \"20\", \"21\", \"22\", \"23\", \"24\", \"25\", \"26\", \"27\", \"28\", \"29\", \"30\"], \"mode\": \"lines\", \"name\": \"f1_score_weighted_max\", \"stepped\": true, \"type\": \"scatter\", \"data\": [0.8335436758943086, 0.8335436758943086, 0.8335436758943086, 0.8386605598114277, 0.8603441226191084, 0.8603441226191084, 0.8603441226191084, 0.8603441226191084, 0.8603441226191084, 0.8603441226191084, 0.8603441226191084, 0.8603441226191084, 0.8603441226191084, 0.8603441226191084, 0.8603441226191084, 0.8603441226191084, 0.8603441226191084, 0.8603441226191084, 0.8603441226191084, 0.8603441226191084, 0.8603441226191084, 0.8625665925254895, 0.8625665925254895, 0.8625665925254895, 0.8625665925254895, 0.8625665925254895, 0.8625665925254895, 0.8625665925254895, 0.8625665925254895, 0.8774581198242867, 0.8774581198242867]}], \"average_precision_score_macro\": [{\"categories\": [\"0\", \"1\", \"2\", \"3\", \"4\", \"5\", \"6\", \"7\", \"8\", \"9\", \"10\", \"11\", \"12\", \"13\", \"14\", \"15\", \"16\", \"17\", \"18\", \"19\", \"20\", \"21\", \"22\", \"23\", \"24\", \"25\", \"26\", \"27\", \"28\", \"29\", \"30\"], \"mode\": \"markers\", \"name\": \"average_precision_score_macro\", \"stepped\": false, \"type\": \"scatter\", \"data\": [0.8894057129775088, 0.8856496302113536, 0.883401753593267, 0.8911134304605474, 0.8869518858756175, 0.7609391515457808, 0.9149323280136314, 0.895509542717369, 0.8879493315686071, 0.8843311487544885, 0.9065085663995879, 0.9090658830174465, 0.8455938017071898, 0.8915193905183205, 0.9024299208520492, 0.8962726452244818, 0.9085747839678774, 0.9106341652074503, 0.882425457456053, 0.9010305449192103, 0.5230605163735188, 0.8888084086892958, 0.9152985236436567, 0.8773406355731422, 0.9113615652715541, 0.6074639102172797, 0.9055778864097197, 0.9179297549972004, 0.8858927867036209, 0.9080939984605575, 0.9039262011877582]}, {\"categories\": [\"0\", \"1\", \"2\", \"3\", \"4\", \"5\", \"6\", \"7\", \"8\", \"9\", \"10\", \"11\", \"12\", \"13\", \"14\", \"15\", \"16\", \"17\", \"18\", \"19\", \"20\", \"21\", \"22\", \"23\", \"24\", \"25\", \"26\", \"27\", \"28\", \"29\", \"30\"], \"mode\": \"lines\", \"name\": \"average_precision_score_macro_max\", \"stepped\": true, \"type\": \"scatter\", \"data\": [0.8894057129775088, 0.8894057129775088, 0.8894057129775088, 0.8911134304605474, 0.8911134304605474, 0.8911134304605474, 0.9149323280136314, 0.9149323280136314, 0.9149323280136314, 0.9149323280136314, 0.9149323280136314, 0.9149323280136314, 0.9149323280136314, 0.9149323280136314, 0.9149323280136314, 0.9149323280136314, 0.9149323280136314, 0.9149323280136314, 0.9149323280136314, 0.9149323280136314, 0.9149323280136314, 0.9149323280136314, 0.9152985236436567, 0.9152985236436567, 0.9152985236436567, 0.9152985236436567, 0.9152985236436567, 0.9179297549972004, 0.9179297549972004, 0.9179297549972004, 0.9179297549972004]}], \"recall_score_micro\": [{\"categories\": [\"0\", \"1\", \"2\", \"3\", \"4\", \"5\", \"6\", \"7\", \"8\", \"9\", \"10\", \"11\", \"12\", \"13\", \"14\", \"15\", \"16\", \"17\", \"18\", \"19\", \"20\", \"21\", \"22\", \"23\", \"24\", \"25\", \"26\", \"27\", \"28\", \"29\", \"30\"], \"mode\": \"markers\", \"name\": \"recall_score_micro\", \"stepped\": false, \"type\": \"scatter\", \"data\": [0.8347474747474747, 0.83010101010101, 0.8257575757575758, 0.8437373737373738, 0.8614141414141414, 0.7412121212121212, 0.847979797979798, 0.8347474747474747, 0.8528282828282828, 0.856969696969697, 0.8434343434343434, 0.8346464646464646, 0.8037373737373738, 0.8392929292929294, 0.8302020202020202, 0.8215151515151515, 0.8434343434343434, 0.8526262626262626, 0.8478787878787879, 0.8259595959595959, 0.6211111111111111, 0.8618181818181819, 0.847979797979798, 0.8527272727272728, 0.8480808080808082, 0.6072727272727272, 0.8478787878787879, 0.8524242424242423, 0.8392929292929292, 0.8793939393939395, 0.866060606060606]}, {\"categories\": [\"0\", \"1\", \"2\", \"3\", \"4\", \"5\", \"6\", \"7\", \"8\", \"9\", \"10\", \"11\", \"12\", \"13\", \"14\", \"15\", \"16\", \"17\", \"18\", \"19\", \"20\", \"21\", \"22\", \"23\", \"24\", \"25\", \"26\", \"27\", \"28\", \"29\", \"30\"], \"mode\": \"lines\", \"name\": \"recall_score_micro_max\", \"stepped\": true, \"type\": \"scatter\", \"data\": [0.8347474747474747, 0.8347474747474747, 0.8347474747474747, 0.8437373737373738, 0.8614141414141414, 0.8614141414141414, 0.8614141414141414, 0.8614141414141414, 0.8614141414141414, 0.8614141414141414, 0.8614141414141414, 0.8614141414141414, 0.8614141414141414, 0.8614141414141414, 0.8614141414141414, 0.8614141414141414, 0.8614141414141414, 0.8614141414141414, 0.8614141414141414, 0.8614141414141414, 0.8614141414141414, 0.8618181818181819, 0.8618181818181819, 0.8618181818181819, 0.8618181818181819, 0.8618181818181819, 0.8618181818181819, 0.8618181818181819, 0.8618181818181819, 0.8793939393939395, 0.8793939393939395]}], \"precision_score_weighted\": [{\"categories\": [\"0\", \"1\", \"2\", \"3\", \"4\", \"5\", \"6\", \"7\", \"8\", \"9\", \"10\", \"11\", \"12\", \"13\", \"14\", \"15\", \"16\", \"17\", \"18\", \"19\", \"20\", \"21\", \"22\", \"23\", \"24\", \"25\", \"26\", \"27\", \"28\", \"29\", \"30\"], \"mode\": \"markers\", \"name\": \"precision_score_weighted\", \"stepped\": false, \"type\": \"scatter\", \"data\": [0.8364118283922233, 0.8323193952876935, 0.8370160944117387, 0.849689710022066, 0.8643944124871543, 0.7512857910764887, 0.8525108392205165, 0.841979797979798, 0.8551010891198979, 0.8624447019285728, 0.8534969814808525, 0.8437122447122448, 0.8040754529446212, 0.8528066767540452, 0.8486214805667851, 0.8257942657942658, 0.8498615428454139, 0.863165551831241, 0.8513414501632892, 0.8314660187654839, 0.5848084348084348, 0.8686389379997896, 0.8586900769158834, 0.8536749696294287, 0.8545762491718374, 0.6373117206318787, 0.863064678211737, 0.858311194781783, 0.8448796289779625, 0.8804182862757204, 0.8680893840438431]}, {\"categories\": [\"0\", \"1\", \"2\", \"3\", \"4\", \"5\", \"6\", \"7\", \"8\", \"9\", \"10\", \"11\", \"12\", \"13\", \"14\", \"15\", \"16\", \"17\", \"18\", \"19\", \"20\", \"21\", \"22\", \"23\", \"24\", \"25\", \"26\", \"27\", \"28\", \"29\", \"30\"], \"mode\": \"lines\", \"name\": \"precision_score_weighted_max\", \"stepped\": true, \"type\": \"scatter\", \"data\": [0.8364118283922233, 0.8364118283922233, 0.8370160944117387, 0.849689710022066, 0.8643944124871543, 0.8643944124871543, 0.8643944124871543, 0.8643944124871543, 0.8643944124871543, 0.8643944124871543, 0.8643944124871543, 0.8643944124871543, 0.8643944124871543, 0.8643944124871543, 0.8643944124871543, 0.8643944124871543, 0.8643944124871543, 0.8643944124871543, 0.8643944124871543, 0.8643944124871543, 0.8643944124871543, 0.8686389379997896, 0.8686389379997896, 0.8686389379997896, 0.8686389379997896, 0.8686389379997896, 0.8686389379997896, 0.8686389379997896, 0.8686389379997896, 0.8804182862757204, 0.8804182862757204]}], \"AUC_micro\": [{\"categories\": [\"0\", \"1\", \"2\", \"3\", \"4\", \"5\", \"6\", \"7\", \"8\", \"9\", \"10\", \"11\", \"12\", \"13\", \"14\", \"15\", \"16\", \"17\", \"18\", \"19\", \"20\", \"21\", \"22\", \"23\", \"24\", \"25\", \"26\", \"27\", \"28\", \"29\", \"30\"], \"mode\": \"markers\", \"name\": \"AUC_micro\", \"stepped\": false, \"type\": \"scatter\", \"data\": [0.9107785940210181, 0.9141173349658198, 0.9101803387409447, 0.9125086725844301, 0.9166863585348434, 0.8155443322109989, 0.9285779512294663, 0.916418426691154, 0.9146201918171615, 0.9094674012855831, 0.9242266095296399, 0.9215860116314663, 0.8869613814916846, 0.9083843995510662, 0.8982455871849812, 0.9182552290582594, 0.9283406795224977, 0.9296484542393634, 0.9104017447199265, 0.9236521273339455, 0.6350438730741761, 0.9090462197734924, 0.9291909499030713, 0.9068847056422815, 0.9263437914498521, 0.5949135802469137, 0.9189329660238752, 0.9260713702683401, 0.9109125089276604, 0.9252096724823998, 0.9228563411896747]}, {\"categories\": [\"0\", \"1\", \"2\", \"3\", \"4\", \"5\", \"6\", \"7\", \"8\", \"9\", \"10\", \"11\", \"12\", \"13\", \"14\", \"15\", \"16\", \"17\", \"18\", \"19\", \"20\", \"21\", \"22\", \"23\", \"24\", \"25\", \"26\", \"27\", \"28\", \"29\", \"30\"], \"mode\": \"lines\", \"name\": \"AUC_micro_max\", \"stepped\": true, \"type\": \"scatter\", \"data\": [0.9107785940210181, 0.9141173349658198, 0.9141173349658198, 0.9141173349658198, 0.9166863585348434, 0.9166863585348434, 0.9285779512294663, 0.9285779512294663, 0.9285779512294663, 0.9285779512294663, 0.9285779512294663, 0.9285779512294663, 0.9285779512294663, 0.9285779512294663, 0.9285779512294663, 0.9285779512294663, 0.9285779512294663, 0.9296484542393634, 0.9296484542393634, 0.9296484542393634, 0.9296484542393634, 0.9296484542393634, 0.9296484542393634, 0.9296484542393634, 0.9296484542393634, 0.9296484542393634, 0.9296484542393634, 0.9296484542393634, 0.9296484542393634, 0.9296484542393634, 0.9296484542393634]}], \"recall_score_macro\": [{\"categories\": [\"0\", \"1\", \"2\", \"3\", \"4\", \"5\", \"6\", \"7\", \"8\", \"9\", \"10\", \"11\", \"12\", \"13\", \"14\", \"15\", \"16\", \"17\", \"18\", \"19\", \"20\", \"21\", \"22\", \"23\", \"24\", \"25\", \"26\", \"27\", \"28\", \"29\", \"30\"], \"mode\": \"markers\", \"name\": \"recall_score_macro\", \"stepped\": false, \"type\": \"scatter\", \"data\": [0.7998841354723708, 0.7948573975044564, 0.7763801884390119, 0.7911153552330022, 0.8277285459638402, 0.6231156098803158, 0.8145492742551566, 0.764698242933537, 0.807501909854851, 0.8042818945760123, 0.7876279602750191, 0.7731601731601732, 0.7589865036923861, 0.7642653425006367, 0.7608492487904253, 0.7570397249809014, 0.7901769798828623, 0.7901476954418131, 0.8049121466768525, 0.7666475681181563, 0.5073682200152788, 0.8476305067481539, 0.7984122740005093, 0.8117328749681689, 0.7980201171377642, 0.6695339954163483, 0.7881041507512097, 0.7974738986503693, 0.785737203972498, 0.8421963330786859, 0.8205564043799338]}, {\"categories\": [\"0\", \"1\", \"2\", \"3\", \"4\", \"5\", \"6\", \"7\", \"8\", \"9\", \"10\", \"11\", \"12\", \"13\", \"14\", \"15\", \"16\", \"17\", \"18\", \"19\", \"20\", \"21\", \"22\", \"23\", \"24\", \"25\", \"26\", \"27\", \"28\", \"29\", \"30\"], \"mode\": \"lines\", \"name\": \"recall_score_macro_max\", \"stepped\": true, \"type\": \"scatter\", \"data\": [0.7998841354723708, 0.7998841354723708, 0.7998841354723708, 0.7998841354723708, 0.8277285459638402, 0.8277285459638402, 0.8277285459638402, 0.8277285459638402, 0.8277285459638402, 0.8277285459638402, 0.8277285459638402, 0.8277285459638402, 0.8277285459638402, 0.8277285459638402, 0.8277285459638402, 0.8277285459638402, 0.8277285459638402, 0.8277285459638402, 0.8277285459638402, 0.8277285459638402, 0.8277285459638402, 0.8476305067481539, 0.8476305067481539, 0.8476305067481539, 0.8476305067481539, 0.8476305067481539, 0.8476305067481539, 0.8476305067481539, 0.8476305067481539, 0.8476305067481539, 0.8476305067481539]}], \"average_precision_score_weighted\": [{\"categories\": [\"0\", \"1\", \"2\", \"3\", \"4\", \"5\", \"6\", \"7\", \"8\", \"9\", \"10\", \"11\", \"12\", \"13\", \"14\", \"15\", \"16\", \"17\", \"18\", \"19\", \"20\", \"21\", \"22\", \"23\", \"24\", \"25\", \"26\", \"27\", \"28\", \"29\", \"30\"], \"mode\": \"markers\", \"name\": \"average_precision_score_weighted\", \"stepped\": false, \"type\": \"scatter\", \"data\": [0.9115510503165034, 0.9122144311303849, 0.9040932537392294, 0.914358776366045, 0.9123858894223582, 0.8053111002927871, 0.935523226038978, 0.9168195452294216, 0.9088514753293812, 0.9083477517338236, 0.9310760338303892, 0.9320957378242243, 0.8781687087104849, 0.9179220950033404, 0.9247653037530587, 0.9214667870402057, 0.9293936245595752, 0.9320580673229208, 0.9043318672950604, 0.925716006004637, 0.5884991518696513, 0.9126593347922929, 0.935573182663234, 0.8979186669400491, 0.9340516257587238, 0.6820190868173259, 0.9299535548052728, 0.937032627495193, 0.9074914489240437, 0.926783335684512, 0.9238096805017945]}, {\"categories\": [\"0\", \"1\", \"2\", \"3\", \"4\", \"5\", \"6\", \"7\", \"8\", \"9\", \"10\", \"11\", \"12\", \"13\", \"14\", \"15\", \"16\", \"17\", \"18\", \"19\", \"20\", \"21\", \"22\", \"23\", \"24\", \"25\", \"26\", \"27\", \"28\", \"29\", \"30\"], \"mode\": \"lines\", \"name\": \"average_precision_score_weighted_max\", \"stepped\": true, \"type\": \"scatter\", \"data\": [0.9115510503165034, 0.9122144311303849, 0.9122144311303849, 0.914358776366045, 0.914358776366045, 0.914358776366045, 0.935523226038978, 0.935523226038978, 0.935523226038978, 0.935523226038978, 0.935523226038978, 0.935523226038978, 0.935523226038978, 0.935523226038978, 0.935523226038978, 0.935523226038978, 0.935523226038978, 0.935523226038978, 0.935523226038978, 0.935523226038978, 0.935523226038978, 0.935523226038978, 0.935573182663234, 0.935573182663234, 0.935573182663234, 0.935573182663234, 0.935573182663234, 0.937032627495193, 0.937032627495193, 0.937032627495193, 0.937032627495193]}], \"AUC_weighted\": [{\"categories\": [\"0\", \"1\", \"2\", \"3\", \"4\", \"5\", \"6\", \"7\", \"8\", \"9\", \"10\", \"11\", \"12\", \"13\", \"14\", \"15\", \"16\", \"17\", \"18\", \"19\", \"20\", \"21\", \"22\", \"23\", \"24\", \"25\", \"26\", \"27\", \"28\", \"29\", \"30\"], \"mode\": \"markers\", \"name\": \"AUC_weighted\", \"stepped\": false, \"type\": \"scatter\", \"data\": [0.890215601392072, 0.8973908836261778, 0.8943765384941855, 0.9032234954587895, 0.9026985824632885, 0.7805729564553094, 0.9223040488922841, 0.9020337832102537, 0.8885682030387914, 0.8823673711909006, 0.918732874968169, 0.9208372803666922, 0.8534165181224005, 0.8957484084542908, 0.9140710466004582, 0.9083406332229862, 0.9154302690773278, 0.9205977421271537, 0.8888736949325183, 0.9194755962991259, 0.4728593498005262, 0.897567948391478, 0.9244722858840506, 0.8825498684322213, 0.9247774382480264, 0.6630213903743316, 0.9170638315932432, 0.9252871572871573, 0.8864077752313045, 0.9085396825396824, 0.9048192852898735]}, {\"categories\": [\"0\", \"1\", \"2\", \"3\", \"4\", \"5\", \"6\", \"7\", \"8\", \"9\", \"10\", \"11\", \"12\", \"13\", \"14\", \"15\", \"16\", \"17\", \"18\", \"19\", \"20\", \"21\", \"22\", \"23\", \"24\", \"25\", \"26\", \"27\", \"28\", \"29\", \"30\"], \"mode\": \"lines\", \"name\": \"AUC_weighted_max\", \"stepped\": true, \"type\": \"scatter\", \"data\": [0.890215601392072, 0.8973908836261778, 0.8973908836261778, 0.9032234954587895, 0.9032234954587895, 0.9032234954587895, 0.9223040488922841, 0.9223040488922841, 0.9223040488922841, 0.9223040488922841, 0.9223040488922841, 0.9223040488922841, 0.9223040488922841, 0.9223040488922841, 0.9223040488922841, 0.9223040488922841, 0.9223040488922841, 0.9223040488922841, 0.9223040488922841, 0.9223040488922841, 0.9223040488922841, 0.9223040488922841, 0.9244722858840506, 0.9244722858840506, 0.9247774382480264, 0.9247774382480264, 0.9247774382480264, 0.9252871572871573, 0.9252871572871573, 0.9252871572871573, 0.9252871572871573]}], \"precision_score_macro\": [{\"categories\": [\"0\", \"1\", \"2\", \"3\", \"4\", \"5\", \"6\", \"7\", \"8\", \"9\", \"10\", \"11\", \"12\", \"13\", \"14\", \"15\", \"16\", \"17\", \"18\", \"19\", \"20\", \"21\", \"22\", \"23\", \"24\", \"25\", \"26\", \"27\", \"28\", \"29\", \"30\"], \"mode\": \"markers\", \"name\": \"precision_score_macro\", \"stepped\": false, \"type\": \"scatter\", \"data\": [0.8092304687340839, 0.8044291276020974, 0.8177970770155435, 0.8362519201228877, 0.8445299391468748, 0.7481683427613659, 0.829554853748402, 0.838134284016637, 0.8432888060474267, 0.8563791061324268, 0.8405926244635922, 0.8325982800982802, 0.7684222868071753, 0.8529620270080797, 0.8443026300998436, 0.8150838238338238, 0.8333142778102456, 0.8620370584080261, 0.8292579307665514, 0.8198442694030929, 0.5100348975348975, 0.8470407110103629, 0.8459224424950232, 0.8342020092494475, 0.8412009641789056, 0.5789635485287659, 0.8543059037544332, 0.8454841809621222, 0.8370875885054652, 0.8722085195860796, 0.8621901578258313]}, {\"categories\": [\"0\", \"1\", \"2\", \"3\", \"4\", \"5\", \"6\", \"7\", \"8\", \"9\", \"10\", \"11\", \"12\", \"13\", \"14\", \"15\", \"16\", \"17\", \"18\", \"19\", \"20\", \"21\", \"22\", \"23\", \"24\", \"25\", \"26\", \"27\", \"28\", \"29\", \"30\"], \"mode\": \"lines\", \"name\": \"precision_score_macro_max\", \"stepped\": true, \"type\": \"scatter\", \"data\": [0.8092304687340839, 0.8092304687340839, 0.8177970770155435, 0.8362519201228877, 0.8445299391468748, 0.8445299391468748, 0.8445299391468748, 0.8445299391468748, 0.8445299391468748, 0.8563791061324268, 0.8563791061324268, 0.8563791061324268, 0.8563791061324268, 0.8563791061324268, 0.8563791061324268, 0.8563791061324268, 0.8563791061324268, 0.8620370584080261, 0.8620370584080261, 0.8620370584080261, 0.8620370584080261, 0.8620370584080261, 0.8620370584080261, 0.8620370584080261, 0.8620370584080261, 0.8620370584080261, 0.8620370584080261, 0.8620370584080261, 0.8620370584080261, 0.8722085195860796, 0.8722085195860796]}], \"f1_score_macro\": [{\"categories\": [\"0\", \"1\", \"2\", \"3\", \"4\", \"5\", \"6\", \"7\", \"8\", \"9\", \"10\", \"11\", \"12\", \"13\", \"14\", \"15\", \"16\", \"17\", \"18\", \"19\", \"20\", \"21\", \"22\", \"23\", \"24\", \"25\", \"26\", \"27\", \"28\", \"29\", \"30\"], \"mode\": \"markers\", \"name\": \"f1_score_macro\", \"stepped\": false, \"type\": \"scatter\", \"data\": [0.8019589493152754, 0.7977983618411308, 0.7824128840821888, 0.8033229347500713, 0.832885516477168, 0.6242061454250247, 0.8181146785723025, 0.7822892318495102, 0.8175003768875342, 0.8208914038406242, 0.8018865944967197, 0.788350359068324, 0.7611153234357064, 0.781447245377681, 0.7770311068362127, 0.7711127996636747, 0.8028216136889463, 0.8075114025319854, 0.8127191716665403, 0.7796967362814415, 0.4988803172147261, 0.8437875152989254, 0.8103597198135704, 0.819390135437593, 0.8100918445728691, 0.5780621384269251, 0.8040473618129929, 0.8122867143796793, 0.7999243812833757, 0.8539264263686075, 0.8354715663251984]}, {\"categories\": [\"0\", \"1\", \"2\", \"3\", \"4\", \"5\", \"6\", \"7\", \"8\", \"9\", \"10\", \"11\", \"12\", \"13\", \"14\", \"15\", \"16\", \"17\", \"18\", \"19\", \"20\", \"21\", \"22\", \"23\", \"24\", \"25\", \"26\", \"27\", \"28\", \"29\", \"30\"], \"mode\": \"lines\", \"name\": \"f1_score_macro_max\", \"stepped\": true, \"type\": \"scatter\", \"data\": [0.8019589493152754, 0.8019589493152754, 0.8019589493152754, 0.8033229347500713, 0.832885516477168, 0.832885516477168, 0.832885516477168, 0.832885516477168, 0.832885516477168, 0.832885516477168, 0.832885516477168, 0.832885516477168, 0.832885516477168, 0.832885516477168, 0.832885516477168, 0.832885516477168, 0.832885516477168, 0.832885516477168, 0.832885516477168, 0.832885516477168, 0.832885516477168, 0.8437875152989254, 0.8437875152989254, 0.8437875152989254, 0.8437875152989254, 0.8437875152989254, 0.8437875152989254, 0.8437875152989254, 0.8437875152989254, 0.8539264263686075, 0.8539264263686075]}], \"recall_score_weighted\": [{\"categories\": [\"0\", \"1\", \"2\", \"3\", \"4\", \"5\", \"6\", \"7\", \"8\", \"9\", \"10\", \"11\", \"12\", \"13\", \"14\", \"15\", \"16\", \"17\", \"18\", \"19\", \"20\", \"21\", \"22\", \"23\", \"24\", \"25\", \"26\", \"27\", \"28\", \"29\", \"30\"], \"mode\": \"markers\", \"name\": \"recall_score_weighted\", \"stepped\": false, \"type\": \"scatter\", \"data\": [0.8347474747474747, 0.83010101010101, 0.8257575757575758, 0.8437373737373738, 0.8614141414141414, 0.7412121212121212, 0.847979797979798, 0.8347474747474747, 0.8528282828282828, 0.856969696969697, 0.8434343434343434, 0.8346464646464646, 0.8037373737373738, 0.8392929292929294, 0.8302020202020202, 0.8215151515151515, 0.8434343434343434, 0.8526262626262626, 0.8478787878787879, 0.8259595959595959, 0.6211111111111111, 0.8618181818181819, 0.847979797979798, 0.8527272727272728, 0.8480808080808082, 0.6072727272727272, 0.8478787878787879, 0.8524242424242423, 0.8392929292929292, 0.8793939393939395, 0.866060606060606]}, {\"categories\": [\"0\", \"1\", \"2\", \"3\", \"4\", \"5\", \"6\", \"7\", \"8\", \"9\", \"10\", \"11\", \"12\", \"13\", \"14\", \"15\", \"16\", \"17\", \"18\", \"19\", \"20\", \"21\", \"22\", \"23\", \"24\", \"25\", \"26\", \"27\", \"28\", \"29\", \"30\"], \"mode\": \"lines\", \"name\": \"recall_score_weighted_max\", \"stepped\": true, \"type\": \"scatter\", \"data\": [0.8347474747474747, 0.8347474747474747, 0.8347474747474747, 0.8437373737373738, 0.8614141414141414, 0.8614141414141414, 0.8614141414141414, 0.8614141414141414, 0.8614141414141414, 0.8614141414141414, 0.8614141414141414, 0.8614141414141414, 0.8614141414141414, 0.8614141414141414, 0.8614141414141414, 0.8614141414141414, 0.8614141414141414, 0.8614141414141414, 0.8614141414141414, 0.8614141414141414, 0.8614141414141414, 0.8618181818181819, 0.8618181818181819, 0.8618181818181819, 0.8618181818181819, 0.8618181818181819, 0.8618181818181819, 0.8618181818181819, 0.8618181818181819, 0.8793939393939395, 0.8793939393939395]}], \"accuracy\": [{\"categories\": [\"0\", \"1\", \"2\", \"3\", \"4\", \"5\", \"6\", \"7\", \"8\", \"9\", \"10\", \"11\", \"12\", \"13\", \"14\", \"15\", \"16\", \"17\", \"18\", \"19\", \"20\", \"21\", \"22\", \"23\", \"24\", \"25\", \"26\", \"27\", \"28\", \"29\", \"30\"], \"mode\": \"markers\", \"name\": \"accuracy\", \"stepped\": false, \"type\": \"scatter\", \"data\": [0.8347474747474747, 0.83010101010101, 0.8257575757575758, 0.8437373737373738, 0.8614141414141414, 0.7412121212121212, 0.847979797979798, 0.8347474747474747, 0.8528282828282828, 0.856969696969697, 0.8434343434343434, 0.8346464646464646, 0.8037373737373738, 0.8392929292929294, 0.8302020202020202, 0.8215151515151515, 0.8434343434343434, 0.8526262626262626, 0.8478787878787879, 0.8259595959595959, 0.6211111111111111, 0.8618181818181819, 0.847979797979798, 0.8527272727272728, 0.8480808080808082, 0.6072727272727272, 0.8478787878787879, 0.8524242424242423, 0.8392929292929292, 0.8793939393939395, 0.866060606060606]}, {\"categories\": [\"0\", \"1\", \"2\", \"3\", \"4\", \"5\", \"6\", \"7\", \"8\", \"9\", \"10\", \"11\", \"12\", \"13\", \"14\", \"15\", \"16\", \"17\", \"18\", \"19\", \"20\", \"21\", \"22\", \"23\", \"24\", \"25\", \"26\", \"27\", \"28\", \"29\", \"30\"], \"mode\": \"lines\", \"name\": \"accuracy_max\", \"stepped\": true, \"type\": \"scatter\", \"data\": [0.8347474747474747, 0.8347474747474747, 0.8347474747474747, 0.8437373737373738, 0.8614141414141414, 0.8614141414141414, 0.8614141414141414, 0.8614141414141414, 0.8614141414141414, 0.8614141414141414, 0.8614141414141414, 0.8614141414141414, 0.8614141414141414, 0.8614141414141414, 0.8614141414141414, 0.8614141414141414, 0.8614141414141414, 0.8614141414141414, 0.8614141414141414, 0.8614141414141414, 0.8614141414141414, 0.8618181818181819, 0.8618181818181819, 0.8618181818181819, 0.8618181818181819, 0.8618181818181819, 0.8618181818181819, 0.8618181818181819, 0.8618181818181819, 0.8793939393939395, 0.8793939393939395]}], \"matthews_correlation\": [{\"categories\": [\"0\", \"1\", \"2\", \"3\", \"4\", \"5\", \"6\", \"7\", \"8\", \"9\", \"10\", \"11\", \"12\", \"13\", \"14\", \"15\", \"16\", \"17\", \"18\", \"19\", \"20\", \"21\", \"22\", \"23\", \"24\", \"25\", \"26\", \"27\", \"28\", \"29\", \"30\"], \"mode\": \"markers\", \"name\": \"matthews_correlation\", \"stepped\": false, \"type\": \"scatter\", \"data\": [0.6085785128697768, 0.5988981844275643, 0.5899564076621712, 0.6244535894010946, 0.6715855792719557, 0.33871676891926683, 0.6432151264612957, 0.5945647982448108, 0.6481361166655175, 0.6574393251088324, 0.6245173420133227, 0.6018301510357353, 0.5267930478622315, 0.606142710172261, 0.5969334903615076, 0.5679112679110065, 0.6209263779831392, 0.6451663442086936, 0.6330829060263603, 0.5830011284831647, 0.017203726223041137, 0.6938471777402875, 0.6410105092214724, 0.645149762507536, 0.6366521550035834, 0.3134727104803468, 0.6370449409043735, 0.6404889854160105, 0.6186864946280956, 0.713494467639616, 0.6808420823968542]}, {\"categories\": [\"0\", \"1\", \"2\", \"3\", \"4\", \"5\", \"6\", \"7\", \"8\", \"9\", \"10\", \"11\", \"12\", \"13\", \"14\", \"15\", \"16\", \"17\", \"18\", \"19\", \"20\", \"21\", \"22\", \"23\", \"24\", \"25\", \"26\", \"27\", \"28\", \"29\", \"30\"], \"mode\": \"lines\", \"name\": \"matthews_correlation_max\", \"stepped\": true, \"type\": \"scatter\", \"data\": [0.6085785128697768, 0.6085785128697768, 0.6085785128697768, 0.6244535894010946, 0.6715855792719557, 0.6715855792719557, 0.6715855792719557, 0.6715855792719557, 0.6715855792719557, 0.6715855792719557, 0.6715855792719557, 0.6715855792719557, 0.6715855792719557, 0.6715855792719557, 0.6715855792719557, 0.6715855792719557, 0.6715855792719557, 0.6715855792719557, 0.6715855792719557, 0.6715855792719557, 0.6715855792719557, 0.6938471777402875, 0.6938471777402875, 0.6938471777402875, 0.6938471777402875, 0.6938471777402875, 0.6938471777402875, 0.6938471777402875, 0.6938471777402875, 0.713494467639616, 0.713494467639616]}], \"norm_macro_recall\": [{\"categories\": [\"0\", \"1\", \"2\", \"3\", \"4\", \"5\", \"6\", \"7\", \"8\", \"9\", \"10\", \"11\", \"12\", \"13\", \"14\", \"15\", \"16\", \"17\", \"18\", \"19\", \"20\", \"21\", \"22\", \"23\", \"24\", \"25\", \"26\", \"27\", \"28\", \"29\", \"30\"], \"mode\": \"markers\", \"name\": \"norm_macro_recall\", \"stepped\": false, \"type\": \"scatter\", \"data\": [0.5997682709447416, 0.5897147950089127, 0.5527603768780239, 0.5822307104660046, 0.6554570919276801, 0.2462312197606315, 0.6290985485103133, 0.5293964858670741, 0.6150038197097021, 0.6085637891520245, 0.5752559205500382, 0.5463203463203463, 0.5179730073847721, 0.5285306850012732, 0.5216984975808506, 0.5140794499618029, 0.5803539597657245, 0.5802953908836261, 0.6098242933537051, 0.5332951362363128, 0.03815126050420168, 0.6952610134963075, 0.5968245480010186, 0.6234657499363382, 0.5960402342755284, 0.3390679908326967, 0.5762083015024191, 0.5949477973007384, 0.571474407944996, 0.684392666157372, 0.6411128087598675]}, {\"categories\": [\"0\", \"1\", \"2\", \"3\", \"4\", \"5\", \"6\", \"7\", \"8\", \"9\", \"10\", \"11\", \"12\", \"13\", \"14\", \"15\", \"16\", \"17\", \"18\", \"19\", \"20\", \"21\", \"22\", \"23\", \"24\", \"25\", \"26\", \"27\", \"28\", \"29\", \"30\"], \"mode\": \"lines\", \"name\": \"norm_macro_recall_max\", \"stepped\": true, \"type\": \"scatter\", \"data\": [0.5997682709447416, 0.5997682709447416, 0.5997682709447416, 0.5997682709447416, 0.6554570919276801, 0.6554570919276801, 0.6554570919276801, 0.6554570919276801, 0.6554570919276801, 0.6554570919276801, 0.6554570919276801, 0.6554570919276801, 0.6554570919276801, 0.6554570919276801, 0.6554570919276801, 0.6554570919276801, 0.6554570919276801, 0.6554570919276801, 0.6554570919276801, 0.6554570919276801, 0.6554570919276801, 0.6952610134963075, 0.6952610134963075, 0.6952610134963075, 0.6952610134963075, 0.6952610134963075, 0.6952610134963075, 0.6952610134963075, 0.6952610134963075, 0.6952610134963075, 0.6952610134963075]}], \"f1_score_micro\": [{\"categories\": [\"0\", \"1\", \"2\", \"3\", \"4\", \"5\", \"6\", \"7\", \"8\", \"9\", \"10\", \"11\", \"12\", \"13\", \"14\", \"15\", \"16\", \"17\", \"18\", \"19\", \"20\", \"21\", \"22\", \"23\", \"24\", \"25\", \"26\", \"27\", \"28\", \"29\", \"30\"], \"mode\": \"markers\", \"name\": \"f1_score_micro\", \"stepped\": false, \"type\": \"scatter\", \"data\": [0.8347474747474747, 0.8301010101010101, 0.8257575757575759, 0.8437373737373738, 0.8614141414141414, 0.7412121212121212, 0.8479797979797981, 0.8347474747474747, 0.8528282828282828, 0.856969696969697, 0.8434343434343434, 0.8346464646464646, 0.8037373737373738, 0.8392929292929294, 0.8302020202020202, 0.8215151515151515, 0.8434343434343434, 0.8526262626262626, 0.8478787878787879, 0.8259595959595959, 0.6211111111111111, 0.8618181818181819, 0.8479797979797981, 0.8527272727272728, 0.8480808080808082, 0.6072727272727272, 0.8478787878787879, 0.8524242424242425, 0.8392929292929292, 0.8793939393939395, 0.866060606060606]}, {\"categories\": [\"0\", \"1\", \"2\", \"3\", \"4\", \"5\", \"6\", \"7\", \"8\", \"9\", \"10\", \"11\", \"12\", \"13\", \"14\", \"15\", \"16\", \"17\", \"18\", \"19\", \"20\", \"21\", \"22\", \"23\", \"24\", \"25\", \"26\", \"27\", \"28\", \"29\", \"30\"], \"mode\": \"lines\", \"name\": \"f1_score_micro_max\", \"stepped\": true, \"type\": \"scatter\", \"data\": [0.8347474747474747, 0.8347474747474747, 0.8347474747474747, 0.8437373737373738, 0.8614141414141414, 0.8614141414141414, 0.8614141414141414, 0.8614141414141414, 0.8614141414141414, 0.8614141414141414, 0.8614141414141414, 0.8614141414141414, 0.8614141414141414, 0.8614141414141414, 0.8614141414141414, 0.8614141414141414, 0.8614141414141414, 0.8614141414141414, 0.8614141414141414, 0.8614141414141414, 0.8614141414141414, 0.8618181818181819, 0.8618181818181819, 0.8618181818181819, 0.8618181818181819, 0.8618181818181819, 0.8618181818181819, 0.8618181818181819, 0.8618181818181819, 0.8793939393939395, 0.8793939393939395]}], \"weighted_accuracy\": [{\"categories\": [\"0\", \"1\", \"2\", \"3\", \"4\", \"5\", \"6\", \"7\", \"8\", \"9\", \"10\", \"11\", \"12\", \"13\", \"14\", \"15\", \"16\", \"17\", \"18\", \"19\", \"20\", \"21\", \"22\", \"23\", \"24\", \"25\", \"26\", \"27\", \"28\", \"29\", \"30\"], \"mode\": \"markers\", \"name\": \"weighted_accuracy\", \"stepped\": false, \"type\": \"scatter\", \"data\": [0.8591105594414078, 0.8543206441486972, 0.8619636773023167, 0.881125487409751, 0.8854860691827804, 0.821084900063024, 0.8721863776616964, 0.8819062019271549, 0.8845248708101607, 0.8930242390905029, 0.8824177837098824, 0.8782114174490466, 0.83361056442224, 0.8914893795914718, 0.8802617436373039, 0.8668163922899099, 0.8802531363038557, 0.896161389890689, 0.8772589312328003, 0.8688300888329277, 0.6984617198182503, 0.8708007999534024, 0.8835081211371406, 0.8813890005819897, 0.8835888005426608, 0.5610773470607142, 0.8901891412743435, 0.890384141897633, 0.8765061099516622, 0.9049220822284296, 0.8973639418505879]}, {\"categories\": [\"0\", \"1\", \"2\", \"3\", \"4\", \"5\", \"6\", \"7\", \"8\", \"9\", \"10\", \"11\", \"12\", \"13\", \"14\", \"15\", \"16\", \"17\", \"18\", \"19\", \"20\", \"21\", \"22\", \"23\", \"24\", \"25\", \"26\", \"27\", \"28\", \"29\", \"30\"], \"mode\": \"lines\", \"name\": \"weighted_accuracy_max\", \"stepped\": true, \"type\": \"scatter\", \"data\": [0.8591105594414078, 0.8591105594414078, 0.8619636773023167, 0.881125487409751, 0.8854860691827804, 0.8854860691827804, 0.8854860691827804, 0.8854860691827804, 0.8854860691827804, 0.8930242390905029, 0.8930242390905029, 0.8930242390905029, 0.8930242390905029, 0.8930242390905029, 0.8930242390905029, 0.8930242390905029, 0.8930242390905029, 0.896161389890689, 0.896161389890689, 0.896161389890689, 0.896161389890689, 0.896161389890689, 0.896161389890689, 0.896161389890689, 0.896161389890689, 0.896161389890689, 0.896161389890689, 0.896161389890689, 0.896161389890689, 0.9049220822284296, 0.9049220822284296]}], \"average_precision_score_micro\": [{\"categories\": [\"0\", \"1\", \"2\", \"3\", \"4\", \"5\", \"6\", \"7\", \"8\", \"9\", \"10\", \"11\", \"12\", \"13\", \"14\", \"15\", \"16\", \"17\", \"18\", \"19\", \"20\", \"21\", \"22\", \"23\", \"24\", \"25\", \"26\", \"27\", \"28\", \"29\", \"30\"], \"mode\": \"markers\", \"name\": \"average_precision_score_micro\", \"stepped\": false, \"type\": \"scatter\", \"data\": [0.9125943896818152, 0.9185875865131787, 0.9018126996282284, 0.9109709223481086, 0.9173482161944857, 0.8092108417765367, 0.9324474772576856, 0.9148228769415386, 0.9144513744454551, 0.9094030503068689, 0.9285549469683285, 0.9259297804637867, 0.8813731677414897, 0.9105893110768623, 0.9008137276675262, 0.9220495715239666, 0.9311242206468041, 0.9320724726055788, 0.9034295201257494, 0.9276558637637147, 0.6194835270451516, 0.9090679117719278, 0.9318131481756653, 0.9010804688992284, 0.930289894706202, 0.6061956522249432, 0.9220091094726246, 0.9282665375416046, 0.9088776925235781, 0.9276986038982095, 0.9243596118263216]}, {\"categories\": [\"0\", \"1\", \"2\", \"3\", \"4\", \"5\", \"6\", \"7\", \"8\", \"9\", \"10\", \"11\", \"12\", \"13\", \"14\", \"15\", \"16\", \"17\", \"18\", \"19\", \"20\", \"21\", \"22\", \"23\", \"24\", \"25\", \"26\", \"27\", \"28\", \"29\", \"30\"], \"mode\": \"lines\", \"name\": \"average_precision_score_micro_max\", \"stepped\": true, \"type\": \"scatter\", \"data\": [0.9125943896818152, 0.9185875865131787, 0.9185875865131787, 0.9185875865131787, 0.9185875865131787, 0.9185875865131787, 0.9324474772576856, 0.9324474772576856, 0.9324474772576856, 0.9324474772576856, 0.9324474772576856, 0.9324474772576856, 0.9324474772576856, 0.9324474772576856, 0.9324474772576856, 0.9324474772576856, 0.9324474772576856, 0.9324474772576856, 0.9324474772576856, 0.9324474772576856, 0.9324474772576856, 0.9324474772576856, 0.9324474772576856, 0.9324474772576856, 0.9324474772576856, 0.9324474772576856, 0.9324474772576856, 0.9324474772576856, 0.9324474772576856, 0.9324474772576856, 0.9324474772576856]}]}, \"metricName\": null, \"primaryMetricName\": \"accuracy\", \"showLegend\": false}, \"run_metrics\": [{\"name\": \"experiment_status\", \"run_id\": \"AutoML_b3923bf1-8a73-4fe2-a388-ca7b8c4c8b62\", \"categories\": [0, 1, 2, 3, 4, 5, 6, 7, 8, 9, 10, 11, 12, 13], \"series\": [{\"data\": [\"DatasetEvaluation\", \"FeaturesGeneration\", \"DatasetFeaturization\", \"DatasetFeaturizationCompleted\", \"DatasetCrossValidationSplit\", \"ModelSelection\", \"BestRunExplainModel\", \"ModelExplanationDataSetSetup\", \"PickSurrogateModel\", \"EngineeredFeatureExplanations\", \"EngineeredFeatureExplanations\", \"RawFeaturesExplanations\", \"RawFeaturesExplanations\", \"BestRunExplainModel\"]}]}, {\"name\": \"experiment_status_description\", \"run_id\": \"AutoML_b3923bf1-8a73-4fe2-a388-ca7b8c4c8b62\", \"categories\": [0, 1, 2, 3, 4, 5, 6, 7, 8, 9, 10, 11, 12, 13], \"series\": [{\"data\": [\"Gathering dataset statistics.\", \"Generating features for the dataset.\", \"Beginning to fit featurizers and featurize the dataset.\", \"Completed fit featurizers and featurizing the dataset.\", \"Generating individually featurized CV splits.\", \"Beginning model selection.\", \"Best run model explanations started\", \"Model explanations data setup completed\", \"Choosing LightGBM as the surrogate model for explanations\", \"Computation of engineered features started\", \"Computation of engineered features completed\", \"Computation of raw features started\", \"Computation of raw features completed\", \"Best run model explanations completed\"]}]}, {\"name\": \"balanced_accuracy\", \"run_id\": \"AutoML_b3923bf1-8a73-4fe2-a388-ca7b8c4c8b62\", \"categories\": [0], \"series\": [{\"data\": [0.8421963330786859]}]}, {\"name\": \"average_precision_score_macro\", \"run_id\": \"AutoML_b3923bf1-8a73-4fe2-a388-ca7b8c4c8b62\", \"categories\": [0], \"series\": [{\"data\": [0.9080939984605575]}]}, {\"name\": \"f1_score_micro\", \"run_id\": \"AutoML_b3923bf1-8a73-4fe2-a388-ca7b8c4c8b62\", \"categories\": [0], \"series\": [{\"data\": [0.8793939393939395]}]}, {\"name\": \"precision_score_micro\", \"run_id\": \"AutoML_b3923bf1-8a73-4fe2-a388-ca7b8c4c8b62\", \"categories\": [0], \"series\": [{\"data\": [0.8793939393939395]}]}, {\"name\": \"AUC_micro\", \"run_id\": \"AutoML_b3923bf1-8a73-4fe2-a388-ca7b8c4c8b62\", \"categories\": [0], \"series\": [{\"data\": [0.9252096724823998]}]}, {\"name\": \"average_precision_score_weighted\", \"run_id\": \"AutoML_b3923bf1-8a73-4fe2-a388-ca7b8c4c8b62\", \"categories\": [0], \"series\": [{\"data\": [0.926783335684512]}]}, {\"name\": \"recall_score_macro\", \"run_id\": \"AutoML_b3923bf1-8a73-4fe2-a388-ca7b8c4c8b62\", \"categories\": [0], \"series\": [{\"data\": [0.8421963330786859]}]}, {\"name\": \"f1_score_weighted\", \"run_id\": \"AutoML_b3923bf1-8a73-4fe2-a388-ca7b8c4c8b62\", \"categories\": [0], \"series\": [{\"data\": [0.8774581198242867]}]}, {\"name\": \"recall_score_micro\", \"run_id\": \"AutoML_b3923bf1-8a73-4fe2-a388-ca7b8c4c8b62\", \"categories\": [0], \"series\": [{\"data\": [0.8793939393939395]}]}, {\"name\": \"accuracy\", \"run_id\": \"AutoML_b3923bf1-8a73-4fe2-a388-ca7b8c4c8b62\", \"categories\": [0], \"series\": [{\"data\": [0.8793939393939395]}]}, {\"name\": \"AUC_macro\", \"run_id\": \"AutoML_b3923bf1-8a73-4fe2-a388-ca7b8c4c8b62\", \"categories\": [0], \"series\": [{\"data\": [0.9085396825396824]}]}, {\"name\": \"norm_macro_recall\", \"run_id\": \"AutoML_b3923bf1-8a73-4fe2-a388-ca7b8c4c8b62\", \"categories\": [0], \"series\": [{\"data\": [0.684392666157372]}]}, {\"name\": \"precision_score_weighted\", \"run_id\": \"AutoML_b3923bf1-8a73-4fe2-a388-ca7b8c4c8b62\", \"categories\": [0], \"series\": [{\"data\": [0.8804182862757204]}]}, {\"name\": \"average_precision_score_micro\", \"run_id\": \"AutoML_b3923bf1-8a73-4fe2-a388-ca7b8c4c8b62\", \"categories\": [0], \"series\": [{\"data\": [0.9276986038982095]}]}, {\"name\": \"AUC_weighted\", \"run_id\": \"AutoML_b3923bf1-8a73-4fe2-a388-ca7b8c4c8b62\", \"categories\": [0], \"series\": [{\"data\": [0.9085396825396824]}]}, {\"name\": \"weighted_accuracy\", \"run_id\": \"AutoML_b3923bf1-8a73-4fe2-a388-ca7b8c4c8b62\", \"categories\": [0], \"series\": [{\"data\": [0.9049220822284296]}]}, {\"name\": \"precision_score_macro\", \"run_id\": \"AutoML_b3923bf1-8a73-4fe2-a388-ca7b8c4c8b62\", \"categories\": [0], \"series\": [{\"data\": [0.8722085195860796]}]}, {\"name\": \"recall_score_weighted\", \"run_id\": \"AutoML_b3923bf1-8a73-4fe2-a388-ca7b8c4c8b62\", \"categories\": [0], \"series\": [{\"data\": [0.8793939393939395]}]}, {\"name\": \"matthews_correlation\", \"run_id\": \"AutoML_b3923bf1-8a73-4fe2-a388-ca7b8c4c8b62\", \"categories\": [0], \"series\": [{\"data\": [0.713494467639616]}]}, {\"name\": \"f1_score_macro\", \"run_id\": \"AutoML_b3923bf1-8a73-4fe2-a388-ca7b8c4c8b62\", \"categories\": [0], \"series\": [{\"data\": [0.8539264263686075]}]}, {\"name\": \"log_loss\", \"run_id\": \"AutoML_b3923bf1-8a73-4fe2-a388-ca7b8c4c8b62\", \"categories\": [0], \"series\": [{\"data\": [0.3507362704565146]}]}], \"run_logs\": \"\\nRun is completed.\", \"graph\": {}, \"widget_settings\": {\"childWidgetDisplay\": \"popup\", \"send_telemetry\": false, \"log_level\": \"INFO\", \"sdk_version\": \"1.19.0\"}, \"loading\": false}"
          },
          "metadata": {}
        }
      ],
      "execution_count": 7,
      "metadata": {
        "gather": {
          "logged": 1611399990012
        },
        "jupyter": {
          "outputs_hidden": false,
          "source_hidden": false
        },
        "nteract": {
          "transient": {
            "deleting": false
          }
        }
      }
    },
    {
      "cell_type": "code",
      "source": [
        "status = run.wait_for_completion()"
      ],
      "outputs": [],
      "execution_count": 8,
      "metadata": {
        "collapsed": true,
        "jupyter": {
          "source_hidden": false,
          "outputs_hidden": false
        },
        "nteract": {
          "transient": {
            "deleting": false
          }
        },
        "gather": {
          "logged": 1611402262683
        }
      }
    },
    {
      "cell_type": "markdown",
      "source": [
        "## Best Model\n",
        "\n",
        "TODO: In the cell below, get the best model from the automl experiments and display all the properties of the model.\n",
        "\n"
      ],
      "metadata": {}
    },
    {
      "cell_type": "code",
      "source": [
        "best_run, model = run.get_output()"
      ],
      "outputs": [
        {
          "output_type": "stream",
          "name": "stderr",
          "text": [
            "WARNING:root:The version of the SDK does not match the version the model was trained on.\n",
            "WARNING:root:The consistency in the result may not be guaranteed.\n",
            "WARNING:root:Package:azureml-automl-core, training version:1.20.0, current version:1.19.0\n",
            "Package:azureml-automl-runtime, training version:1.20.0, current version:1.19.0\n",
            "Package:azureml-core, training version:1.20.0, current version:1.19.0\n",
            "Package:azureml-dataprep, training version:2.7.2, current version:2.6.1\n",
            "Package:azureml-dataprep-native, training version:27.0.0, current version:26.0.0\n",
            "Package:azureml-dataprep-rslex, training version:1.5.0, current version:1.4.0\n",
            "Package:azureml-dataset-runtime, training version:1.20.0, current version:1.19.0.post1\n",
            "Package:azureml-defaults, training version:1.20.0, current version:1.19.0\n",
            "Package:azureml-interpret, training version:1.20.0, current version:1.19.0\n",
            "Package:azureml-pipeline-core, training version:1.20.0, current version:1.19.0\n",
            "Package:azureml-telemetry, training version:1.20.0, current version:1.19.0\n",
            "Package:azureml-train-automl-client, training version:1.20.0, current version:1.19.0\n",
            "Package:azureml-train-automl-runtime, training version:1.20.0, current version:1.19.0\n",
            "WARNING:root:Please ensure the version of your local conda dependencies match the version on which your model was trained in order to properly retrieve your model.\n"
          ]
        }
      ],
      "execution_count": 9,
      "metadata": {
        "gather": {
          "logged": 1611402553760
        },
        "jupyter": {
          "outputs_hidden": false,
          "source_hidden": false
        },
        "nteract": {
          "transient": {
            "deleting": false
          }
        }
      }
    },
    {
      "cell_type": "code",
      "source": [
        "print(model)"
      ],
      "outputs": [
        {
          "output_type": "stream",
          "name": "stdout",
          "text": [
            "Pipeline(memory=None,\n",
            "         steps=[('datatransformer',\n",
            "                 DataTransformer(enable_dnn=None, enable_feature_sweeping=None,\n",
            "                                 feature_sweeping_config=None,\n",
            "                                 feature_sweeping_timeout=None,\n",
            "                                 featurization_config=None, force_text_dnn=None,\n",
            "                                 is_cross_validation=None,\n",
            "                                 is_onnx_compatible=None, logger=None,\n",
            "                                 observer=None, task=None, working_dir=None)),\n",
            "                ('prefittedsoftvotingclassifier',...\n",
            "                                                                                               max_depth=3,\n",
            "                                                                                               min_child_weight=1,\n",
            "                                                                                               missing=nan,\n",
            "                                                                                               n_estimators=100,\n",
            "                                                                                               n_jobs=1,\n",
            "                                                                                               nthread=None,\n",
            "                                                                                               objective='binary:logistic',\n",
            "                                                                                               random_state=0,\n",
            "                                                                                               reg_alpha=0,\n",
            "                                                                                               reg_lambda=1,\n",
            "                                                                                               scale_pos_weight=1,\n",
            "                                                                                               seed=None,\n",
            "                                                                                               silent=None,\n",
            "                                                                                               subsample=1,\n",
            "                                                                                               tree_method='auto',\n",
            "                                                                                               verbose=-10,\n",
            "                                                                                               verbosity=0))],\n",
            "                                                                     verbose=False))],\n",
            "                                               flatten_transform=None,\n",
            "                                               weights=[0.125, 0.125, 0.125,\n",
            "                                                        0.125, 0.25, 0.125,\n",
            "                                                        0.125]))],\n",
            "         verbose=False)\n"
          ]
        }
      ],
      "execution_count": 10,
      "metadata": {
        "collapsed": true,
        "jupyter": {
          "source_hidden": false,
          "outputs_hidden": false
        },
        "nteract": {
          "transient": {
            "deleting": false
          }
        },
        "gather": {
          "logged": 1611402558475
        }
      }
    },
    {
      "cell_type": "code",
      "source": [
        "best_run.get_tags()"
      ],
      "outputs": [
        {
          "output_type": "execute_result",
          "execution_count": 11,
          "data": {
            "text/plain": "{'_aml_system_azureml.automlComponent': 'AutoML',\n '_aml_system_ComputeTargetStatus': '{\"AllocationState\":\"steady\",\"PreparingNodeCount\":0,\"RunningNodeCount\":0,\"CurrentNodeCount\":1}',\n 'ensembled_iterations': '[21, 4, 9, 8, 23, 0, 1]',\n 'ensembled_algorithms': \"['RandomForest', 'RandomForest', 'LightGBM', 'XGBoostClassifier', 'LightGBM', 'LightGBM', 'XGBoostClassifier']\",\n 'ensemble_weights': '[0.125, 0.125, 0.125, 0.125, 0.25, 0.125, 0.125]',\n 'best_individual_pipeline_score': '0.8618181818181819',\n 'best_individual_iteration': '21',\n '_aml_system_automl_is_child_run_end_telemetry_event_logged': 'True',\n 'model_explain_run_id': 'AutoML_b3923bf1-8a73-4fe2-a388-ca7b8c4c8b62_ModelExplain',\n 'model_explanation': 'True'}"
          },
          "metadata": {}
        }
      ],
      "execution_count": 11,
      "metadata": {
        "collapsed": true,
        "jupyter": {
          "source_hidden": false,
          "outputs_hidden": false
        },
        "nteract": {
          "transient": {
            "deleting": false
          }
        },
        "gather": {
          "logged": 1611402560749
        }
      }
    },
    {
      "cell_type": "code",
      "source": [
        "best_run.get_metrics(name='accuracy')"
      ],
      "outputs": [
        {
          "output_type": "execute_result",
          "execution_count": 12,
          "data": {
            "text/plain": "{'accuracy': 0.8793939393939395}"
          },
          "metadata": {}
        }
      ],
      "execution_count": 12,
      "metadata": {
        "collapsed": true,
        "jupyter": {
          "source_hidden": false,
          "outputs_hidden": false
        },
        "nteract": {
          "transient": {
            "deleting": false
          }
        },
        "gather": {
          "logged": 1611402562940
        }
      }
    },
    {
      "cell_type": "code",
      "source": [
        "#registering the model\r\n",
        "# need to add properties, do later.\r\n",
        "\r\n",
        "model = run.register_model(model_name ='model')"
      ],
      "outputs": [],
      "execution_count": 13,
      "metadata": {
        "collapsed": true,
        "jupyter": {
          "source_hidden": false,
          "outputs_hidden": false
        },
        "nteract": {
          "transient": {
            "deleting": false
          }
        },
        "gather": {
          "logged": 1611402568306
        }
      }
    },
    {
      "cell_type": "markdown",
      "source": [
        "## Model Deployment\n",
        "\n",
        "Remember you have to deploy only one of the two models you trained.. Perform the steps in the rest of this notebook only if you wish to deploy this model.\n",
        "\n",
        "TODO: In the cell below, register the model, create an inference config and deploy the model as a web service."
      ],
      "metadata": {}
    },
    {
      "cell_type": "code",
      "source": [
        "# get the list of environments\r\n",
        "Environment.list(workspace=ws).keys()"
      ],
      "outputs": [
        {
          "output_type": "execute_result",
          "execution_count": 14,
          "data": {
            "text/plain": "dict_keys(['AzureML-VowpalWabbit-8.8.0', 'AzureML-AutoML', 'AzureML-Hyperdrive-ForecastDNN', 'AzureML-PyTorch-1.4-CPU', 'AzureML-PyTorch-1.4-GPU', 'AzureML-AutoML-DNN', 'AzureML-AutoML-DNN-GPU', 'AzureML-Designer-Transform', 'AzureML-Designer', 'AzureML-AutoML-GPU', 'AzureML-Designer-IO', 'AzureML-Dask-CPU', 'AzureML-Designer-R', 'AzureML-Dask-GPU', 'AzureML-Designer-Recommender', 'AzureML-PyTorch-1.5-CPU', 'AzureML-PyTorch-1.5-GPU', 'AzureML-Sidecar', 'AzureML-Designer-CV-Transform', 'AzureML-Designer-Score', 'AzureML-Designer-PyTorch', 'AzureML-Designer-CV', 'AzureML-TensorFlow-2.1-GPU', 'AzureML-TensorFlow-2.1-CPU', 'AzureML-Designer-PyTorch-Train', 'AzureML-AutoML-DNN-Vision-GPU', 'AzureML-Designer-VowpalWabbit', 'AzureML-TensorFlow-2.2-GPU', 'AzureML-TensorFlow-2.2-CPU', 'AzureML-PyTorch-1.6-CPU', 'AzureML-PyTorch-1.6-GPU', 'AzureML-Triton', 'AzureML-TensorFlow-2.3-CPU', 'AzureML-TensorFlow-2.3-GPU', 'AzureML-DeepSpeed-0.3-GPU', 'AzureML-TensorFlow-2.0-CPU', 'AzureML-Chainer-5.1.0-GPU', 'AzureML-TensorFlow-1.12-CPU', 'AzureML-TensorFlow-2.0-GPU', 'AzureML-PyTorch-1.1-CPU', 'AzureML-PyTorch-1.1-GPU', 'AzureML-PyTorch-1.2-CPU', 'AzureML-Minimal', 'AzureML-TensorFlow-1.10-CPU', 'AzureML-PyTorch-1.3-CPU', 'AzureML-PyTorch-1.0-CPU', 'AzureML-Tutorial', 'AzureML-PyTorch-1.2-GPU', 'AzureML-Scikit-learn-0.20.3', 'AzureML-TensorFlow-1.13-CPU', 'AzureML-TensorFlow-1.12-GPU', 'AzureML-PyTorch-1.3-GPU', 'AzureML-PyTorch-1.0-GPU', 'AzureML-Chainer-5.1.0-CPU', 'AzureML-TensorFlow-1.13-GPU', 'AzureML-TensorFlow-1.10-GPU', 'AzureML-PySpark-MmlSpark-0.15', 'AzureML-Designer-NLP'])"
          },
          "metadata": {}
        }
      ],
      "execution_count": 14,
      "metadata": {
        "gather": {
          "logged": 1611402574117
        },
        "jupyter": {
          "outputs_hidden": false,
          "source_hidden": false
        },
        "nteract": {
          "transient": {
            "deleting": false
          }
        }
      }
    },
    {
      "cell_type": "code",
      "source": [
        "# save the environment\r\n",
        "my_env = Environment.get(workspace=ws, name=\"AzureML-AutoML\")\r\n",
        "my_env.save_to_directory('env', overwrite=True)"
      ],
      "outputs": [],
      "execution_count": 15,
      "metadata": {
        "collapsed": true,
        "jupyter": {
          "source_hidden": false,
          "outputs_hidden": false
        },
        "nteract": {
          "transient": {
            "deleting": false
          }
        },
        "gather": {
          "logged": 1611402582894
        }
      }
    },
    {
      "cell_type": "code",
      "source": [
        "best_run.get_file_names()"
      ],
      "outputs": [
        {
          "output_type": "execute_result",
          "execution_count": 16,
          "data": {
            "text/plain": "['accuracy_table',\n 'automl_driver.py',\n 'azureml-logs/55_azureml-execution-tvmps_f3daa6fd1c2ec51a8d6be9a48b2d23d3700afd420693336f6f29ee24815c82c1_d.txt',\n 'azureml-logs/65_job_prep-tvmps_f3daa6fd1c2ec51a8d6be9a48b2d23d3700afd420693336f6f29ee24815c82c1_d.txt',\n 'azureml-logs/70_driver_log.txt',\n 'azureml-logs/75_job_post-tvmps_f3daa6fd1c2ec51a8d6be9a48b2d23d3700afd420693336f6f29ee24815c82c1_d.txt',\n 'azureml-logs/process_info.json',\n 'azureml-logs/process_status.json',\n 'confusion_matrix',\n 'explanation/3d4ca5b8/classes.interpret.json',\n 'explanation/3d4ca5b8/eval_data_viz.interpret.json',\n 'explanation/3d4ca5b8/expected_values.interpret.json',\n 'explanation/3d4ca5b8/features.interpret.json',\n 'explanation/3d4ca5b8/global_names/0.interpret.json',\n 'explanation/3d4ca5b8/global_rank/0.interpret.json',\n 'explanation/3d4ca5b8/global_values/0.interpret.json',\n 'explanation/3d4ca5b8/local_importance_values.interpret.json',\n 'explanation/3d4ca5b8/per_class_names/0.interpret.json',\n 'explanation/3d4ca5b8/per_class_rank/0.interpret.json',\n 'explanation/3d4ca5b8/per_class_values/0.interpret.json',\n 'explanation/3d4ca5b8/rich_metadata.interpret.json',\n 'explanation/3d4ca5b8/visualization_dict.interpret.json',\n 'explanation/cf212f86/classes.interpret.json',\n 'explanation/cf212f86/eval_data_viz.interpret.json',\n 'explanation/cf212f86/expected_values.interpret.json',\n 'explanation/cf212f86/features.interpret.json',\n 'explanation/cf212f86/global_names/0.interpret.json',\n 'explanation/cf212f86/global_rank/0.interpret.json',\n 'explanation/cf212f86/global_values/0.interpret.json',\n 'explanation/cf212f86/local_importance_values.interpret.json',\n 'explanation/cf212f86/per_class_names/0.interpret.json',\n 'explanation/cf212f86/per_class_rank/0.interpret.json',\n 'explanation/cf212f86/per_class_values/0.interpret.json',\n 'explanation/cf212f86/rich_metadata.interpret.json',\n 'explanation/cf212f86/visualization_dict.interpret.json',\n 'explanation/cf212f86/ys_pred_proba_viz.interpret.json',\n 'explanation/cf212f86/ys_pred_viz.interpret.json',\n 'logs/azureml/94_azureml.log',\n 'logs/azureml/azureml_automl.log',\n 'logs/azureml/dataprep/python_span_be7d531d-f31a-423e-8802-8afb0d41dce8.jsonl',\n 'logs/azureml/dataprep/python_span_e90d755c-b122-41f9-a2dc-c4b8a98ae226.jsonl',\n 'logs/azureml/job_prep_azureml.log',\n 'logs/azureml/job_release_azureml.log',\n 'outputs/conda_env_v_1_0_0.yml',\n 'outputs/env_dependencies.json',\n 'outputs/internal_cross_validated_models.pkl',\n 'outputs/model.pkl',\n 'outputs/pipeline_graph.json',\n 'outputs/scoring_file_v_1_0_0.py']"
          },
          "metadata": {}
        }
      ],
      "execution_count": 16,
      "metadata": {
        "collapsed": true,
        "jupyter": {
          "source_hidden": false,
          "outputs_hidden": false
        },
        "nteract": {
          "transient": {
            "deleting": false
          }
        },
        "gather": {
          "logged": 1611402584422
        }
      }
    },
    {
      "cell_type": "code",
      "source": [
        "best_run.download_file('outputs/scoring_file_v_1_0_0.py','score.py')"
      ],
      "outputs": [],
      "execution_count": 17,
      "metadata": {
        "collapsed": true,
        "jupyter": {
          "source_hidden": false,
          "outputs_hidden": false
        },
        "nteract": {
          "transient": {
            "deleting": false
          }
        },
        "gather": {
          "logged": 1611402586040
        }
      }
    },
    {
      "cell_type": "code",
      "source": [
        "# create inference_config\r\n",
        "from azureml.core.model import InferenceConfig\r\n",
        "inference_config = InferenceConfig(entry_script=\"score.py\", environment = my_env)"
      ],
      "outputs": [],
      "execution_count": 18,
      "metadata": {
        "collapsed": true,
        "jupyter": {
          "source_hidden": false,
          "outputs_hidden": false
        },
        "nteract": {
          "transient": {
            "deleting": false
          }
        },
        "gather": {
          "logged": 1611402587443
        }
      }
    },
    {
      "cell_type": "code",
      "source": [
        "#set deployment_config for webservice deployment\r\n",
        "deployment_config = AciWebservice.deploy_configuration(cpu_cores=1, memory_gb = 1)"
      ],
      "outputs": [],
      "execution_count": 19,
      "metadata": {
        "collapsed": true,
        "jupyter": {
          "source_hidden": false,
          "outputs_hidden": false
        },
        "nteract": {
          "transient": {
            "deleting": false
          }
        },
        "gather": {
          "logged": 1611402588855
        }
      }
    },
    {
      "cell_type": "code",
      "source": [
        "#deploy the model\r\n",
        "myservices=Model.deploy(workspace=ws,\r\n",
        "                    name=\"myservices\",\r\n",
        "                    models=[model],\r\n",
        "                    inference_config=inference_config,\r\n",
        "                    deployment_config=deployment_config)\r\n",
        "myservices.wait_for_deployment(show_output=True)"
      ],
      "outputs": [
        {
          "output_type": "stream",
          "name": "stdout",
          "text": [
            "Tips: You can try get_logs(): https://aka.ms/debugimage#dockerlog or local deployment: https://aka.ms/debugimage#debug-locally to debug if deployment takes longer than 10 minutes.\n",
            "Running.............................................\n",
            "Succeeded\n",
            "ACI service creation operation finished, operation \"Succeeded\"\n"
          ]
        }
      ],
      "execution_count": 22,
      "metadata": {
        "collapsed": true,
        "jupyter": {
          "source_hidden": false,
          "outputs_hidden": false
        },
        "nteract": {
          "transient": {
            "deleting": false
          }
        },
        "gather": {
          "logged": 1611402890130
        }
      }
    },
    {
      "cell_type": "code",
      "source": [
        "print(myservices.get_logs())"
      ],
      "outputs": [
        {
          "output_type": "stream",
          "name": "stdout",
          "text": [
            "2021-01-23T11:54:28,067882578+00:00 - iot-server/run \n",
            "2021-01-23T11:54:28,090334513+00:00 - gunicorn/run \n",
            "2021-01-23T11:54:28,090444113+00:00 - rsyslog/run \n",
            "2021-01-23T11:54:28,092802017+00:00 - nginx/run \n",
            "/usr/sbin/nginx: /azureml-envs/azureml_265db83b0c6014ce472c5de2f0b97e04/lib/libcrypto.so.1.0.0: no version information available (required by /usr/sbin/nginx)\n",
            "/usr/sbin/nginx: /azureml-envs/azureml_265db83b0c6014ce472c5de2f0b97e04/lib/libcrypto.so.1.0.0: no version information available (required by /usr/sbin/nginx)\n",
            "/usr/sbin/nginx: /azureml-envs/azureml_265db83b0c6014ce472c5de2f0b97e04/lib/libssl.so.1.0.0: no version information available (required by /usr/sbin/nginx)\n",
            "/usr/sbin/nginx: /azureml-envs/azureml_265db83b0c6014ce472c5de2f0b97e04/lib/libssl.so.1.0.0: no version information available (required by /usr/sbin/nginx)\n",
            "/usr/sbin/nginx: /azureml-envs/azureml_265db83b0c6014ce472c5de2f0b97e04/lib/libssl.so.1.0.0: no version information available (required by /usr/sbin/nginx)\n",
            "rsyslogd: /azureml-envs/azureml_265db83b0c6014ce472c5de2f0b97e04/lib/libuuid.so.1: no version information available (required by rsyslogd)\n",
            "EdgeHubConnectionString and IOTEDGE_IOTHUBHOSTNAME are not set. Exiting...\n",
            "2021-01-23T11:54:28,286253420+00:00 - iot-server/finish 1 0\n",
            "2021-01-23T11:54:28,287673722+00:00 - Exit code 1 is normal. Not restarting iot-server.\n",
            "Starting gunicorn 19.9.0\n",
            "Listening at: http://127.0.0.1:31311 (14)\n",
            "Using worker: sync\n",
            "worker timeout is set to 300\n",
            "Booting worker with pid: 42\n",
            "SPARK_HOME not set. Skipping PySpark Initialization.\n",
            "Generating new fontManager, this may take some time...\n",
            "Initializing logger\n",
            "2021-01-23 11:54:29,906 | root | INFO | Starting up app insights client\n",
            "2021-01-23 11:54:29,907 | root | INFO | Starting up request id generator\n",
            "2021-01-23 11:54:29,907 | root | INFO | Starting up app insight hooks\n",
            "2021-01-23 11:54:29,907 | root | INFO | Invoking user's init function\n",
            "2021-01-23 11:54:33,736 | azureml.core | WARNING | Failure while loading azureml_run_type_providers. Failed to load entrypoint automl = azureml.train.automl.run:AutoMLRun._from_run_dto with exception cannot import name 'RunType'.\n",
            "Failure while loading azureml_run_type_providers. Failed to load entrypoint automl = azureml.train.automl.run:AutoMLRun._from_run_dto with exception cannot import name 'RunType'.\n",
            "2021-01-23 11:54:33,870 | root | INFO | Users's init has completed successfully\n",
            "2021-01-23 11:54:33,873 | root | INFO | Skipping middleware: dbg_model_info as it's not enabled.\n",
            "2021-01-23 11:54:33,873 | root | INFO | Skipping middleware: dbg_resource_usage as it's not enabled.\n",
            "2021-01-23 11:54:33,875 | root | INFO | Scoring timeout is found from os.environ: 60000 ms\n",
            "2021-01-23 11:54:42,324 | root | INFO | 200\n",
            "127.0.0.1 - - [23/Jan/2021:11:54:42 +0000] \"GET /swagger.json HTTP/1.0\" 200 2832 \"-\" \"Go-http-client/1.1\"\n",
            "2021-01-23 11:54:49,531 | root | INFO | 200\n",
            "127.0.0.1 - - [23/Jan/2021:11:54:49 +0000] \"GET /swagger.json HTTP/1.0\" 200 2832 \"-\" \"Go-http-client/1.1\"\n",
            "\n"
          ]
        }
      ],
      "execution_count": 23,
      "metadata": {
        "collapsed": true,
        "jupyter": {
          "source_hidden": false,
          "outputs_hidden": false
        },
        "nteract": {
          "transient": {
            "deleting": false
          }
        },
        "gather": {
          "logged": 1611403173878
        }
      }
    },
    {
      "cell_type": "code",
      "source": [
        "url = myservices.scoring_uri"
      ],
      "outputs": [],
      "execution_count": 24,
      "metadata": {
        "collapsed": true,
        "jupyter": {
          "source_hidden": false,
          "outputs_hidden": false
        },
        "nteract": {
          "transient": {
            "deleting": false
          }
        },
        "gather": {
          "logged": 1611403176659
        }
      }
    },
    {
      "cell_type": "markdown",
      "source": [
        "TODO: In the cell below, send a request to the web service you deployed to test it."
      ],
      "metadata": {
        "collapsed": true,
        "gather": {
          "logged": 1598431657736
        },
        "jupyter": {
          "outputs_hidden": false,
          "source_hidden": false
        },
        "nteract": {
          "transient": {
            "deleting": false
          }
        }
      }
    },
    {
      "cell_type": "code",
      "source": [
        "headers = {'Content-Type':'application/json'}\r\n",
        "\r\n",
        "test_data1 = json.dumps({'data':[{\r\n",
        "    'age':15,\r\n",
        "    'anaemia':0,\r\n",
        "    'creatinine_phosphokinase':482,\r\n",
        "    'diabetes':0,\r\n",
        "    'ejection_fraction':20,\r\n",
        "    'high_blood_pressure':1,\r\n",
        "    'platelets':250000,\r\n",
        "    'serum_creatinine':2,\r\n",
        "    'serum_sodium':110,\r\n",
        "    'sex':1,\r\n",
        "    'smoking':0,\r\n",
        "    'time':4}\r\n",
        "    ]\r\n",
        "        })\r\n",
        "\r\n",
        "test_data2 = json.dumps({'data':[{\r\n",
        "    'age':70,\r\n",
        "    'anaemia':0,\r\n",
        "    'creatinine_phosphokinase':231,\r\n",
        "    'diabetes':0,\r\n",
        "    'ejection_fraction':35,\r\n",
        "    'high_blood_pressure':0,\r\n",
        "    'platelets':265000,\r\n",
        "    'serum_creatinine':1,\r\n",
        "    'serum_sodium':180,\r\n",
        "    'sex':1,\r\n",
        "    'smoking':0,\r\n",
        "    'time':150}\r\n",
        "    ]\r\n",
        "        })\r\n",
        "\r\n",
        "\r\n",
        "response1 = requests.post(url, data=test_data1, headers=headers)\r\n",
        "response2 = requests.post(url, data=test_data2, headers=headers)\r\n",
        "\r\n",
        "print(\"Result:\",response1.text)\r\n",
        "print(\"Result:\",response2.text)\r\n"
      ],
      "outputs": [
        {
          "output_type": "stream",
          "name": "stdout",
          "text": [
            "Result: \"{\\\"result\\\": [1]}\"\n",
            "Result: \"{\\\"result\\\": [0]}\"\n"
          ]
        }
      ],
      "execution_count": 25,
      "metadata": {
        "gather": {
          "logged": 1611403179950
        },
        "jupyter": {
          "outputs_hidden": false,
          "source_hidden": false
        },
        "nteract": {
          "transient": {
            "deleting": false
          }
        }
      }
    },
    {
      "cell_type": "markdown",
      "source": [
        "TODO: In the cell below, print the logs of the web service and delete the service"
      ],
      "metadata": {
        "collapsed": true,
        "gather": {
          "logged": 1598432765711
        },
        "jupyter": {
          "outputs_hidden": false,
          "source_hidden": false
        },
        "nteract": {
          "transient": {
            "deleting": false
          }
        }
      }
    },
    {
      "cell_type": "code",
      "source": [
        "print(response1.status_code)\r\n",
        "print(response1.elapsed)\r\n",
        "\r\n"
      ],
      "outputs": [
        {
          "output_type": "stream",
          "name": "stdout",
          "text": [
            "200\n",
            "0:00:00.163815\n"
          ]
        }
      ],
      "execution_count": 27,
      "metadata": {
        "collapsed": true,
        "jupyter": {
          "source_hidden": false,
          "outputs_hidden": false
        },
        "nteract": {
          "transient": {
            "deleting": false
          }
        },
        "gather": {
          "logged": 1611406532358
        }
      }
    },
    {
      "cell_type": "code",
      "source": [
        "print(response2.status_code)\r\n",
        "print(response2.elapsed)"
      ],
      "outputs": [
        {
          "output_type": "stream",
          "name": "stdout",
          "text": [
            "200\n",
            "0:00:00.248931\n"
          ]
        }
      ],
      "execution_count": 28,
      "metadata": {
        "collapsed": true,
        "jupyter": {
          "source_hidden": false,
          "outputs_hidden": false
        },
        "nteract": {
          "transient": {
            "deleting": false
          }
        },
        "gather": {
          "logged": 1611406539421
        }
      }
    },
    {
      "cell_type": "code",
      "source": [
        "service.delete()"
      ],
      "outputs": [],
      "execution_count": null,
      "metadata": {
        "collapsed": true,
        "jupyter": {
          "source_hidden": false,
          "outputs_hidden": false
        },
        "nteract": {
          "transient": {
            "deleting": false
          }
        }
      }
    }
  ],
  "metadata": {
    "kernel_info": {
      "name": "python3-azureml"
    },
    "kernelspec": {
      "name": "python3-azureml",
      "language": "python",
      "display_name": "Python 3.6 - AzureML"
    },
    "language_info": {
      "name": "python",
      "version": "3.6.9",
      "mimetype": "text/x-python",
      "codemirror_mode": {
        "name": "ipython",
        "version": 3
      },
      "pygments_lexer": "ipython3",
      "nbconvert_exporter": "python",
      "file_extension": ".py"
    },
    "nteract": {
      "version": "nteract-front-end@1.0.0"
    }
  },
  "nbformat": 4,
  "nbformat_minor": 2
}