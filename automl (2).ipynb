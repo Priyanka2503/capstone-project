{
  "cells": [
    {
      "cell_type": "markdown",
      "source": [
        "# Automated ML\n",
        "\n",
        "TODO: Import Dependencies. In the cell below, import all the dependencies that you will need to complete the project."
      ],
      "metadata": {}
    },
    {
      "cell_type": "code",
      "source": [
        "from azureml.core.experiment import Experiment\r\n",
        "from azureml.core.workspace import Workspace\r\n",
        "\r\n",
        "from azureml.core.compute import AmlCompute\r\n",
        "from azureml.core.compute import ComputeTarget\r\n",
        "from azureml.core.compute_target import ComputeTargetException\r\n",
        "\r\n",
        "import azureml.core\r\n",
        "from azureml.train.automl import AutoMLConfig\r\n",
        "from azureml.core.dataset import Dataset\r\n",
        "from azureml.data.dataset_factory import TabularDatasetFactory\r\n",
        "\r\n",
        "from sklearn.model_selection import train_test_split\r\n",
        "\r\n",
        "import pandas as pd\r\n",
        "from azureml.widgets import RunDetails\r\n",
        "\r\n",
        "import joblib \r\n",
        "import azureml.automl\r\n",
        "\r\n",
        "from azureml.core.model import Model\r\n",
        "\r\n",
        "from azureml.pipeline.core import PipelineData, TrainingOutput\r\n",
        "\r\n",
        "from azureml.pipeline.core import Pipeline\r\n",
        "\r\n",
        "import pickle\r\n",
        "\r\n",
        "from azureml.core.model import InferenceConfig\r\n",
        "from azureml.core.environment import Environment\r\n",
        "from azureml.core.conda_dependencies import CondaDependencies\r\n",
        "\r\n",
        "from azureml.core.webservice import Webservice, AciWebservice\r\n",
        "\r\n",
        "import logging\r\n",
        "import os\r\n",
        "\r\n",
        "import requests\r\n",
        "import json"
      ],
      "outputs": [],
      "execution_count": 1,
      "metadata": {
        "gather": {
          "logged": 1611074757620
        },
        "jupyter": {
          "outputs_hidden": false,
          "source_hidden": false
        },
        "nteract": {
          "transient": {
            "deleting": false
          }
        }
      }
    },
    {
      "cell_type": "code",
      "source": [
        "# Check core SDK version number\r\n",
        "print(\"SDK version:\", azureml.core.VERSION)"
      ],
      "outputs": [
        {
          "output_type": "stream",
          "name": "stdout",
          "text": [
            "SDK version: 1.19.0\n"
          ]
        }
      ],
      "execution_count": 2,
      "metadata": {
        "collapsed": true,
        "jupyter": {
          "source_hidden": false,
          "outputs_hidden": false
        },
        "nteract": {
          "transient": {
            "deleting": false
          }
        },
        "gather": {
          "logged": 1611074765409
        }
      }
    },
    {
      "cell_type": "markdown",
      "source": [
        "## Dataset\n",
        "\n",
        "### Overview\n",
        "TODO: In this markdown cell, give an overview of the dataset you are using. Also mention the task you will be performing.\n",
        "\n",
        "\n",
        "TODO: Get data. In the cell below, write code to access the data you will be using in this project. Remember that the dataset needs to be external."
      ],
      "metadata": {}
    },
    {
      "cell_type": "code",
      "source": [
        "ws = Workspace.from_config()\n",
        "\n",
        "# choose a name for experiment\n",
        "experiment_name = 'experiment-1'\n",
        "project_folder = './pipeline-project'\n",
        "\n",
        "experiment=Experiment(ws, experiment_name)\n",
        "experiment"
      ],
      "outputs": [
        {
          "output_type": "stream",
          "name": "stdout",
          "text": [
            "Performing interactive authentication. Please follow the instructions on the terminal.\n",
            "To sign in, use a web browser to open the page https://microsoft.com/devicelogin and enter the code RUWJWG3BX to authenticate.\n",
            "You have logged in. Now let us find all the subscriptions to which you have access...\n",
            "Interactive authentication successfully completed.\n"
          ]
        },
        {
          "output_type": "execute_result",
          "execution_count": 3,
          "data": {
            "text/plain": "Experiment(Name: experiment-1,\nWorkspace: quick-starts-ws-135374)",
            "text/html": "<table style=\"width:100%\"><tr><th>Name</th><th>Workspace</th><th>Report Page</th><th>Docs Page</th></tr><tr><td>experiment-1</td><td>quick-starts-ws-135374</td><td><a href=\"https://ml.azure.com/experiments/experiment-1?wsid=/subscriptions/9e65f93e-bdd8-437b-b1e8-0647cd6098f7/resourcegroups/aml-quickstarts-135374/workspaces/quick-starts-ws-135374\" target=\"_blank\" rel=\"noopener\">Link to Azure Machine Learning studio</a></td><td><a href=\"https://docs.microsoft.com/en-us/python/api/azureml-core/azureml.core.experiment.Experiment?view=azure-ml-py\" target=\"_blank\" rel=\"noopener\">Link to Documentation</a></td></tr></table>"
          },
          "metadata": {}
        }
      ],
      "execution_count": 3,
      "metadata": {
        "gather": {
          "logged": 1611074882647
        },
        "jupyter": {
          "outputs_hidden": false,
          "source_hidden": false
        },
        "nteract": {
          "transient": {
            "deleting": false
          }
        }
      }
    },
    {
      "cell_type": "code",
      "source": [
        "amlcompute_cluster_name = \"capstone\"\r\n",
        "\r\n",
        "# Verify that cluster does not exist already\r\n",
        "\r\n",
        "try:\r\n",
        "    compute_target = ComputeTarget(workspace=ws, name=amlcompute_cluster_name)\r\n",
        "    print('Found existing cluster, use it.')\r\n",
        "except ComputeTargetException:\r\n",
        "    compute_config = AmlCompute.provisioning_configuration(vm_size='STANDARD_D2_V2',# for GPU, use \"STANDARD_NC6\"\r\n",
        "                                                           #vm_priority = 'lowpriority', # optional\r\n",
        "                                                           max_nodes=4)\r\n",
        "    compute_target = ComputeTarget.create(ws, amlcompute_cluster_name, compute_config)\r\n",
        "\r\n",
        "compute_target.wait_for_completion(show_output=True)"
      ],
      "outputs": [
        {
          "output_type": "stream",
          "name": "stdout",
          "text": [
            "Found existing cluster, use it.\n",
            "\n",
            "Running\n"
          ]
        }
      ],
      "execution_count": 4,
      "metadata": {
        "collapsed": true,
        "jupyter": {
          "source_hidden": false,
          "outputs_hidden": false
        },
        "nteract": {
          "transient": {
            "deleting": false
          }
        },
        "gather": {
          "logged": 1611074895364
        }
      }
    },
    {
      "cell_type": "code",
      "source": [
        "data = pd.read_csv(\"heart_failure_clinical_records_dataset.csv\")"
      ],
      "outputs": [],
      "execution_count": 5,
      "metadata": {
        "collapsed": true,
        "jupyter": {
          "source_hidden": false,
          "outputs_hidden": false
        },
        "nteract": {
          "transient": {
            "deleting": false
          }
        },
        "gather": {
          "logged": 1611074927314
        }
      }
    },
    {
      "cell_type": "code",
      "source": [
        "train, test = train_test_split(data, test_size=0.2, random_state=1 )\r\n",
        "\r\n",
        "if \"training\" not in os.listdir():\r\n",
        "    os.mkdir(\"./training\")\r\n",
        "\r\n",
        "if \"models\" not in os.listdir():\r\n",
        "    os.mkdir(\"./models\")\r\n",
        "if \"outputs\" not in os.listdir():\r\n",
        "    os.mkdir(\"./outputs\")\r\n",
        "\r\n",
        "train.to_csv(\"training/train_data.csv\", index = False)\r\n",
        "\r\n",
        "data_store = ws.get_default_datastore()\r\n",
        "data_store.upload(src_dir = \"./training\", target_path = 'udacity-project', overwrite = True,  show_progress = True)"
      ],
      "outputs": [
        {
          "output_type": "stream",
          "name": "stdout",
          "text": [
            "Uploading an estimated of 1 files\n",
            "Uploading ./training/train_data.csv\n",
            "Uploaded ./training/train_data.csv, 1 files out of an estimated total of 1\n",
            "Uploaded 1 files\n"
          ]
        },
        {
          "output_type": "execute_result",
          "execution_count": 6,
          "data": {
            "text/plain": "$AZUREML_DATAREFERENCE_baaadb10d82342849594436ee1842958"
          },
          "metadata": {}
        }
      ],
      "execution_count": 6,
      "metadata": {
        "collapsed": true,
        "jupyter": {
          "source_hidden": false,
          "outputs_hidden": false
        },
        "nteract": {
          "transient": {
            "deleting": false
          }
        },
        "gather": {
          "logged": 1611074934180
        }
      }
    },
    {
      "cell_type": "code",
      "source": [
        "train_data = Dataset.Tabular.from_delimited_files(path=data_store.path(\"udacity-project/train_data.csv\"))"
      ],
      "outputs": [],
      "execution_count": 7,
      "metadata": {
        "collapsed": true,
        "jupyter": {
          "source_hidden": false,
          "outputs_hidden": false
        },
        "nteract": {
          "transient": {
            "deleting": false
          }
        },
        "gather": {
          "logged": 1611074957201
        }
      }
    },
    {
      "cell_type": "markdown",
      "source": [
        "## AutoML Configuration\n",
        "\n",
        "TODO: Explain why you chose the automl settings and cofiguration you used below."
      ],
      "metadata": {}
    },
    {
      "cell_type": "code",
      "source": [
        "# TODO: Put your automl settings here\n",
        "automl_settings = {\n",
        "    \"experiment_timeout_minutes\": 20,\n",
        "    \"max_concurrent_iterations\": 5,\n",
        "    \"primary_metric\" : 'AUC_weighted'    \n",
        "}\n",
        "\n",
        "# TODO: Put your automl config here\n",
        "automl_config = AutoMLConfig(\n",
        "    \n",
        "    compute_target = compute_target,\n",
        "    task = \"classification\",\n",
        "    training_data = train_data,\n",
        "    label_column_name = \"DEATH_EVENT\",   \n",
        "    path = project_folder,\n",
        "    enable_early_stopping= True,\n",
        "    featurization= 'auto',\n",
        "    debug_log = \"automl_errors.log\",\n",
        "    )"
      ],
      "outputs": [],
      "execution_count": 8,
      "metadata": {
        "gather": {
          "logged": 1611074964156
        },
        "jupyter": {
          "outputs_hidden": false,
          "source_hidden": false
        },
        "nteract": {
          "transient": {
            "deleting": false
          }
        }
      }
    },
    {
      "cell_type": "code",
      "source": [
        "# TODO: Submit your experiment\n",
        "remote_run = experiment.submit(automl_config, show_output= True)\n",
        "RunDetails(remote_run).show()"
      ],
      "outputs": [
        {
          "output_type": "stream",
          "name": "stdout",
          "text": [
            "Running on remote.\n",
            "No run_configuration provided, running on capstone with default configuration\n",
            "Running on remote compute: capstone\n",
            "Parent Run ID: AutoML_cccabceb-02c8-4d5c-901a-529f4bb3781c\n",
            "\n",
            "Current status: FeaturesGeneration. Generating features for the dataset.\n",
            "Current status: DatasetCrossValidationSplit. Generating individually featurized CV splits.\n",
            "Current status: ModelSelection. Beginning model selection.\n",
            "\n",
            "****************************************************************************************************\n",
            "DATA GUARDRAILS: \n",
            "\n",
            "TYPE:         Cross validation\n",
            "STATUS:       DONE\n",
            "DESCRIPTION:  Each iteration of the trained model was validated through cross-validation.\n",
            "              \n",
            "DETAILS:      \n",
            "+---------------------------------+\n",
            "|Number of folds                  |\n",
            "+=================================+\n",
            "|10                               |\n",
            "+---------------------------------+\n",
            "\n",
            "****************************************************************************************************\n",
            "\n",
            "TYPE:         Class balancing detection\n",
            "STATUS:       PASSED\n",
            "DESCRIPTION:  Your inputs were analyzed, and all classes are balanced in your training data.\n",
            "              Learn more about imbalanced data: https://aka.ms/AutomatedMLImbalancedData\n",
            "\n",
            "****************************************************************************************************\n",
            "\n",
            "TYPE:         Missing feature values imputation\n",
            "STATUS:       PASSED\n",
            "DESCRIPTION:  No feature missing values were detected in the training data.\n",
            "              Learn more about missing value imputation: https://aka.ms/AutomatedMLFeaturization\n",
            "\n",
            "****************************************************************************************************\n",
            "\n",
            "TYPE:         High cardinality feature detection\n",
            "STATUS:       PASSED\n",
            "DESCRIPTION:  Your inputs were analyzed, and no high cardinality features were detected.\n",
            "              Learn more about high cardinality feature handling: https://aka.ms/AutomatedMLFeaturization\n",
            "\n",
            "****************************************************************************************************\n",
            "\n",
            "****************************************************************************************************\n",
            "ITERATION: The iteration being evaluated.\n",
            "PIPELINE: A summary description of the pipeline being evaluated.\n",
            "DURATION: Time taken for the current iteration.\n",
            "METRIC: The result of computing score on the fitted pipeline.\n",
            "BEST: The best observed score thus far.\n",
            "****************************************************************************************************\n",
            "\n",
            " ITERATION   PIPELINE                                       DURATION      METRIC      BEST\n",
            "         0   MaxAbsScaler LightGBM                          0:00:47       0.8036    0.8036\n",
            "         1   MaxAbsScaler XGBoostClassifier                 0:00:43       0.8328    0.8328\n",
            "         2   MinMaxScaler RandomForest                      0:00:50       0.8330    0.8330\n",
            "         3   MinMaxScaler RandomForest                      0:00:43       0.8161    0.8330\n",
            "         4   MinMaxScaler RandomForest                      0:00:40       0.8284    0.8330\n",
            "         5   MinMaxScaler SVM                               0:00:52       0.7036    0.8330\n",
            "         6   MaxAbsScaler GradientBoosting                  0:00:49       0.8453    0.8453\n",
            "         7   StandardScalerWrapper RandomForest             0:00:28       0.8328    0.8453\n",
            "         8   SparseNormalizer XGBoostClassifier             0:00:49       0.7828    0.8453\n",
            "         9   SparseNormalizer LightGBM                      0:00:50       0.7705    0.8453\n",
            "        10   RobustScaler RandomForest                      0:00:46       0.8453    0.8453\n",
            "        11   MaxAbsScaler LightGBM                          0:01:43       0.8328    0.8453\n",
            "        12   RobustScaler ExtremeRandomTrees                0:00:43       0.8411    0.8453\n",
            "        13   SparseNormalizer XGBoostClassifier             0:00:49       0.7743    0.8453\n",
            "        14   StandardScalerWrapper ExtremeRandomTrees       0:00:49       0.8245    0.8453\n",
            "        15   StandardScalerWrapper XGBoostClassifier        0:00:50       0.7868    0.8453\n",
            "        16   StandardScalerWrapper GradientBoosting         0:00:52       0.8245    0.8453\n",
            "        17   StandardScalerWrapper ExtremeRandomTrees       0:00:57       0.7197    0.8453\n",
            "        18   MaxAbsScaler RandomForest                      0:00:53       0.8121    0.8453\n",
            "        19   StandardScalerWrapper XGBoostClassifier        0:00:55       0.8284    0.8453\n",
            "        20   RobustScaler KNN                               0:00:52       0.6196    0.8453\n",
            "        21   MaxAbsScaler ExtremeRandomTrees                0:00:54       0.7701    0.8453\n",
            "        22   SparseNormalizer LightGBM                      0:00:45       0.7745    0.8453\n",
            "        23   MaxAbsScaler LightGBM                          0:00:48       0.8284    0.8453\n",
            "        24   SparseNormalizer LightGBM                      0:00:54       0.7911    0.8453\n",
            "        25   TruncatedSVDWrapper GradientBoosting           0:00:52       0.6571    0.8453\n",
            "        26   MaxAbsScaler LightGBM                          0:00:54       0.8243    0.8453\n",
            "        27   RobustScaler RandomForest                      0:00:48       0.8411    0.8453\n",
            "        28   MaxAbsScaler LightGBM                          0:00:38       0.8455    0.8455\n",
            "        29   RobustScaler RandomForest                      0:00:42       0.8326    0.8455\n",
            "        30   MinMaxScaler LightGBM                          0:00:37       0.8326    0.8455\n",
            "        31   StandardScalerWrapper ExtremeRandomTrees       0:00:49       0.7366    0.8455\n",
            "        32   MinMaxScaler LightGBM                          0:01:13       0.8453    0.8455\n",
            "        33   StandardScalerWrapper GradientBoosting         0:00:46       0.8453    0.8455\n",
            "        34   RobustScaler LightGBM                          0:00:50       0.7995    0.8455\n",
            "        35   MaxAbsScaler LightGBM                          0:00:44       0.8076    0.8455\n",
            "        36   SparseNormalizer LightGBM                      0:00:45       0.7830    0.8455\n",
            "        37   StandardScalerWrapper RandomForest             0:00:56       0.8453    0.8455\n",
            "        38   RobustScaler RandomForest                      0:00:54       0.8243    0.8455\n",
            "        39    VotingEnsemble                                0:01:58       0.8536    0.8536\n",
            "        40    StackEnsemble                                 0:01:58       0.8453    0.8536\n"
          ]
        },
        {
          "output_type": "display_data",
          "data": {
            "text/plain": "_AutoMLWidget(widget_settings={'childWidgetDisplay': 'popup', 'send_telemetry': False, 'log_level': 'INFO', 's…",
            "application/vnd.jupyter.widget-view+json": {
              "version_major": 2,
              "version_minor": 0,
              "model_id": "518cf91a3be44886910946f016c5eb4b"
            }
          },
          "metadata": {}
        },
        {
          "output_type": "display_data",
          "data": {
            "application/aml.mini.widget.v1": "{\"status\": \"Completed\", \"workbench_run_details_uri\": \"https://ml.azure.com/experiments/experiment-1/runs/AutoML_cccabceb-02c8-4d5c-901a-529f4bb3781c?wsid=/subscriptions/9e65f93e-bdd8-437b-b1e8-0647cd6098f7/resourcegroups/aml-quickstarts-135374/workspaces/quick-starts-ws-135374\", \"run_id\": \"AutoML_cccabceb-02c8-4d5c-901a-529f4bb3781c\", \"run_properties\": {\"run_id\": \"AutoML_cccabceb-02c8-4d5c-901a-529f4bb3781c\", \"created_utc\": \"2021-01-19T16:49:32.195297Z\", \"properties\": {\"num_iterations\": \"1000\", \"training_type\": \"TrainFull\", \"acquisition_function\": \"EI\", \"primary_metric\": \"accuracy\", \"train_split\": \"0\", \"acquisition_parameter\": \"0\", \"num_cross_validation\": null, \"target\": \"capstone\", \"AMLSettingsJsonString\": \"{\\\"path\\\":null,\\\"name\\\":\\\"experiment-1\\\",\\\"subscription_id\\\":\\\"9e65f93e-bdd8-437b-b1e8-0647cd6098f7\\\",\\\"resource_group\\\":\\\"aml-quickstarts-135374\\\",\\\"workspace_name\\\":\\\"quick-starts-ws-135374\\\",\\\"region\\\":\\\"southcentralus\\\",\\\"compute_target\\\":\\\"capstone\\\",\\\"spark_service\\\":null,\\\"azure_service\\\":\\\"remote\\\",\\\"many_models\\\":false,\\\"pipeline_fetch_max_batch_size\\\":1,\\\"iterations\\\":1000,\\\"primary_metric\\\":\\\"accuracy\\\",\\\"task_type\\\":\\\"classification\\\",\\\"data_script\\\":null,\\\"validation_size\\\":0.0,\\\"n_cross_validations\\\":null,\\\"y_min\\\":null,\\\"y_max\\\":null,\\\"num_classes\\\":null,\\\"featurization\\\":\\\"auto\\\",\\\"_ignore_package_version_incompatibilities\\\":false,\\\"is_timeseries\\\":false,\\\"max_cores_per_iteration\\\":1,\\\"max_concurrent_iterations\\\":1,\\\"iteration_timeout_minutes\\\":null,\\\"mem_in_mb\\\":null,\\\"enforce_time_on_windows\\\":false,\\\"experiment_timeout_minutes\\\":8640,\\\"experiment_exit_score\\\":null,\\\"whitelist_models\\\":null,\\\"blacklist_algos\\\":[\\\"TensorFlowLinearClassifier\\\",\\\"TensorFlowDNN\\\"],\\\"supported_models\\\":[\\\"MultinomialNaiveBayes\\\",\\\"ExtremeRandomTrees\\\",\\\"LinearSVM\\\",\\\"KNN\\\",\\\"RandomForest\\\",\\\"TensorFlowLinearClassifier\\\",\\\"DecisionTree\\\",\\\"SGD\\\",\\\"XGBoostClassifier\\\",\\\"LogisticRegression\\\",\\\"SVM\\\",\\\"BernoulliNaiveBayes\\\",\\\"GradientBoosting\\\",\\\"LightGBM\\\",\\\"AveragedPerceptronClassifier\\\",\\\"TensorFlowDNN\\\"],\\\"auto_blacklist\\\":true,\\\"blacklist_samples_reached\\\":false,\\\"exclude_nan_labels\\\":true,\\\"verbosity\\\":20,\\\"_debug_log\\\":\\\"azureml_automl.log\\\",\\\"show_warnings\\\":false,\\\"model_explainability\\\":true,\\\"service_url\\\":null,\\\"sdk_url\\\":null,\\\"sdk_packages\\\":null,\\\"enable_onnx_compatible_models\\\":false,\\\"enable_split_onnx_featurizer_estimator_models\\\":false,\\\"vm_type\\\":\\\"STANDARD_DS3_V2\\\",\\\"telemetry_verbosity\\\":20,\\\"send_telemetry\\\":true,\\\"enable_dnn\\\":false,\\\"scenario\\\":\\\"SDK-1.13.0\\\",\\\"environment_label\\\":null,\\\"force_text_dnn\\\":false,\\\"enable_feature_sweeping\\\":true,\\\"enable_early_stopping\\\":true,\\\"early_stopping_n_iters\\\":10,\\\"metrics\\\":null,\\\"enable_ensembling\\\":true,\\\"enable_stack_ensembling\\\":true,\\\"ensemble_iterations\\\":15,\\\"enable_tf\\\":false,\\\"enable_subsampling\\\":null,\\\"subsample_seed\\\":null,\\\"enable_nimbusml\\\":false,\\\"enable_streaming\\\":false,\\\"force_streaming\\\":false,\\\"track_child_runs\\\":true,\\\"allowed_private_models\\\":[],\\\"label_column_name\\\":\\\"DEATH_EVENT\\\",\\\"weight_column_name\\\":null,\\\"cv_split_column_names\\\":null,\\\"enable_local_managed\\\":false,\\\"_local_managed_run_id\\\":null,\\\"cost_mode\\\":1,\\\"lag_length\\\":0,\\\"metric_operation\\\":\\\"maximize\\\",\\\"preprocess\\\":true}\", \"DataPrepJsonString\": \"{\\\\\\\"training_data\\\\\\\": \\\\\\\"{\\\\\\\\\\\\\\\"blocks\\\\\\\\\\\\\\\": [{\\\\\\\\\\\\\\\"id\\\\\\\\\\\\\\\": \\\\\\\\\\\\\\\"9f2839c1-dd05-4cf1-b5ca-7ae7446371e0\\\\\\\\\\\\\\\", \\\\\\\\\\\\\\\"type\\\\\\\\\\\\\\\": \\\\\\\\\\\\\\\"Microsoft.DPrep.GetDatastoreFilesBlock\\\\\\\\\\\\\\\", \\\\\\\\\\\\\\\"arguments\\\\\\\\\\\\\\\": {\\\\\\\\\\\\\\\"datastores\\\\\\\\\\\\\\\": [{\\\\\\\\\\\\\\\"datastoreName\\\\\\\\\\\\\\\": \\\\\\\\\\\\\\\"workspaceblobstore\\\\\\\\\\\\\\\", \\\\\\\\\\\\\\\"path\\\\\\\\\\\\\\\": \\\\\\\\\\\\\\\"udacity-project/train_data.csv\\\\\\\\\\\\\\\", \\\\\\\\\\\\\\\"resourceGroup\\\\\\\\\\\\\\\": \\\\\\\\\\\\\\\"aml-quickstarts-135374\\\\\\\\\\\\\\\", \\\\\\\\\\\\\\\"subscription\\\\\\\\\\\\\\\": \\\\\\\\\\\\\\\"9e65f93e-bdd8-437b-b1e8-0647cd6098f7\\\\\\\\\\\\\\\", \\\\\\\\\\\\\\\"workspaceName\\\\\\\\\\\\\\\": \\\\\\\\\\\\\\\"quick-starts-ws-135374\\\\\\\\\\\\\\\"}]}, \\\\\\\\\\\\\\\"localData\\\\\\\\\\\\\\\": {}, \\\\\\\\\\\\\\\"isEnabled\\\\\\\\\\\\\\\": true, \\\\\\\\\\\\\\\"name\\\\\\\\\\\\\\\": null, \\\\\\\\\\\\\\\"annotation\\\\\\\\\\\\\\\": null}, {\\\\\\\\\\\\\\\"id\\\\\\\\\\\\\\\": \\\\\\\\\\\\\\\"894160fd-9c50-441e-9077-f628f5e71a5e\\\\\\\\\\\\\\\", \\\\\\\\\\\\\\\"type\\\\\\\\\\\\\\\": \\\\\\\\\\\\\\\"Microsoft.DPrep.ParseDelimitedBlock\\\\\\\\\\\\\\\", \\\\\\\\\\\\\\\"arguments\\\\\\\\\\\\\\\": {\\\\\\\\\\\\\\\"columnHeadersMode\\\\\\\\\\\\\\\": 3, \\\\\\\\\\\\\\\"fileEncoding\\\\\\\\\\\\\\\": 0, \\\\\\\\\\\\\\\"handleQuotedLineBreaks\\\\\\\\\\\\\\\": false, \\\\\\\\\\\\\\\"preview\\\\\\\\\\\\\\\": false, \\\\\\\\\\\\\\\"separator\\\\\\\\\\\\\\\": \\\\\\\\\\\\\\\",\\\\\\\\\\\\\\\", \\\\\\\\\\\\\\\"skipRows\\\\\\\\\\\\\\\": 0, \\\\\\\\\\\\\\\"skipRowsMode\\\\\\\\\\\\\\\": 0}, \\\\\\\\\\\\\\\"localData\\\\\\\\\\\\\\\": {}, \\\\\\\\\\\\\\\"isEnabled\\\\\\\\\\\\\\\": true, \\\\\\\\\\\\\\\"name\\\\\\\\\\\\\\\": null, \\\\\\\\\\\\\\\"annotation\\\\\\\\\\\\\\\": null}, {\\\\\\\\\\\\\\\"id\\\\\\\\\\\\\\\": \\\\\\\\\\\\\\\"9bd326c6-ed71-4e4a-ac8e-a765d3b7279d\\\\\\\\\\\\\\\", \\\\\\\\\\\\\\\"type\\\\\\\\\\\\\\\": \\\\\\\\\\\\\\\"Microsoft.DPrep.DropColumnsBlock\\\\\\\\\\\\\\\", \\\\\\\\\\\\\\\"arguments\\\\\\\\\\\\\\\": {\\\\\\\\\\\\\\\"columns\\\\\\\\\\\\\\\": {\\\\\\\\\\\\\\\"type\\\\\\\\\\\\\\\": 0, \\\\\\\\\\\\\\\"details\\\\\\\\\\\\\\\": {\\\\\\\\\\\\\\\"selectedColumns\\\\\\\\\\\\\\\": [\\\\\\\\\\\\\\\"Path\\\\\\\\\\\\\\\"]}}}, \\\\\\\\\\\\\\\"localData\\\\\\\\\\\\\\\": {}, \\\\\\\\\\\\\\\"isEnabled\\\\\\\\\\\\\\\": true, \\\\\\\\\\\\\\\"name\\\\\\\\\\\\\\\": null, \\\\\\\\\\\\\\\"annotation\\\\\\\\\\\\\\\": null}, {\\\\\\\\\\\\\\\"id\\\\\\\\\\\\\\\": \\\\\\\\\\\\\\\"325da7b9-b0b3-4970-b498-2075d207267b\\\\\\\\\\\\\\\", \\\\\\\\\\\\\\\"type\\\\\\\\\\\\\\\": \\\\\\\\\\\\\\\"Microsoft.DPrep.SetColumnTypesBlock\\\\\\\\\\\\\\\", \\\\\\\\\\\\\\\"arguments\\\\\\\\\\\\\\\": {\\\\\\\\\\\\\\\"columnConversion\\\\\\\\\\\\\\\": [{\\\\\\\\\\\\\\\"column\\\\\\\\\\\\\\\": {\\\\\\\\\\\\\\\"type\\\\\\\\\\\\\\\": 2, \\\\\\\\\\\\\\\"details\\\\\\\\\\\\\\\": {\\\\\\\\\\\\\\\"selectedColumn\\\\\\\\\\\\\\\": \\\\\\\\\\\\\\\"age\\\\\\\\\\\\\\\"}}, \\\\\\\\\\\\\\\"typeProperty\\\\\\\\\\\\\\\": 3}, {\\\\\\\\\\\\\\\"column\\\\\\\\\\\\\\\": {\\\\\\\\\\\\\\\"type\\\\\\\\\\\\\\\": 2, \\\\\\\\\\\\\\\"details\\\\\\\\\\\\\\\": {\\\\\\\\\\\\\\\"selectedColumn\\\\\\\\\\\\\\\": \\\\\\\\\\\\\\\"anaemia\\\\\\\\\\\\\\\"}}, \\\\\\\\\\\\\\\"typeProperty\\\\\\\\\\\\\\\": 2}, {\\\\\\\\\\\\\\\"column\\\\\\\\\\\\\\\": {\\\\\\\\\\\\\\\"type\\\\\\\\\\\\\\\": 2, \\\\\\\\\\\\\\\"details\\\\\\\\\\\\\\\": {\\\\\\\\\\\\\\\"selectedColumn\\\\\\\\\\\\\\\": \\\\\\\\\\\\\\\"creatinine_phosphokinase\\\\\\\\\\\\\\\"}}, \\\\\\\\\\\\\\\"typeProperty\\\\\\\\\\\\\\\": 2}, {\\\\\\\\\\\\\\\"column\\\\\\\\\\\\\\\": {\\\\\\\\\\\\\\\"type\\\\\\\\\\\\\\\": 2, \\\\\\\\\\\\\\\"details\\\\\\\\\\\\\\\": {\\\\\\\\\\\\\\\"selectedColumn\\\\\\\\\\\\\\\": \\\\\\\\\\\\\\\"diabetes\\\\\\\\\\\\\\\"}}, \\\\\\\\\\\\\\\"typeProperty\\\\\\\\\\\\\\\": 2}, {\\\\\\\\\\\\\\\"column\\\\\\\\\\\\\\\": {\\\\\\\\\\\\\\\"type\\\\\\\\\\\\\\\": 2, \\\\\\\\\\\\\\\"details\\\\\\\\\\\\\\\": {\\\\\\\\\\\\\\\"selectedColumn\\\\\\\\\\\\\\\": \\\\\\\\\\\\\\\"ejection_fraction\\\\\\\\\\\\\\\"}}, \\\\\\\\\\\\\\\"typeProperty\\\\\\\\\\\\\\\": 2}, {\\\\\\\\\\\\\\\"column\\\\\\\\\\\\\\\": {\\\\\\\\\\\\\\\"type\\\\\\\\\\\\\\\": 2, \\\\\\\\\\\\\\\"details\\\\\\\\\\\\\\\": {\\\\\\\\\\\\\\\"selectedColumn\\\\\\\\\\\\\\\": \\\\\\\\\\\\\\\"high_blood_pressure\\\\\\\\\\\\\\\"}}, \\\\\\\\\\\\\\\"typeProperty\\\\\\\\\\\\\\\": 2}, {\\\\\\\\\\\\\\\"column\\\\\\\\\\\\\\\": {\\\\\\\\\\\\\\\"type\\\\\\\\\\\\\\\": 2, \\\\\\\\\\\\\\\"details\\\\\\\\\\\\\\\": {\\\\\\\\\\\\\\\"selectedColumn\\\\\\\\\\\\\\\": \\\\\\\\\\\\\\\"platelets\\\\\\\\\\\\\\\"}}, \\\\\\\\\\\\\\\"typeProperty\\\\\\\\\\\\\\\": 3}, {\\\\\\\\\\\\\\\"column\\\\\\\\\\\\\\\": {\\\\\\\\\\\\\\\"type\\\\\\\\\\\\\\\": 2, \\\\\\\\\\\\\\\"details\\\\\\\\\\\\\\\": {\\\\\\\\\\\\\\\"selectedColumn\\\\\\\\\\\\\\\": \\\\\\\\\\\\\\\"serum_creatinine\\\\\\\\\\\\\\\"}}, \\\\\\\\\\\\\\\"typeProperty\\\\\\\\\\\\\\\": 3}, {\\\\\\\\\\\\\\\"column\\\\\\\\\\\\\\\": {\\\\\\\\\\\\\\\"type\\\\\\\\\\\\\\\": 2, \\\\\\\\\\\\\\\"details\\\\\\\\\\\\\\\": {\\\\\\\\\\\\\\\"selectedColumn\\\\\\\\\\\\\\\": \\\\\\\\\\\\\\\"serum_sodium\\\\\\\\\\\\\\\"}}, \\\\\\\\\\\\\\\"typeProperty\\\\\\\\\\\\\\\": 2}, {\\\\\\\\\\\\\\\"column\\\\\\\\\\\\\\\": {\\\\\\\\\\\\\\\"type\\\\\\\\\\\\\\\": 2, \\\\\\\\\\\\\\\"details\\\\\\\\\\\\\\\": {\\\\\\\\\\\\\\\"selectedColumn\\\\\\\\\\\\\\\": \\\\\\\\\\\\\\\"sex\\\\\\\\\\\\\\\"}}, \\\\\\\\\\\\\\\"typeProperty\\\\\\\\\\\\\\\": 2}, {\\\\\\\\\\\\\\\"column\\\\\\\\\\\\\\\": {\\\\\\\\\\\\\\\"type\\\\\\\\\\\\\\\": 2, \\\\\\\\\\\\\\\"details\\\\\\\\\\\\\\\": {\\\\\\\\\\\\\\\"selectedColumn\\\\\\\\\\\\\\\": \\\\\\\\\\\\\\\"smoking\\\\\\\\\\\\\\\"}}, \\\\\\\\\\\\\\\"typeProperty\\\\\\\\\\\\\\\": 2}, {\\\\\\\\\\\\\\\"column\\\\\\\\\\\\\\\": {\\\\\\\\\\\\\\\"type\\\\\\\\\\\\\\\": 2, \\\\\\\\\\\\\\\"details\\\\\\\\\\\\\\\": {\\\\\\\\\\\\\\\"selectedColumn\\\\\\\\\\\\\\\": \\\\\\\\\\\\\\\"time\\\\\\\\\\\\\\\"}}, \\\\\\\\\\\\\\\"typeProperty\\\\\\\\\\\\\\\": 2}, {\\\\\\\\\\\\\\\"column\\\\\\\\\\\\\\\": {\\\\\\\\\\\\\\\"type\\\\\\\\\\\\\\\": 2, \\\\\\\\\\\\\\\"details\\\\\\\\\\\\\\\": {\\\\\\\\\\\\\\\"selectedColumn\\\\\\\\\\\\\\\": \\\\\\\\\\\\\\\"DEATH_EVENT\\\\\\\\\\\\\\\"}}, \\\\\\\\\\\\\\\"typeProperty\\\\\\\\\\\\\\\": 2}]}, \\\\\\\\\\\\\\\"localData\\\\\\\\\\\\\\\": {}, \\\\\\\\\\\\\\\"isEnabled\\\\\\\\\\\\\\\": true, \\\\\\\\\\\\\\\"name\\\\\\\\\\\\\\\": null, \\\\\\\\\\\\\\\"annotation\\\\\\\\\\\\\\\": null}], \\\\\\\\\\\\\\\"inspectors\\\\\\\\\\\\\\\": [], \\\\\\\\\\\\\\\"meta\\\\\\\\\\\\\\\": {\\\\\\\\\\\\\\\"savedDatasetId\\\\\\\\\\\\\\\": \\\\\\\\\\\\\\\"740025bb-274d-457a-8bf8-4b78c6d4cd2a\\\\\\\\\\\\\\\", \\\\\\\\\\\\\\\"datasetType\\\\\\\\\\\\\\\": \\\\\\\\\\\\\\\"tabular\\\\\\\\\\\\\\\", \\\\\\\\\\\\\\\"subscriptionId\\\\\\\\\\\\\\\": \\\\\\\\\\\\\\\"9e65f93e-bdd8-437b-b1e8-0647cd6098f7\\\\\\\\\\\\\\\", \\\\\\\\\\\\\\\"workspaceId\\\\\\\\\\\\\\\": \\\\\\\\\\\\\\\"c7e0eb33-904f-43e4-be30-3dbcf70c8e38\\\\\\\\\\\\\\\", \\\\\\\\\\\\\\\"workspaceLocation\\\\\\\\\\\\\\\": \\\\\\\\\\\\\\\"southcentralus\\\\\\\\\\\\\\\"}}\\\\\\\", \\\\\\\"activities\\\\\\\": 0}\", \"EnableSubsampling\": null, \"runTemplate\": \"AutoML\", \"azureml.runsource\": \"automl\", \"display_task_type\": \"classification\", \"dependencies_versions\": \"{\\\"azureml-widgets\\\": \\\"1.19.0\\\", \\\"azureml-train\\\": \\\"1.19.0\\\", \\\"azureml-train-restclients-hyperdrive\\\": \\\"1.19.0\\\", \\\"azureml-train-core\\\": \\\"1.19.0\\\", \\\"azureml-train-automl\\\": \\\"1.19.0\\\", \\\"azureml-train-automl-runtime\\\": \\\"1.19.0\\\", \\\"azureml-train-automl-client\\\": \\\"1.19.0\\\", \\\"azureml-tensorboard\\\": \\\"1.19.0\\\", \\\"azureml-telemetry\\\": \\\"1.19.0\\\", \\\"azureml-sdk\\\": \\\"1.19.0\\\", \\\"azureml-samples\\\": \\\"0+unknown\\\", \\\"azureml-pipeline\\\": \\\"1.19.0\\\", \\\"azureml-pipeline-steps\\\": \\\"1.19.0\\\", \\\"azureml-pipeline-core\\\": \\\"1.19.0\\\", \\\"azureml-opendatasets\\\": \\\"1.19.0\\\", \\\"azureml-model-management-sdk\\\": \\\"1.0.1b6.post1\\\", \\\"azureml-mlflow\\\": \\\"1.19.0\\\", \\\"azureml-interpret\\\": \\\"1.19.0\\\", \\\"azureml-explain-model\\\": \\\"1.19.0\\\", \\\"azureml-defaults\\\": \\\"1.19.0\\\", \\\"azureml-dataset-runtime\\\": \\\"1.19.0.post1\\\", \\\"azureml-dataprep\\\": \\\"2.6.1\\\", \\\"azureml-dataprep-rslex\\\": \\\"1.4.0\\\", \\\"azureml-dataprep-native\\\": \\\"26.0.0\\\", \\\"azureml-datadrift\\\": \\\"1.19.0\\\", \\\"azureml-core\\\": \\\"1.19.0\\\", \\\"azureml-contrib-services\\\": \\\"1.19.0\\\", \\\"azureml-contrib-server\\\": \\\"1.19.0\\\", \\\"azureml-contrib-reinforcementlearning\\\": \\\"1.19.0\\\", \\\"azureml-contrib-pipeline-steps\\\": \\\"1.19.0\\\", \\\"azureml-contrib-notebook\\\": \\\"1.19.0\\\", \\\"azureml-contrib-interpret\\\": \\\"1.19.0\\\", \\\"azureml-contrib-gbdt\\\": \\\"1.19.0\\\", \\\"azureml-contrib-fairness\\\": \\\"1.19.0\\\", \\\"azureml-contrib-dataset\\\": \\\"1.19.0\\\", \\\"azureml-cli-common\\\": \\\"1.19.0\\\", \\\"azureml-automl-runtime\\\": \\\"1.19.0\\\", \\\"azureml-automl-core\\\": \\\"1.19.0\\\", \\\"azureml-accel-models\\\": \\\"1.19.0\\\"}\", \"_aml_system_scenario_identification\": \"Remote.Parent\", \"ClientType\": \"SDK\", \"environment_cpu_name\": \"AzureML-AutoML\", \"environment_cpu_label\": \"prod\", \"environment_gpu_name\": \"AzureML-AutoML-GPU\", \"environment_gpu_label\": \"prod\", \"root_attribution\": \"automl\", \"attribution\": \"AutoML\", \"Orchestrator\": \"AutoML\", \"CancelUri\": \"https://southcentralus.experiments.azureml.net/jasmine/v1.0/subscriptions/9e65f93e-bdd8-437b-b1e8-0647cd6098f7/resourceGroups/aml-quickstarts-135374/providers/Microsoft.MachineLearningServices/workspaces/quick-starts-ws-135374/experimentids/5b360cef-3adc-4726-8150-fe98c57264d1/cancel/AutoML_cccabceb-02c8-4d5c-901a-529f4bb3781c\", \"ClientSdkVersion\": \"1.20.0\", \"snapshotId\": \"00000000-0000-0000-0000-000000000000\", \"SetupRunId\": \"AutoML_cccabceb-02c8-4d5c-901a-529f4bb3781c_setup\", \"SetupRunContainerId\": \"dcid.AutoML_cccabceb-02c8-4d5c-901a-529f4bb3781c_setup\", \"FeaturizationRunJsonPath\": \"featurizer_container.json\", \"FeaturizationRunId\": \"AutoML_cccabceb-02c8-4d5c-901a-529f4bb3781c_featurize\", \"ProblemInfoJsonString\": \"{\\\"dataset_num_categorical\\\": 0, \\\"is_sparse\\\": false, \\\"subsampling\\\": false, \\\"dataset_classes\\\": 2, \\\"dataset_features\\\": 12, \\\"dataset_samples\\\": 239, \\\"single_frequency_class_detected\\\": false}\", \"ModelExplainRunId\": \"AutoML_cccabceb-02c8-4d5c-901a-529f4bb3781c_ModelExplain\"}, \"tags\": {\"model_explain_run\": \"best_run\", \"_aml_system_azureml.automlComponent\": \"AutoML\", \"pipeline_id\": \"\", \"score\": \"\", \"predicted_cost\": \"\", \"fit_time\": \"\", \"training_percent\": \"\", \"iteration\": \"\", \"run_preprocessor\": \"\", \"run_algorithm\": \"\", \"dynamic_whitelisting_iterations\": \"<25>;<30>;<35>;\", \"automl_best_child_run_id\": \"AutoML_cccabceb-02c8-4d5c-901a-529f4bb3781c_39\", \"model_explain_best_run_child_id\": \"AutoML_cccabceb-02c8-4d5c-901a-529f4bb3781c_39\"}, \"end_time_utc\": \"2021-01-19T17:44:35.819996Z\", \"status\": \"Completed\", \"log_files\": {}, \"log_groups\": [], \"run_duration\": \"0:55:03\"}, \"child_runs\": [{\"run_id\": \"AutoML_cccabceb-02c8-4d5c-901a-529f4bb3781c_0\", \"run_number\": 5, \"metric\": null, \"status\": \"Completed\", \"run_type\": \"azureml.scriptrun\", \"training_percent\": \"100\", \"start_time\": \"2021-01-19T16:54:54.859605Z\", \"end_time\": \"2021-01-19T16:55:41.532296Z\", \"created_time\": \"2021-01-19T16:54:36.834731Z\", \"created_time_dt\": \"2021-01-19T16:54:36.834731Z\", \"duration\": \"0:01:04\", \"iteration\": \"0\", \"goal\": \"accuracy_max\", \"run_name\": \"MaxAbsScaler, LightGBM\", \"run_properties\": \"copy=True\", \"primary_metric\": 0.80362319, \"best_metric\": 0.80362319}, {\"run_id\": \"AutoML_cccabceb-02c8-4d5c-901a-529f4bb3781c_1\", \"run_number\": 6, \"metric\": null, \"status\": \"Completed\", \"run_type\": \"azureml.scriptrun\", \"training_percent\": \"100\", \"start_time\": \"2021-01-19T16:56:02.471598Z\", \"end_time\": \"2021-01-19T16:56:45.775813Z\", \"created_time\": \"2021-01-19T16:55:43.674474Z\", \"created_time_dt\": \"2021-01-19T16:55:43.674474Z\", \"duration\": \"0:01:02\", \"iteration\": \"1\", \"goal\": \"accuracy_max\", \"run_name\": \"MaxAbsScaler, XGBoostClassifier\", \"run_properties\": \"copy=True\", \"primary_metric\": 0.83278986, \"best_metric\": 0.83278986}, {\"run_id\": \"AutoML_cccabceb-02c8-4d5c-901a-529f4bb3781c_2\", \"run_number\": 7, \"metric\": null, \"status\": \"Completed\", \"run_type\": \"azureml.scriptrun\", \"training_percent\": \"100\", \"start_time\": \"2021-01-19T16:57:04.141249Z\", \"end_time\": \"2021-01-19T16:57:54.01644Z\", \"created_time\": \"2021-01-19T16:56:48.270241Z\", \"created_time_dt\": \"2021-01-19T16:56:48.270241Z\", \"duration\": \"0:01:05\", \"iteration\": \"2\", \"goal\": \"accuracy_max\", \"run_name\": \"MinMaxScaler, RandomForest\", \"run_properties\": \"copy=True, feature_range=(0, 1\", \"primary_metric\": 0.83297101, \"best_metric\": 0.83297101}, {\"run_id\": \"AutoML_cccabceb-02c8-4d5c-901a-529f4bb3781c_3\", \"run_number\": 8, \"metric\": null, \"status\": \"Completed\", \"run_type\": \"azureml.scriptrun\", \"training_percent\": \"100\", \"start_time\": \"2021-01-19T16:58:12.112627Z\", \"end_time\": \"2021-01-19T16:58:55.144655Z\", \"created_time\": \"2021-01-19T16:57:57.852919Z\", \"created_time_dt\": \"2021-01-19T16:57:57.852919Z\", \"duration\": \"0:00:57\", \"iteration\": \"3\", \"goal\": \"accuracy_max\", \"run_name\": \"MinMaxScaler, RandomForest\", \"run_properties\": \"copy=True, feature_range=(0, 1\", \"primary_metric\": 0.81612319, \"best_metric\": 0.83297101}, {\"run_id\": \"AutoML_cccabceb-02c8-4d5c-901a-529f4bb3781c_4\", \"run_number\": 9, \"metric\": null, \"status\": \"Completed\", \"run_type\": \"azureml.scriptrun\", \"training_percent\": \"100\", \"start_time\": \"2021-01-19T16:59:11.081769Z\", \"end_time\": \"2021-01-19T16:59:51.17067Z\", \"created_time\": \"2021-01-19T16:58:57.213742Z\", \"created_time_dt\": \"2021-01-19T16:58:57.213742Z\", \"duration\": \"0:00:53\", \"iteration\": \"4\", \"goal\": \"accuracy_max\", \"run_name\": \"MinMaxScaler, RandomForest\", \"run_properties\": \"copy=True, feature_range=(0, 1\", \"primary_metric\": 0.82844203, \"best_metric\": 0.83297101}, {\"run_id\": \"AutoML_cccabceb-02c8-4d5c-901a-529f4bb3781c_5\", \"run_number\": 10, \"metric\": null, \"status\": \"Completed\", \"run_type\": \"azureml.scriptrun\", \"training_percent\": \"100\", \"start_time\": \"2021-01-19T17:00:07.016497Z\", \"end_time\": \"2021-01-19T17:00:59.40446Z\", \"created_time\": \"2021-01-19T16:59:53.383278Z\", \"created_time_dt\": \"2021-01-19T16:59:53.383278Z\", \"duration\": \"0:01:06\", \"iteration\": \"5\", \"goal\": \"accuracy_max\", \"run_name\": \"MinMaxScaler, SVM\", \"run_properties\": \"copy=True, feature_range=(0, 1\", \"primary_metric\": 0.70362319, \"best_metric\": 0.83297101}, {\"run_id\": \"AutoML_cccabceb-02c8-4d5c-901a-529f4bb3781c_6\", \"run_number\": 11, \"metric\": null, \"status\": \"Completed\", \"run_type\": \"azureml.scriptrun\", \"training_percent\": \"100\", \"start_time\": \"2021-01-19T17:01:16.704652Z\", \"end_time\": \"2021-01-19T17:02:05.205219Z\", \"created_time\": \"2021-01-19T17:01:02.652126Z\", \"created_time_dt\": \"2021-01-19T17:01:02.652126Z\", \"duration\": \"0:01:02\", \"iteration\": \"6\", \"goal\": \"accuracy_max\", \"run_name\": \"MaxAbsScaler, GradientBoosting\", \"run_properties\": \"copy=True\", \"primary_metric\": 0.84528986, \"best_metric\": 0.84528986}, {\"run_id\": \"AutoML_cccabceb-02c8-4d5c-901a-529f4bb3781c_7\", \"run_number\": 12, \"metric\": null, \"status\": \"Completed\", \"run_type\": \"azureml.scriptrun\", \"training_percent\": \"100\", \"start_time\": \"2021-01-19T17:02:46.379762Z\", \"end_time\": \"2021-01-19T17:03:14.474804Z\", \"created_time\": \"2021-01-19T17:02:06.923635Z\", \"created_time_dt\": \"2021-01-19T17:02:06.923635Z\", \"duration\": \"0:01:07\", \"iteration\": \"7\", \"goal\": \"accuracy_max\", \"run_name\": \"StandardScalerWrapper, RandomForest\", \"run_properties\": \"<azureml.automl.runtime.shared.model_wrappers.StandardScalerWrapper object at 0x7fa0c58c44a8\", \"primary_metric\": 0.83278986, \"best_metric\": 0.84528986}, {\"run_id\": \"AutoML_cccabceb-02c8-4d5c-901a-529f4bb3781c_8\", \"run_number\": 13, \"metric\": null, \"status\": \"Completed\", \"run_type\": \"azureml.scriptrun\", \"training_percent\": \"100\", \"start_time\": \"2021-01-19T17:03:27.752402Z\", \"end_time\": \"2021-01-19T17:04:16.260229Z\", \"created_time\": \"2021-01-19T17:03:16.226463Z\", \"created_time_dt\": \"2021-01-19T17:03:16.226463Z\", \"duration\": \"0:01:00\", \"iteration\": \"8\", \"goal\": \"accuracy_max\", \"run_name\": \"SparseNormalizer, XGBoostClassifier\", \"run_properties\": \"<azureml.automl.runtime.shared.model_wrappers.SparseNormalizer object at 0x7f42eb0b5240\", \"primary_metric\": 0.78278986, \"best_metric\": 0.84528986}, {\"run_id\": \"AutoML_cccabceb-02c8-4d5c-901a-529f4bb3781c_9\", \"run_number\": 14, \"metric\": null, \"status\": \"Completed\", \"run_type\": \"azureml.scriptrun\", \"training_percent\": \"100\", \"start_time\": \"2021-01-19T17:04:33.155337Z\", \"end_time\": \"2021-01-19T17:05:23.520665Z\", \"created_time\": \"2021-01-19T17:04:18.004088Z\", \"created_time_dt\": \"2021-01-19T17:04:18.004088Z\", \"duration\": \"0:01:05\", \"iteration\": \"9\", \"goal\": \"accuracy_max\", \"run_name\": \"SparseNormalizer, LightGBM\", \"run_properties\": \"<azureml.automl.runtime.shared.model_wrappers.SparseNormalizer object at 0x7fa0260d9b38\", \"primary_metric\": 0.77047101, \"best_metric\": 0.84528986}, {\"run_id\": \"AutoML_cccabceb-02c8-4d5c-901a-529f4bb3781c_10\", \"run_number\": 15, \"metric\": null, \"status\": \"Completed\", \"run_type\": \"azureml.scriptrun\", \"training_percent\": \"100\", \"start_time\": \"2021-01-19T17:05:43.386382Z\", \"end_time\": \"2021-01-19T17:06:29.45511Z\", \"created_time\": \"2021-01-19T17:05:25.457655Z\", \"created_time_dt\": \"2021-01-19T17:05:25.457655Z\", \"duration\": \"0:01:03\", \"iteration\": \"10\", \"goal\": \"accuracy_max\", \"run_name\": \"RobustScaler, RandomForest\", \"run_properties\": \"copy=True, quantile_range=[10, 90], with_centering=True,\\n             with_scaling=True\", \"primary_metric\": 0.84528986, \"best_metric\": 0.84528986}, {\"run_id\": \"AutoML_cccabceb-02c8-4d5c-901a-529f4bb3781c_11\", \"run_number\": 16, \"metric\": null, \"status\": \"Completed\", \"run_type\": \"azureml.scriptrun\", \"training_percent\": \"100\", \"start_time\": \"2021-01-19T17:06:44.09221Z\", \"end_time\": \"2021-01-19T17:08:26.697726Z\", \"created_time\": \"2021-01-19T17:06:31.299828Z\", \"created_time_dt\": \"2021-01-19T17:06:31.299828Z\", \"duration\": \"0:01:55\", \"iteration\": \"11\", \"goal\": \"accuracy_max\", \"run_name\": \"MaxAbsScaler, LightGBM\", \"run_properties\": \"copy=True\", \"primary_metric\": 0.83278986, \"best_metric\": 0.84528986}, {\"run_id\": \"AutoML_cccabceb-02c8-4d5c-901a-529f4bb3781c_12\", \"run_number\": 17, \"metric\": null, \"status\": \"Completed\", \"run_type\": \"azureml.scriptrun\", \"training_percent\": \"100\", \"start_time\": \"2021-01-19T17:08:45.268119Z\", \"end_time\": \"2021-01-19T17:09:28.264358Z\", \"created_time\": \"2021-01-19T17:08:30.673768Z\", \"created_time_dt\": \"2021-01-19T17:08:30.673768Z\", \"duration\": \"0:00:57\", \"iteration\": \"12\", \"goal\": \"accuracy_max\", \"run_name\": \"RobustScaler, ExtremeRandomTrees\", \"run_properties\": \"copy=True, quantile_range=[25, 75], with_centering=True,\\n             with_scaling=False\", \"primary_metric\": 0.84112319, \"best_metric\": 0.84528986}, {\"run_id\": \"AutoML_cccabceb-02c8-4d5c-901a-529f4bb3781c_13\", \"run_number\": 18, \"metric\": null, \"status\": \"Completed\", \"run_type\": \"azureml.scriptrun\", \"training_percent\": \"100\", \"start_time\": \"2021-01-19T17:09:46.011613Z\", \"end_time\": \"2021-01-19T17:10:35.164466Z\", \"created_time\": \"2021-01-19T17:09:31.704157Z\", \"created_time_dt\": \"2021-01-19T17:09:31.704157Z\", \"duration\": \"0:01:03\", \"iteration\": \"13\", \"goal\": \"accuracy_max\", \"run_name\": \"SparseNormalizer, XGBoostClassifier\", \"run_properties\": \"<azureml.automl.runtime.shared.model_wrappers.SparseNormalizer object at 0x7f18dba3ddd8\", \"primary_metric\": 0.77427536, \"best_metric\": 0.84528986}, {\"run_id\": \"AutoML_cccabceb-02c8-4d5c-901a-529f4bb3781c_14\", \"run_number\": 19, \"metric\": null, \"status\": \"Completed\", \"run_type\": \"azureml.scriptrun\", \"training_percent\": \"100\", \"start_time\": \"2021-01-19T17:10:53.286702Z\", \"end_time\": \"2021-01-19T17:11:41.982654Z\", \"created_time\": \"2021-01-19T17:10:38.427678Z\", \"created_time_dt\": \"2021-01-19T17:10:38.427678Z\", \"duration\": \"0:01:03\", \"iteration\": \"14\", \"goal\": \"accuracy_max\", \"run_name\": \"StandardScalerWrapper, ExtremeRandomTrees\", \"run_properties\": \"<azureml.automl.runtime.shared.model_wrappers.StandardScalerWrapper object at 0x7fd7b39b9eb8\", \"primary_metric\": 0.82445652, \"best_metric\": 0.84528986}, {\"run_id\": \"AutoML_cccabceb-02c8-4d5c-901a-529f4bb3781c_15\", \"run_number\": 20, \"metric\": null, \"status\": \"Completed\", \"run_type\": \"azureml.scriptrun\", \"training_percent\": \"100\", \"start_time\": \"2021-01-19T17:12:04.96937Z\", \"end_time\": \"2021-01-19T17:12:54.612476Z\", \"created_time\": \"2021-01-19T17:11:46.298285Z\", \"created_time_dt\": \"2021-01-19T17:11:46.298285Z\", \"duration\": \"0:01:08\", \"iteration\": \"15\", \"goal\": \"accuracy_max\", \"run_name\": \"StandardScalerWrapper, XGBoostClassifier\", \"run_properties\": \"<azureml.automl.runtime.shared.model_wrappers.StandardScalerWrapper object at 0x7f65aad56da0\", \"primary_metric\": 0.78677536, \"best_metric\": 0.84528986}, {\"run_id\": \"AutoML_cccabceb-02c8-4d5c-901a-529f4bb3781c_16\", \"run_number\": 21, \"metric\": null, \"status\": \"Completed\", \"run_type\": \"azureml.scriptrun\", \"training_percent\": \"100\", \"start_time\": \"2021-01-19T17:13:14.841744Z\", \"end_time\": \"2021-01-19T17:14:06.959252Z\", \"created_time\": \"2021-01-19T17:12:59.736592Z\", \"created_time_dt\": \"2021-01-19T17:12:59.736592Z\", \"duration\": \"0:01:07\", \"iteration\": \"16\", \"goal\": \"accuracy_max\", \"run_name\": \"StandardScalerWrapper, GradientBoosting\", \"run_properties\": \"<azureml.automl.runtime.shared.model_wrappers.StandardScalerWrapper object at 0x7f31b27b6630\", \"primary_metric\": 0.82445652, \"best_metric\": 0.84528986}, {\"run_id\": \"AutoML_cccabceb-02c8-4d5c-901a-529f4bb3781c_17\", \"run_number\": 22, \"metric\": null, \"status\": \"Completed\", \"run_type\": \"azureml.scriptrun\", \"training_percent\": \"100\", \"start_time\": \"2021-01-19T17:14:26.398411Z\", \"end_time\": \"2021-01-19T17:15:22.971413Z\", \"created_time\": \"2021-01-19T17:14:08.937224Z\", \"created_time_dt\": \"2021-01-19T17:14:08.937224Z\", \"duration\": \"0:01:14\", \"iteration\": \"17\", \"goal\": \"accuracy_max\", \"run_name\": \"StandardScalerWrapper, ExtremeRandomTrees\", \"run_properties\": \"<azureml.automl.runtime.shared.model_wrappers.StandardScalerWrapper object at 0x7f86d7f5fc88\", \"primary_metric\": 0.71974638, \"best_metric\": 0.84528986}, {\"run_id\": \"AutoML_cccabceb-02c8-4d5c-901a-529f4bb3781c_18\", \"run_number\": 23, \"metric\": null, \"status\": \"Completed\", \"run_type\": \"azureml.scriptrun\", \"training_percent\": \"100\", \"start_time\": \"2021-01-19T17:15:37.920614Z\", \"end_time\": \"2021-01-19T17:16:31.104837Z\", \"created_time\": \"2021-01-19T17:15:24.803387Z\", \"created_time_dt\": \"2021-01-19T17:15:24.803387Z\", \"duration\": \"0:01:06\", \"iteration\": \"18\", \"goal\": \"accuracy_max\", \"run_name\": \"MaxAbsScaler, RandomForest\", \"run_properties\": \"copy=True\", \"primary_metric\": 0.81213768, \"best_metric\": 0.84528986}, {\"run_id\": \"AutoML_cccabceb-02c8-4d5c-901a-529f4bb3781c_19\", \"run_number\": 24, \"metric\": null, \"status\": \"Completed\", \"run_type\": \"azureml.scriptrun\", \"training_percent\": \"100\", \"start_time\": \"2021-01-19T17:16:45.218307Z\", \"end_time\": \"2021-01-19T17:17:40.590885Z\", \"created_time\": \"2021-01-19T17:16:32.993814Z\", \"created_time_dt\": \"2021-01-19T17:16:32.993814Z\", \"duration\": \"0:01:07\", \"iteration\": \"19\", \"goal\": \"accuracy_max\", \"run_name\": \"StandardScalerWrapper, XGBoostClassifier\", \"run_properties\": \"<azureml.automl.runtime.shared.model_wrappers.StandardScalerWrapper object at 0x7f5ebd87c8d0\", \"primary_metric\": 0.82844203, \"best_metric\": 0.84528986}, {\"run_id\": \"AutoML_cccabceb-02c8-4d5c-901a-529f4bb3781c_20\", \"run_number\": 25, \"metric\": null, \"status\": \"Completed\", \"run_type\": \"azureml.scriptrun\", \"training_percent\": \"100\", \"start_time\": \"2021-01-19T17:18:00.417004Z\", \"end_time\": \"2021-01-19T17:18:52.487724Z\", \"created_time\": \"2021-01-19T17:17:43.223117Z\", \"created_time_dt\": \"2021-01-19T17:17:43.223117Z\", \"duration\": \"0:01:09\", \"iteration\": \"20\", \"goal\": \"accuracy_max\", \"run_name\": \"RobustScaler, KNN\", \"run_properties\": \"copy=True, quantile_range=[25, 75], with_centering=True,\\n             with_scaling=False\", \"primary_metric\": 0.61956522, \"best_metric\": 0.84528986}, {\"run_id\": \"AutoML_cccabceb-02c8-4d5c-901a-529f4bb3781c_21\", \"run_number\": 26, \"metric\": null, \"status\": \"Completed\", \"run_type\": \"azureml.scriptrun\", \"training_percent\": \"100\", \"start_time\": \"2021-01-19T17:19:09.526271Z\", \"end_time\": \"2021-01-19T17:20:03.800219Z\", \"created_time\": \"2021-01-19T17:18:54.854349Z\", \"created_time_dt\": \"2021-01-19T17:18:54.854349Z\", \"duration\": \"0:01:08\", \"iteration\": \"21\", \"goal\": \"accuracy_max\", \"run_name\": \"MaxAbsScaler, ExtremeRandomTrees\", \"run_properties\": \"copy=True\", \"primary_metric\": 0.7701087, \"best_metric\": 0.84528986}, {\"run_id\": \"AutoML_cccabceb-02c8-4d5c-901a-529f4bb3781c_22\", \"run_number\": 27, \"metric\": null, \"status\": \"Completed\", \"run_type\": \"azureml.scriptrun\", \"training_percent\": \"100\", \"start_time\": \"2021-01-19T17:20:21.032836Z\", \"end_time\": \"2021-01-19T17:21:06.422271Z\", \"created_time\": \"2021-01-19T17:20:06.664497Z\", \"created_time_dt\": \"2021-01-19T17:20:06.664497Z\", \"duration\": \"0:00:59\", \"iteration\": \"22\", \"goal\": \"accuracy_max\", \"run_name\": \"SparseNormalizer, LightGBM\", \"run_properties\": \"<azureml.automl.runtime.shared.model_wrappers.SparseNormalizer object at 0x7f249ca924e0\", \"primary_metric\": 0.77445652, \"best_metric\": 0.84528986}, {\"run_id\": \"AutoML_cccabceb-02c8-4d5c-901a-529f4bb3781c_23\", \"run_number\": 28, \"metric\": null, \"status\": \"Completed\", \"run_type\": \"azureml.scriptrun\", \"training_percent\": \"100\", \"start_time\": \"2021-01-19T17:21:21.712889Z\", \"end_time\": \"2021-01-19T17:22:09.242504Z\", \"created_time\": \"2021-01-19T17:21:08.88319Z\", \"created_time_dt\": \"2021-01-19T17:21:08.88319Z\", \"duration\": \"0:01:00\", \"iteration\": \"23\", \"goal\": \"accuracy_max\", \"run_name\": \"MaxAbsScaler, LightGBM\", \"run_properties\": \"copy=True\", \"primary_metric\": 0.82844203, \"best_metric\": 0.84528986}, {\"run_id\": \"AutoML_cccabceb-02c8-4d5c-901a-529f4bb3781c_24\", \"run_number\": 29, \"metric\": null, \"status\": \"Completed\", \"run_type\": \"azureml.scriptrun\", \"training_percent\": \"100\", \"start_time\": \"2021-01-19T17:22:31.400325Z\", \"end_time\": \"2021-01-19T17:23:25.465857Z\", \"created_time\": \"2021-01-19T17:22:12.018604Z\", \"created_time_dt\": \"2021-01-19T17:22:12.018604Z\", \"duration\": \"0:01:13\", \"iteration\": \"24\", \"goal\": \"accuracy_max\", \"run_name\": \"SparseNormalizer, LightGBM\", \"run_properties\": \"<azureml.automl.runtime.shared.model_wrappers.SparseNormalizer object at 0x7fccffdb0518\", \"primary_metric\": 0.79112319, \"best_metric\": 0.84528986}, {\"run_id\": \"AutoML_cccabceb-02c8-4d5c-901a-529f4bb3781c_25\", \"run_number\": 30, \"metric\": null, \"status\": \"Completed\", \"run_type\": \"azureml.scriptrun\", \"training_percent\": \"100\", \"start_time\": \"2021-01-19T17:23:44.62516Z\", \"end_time\": \"2021-01-19T17:24:36.444755Z\", \"created_time\": \"2021-01-19T17:23:29.434494Z\", \"created_time_dt\": \"2021-01-19T17:23:29.434494Z\", \"duration\": \"0:01:07\", \"iteration\": \"25\", \"goal\": \"accuracy_max\", \"run_name\": \"TruncatedSVDWrapper, GradientBoosting\", \"run_properties\": \"n_components=0.05947368421052632, random_state=None\", \"primary_metric\": 0.65706522, \"best_metric\": 0.84528986}, {\"run_id\": \"AutoML_cccabceb-02c8-4d5c-901a-529f4bb3781c_26\", \"run_number\": 31, \"metric\": null, \"status\": \"Completed\", \"run_type\": \"azureml.scriptrun\", \"training_percent\": \"100\", \"start_time\": \"2021-01-19T17:24:51.775224Z\", \"end_time\": \"2021-01-19T17:25:45.615311Z\", \"created_time\": \"2021-01-19T17:24:38.61183Z\", \"created_time_dt\": \"2021-01-19T17:24:38.61183Z\", \"duration\": \"0:01:07\", \"iteration\": \"26\", \"goal\": \"accuracy_max\", \"run_name\": \"MaxAbsScaler, LightGBM\", \"run_properties\": \"copy=True\", \"primary_metric\": 0.82427536, \"best_metric\": 0.84528986}, {\"run_id\": \"AutoML_cccabceb-02c8-4d5c-901a-529f4bb3781c_27\", \"run_number\": 32, \"metric\": null, \"status\": \"Completed\", \"run_type\": \"azureml.scriptrun\", \"training_percent\": \"100\", \"start_time\": \"2021-01-19T17:26:04.575385Z\", \"end_time\": \"2021-01-19T17:26:52.351373Z\", \"created_time\": \"2021-01-19T17:25:47.53708Z\", \"created_time_dt\": \"2021-01-19T17:25:47.53708Z\", \"duration\": \"0:01:04\", \"iteration\": \"27\", \"goal\": \"accuracy_max\", \"run_name\": \"RobustScaler, RandomForest\", \"run_properties\": \"copy=True, quantile_range=[25, 75], with_centering=False,\\n             with_scaling=True\", \"primary_metric\": 0.84112319, \"best_metric\": 0.84528986}, {\"run_id\": \"AutoML_cccabceb-02c8-4d5c-901a-529f4bb3781c_28\", \"run_number\": 33, \"metric\": null, \"status\": \"Completed\", \"run_type\": \"azureml.scriptrun\", \"training_percent\": \"100\", \"start_time\": \"2021-01-19T17:27:47.621989Z\", \"end_time\": \"2021-01-19T17:28:25.205742Z\", \"created_time\": \"2021-01-19T17:26:53.935795Z\", \"created_time_dt\": \"2021-01-19T17:26:53.935795Z\", \"duration\": \"0:01:31\", \"iteration\": \"28\", \"goal\": \"accuracy_max\", \"run_name\": \"MaxAbsScaler, LightGBM\", \"run_properties\": \"copy=True\", \"primary_metric\": 0.84547101, \"best_metric\": 0.84547101}, {\"run_id\": \"AutoML_cccabceb-02c8-4d5c-901a-529f4bb3781c_29\", \"run_number\": 34, \"metric\": null, \"status\": \"Completed\", \"run_type\": \"azureml.scriptrun\", \"training_percent\": \"100\", \"start_time\": \"2021-01-19T17:28:51.027241Z\", \"end_time\": \"2021-01-19T17:29:32.830958Z\", \"created_time\": \"2021-01-19T17:28:30.347636Z\", \"created_time_dt\": \"2021-01-19T17:28:30.347636Z\", \"duration\": \"0:01:02\", \"iteration\": \"29\", \"goal\": \"accuracy_max\", \"run_name\": \"RobustScaler, RandomForest\", \"run_properties\": \"copy=True, quantile_range=[10, 90], with_centering=True,\\n             with_scaling=True\", \"primary_metric\": 0.8326087, \"best_metric\": 0.84547101}, {\"run_id\": \"AutoML_cccabceb-02c8-4d5c-901a-529f4bb3781c_30\", \"run_number\": 35, \"metric\": null, \"status\": \"Completed\", \"run_type\": \"azureml.scriptrun\", \"training_percent\": \"100\", \"start_time\": \"2021-01-19T17:29:53.297552Z\", \"end_time\": \"2021-01-19T17:30:30.483791Z\", \"created_time\": \"2021-01-19T17:29:38.123076Z\", \"created_time_dt\": \"2021-01-19T17:29:38.123076Z\", \"duration\": \"0:00:52\", \"iteration\": \"30\", \"goal\": \"accuracy_max\", \"run_name\": \"MinMaxScaler, LightGBM\", \"run_properties\": \"copy=True, feature_range=(0, 1\", \"primary_metric\": 0.8326087, \"best_metric\": 0.84547101}, {\"run_id\": \"AutoML_cccabceb-02c8-4d5c-901a-529f4bb3781c_31\", \"run_number\": 36, \"metric\": null, \"status\": \"Completed\", \"run_type\": \"azureml.scriptrun\", \"training_percent\": \"100\", \"start_time\": \"2021-01-19T17:30:46.218568Z\", \"end_time\": \"2021-01-19T17:31:35.101294Z\", \"created_time\": \"2021-01-19T17:30:32.780524Z\", \"created_time_dt\": \"2021-01-19T17:30:32.780524Z\", \"duration\": \"0:01:02\", \"iteration\": \"31\", \"goal\": \"accuracy_max\", \"run_name\": \"StandardScalerWrapper, ExtremeRandomTrees\", \"run_properties\": \"<azureml.automl.runtime.shared.model_wrappers.StandardScalerWrapper object at 0x7f308d9b9860\", \"primary_metric\": 0.7365942, \"best_metric\": 0.84547101}, {\"run_id\": \"AutoML_cccabceb-02c8-4d5c-901a-529f4bb3781c_32\", \"run_number\": 37, \"metric\": null, \"status\": \"Completed\", \"run_type\": \"azureml.scriptrun\", \"training_percent\": \"100\", \"start_time\": \"2021-01-19T17:31:54.545932Z\", \"end_time\": \"2021-01-19T17:33:07.372486Z\", \"created_time\": \"2021-01-19T17:31:37.694847Z\", \"created_time_dt\": \"2021-01-19T17:31:37.694847Z\", \"duration\": \"0:01:29\", \"iteration\": \"32\", \"goal\": \"accuracy_max\", \"run_name\": \"MinMaxScaler, LightGBM\", \"run_properties\": \"copy=True, feature_range=(0, 1\", \"primary_metric\": 0.84528986, \"best_metric\": 0.84547101}, {\"run_id\": \"AutoML_cccabceb-02c8-4d5c-901a-529f4bb3781c_33\", \"run_number\": 38, \"metric\": null, \"status\": \"Completed\", \"run_type\": \"azureml.scriptrun\", \"training_percent\": \"100\", \"start_time\": \"2021-01-19T17:33:22.25415Z\", \"end_time\": \"2021-01-19T17:34:08.58808Z\", \"created_time\": \"2021-01-19T17:33:09.258788Z\", \"created_time_dt\": \"2021-01-19T17:33:09.258788Z\", \"duration\": \"0:00:59\", \"iteration\": \"33\", \"goal\": \"accuracy_max\", \"run_name\": \"StandardScalerWrapper, GradientBoosting\", \"run_properties\": \"<azureml.automl.runtime.shared.model_wrappers.StandardScalerWrapper object at 0x7f2a52974f28\", \"primary_metric\": 0.84528986, \"best_metric\": 0.84547101}, {\"run_id\": \"AutoML_cccabceb-02c8-4d5c-901a-529f4bb3781c_34\", \"run_number\": 39, \"metric\": null, \"status\": \"Completed\", \"run_type\": \"azureml.scriptrun\", \"training_percent\": \"100\", \"start_time\": \"2021-01-19T17:34:21.732119Z\", \"end_time\": \"2021-01-19T17:35:12.188595Z\", \"created_time\": \"2021-01-19T17:34:10.849494Z\", \"created_time_dt\": \"2021-01-19T17:34:10.849494Z\", \"duration\": \"0:01:01\", \"iteration\": \"34\", \"goal\": \"accuracy_max\", \"run_name\": \"RobustScaler, LightGBM\", \"run_properties\": \"copy=True, quantile_range=[10, 90], with_centering=False,\\n             with_scaling=False\", \"primary_metric\": 0.79945652, \"best_metric\": 0.84547101}, {\"run_id\": \"AutoML_cccabceb-02c8-4d5c-901a-529f4bb3781c_35\", \"run_number\": 40, \"metric\": null, \"status\": \"Completed\", \"run_type\": \"azureml.scriptrun\", \"training_percent\": \"100\", \"start_time\": \"2021-01-19T17:35:28.965932Z\", \"end_time\": \"2021-01-19T17:36:12.988682Z\", \"created_time\": \"2021-01-19T17:35:14.908742Z\", \"created_time_dt\": \"2021-01-19T17:35:14.908742Z\", \"duration\": \"0:00:58\", \"iteration\": \"35\", \"goal\": \"accuracy_max\", \"run_name\": \"MaxAbsScaler, LightGBM\", \"run_properties\": \"copy=True\", \"primary_metric\": 0.8076087, \"best_metric\": 0.84547101}, {\"run_id\": \"AutoML_cccabceb-02c8-4d5c-901a-529f4bb3781c_36\", \"run_number\": 41, \"metric\": null, \"status\": \"Completed\", \"run_type\": \"azureml.scriptrun\", \"training_percent\": \"100\", \"start_time\": \"2021-01-19T17:36:28.562306Z\", \"end_time\": \"2021-01-19T17:37:13.283511Z\", \"created_time\": \"2021-01-19T17:36:14.923926Z\", \"created_time_dt\": \"2021-01-19T17:36:14.923926Z\", \"duration\": \"0:00:58\", \"iteration\": \"36\", \"goal\": \"accuracy_max\", \"run_name\": \"SparseNormalizer, LightGBM\", \"run_properties\": \"<azureml.automl.runtime.shared.model_wrappers.SparseNormalizer object at 0x7f16ea69eba8\", \"primary_metric\": 0.78297101, \"best_metric\": 0.84547101}, {\"run_id\": \"AutoML_cccabceb-02c8-4d5c-901a-529f4bb3781c_37\", \"run_number\": 42, \"metric\": null, \"status\": \"Completed\", \"run_type\": \"azureml.scriptrun\", \"training_percent\": \"100\", \"start_time\": \"2021-01-19T17:37:27.929693Z\", \"end_time\": \"2021-01-19T17:38:24.250677Z\", \"created_time\": \"2021-01-19T17:37:14.901702Z\", \"created_time_dt\": \"2021-01-19T17:37:14.901702Z\", \"duration\": \"0:01:09\", \"iteration\": \"37\", \"goal\": \"accuracy_max\", \"run_name\": \"StandardScalerWrapper, RandomForest\", \"run_properties\": \"<azureml.automl.runtime.shared.model_wrappers.StandardScalerWrapper object at 0x7f25f5264438\", \"primary_metric\": 0.84528986, \"best_metric\": 0.84547101}, {\"run_id\": \"AutoML_cccabceb-02c8-4d5c-901a-529f4bb3781c_38\", \"run_number\": 43, \"metric\": null, \"status\": \"Completed\", \"run_type\": \"azureml.scriptrun\", \"training_percent\": \"100\", \"start_time\": \"2021-01-19T17:38:46.409184Z\", \"end_time\": \"2021-01-19T17:39:40.569518Z\", \"created_time\": \"2021-01-19T17:38:29.016537Z\", \"created_time_dt\": \"2021-01-19T17:38:29.016537Z\", \"duration\": \"0:01:11\", \"iteration\": \"38\", \"goal\": \"accuracy_max\", \"run_name\": \"RobustScaler, RandomForest\", \"run_properties\": \"copy=True, quantile_range=[10, 90], with_centering=True,\\n             with_scaling=False\", \"primary_metric\": 0.82427536, \"best_metric\": 0.84547101}, {\"run_id\": \"AutoML_cccabceb-02c8-4d5c-901a-529f4bb3781c_39\", \"run_number\": 44, \"metric\": null, \"status\": \"Completed\", \"run_type\": \"azureml.scriptrun\", \"training_percent\": \"100\", \"start_time\": \"2021-01-19T17:39:56.220686Z\", \"end_time\": \"2021-01-19T17:41:53.795568Z\", \"created_time\": \"2021-01-19T17:39:42.220053Z\", \"created_time_dt\": \"2021-01-19T17:39:42.220053Z\", \"duration\": \"0:02:11\", \"iteration\": \"39\", \"goal\": \"accuracy_max\", \"run_name\": \"VotingEnsemble\", \"run_properties\": \"classification_labels=None,\\n                              estimators=[('28',\\n                                           Pipeline(memory=None,\\n                                                    steps=[('maxabsscaler',\\n                                                            MaxAbsScaler(copy=True\", \"primary_metric\": 0.85362319, \"best_metric\": 0.85362319}, {\"run_id\": \"AutoML_cccabceb-02c8-4d5c-901a-529f4bb3781c_40\", \"run_number\": 45, \"metric\": null, \"status\": \"Completed\", \"run_type\": \"azureml.scriptrun\", \"training_percent\": \"100\", \"start_time\": \"2021-01-19T17:42:24.759745Z\", \"end_time\": \"2021-01-19T17:44:22.462704Z\", \"created_time\": \"2021-01-19T17:41:56.497301Z\", \"created_time_dt\": \"2021-01-19T17:41:56.497301Z\", \"duration\": \"0:02:25\", \"iteration\": \"40\", \"goal\": \"accuracy_max\", \"run_name\": \"StackEnsemble\", \"run_properties\": \"base_learners=[('28',\\n                                        Pipeline(memory=None,\\n                                                 steps=[('maxabsscaler',\\n                                                         MaxAbsScaler(copy=True\", \"primary_metric\": 0.84528986, \"best_metric\": 0.85362319}], \"children_metrics\": {\"categories\": [0], \"series\": {\"AUC_weighted\": [{\"categories\": [\"0\", \"1\", \"2\", \"3\", \"4\", \"5\", \"6\", \"7\", \"8\", \"9\", \"10\", \"11\", \"12\", \"13\", \"14\", \"15\", \"16\", \"17\", \"18\", \"19\", \"20\", \"21\", \"22\", \"23\", \"24\", \"25\", \"26\", \"27\", \"28\", \"29\", \"30\", \"31\", \"32\", \"33\", \"34\", \"35\", \"36\", \"37\", \"38\", \"39\", \"40\"], \"mode\": \"markers\", \"name\": \"AUC_weighted\", \"stepped\": false, \"type\": \"scatter\", \"data\": [0.8900892857142857, 0.887889384920635, 0.8887814153439153, 0.886860119047619, 0.8721502976190475, 0.7138797949735449, 0.9098222552910051, 0.8999107142857141, 0.862662037037037, 0.8500934193121694, 0.9042683531746032, 0.900191798941799, 0.8777025462962962, 0.8158349867724868, 0.8829083994708995, 0.8709573412698413, 0.906707175925926, 0.8465947420634923, 0.8984970238095238, 0.8929931382275133, 0.6022718253968254, 0.8371668320105821, 0.8601099537037037, 0.883791335978836, 0.8412979497354497, 0.5460941633597883, 0.8858341600529102, 0.9040691137566139, 0.9047412367724867, 0.8985243055555557, 0.9068638392857145, 0.8599950396825398, 0.9093840939153439, 0.9008655753968254, 0.8699594907407409, 0.9004778439153439, 0.8533159722222223, 0.9108506944444444, 0.904746197089947, 0.9100727513227511, 0.9093584656084654]}, {\"categories\": [\"0\", \"1\", \"2\", \"3\", \"4\", \"5\", \"6\", \"7\", \"8\", \"9\", \"10\", \"11\", \"12\", \"13\", \"14\", \"15\", \"16\", \"17\", \"18\", \"19\", \"20\", \"21\", \"22\", \"23\", \"24\", \"25\", \"26\", \"27\", \"28\", \"29\", \"30\", \"31\", \"32\", \"33\", \"34\", \"35\", \"36\", \"37\", \"38\", \"39\", \"40\"], \"mode\": \"lines\", \"name\": \"AUC_weighted_max\", \"stepped\": true, \"type\": \"scatter\", \"data\": [0.8900892857142857, 0.8900892857142857, 0.8900892857142857, 0.8900892857142857, 0.8900892857142857, 0.8900892857142857, 0.9098222552910051, 0.9098222552910051, 0.9098222552910051, 0.9098222552910051, 0.9098222552910051, 0.9098222552910051, 0.9098222552910051, 0.9098222552910051, 0.9098222552910051, 0.9098222552910051, 0.9098222552910051, 0.9098222552910051, 0.9098222552910051, 0.9098222552910051, 0.9098222552910051, 0.9098222552910051, 0.9098222552910051, 0.9098222552910051, 0.9098222552910051, 0.9098222552910051, 0.9098222552910051, 0.9098222552910051, 0.9098222552910051, 0.9098222552910051, 0.9098222552910051, 0.9098222552910051, 0.9098222552910051, 0.9098222552910051, 0.9098222552910051, 0.9098222552910051, 0.9098222552910051, 0.9108506944444444, 0.9108506944444444, 0.9108506944444444, 0.9108506944444444]}], \"precision_score_weighted\": [{\"categories\": [\"0\", \"1\", \"2\", \"3\", \"4\", \"5\", \"6\", \"7\", \"8\", \"9\", \"10\", \"11\", \"12\", \"13\", \"14\", \"15\", \"16\", \"17\", \"18\", \"19\", \"20\", \"21\", \"22\", \"23\", \"24\", \"25\", \"26\", \"27\", \"28\", \"29\", \"30\", \"31\", \"32\", \"33\", \"34\", \"35\", \"36\", \"37\", \"38\", \"39\", \"40\"], \"mode\": \"markers\", \"name\": \"precision_score_weighted\", \"stepped\": false, \"type\": \"scatter\", \"data\": [0.8264842830302515, 0.8525607416879796, 0.8490202915643756, 0.8379451745564277, 0.8486241780651147, 0.6823673329096334, 0.8578423126496976, 0.847454143493146, 0.799568343734744, 0.7867356608533079, 0.8622822344517518, 0.8520062713618375, 0.8606327677385357, 0.768423966014069, 0.8521847288368691, 0.7920994363929147, 0.8363480515680719, 0.7151181766999845, 0.8311492091867143, 0.839758201919327, 0.6074978111795187, 0.7954526214473298, 0.7856922933145759, 0.8424620612408337, 0.7960480732147931, 0.4350251391514388, 0.836742162444688, 0.8564179720801365, 0.8563988687262343, 0.8474286630001144, 0.8465893985792776, 0.7243479960056047, 0.8590721795964763, 0.860944407654366, 0.8178590600364226, 0.8192019148111825, 0.7882770491873332, 0.8663279004551383, 0.8359213625338144, 0.8666579639102017, 0.8597961914234291]}, {\"categories\": [\"0\", \"1\", \"2\", \"3\", \"4\", \"5\", \"6\", \"7\", \"8\", \"9\", \"10\", \"11\", \"12\", \"13\", \"14\", \"15\", \"16\", \"17\", \"18\", \"19\", \"20\", \"21\", \"22\", \"23\", \"24\", \"25\", \"26\", \"27\", \"28\", \"29\", \"30\", \"31\", \"32\", \"33\", \"34\", \"35\", \"36\", \"37\", \"38\", \"39\", \"40\"], \"mode\": \"lines\", \"name\": \"precision_score_weighted_max\", \"stepped\": true, \"type\": \"scatter\", \"data\": [0.8264842830302515, 0.8525607416879796, 0.8525607416879796, 0.8525607416879796, 0.8525607416879796, 0.8525607416879796, 0.8578423126496976, 0.8578423126496976, 0.8578423126496976, 0.8578423126496976, 0.8622822344517518, 0.8622822344517518, 0.8622822344517518, 0.8622822344517518, 0.8622822344517518, 0.8622822344517518, 0.8622822344517518, 0.8622822344517518, 0.8622822344517518, 0.8622822344517518, 0.8622822344517518, 0.8622822344517518, 0.8622822344517518, 0.8622822344517518, 0.8622822344517518, 0.8622822344517518, 0.8622822344517518, 0.8622822344517518, 0.8622822344517518, 0.8622822344517518, 0.8622822344517518, 0.8622822344517518, 0.8622822344517518, 0.8622822344517518, 0.8622822344517518, 0.8622822344517518, 0.8622822344517518, 0.8663279004551383, 0.8663279004551383, 0.8666579639102017, 0.8666579639102017]}], \"norm_macro_recall\": [{\"categories\": [\"0\", \"1\", \"2\", \"3\", \"4\", \"5\", \"6\", \"7\", \"8\", \"9\", \"10\", \"11\", \"12\", \"13\", \"14\", \"15\", \"16\", \"17\", \"18\", \"19\", \"20\", \"21\", \"22\", \"23\", \"24\", \"25\", \"26\", \"27\", \"28\", \"29\", \"30\", \"31\", \"32\", \"33\", \"34\", \"35\", \"36\", \"37\", \"38\", \"39\", \"40\"], \"mode\": \"markers\", \"name\": \"norm_macro_recall\", \"stepped\": false, \"type\": \"scatter\", \"data\": [0.5472420634920635, 0.6146626984126984, 0.6169642857142857, 0.5543253968253967, 0.6365674603174603, 0.2479761904761905, 0.641547619047619, 0.6054365079365078, 0.48867063492063495, 0.45130952380952394, 0.6397222222222222, 0.5927777777777777, 0.589484126984127, 0.4573412698412699, 0.5403174603174603, 0.47555555555555556, 0.5944642857142857, 0.20496031746031745, 0.5181944444444444, 0.576031746031746, 0.1308928571428571, 0.524781746031746, 0.4693650793650795, 0.5696230158730159, 0.44011904761904763, 0.0, 0.5887896825396826, 0.629047619047619, 0.6332738095238095, 0.625436507936508, 0.5689285714285715, 0.25799603174603175, 0.6361904761904762, 0.6457142857142857, 0.49509920634920646, 0.4890079365079365, 0.4124603174603175, 0.6744246031746032, 0.5694047619047617, 0.6573015873015873, 0.6446031746031746]}, {\"categories\": [\"0\", \"1\", \"2\", \"3\", \"4\", \"5\", \"6\", \"7\", \"8\", \"9\", \"10\", \"11\", \"12\", \"13\", \"14\", \"15\", \"16\", \"17\", \"18\", \"19\", \"20\", \"21\", \"22\", \"23\", \"24\", \"25\", \"26\", \"27\", \"28\", \"29\", \"30\", \"31\", \"32\", \"33\", \"34\", \"35\", \"36\", \"37\", \"38\", \"39\", \"40\"], \"mode\": \"lines\", \"name\": \"norm_macro_recall_max\", \"stepped\": true, \"type\": \"scatter\", \"data\": [0.5472420634920635, 0.6146626984126984, 0.6169642857142857, 0.6169642857142857, 0.6365674603174603, 0.6365674603174603, 0.641547619047619, 0.641547619047619, 0.641547619047619, 0.641547619047619, 0.641547619047619, 0.641547619047619, 0.641547619047619, 0.641547619047619, 0.641547619047619, 0.641547619047619, 0.641547619047619, 0.641547619047619, 0.641547619047619, 0.641547619047619, 0.641547619047619, 0.641547619047619, 0.641547619047619, 0.641547619047619, 0.641547619047619, 0.641547619047619, 0.641547619047619, 0.641547619047619, 0.641547619047619, 0.641547619047619, 0.641547619047619, 0.641547619047619, 0.641547619047619, 0.6457142857142857, 0.6457142857142857, 0.6457142857142857, 0.6457142857142857, 0.6744246031746032, 0.6744246031746032, 0.6744246031746032, 0.6744246031746032]}], \"AUC_micro\": [{\"categories\": [\"0\", \"1\", \"2\", \"3\", \"4\", \"5\", \"6\", \"7\", \"8\", \"9\", \"10\", \"11\", \"12\", \"13\", \"14\", \"15\", \"16\", \"17\", \"18\", \"19\", \"20\", \"21\", \"22\", \"23\", \"24\", \"25\", \"26\", \"27\", \"28\", \"29\", \"30\", \"31\", \"32\", \"33\", \"34\", \"35\", \"36\", \"37\", \"38\", \"39\", \"40\"], \"mode\": \"markers\", \"name\": \"AUC_micro\", \"stepped\": false, \"type\": \"scatter\", \"data\": [0.8869486452425962, 0.8970683023524471, 0.8993213085486242, 0.8951392170762447, 0.8852049858223063, 0.7608761289645033, 0.9116939718546524, 0.9021762103549674, 0.877585131800042, 0.8641091026044949, 0.9082834488552827, 0.9025234325771898, 0.8887579421340055, 0.8456331390464188, 0.8898921576349507, 0.8770180240495694, 0.9094370274102079, 0.82705675015753, 0.891794331547994, 0.9036267984667086, 0.6684231253938248, 0.8415396581600504, 0.8785650992438564, 0.8893906873555976, 0.8604478444654484, 0.6779408868935098, 0.8949695442134006, 0.9090898051879858, 0.9066244617727367, 0.9015976160470489, 0.8975349847721068, 0.8430443971854652, 0.9085689718546524, 0.9030212927956311, 0.8791784814114681, 0.8944910470489393, 0.8584764230203739, 0.9080058023524471, 0.9051315374921236, 0.9096723377441712, 0.9064239392984668]}, {\"categories\": [\"0\", \"1\", \"2\", \"3\", \"4\", \"5\", \"6\", \"7\", \"8\", \"9\", \"10\", \"11\", \"12\", \"13\", \"14\", \"15\", \"16\", \"17\", \"18\", \"19\", \"20\", \"21\", \"22\", \"23\", \"24\", \"25\", \"26\", \"27\", \"28\", \"29\", \"30\", \"31\", \"32\", \"33\", \"34\", \"35\", \"36\", \"37\", \"38\", \"39\", \"40\"], \"mode\": \"lines\", \"name\": \"AUC_micro_max\", \"stepped\": true, \"type\": \"scatter\", \"data\": [0.8869486452425962, 0.8970683023524471, 0.8993213085486242, 0.8993213085486242, 0.8993213085486242, 0.8993213085486242, 0.9116939718546524, 0.9116939718546524, 0.9116939718546524, 0.9116939718546524, 0.9116939718546524, 0.9116939718546524, 0.9116939718546524, 0.9116939718546524, 0.9116939718546524, 0.9116939718546524, 0.9116939718546524, 0.9116939718546524, 0.9116939718546524, 0.9116939718546524, 0.9116939718546524, 0.9116939718546524, 0.9116939718546524, 0.9116939718546524, 0.9116939718546524, 0.9116939718546524, 0.9116939718546524, 0.9116939718546524, 0.9116939718546524, 0.9116939718546524, 0.9116939718546524, 0.9116939718546524, 0.9116939718546524, 0.9116939718546524, 0.9116939718546524, 0.9116939718546524, 0.9116939718546524, 0.9116939718546524, 0.9116939718546524, 0.9116939718546524, 0.9116939718546524]}], \"f1_score_macro\": [{\"categories\": [\"0\", \"1\", \"2\", \"3\", \"4\", \"5\", \"6\", \"7\", \"8\", \"9\", \"10\", \"11\", \"12\", \"13\", \"14\", \"15\", \"16\", \"17\", \"18\", \"19\", \"20\", \"21\", \"22\", \"23\", \"24\", \"25\", \"26\", \"27\", \"28\", \"29\", \"30\", \"31\", \"32\", \"33\", \"34\", \"35\", \"36\", \"37\", \"38\", \"39\", \"40\"], \"mode\": \"markers\", \"name\": \"f1_score_macro\", \"stepped\": false, \"type\": \"scatter\", \"data\": [0.7716529969862921, 0.8066550600718466, 0.8056246317203669, 0.7772114026075128, 0.8081271143034945, 0.6009161221312923, 0.8210162923457924, 0.8043633288277384, 0.7441065574158028, 0.7228962461431974, 0.8190536766472555, 0.7996346407115318, 0.8030672155812943, 0.7183489032314935, 0.7740131258403322, 0.7426268110132062, 0.7929797710976964, 0.5728948821054084, 0.7610340395041534, 0.793228980986334, 0.5393776221119424, 0.7481485822205151, 0.7349926416264336, 0.7906383296231493, 0.7184212678330325, 0.3958087526508579, 0.7961847888828439, 0.8157276069436769, 0.8170893659834416, 0.8090875335513277, 0.7934339653599617, 0.6108886591123434, 0.8196394067919618, 0.8213988774352929, 0.7446400268634961, 0.7551621876764191, 0.7042521169596597, 0.8268525027844509, 0.7888466119585664, 0.828945929002743, 0.8208850914988475]}, {\"categories\": [\"0\", \"1\", \"2\", \"3\", \"4\", \"5\", \"6\", \"7\", \"8\", \"9\", \"10\", \"11\", \"12\", \"13\", \"14\", \"15\", \"16\", \"17\", \"18\", \"19\", \"20\", \"21\", \"22\", \"23\", \"24\", \"25\", \"26\", \"27\", \"28\", \"29\", \"30\", \"31\", \"32\", \"33\", \"34\", \"35\", \"36\", \"37\", \"38\", \"39\", \"40\"], \"mode\": \"lines\", \"name\": \"f1_score_macro_max\", \"stepped\": true, \"type\": \"scatter\", \"data\": [0.7716529969862921, 0.8066550600718466, 0.8066550600718466, 0.8066550600718466, 0.8081271143034945, 0.8081271143034945, 0.8210162923457924, 0.8210162923457924, 0.8210162923457924, 0.8210162923457924, 0.8210162923457924, 0.8210162923457924, 0.8210162923457924, 0.8210162923457924, 0.8210162923457924, 0.8210162923457924, 0.8210162923457924, 0.8210162923457924, 0.8210162923457924, 0.8210162923457924, 0.8210162923457924, 0.8210162923457924, 0.8210162923457924, 0.8210162923457924, 0.8210162923457924, 0.8210162923457924, 0.8210162923457924, 0.8210162923457924, 0.8210162923457924, 0.8210162923457924, 0.8210162923457924, 0.8210162923457924, 0.8210162923457924, 0.8213988774352929, 0.8213988774352929, 0.8213988774352929, 0.8213988774352929, 0.8268525027844509, 0.8268525027844509, 0.828945929002743, 0.828945929002743]}], \"f1_score_weighted\": [{\"categories\": [\"0\", \"1\", \"2\", \"3\", \"4\", \"5\", \"6\", \"7\", \"8\", \"9\", \"10\", \"11\", \"12\", \"13\", \"14\", \"15\", \"16\", \"17\", \"18\", \"19\", \"20\", \"21\", \"22\", \"23\", \"24\", \"25\", \"26\", \"27\", \"28\", \"29\", \"30\", \"31\", \"32\", \"33\", \"34\", \"35\", \"36\", \"37\", \"38\", \"39\", \"40\"], \"mode\": \"markers\", \"name\": \"f1_score_weighted\", \"stepped\": false, \"type\": \"scatter\", \"data\": [0.7983012006870832, 0.8299387381180269, 0.8301214987601894, 0.8063383406122762, 0.829177438921103, 0.6650090649124839, 0.8428304065359642, 0.8288284091227016, 0.7765490632897474, 0.7615236619262447, 0.8424617318110583, 0.8261298537790193, 0.8325337123444356, 0.7612505398789534, 0.8107280479735364, 0.7778937961939753, 0.8205704209425464, 0.6541616822108813, 0.7979678823674782, 0.8225007490644479, 0.5996364098773901, 0.7728927391401617, 0.7690254639935538, 0.8211548699870104, 0.7681927671441737, 0.5225129294808928, 0.8215836629237699, 0.8383379011526515, 0.841106514321751, 0.831276588322005, 0.8242061324500376, 0.6834559017038994, 0.8423238865607535, 0.8433258719645129, 0.7838599905129514, 0.7914156935210788, 0.7561030301769514, 0.8455829576626694, 0.8190124086720129, 0.8510079472180422, 0.8431725053064886]}, {\"categories\": [\"0\", \"1\", \"2\", \"3\", \"4\", \"5\", \"6\", \"7\", \"8\", \"9\", \"10\", \"11\", \"12\", \"13\", \"14\", \"15\", \"16\", \"17\", \"18\", \"19\", \"20\", \"21\", \"22\", \"23\", \"24\", \"25\", \"26\", \"27\", \"28\", \"29\", \"30\", \"31\", \"32\", \"33\", \"34\", \"35\", \"36\", \"37\", \"38\", \"39\", \"40\"], \"mode\": \"lines\", \"name\": \"f1_score_weighted_max\", \"stepped\": true, \"type\": \"scatter\", \"data\": [0.7983012006870832, 0.8299387381180269, 0.8301214987601894, 0.8301214987601894, 0.8301214987601894, 0.8301214987601894, 0.8428304065359642, 0.8428304065359642, 0.8428304065359642, 0.8428304065359642, 0.8428304065359642, 0.8428304065359642, 0.8428304065359642, 0.8428304065359642, 0.8428304065359642, 0.8428304065359642, 0.8428304065359642, 0.8428304065359642, 0.8428304065359642, 0.8428304065359642, 0.8428304065359642, 0.8428304065359642, 0.8428304065359642, 0.8428304065359642, 0.8428304065359642, 0.8428304065359642, 0.8428304065359642, 0.8428304065359642, 0.8428304065359642, 0.8428304065359642, 0.8428304065359642, 0.8428304065359642, 0.8428304065359642, 0.8433258719645129, 0.8433258719645129, 0.8433258719645129, 0.8433258719645129, 0.8455829576626694, 0.8455829576626694, 0.8510079472180422, 0.8510079472180422]}], \"log_loss\": [{\"categories\": [\"0\", \"1\", \"2\", \"3\", \"4\", \"5\", \"6\", \"7\", \"8\", \"9\", \"10\", \"11\", \"12\", \"13\", \"14\", \"15\", \"16\", \"17\", \"18\", \"19\", \"20\", \"21\", \"22\", \"23\", \"24\", \"25\", \"26\", \"27\", \"28\", \"29\", \"30\", \"31\", \"32\", \"33\", \"34\", \"35\", \"36\", \"37\", \"38\", \"39\", \"40\"], \"mode\": \"markers\", \"name\": \"log_loss\", \"stepped\": false, \"type\": \"scatter\", \"data\": [0.5113835461600813, 0.43916675172891606, 0.4048577865138484, 0.4220228420715368, 0.422304563344023, 0.5905847444496218, 0.37383971741705135, 0.41590810994562155, 0.43864804224355697, 0.4552454107617909, 0.39619356471776024, 0.43993339330985853, 0.4272677654967937, 0.518395243255786, 0.44989787504062695, 0.5031172677658033, 0.4056069981898873, 0.5364282146001579, 0.4578203464520943, 0.43160096780089174, 1.1440841664740364, 0.6584358000585475, 0.4338578666867806, 0.45371215387017483, 0.4818253311569288, 0.6441688653597831, 0.42619435830044, 0.409800974838124, 0.4194489091959152, 0.39913436952862635, 0.4640505460259582, 0.5252927128261136, 0.3826474951892444, 0.3915952742222097, 0.4672219111622241, 0.4506873843921514, 0.490498422084952, 0.45313656216603543, 0.399988349969551, 0.4167455490218058, 0.3993337894970542]}, {\"categories\": [\"0\", \"1\", \"2\", \"3\", \"4\", \"5\", \"6\", \"7\", \"8\", \"9\", \"10\", \"11\", \"12\", \"13\", \"14\", \"15\", \"16\", \"17\", \"18\", \"19\", \"20\", \"21\", \"22\", \"23\", \"24\", \"25\", \"26\", \"27\", \"28\", \"29\", \"30\", \"31\", \"32\", \"33\", \"34\", \"35\", \"36\", \"37\", \"38\", \"39\", \"40\"], \"mode\": \"lines\", \"name\": \"log_loss_min\", \"stepped\": true, \"type\": \"scatter\", \"data\": [0.5113835461600813, 0.43916675172891606, 0.4048577865138484, 0.4048577865138484, 0.4048577865138484, 0.4048577865138484, 0.37383971741705135, 0.37383971741705135, 0.37383971741705135, 0.37383971741705135, 0.37383971741705135, 0.37383971741705135, 0.37383971741705135, 0.37383971741705135, 0.37383971741705135, 0.37383971741705135, 0.37383971741705135, 0.37383971741705135, 0.37383971741705135, 0.37383971741705135, 0.37383971741705135, 0.37383971741705135, 0.37383971741705135, 0.37383971741705135, 0.37383971741705135, 0.37383971741705135, 0.37383971741705135, 0.37383971741705135, 0.37383971741705135, 0.37383971741705135, 0.37383971741705135, 0.37383971741705135, 0.37383971741705135, 0.37383971741705135, 0.37383971741705135, 0.37383971741705135, 0.37383971741705135, 0.37383971741705135, 0.37383971741705135, 0.37383971741705135, 0.37383971741705135]}], \"recall_score_macro\": [{\"categories\": [\"0\", \"1\", \"2\", \"3\", \"4\", \"5\", \"6\", \"7\", \"8\", \"9\", \"10\", \"11\", \"12\", \"13\", \"14\", \"15\", \"16\", \"17\", \"18\", \"19\", \"20\", \"21\", \"22\", \"23\", \"24\", \"25\", \"26\", \"27\", \"28\", \"29\", \"30\", \"31\", \"32\", \"33\", \"34\", \"35\", \"36\", \"37\", \"38\", \"39\", \"40\"], \"mode\": \"markers\", \"name\": \"recall_score_macro\", \"stepped\": false, \"type\": \"scatter\", \"data\": [0.7736210317460317, 0.8073313492063491, 0.8084821428571429, 0.7771626984126984, 0.8182837301587302, 0.6212103174603175, 0.8207738095238095, 0.8027182539682538, 0.7443353174603176, 0.7256547619047619, 0.8198611111111112, 0.7963888888888888, 0.7947420634920634, 0.728670634920635, 0.77015873015873, 0.7377777777777779, 0.7972321428571428, 0.6024801587301587, 0.7590972222222223, 0.788015873015873, 0.5470535714285714, 0.762390873015873, 0.7346825396825397, 0.784811507936508, 0.7200595238095238, 0.5, 0.7943948412698413, 0.8145238095238095, 0.8166369047619048, 0.812718253968254, 0.7844642857142858, 0.6289980158730158, 0.818095238095238, 0.8228571428571427, 0.7475496031746032, 0.7445039682539683, 0.7062301587301587, 0.8372123015873015, 0.784702380952381, 0.8286507936507936, 0.8223015873015873]}, {\"categories\": [\"0\", \"1\", \"2\", \"3\", \"4\", \"5\", \"6\", \"7\", \"8\", \"9\", \"10\", \"11\", \"12\", \"13\", \"14\", \"15\", \"16\", \"17\", \"18\", \"19\", \"20\", \"21\", \"22\", \"23\", \"24\", \"25\", \"26\", \"27\", \"28\", \"29\", \"30\", \"31\", \"32\", \"33\", \"34\", \"35\", \"36\", \"37\", \"38\", \"39\", \"40\"], \"mode\": \"lines\", \"name\": \"recall_score_macro_max\", \"stepped\": true, \"type\": \"scatter\", \"data\": [0.7736210317460317, 0.8073313492063491, 0.8084821428571429, 0.8084821428571429, 0.8182837301587302, 0.8182837301587302, 0.8207738095238095, 0.8207738095238095, 0.8207738095238095, 0.8207738095238095, 0.8207738095238095, 0.8207738095238095, 0.8207738095238095, 0.8207738095238095, 0.8207738095238095, 0.8207738095238095, 0.8207738095238095, 0.8207738095238095, 0.8207738095238095, 0.8207738095238095, 0.8207738095238095, 0.8207738095238095, 0.8207738095238095, 0.8207738095238095, 0.8207738095238095, 0.8207738095238095, 0.8207738095238095, 0.8207738095238095, 0.8207738095238095, 0.8207738095238095, 0.8207738095238095, 0.8207738095238095, 0.8207738095238095, 0.8228571428571427, 0.8228571428571427, 0.8228571428571427, 0.8228571428571427, 0.8372123015873015, 0.8372123015873015, 0.8372123015873015, 0.8372123015873015]}], \"average_precision_score_weighted\": [{\"categories\": [\"0\", \"1\", \"2\", \"3\", \"4\", \"5\", \"6\", \"7\", \"8\", \"9\", \"10\", \"11\", \"12\", \"13\", \"14\", \"15\", \"16\", \"17\", \"18\", \"19\", \"20\", \"21\", \"22\", \"23\", \"24\", \"25\", \"26\", \"27\", \"28\", \"29\", \"30\", \"31\", \"32\", \"33\", \"34\", \"35\", \"36\", \"37\", \"38\", \"39\", \"40\"], \"mode\": \"markers\", \"name\": \"average_precision_score_weighted\", \"stepped\": false, \"type\": \"scatter\", \"data\": [0.9000109067542017, 0.9062493235409341, 0.9087494054263641, 0.9030350286586616, 0.8947246965841325, 0.7722581266571666, 0.9225431098010265, 0.9177257508850337, 0.8856361974200849, 0.8789556933180949, 0.9182351802893978, 0.915963436804461, 0.9016119079185063, 0.8428610189008208, 0.9064925900317817, 0.8914009919607071, 0.9172115731054937, 0.8762827862676238, 0.9141224969799012, 0.9054040964065025, 0.6748530840140597, 0.8712250140179538, 0.879287186865829, 0.8982496326673303, 0.8698706365809736, 0.6003592772778163, 0.9019105974610795, 0.9183900500400661, 0.9174911981894331, 0.9098982819741417, 0.9203874465688386, 0.8853781121904793, 0.9192812592806705, 0.9147812727135104, 0.8905927082094595, 0.9127130965822664, 0.8738979309289092, 0.9250784961789555, 0.9195157182248312, 0.9228624647486118, 0.9223538313435592]}, {\"categories\": [\"0\", \"1\", \"2\", \"3\", \"4\", \"5\", \"6\", \"7\", \"8\", \"9\", \"10\", \"11\", \"12\", \"13\", \"14\", \"15\", \"16\", \"17\", \"18\", \"19\", \"20\", \"21\", \"22\", \"23\", \"24\", \"25\", \"26\", \"27\", \"28\", \"29\", \"30\", \"31\", \"32\", \"33\", \"34\", \"35\", \"36\", \"37\", \"38\", \"39\", \"40\"], \"mode\": \"lines\", \"name\": \"average_precision_score_weighted_max\", \"stepped\": true, \"type\": \"scatter\", \"data\": [0.9000109067542017, 0.9062493235409341, 0.9087494054263641, 0.9087494054263641, 0.9087494054263641, 0.9087494054263641, 0.9225431098010265, 0.9225431098010265, 0.9225431098010265, 0.9225431098010265, 0.9225431098010265, 0.9225431098010265, 0.9225431098010265, 0.9225431098010265, 0.9225431098010265, 0.9225431098010265, 0.9225431098010265, 0.9225431098010265, 0.9225431098010265, 0.9225431098010265, 0.9225431098010265, 0.9225431098010265, 0.9225431098010265, 0.9225431098010265, 0.9225431098010265, 0.9225431098010265, 0.9225431098010265, 0.9225431098010265, 0.9225431098010265, 0.9225431098010265, 0.9225431098010265, 0.9225431098010265, 0.9225431098010265, 0.9225431098010265, 0.9225431098010265, 0.9225431098010265, 0.9225431098010265, 0.9250784961789555, 0.9250784961789555, 0.9250784961789555, 0.9250784961789555]}], \"recall_score_micro\": [{\"categories\": [\"0\", \"1\", \"2\", \"3\", \"4\", \"5\", \"6\", \"7\", \"8\", \"9\", \"10\", \"11\", \"12\", \"13\", \"14\", \"15\", \"16\", \"17\", \"18\", \"19\", \"20\", \"21\", \"22\", \"23\", \"24\", \"25\", \"26\", \"27\", \"28\", \"29\", \"30\", \"31\", \"32\", \"33\", \"34\", \"35\", \"36\", \"37\", \"38\", \"39\", \"40\"], \"mode\": \"markers\", \"name\": \"recall_score_micro\", \"stepped\": false, \"type\": \"scatter\", \"data\": [0.803623188405797, 0.8327898550724638, 0.8329710144927537, 0.8161231884057971, 0.8284420289855072, 0.7036231884057971, 0.8452898550724637, 0.8327898550724637, 0.7827898550724638, 0.7704710144927536, 0.8452898550724637, 0.8327898550724637, 0.841123188405797, 0.7742753623188406, 0.8244565217391304, 0.7867753623188406, 0.8244565217391304, 0.7197463768115943, 0.8121376811594203, 0.8284420289855072, 0.6195652173913043, 0.770108695652174, 0.7744565217391304, 0.8284420289855072, 0.7911231884057971, 0.6570652173913043, 0.8242753623188405, 0.841123188405797, 0.8454710144927535, 0.8326086956521739, 0.8326086956521739, 0.7365942028985508, 0.8452898550724637, 0.8452898550724639, 0.7994565217391305, 0.8076086956521739, 0.7829710144927535, 0.8452898550724639, 0.8242753623188406, 0.8536231884057971, 0.8452898550724637]}, {\"categories\": [\"0\", \"1\", \"2\", \"3\", \"4\", \"5\", \"6\", \"7\", \"8\", \"9\", \"10\", \"11\", \"12\", \"13\", \"14\", \"15\", \"16\", \"17\", \"18\", \"19\", \"20\", \"21\", \"22\", \"23\", \"24\", \"25\", \"26\", \"27\", \"28\", \"29\", \"30\", \"31\", \"32\", \"33\", \"34\", \"35\", \"36\", \"37\", \"38\", \"39\", \"40\"], \"mode\": \"lines\", \"name\": \"recall_score_micro_max\", \"stepped\": true, \"type\": \"scatter\", \"data\": [0.803623188405797, 0.8327898550724638, 0.8329710144927537, 0.8329710144927537, 0.8329710144927537, 0.8329710144927537, 0.8452898550724637, 0.8452898550724637, 0.8452898550724637, 0.8452898550724637, 0.8452898550724637, 0.8452898550724637, 0.8452898550724637, 0.8452898550724637, 0.8452898550724637, 0.8452898550724637, 0.8452898550724637, 0.8452898550724637, 0.8452898550724637, 0.8452898550724637, 0.8452898550724637, 0.8452898550724637, 0.8452898550724637, 0.8452898550724637, 0.8452898550724637, 0.8452898550724637, 0.8452898550724637, 0.8452898550724637, 0.8454710144927535, 0.8454710144927535, 0.8454710144927535, 0.8454710144927535, 0.8454710144927535, 0.8454710144927535, 0.8454710144927535, 0.8454710144927535, 0.8454710144927535, 0.8454710144927535, 0.8454710144927535, 0.8536231884057971, 0.8536231884057971]}], \"accuracy\": [{\"categories\": [\"0\", \"1\", \"2\", \"3\", \"4\", \"5\", \"6\", \"7\", \"8\", \"9\", \"10\", \"11\", \"12\", \"13\", \"14\", \"15\", \"16\", \"17\", \"18\", \"19\", \"20\", \"21\", \"22\", \"23\", \"24\", \"25\", \"26\", \"27\", \"28\", \"29\", \"30\", \"31\", \"32\", \"33\", \"34\", \"35\", \"36\", \"37\", \"38\", \"39\", \"40\"], \"mode\": \"markers\", \"name\": \"accuracy\", \"stepped\": false, \"type\": \"scatter\", \"data\": [0.803623188405797, 0.8327898550724638, 0.8329710144927537, 0.8161231884057971, 0.8284420289855072, 0.7036231884057971, 0.8452898550724637, 0.8327898550724637, 0.7827898550724638, 0.7704710144927536, 0.8452898550724637, 0.8327898550724637, 0.841123188405797, 0.7742753623188406, 0.8244565217391304, 0.7867753623188406, 0.8244565217391304, 0.7197463768115943, 0.8121376811594203, 0.8284420289855072, 0.6195652173913043, 0.770108695652174, 0.7744565217391304, 0.8284420289855072, 0.7911231884057971, 0.6570652173913043, 0.8242753623188405, 0.841123188405797, 0.8454710144927535, 0.8326086956521739, 0.8326086956521739, 0.7365942028985508, 0.8452898550724637, 0.8452898550724639, 0.7994565217391305, 0.8076086956521739, 0.7829710144927535, 0.8452898550724639, 0.8242753623188406, 0.8536231884057971, 0.8452898550724637]}, {\"categories\": [\"0\", \"1\", \"2\", \"3\", \"4\", \"5\", \"6\", \"7\", \"8\", \"9\", \"10\", \"11\", \"12\", \"13\", \"14\", \"15\", \"16\", \"17\", \"18\", \"19\", \"20\", \"21\", \"22\", \"23\", \"24\", \"25\", \"26\", \"27\", \"28\", \"29\", \"30\", \"31\", \"32\", \"33\", \"34\", \"35\", \"36\", \"37\", \"38\", \"39\", \"40\"], \"mode\": \"lines\", \"name\": \"accuracy_max\", \"stepped\": true, \"type\": \"scatter\", \"data\": [0.803623188405797, 0.8327898550724638, 0.8329710144927537, 0.8329710144927537, 0.8329710144927537, 0.8329710144927537, 0.8452898550724637, 0.8452898550724637, 0.8452898550724637, 0.8452898550724637, 0.8452898550724637, 0.8452898550724637, 0.8452898550724637, 0.8452898550724637, 0.8452898550724637, 0.8452898550724637, 0.8452898550724637, 0.8452898550724637, 0.8452898550724637, 0.8452898550724637, 0.8452898550724637, 0.8452898550724637, 0.8452898550724637, 0.8452898550724637, 0.8452898550724637, 0.8452898550724637, 0.8452898550724637, 0.8452898550724637, 0.8454710144927535, 0.8454710144927535, 0.8454710144927535, 0.8454710144927535, 0.8454710144927535, 0.8454710144927535, 0.8454710144927535, 0.8454710144927535, 0.8454710144927535, 0.8454710144927535, 0.8454710144927535, 0.8536231884057971, 0.8536231884057971]}], \"AUC_macro\": [{\"categories\": [\"0\", \"1\", \"2\", \"3\", \"4\", \"5\", \"6\", \"7\", \"8\", \"9\", \"10\", \"11\", \"12\", \"13\", \"14\", \"15\", \"16\", \"17\", \"18\", \"19\", \"20\", \"21\", \"22\", \"23\", \"24\", \"25\", \"26\", \"27\", \"28\", \"29\", \"30\", \"31\", \"32\", \"33\", \"34\", \"35\", \"36\", \"37\", \"38\", \"39\", \"40\"], \"mode\": \"markers\", \"name\": \"AUC_macro\", \"stepped\": false, \"type\": \"scatter\", \"data\": [0.8900892857142857, 0.8878893849206347, 0.8887814153439153, 0.886860119047619, 0.8721502976190475, 0.7138797949735449, 0.9098222552910054, 0.8999107142857143, 0.862662037037037, 0.8500934193121694, 0.9042683531746032, 0.9001917989417988, 0.8777025462962964, 0.8158349867724868, 0.8829083994708995, 0.8709573412698413, 0.906707175925926, 0.8465947420634921, 0.8984970238095237, 0.8929931382275133, 0.6022718253968253, 0.8371668320105821, 0.8601099537037037, 0.883791335978836, 0.8412979497354497, 0.5460941633597883, 0.8858341600529102, 0.9040691137566139, 0.9047412367724869, 0.8985243055555555, 0.9068638392857145, 0.8599950396825398, 0.9093840939153439, 0.9008655753968254, 0.8699594907407409, 0.9004778439153439, 0.8533159722222223, 0.9108506944444444, 0.9047461970899473, 0.9100727513227514, 0.9093584656084657]}, {\"categories\": [\"0\", \"1\", \"2\", \"3\", \"4\", \"5\", \"6\", \"7\", \"8\", \"9\", \"10\", \"11\", \"12\", \"13\", \"14\", \"15\", \"16\", \"17\", \"18\", \"19\", \"20\", \"21\", \"22\", \"23\", \"24\", \"25\", \"26\", \"27\", \"28\", \"29\", \"30\", \"31\", \"32\", \"33\", \"34\", \"35\", \"36\", \"37\", \"38\", \"39\", \"40\"], \"mode\": \"lines\", \"name\": \"AUC_macro_max\", \"stepped\": true, \"type\": \"scatter\", \"data\": [0.8900892857142857, 0.8900892857142857, 0.8900892857142857, 0.8900892857142857, 0.8900892857142857, 0.8900892857142857, 0.9098222552910054, 0.9098222552910054, 0.9098222552910054, 0.9098222552910054, 0.9098222552910054, 0.9098222552910054, 0.9098222552910054, 0.9098222552910054, 0.9098222552910054, 0.9098222552910054, 0.9098222552910054, 0.9098222552910054, 0.9098222552910054, 0.9098222552910054, 0.9098222552910054, 0.9098222552910054, 0.9098222552910054, 0.9098222552910054, 0.9098222552910054, 0.9098222552910054, 0.9098222552910054, 0.9098222552910054, 0.9098222552910054, 0.9098222552910054, 0.9098222552910054, 0.9098222552910054, 0.9098222552910054, 0.9098222552910054, 0.9098222552910054, 0.9098222552910054, 0.9098222552910054, 0.9108506944444444, 0.9108506944444444, 0.9108506944444444, 0.9108506944444444]}], \"balanced_accuracy\": [{\"categories\": [\"0\", \"1\", \"2\", \"3\", \"4\", \"5\", \"6\", \"7\", \"8\", \"9\", \"10\", \"11\", \"12\", \"13\", \"14\", \"15\", \"16\", \"17\", \"18\", \"19\", \"20\", \"21\", \"22\", \"23\", \"24\", \"25\", \"26\", \"27\", \"28\", \"29\", \"30\", \"31\", \"32\", \"33\", \"34\", \"35\", \"36\", \"37\", \"38\", \"39\", \"40\"], \"mode\": \"markers\", \"name\": \"balanced_accuracy\", \"stepped\": false, \"type\": \"scatter\", \"data\": [0.7736210317460317, 0.8073313492063491, 0.8084821428571429, 0.7771626984126984, 0.8182837301587302, 0.6212103174603175, 0.8207738095238095, 0.8027182539682538, 0.7443353174603176, 0.7256547619047619, 0.8198611111111112, 0.7963888888888888, 0.7947420634920634, 0.728670634920635, 0.77015873015873, 0.7377777777777779, 0.7972321428571428, 0.6024801587301587, 0.7590972222222223, 0.788015873015873, 0.5470535714285714, 0.762390873015873, 0.7346825396825397, 0.784811507936508, 0.7200595238095238, 0.5, 0.7943948412698413, 0.8145238095238095, 0.8166369047619048, 0.812718253968254, 0.7844642857142858, 0.6289980158730158, 0.818095238095238, 0.8228571428571427, 0.7475496031746032, 0.7445039682539683, 0.7062301587301587, 0.8372123015873015, 0.784702380952381, 0.8286507936507936, 0.8223015873015873]}, {\"categories\": [\"0\", \"1\", \"2\", \"3\", \"4\", \"5\", \"6\", \"7\", \"8\", \"9\", \"10\", \"11\", \"12\", \"13\", \"14\", \"15\", \"16\", \"17\", \"18\", \"19\", \"20\", \"21\", \"22\", \"23\", \"24\", \"25\", \"26\", \"27\", \"28\", \"29\", \"30\", \"31\", \"32\", \"33\", \"34\", \"35\", \"36\", \"37\", \"38\", \"39\", \"40\"], \"mode\": \"lines\", \"name\": \"balanced_accuracy_max\", \"stepped\": true, \"type\": \"scatter\", \"data\": [0.7736210317460317, 0.8073313492063491, 0.8084821428571429, 0.8084821428571429, 0.8182837301587302, 0.8182837301587302, 0.8207738095238095, 0.8207738095238095, 0.8207738095238095, 0.8207738095238095, 0.8207738095238095, 0.8207738095238095, 0.8207738095238095, 0.8207738095238095, 0.8207738095238095, 0.8207738095238095, 0.8207738095238095, 0.8207738095238095, 0.8207738095238095, 0.8207738095238095, 0.8207738095238095, 0.8207738095238095, 0.8207738095238095, 0.8207738095238095, 0.8207738095238095, 0.8207738095238095, 0.8207738095238095, 0.8207738095238095, 0.8207738095238095, 0.8207738095238095, 0.8207738095238095, 0.8207738095238095, 0.8207738095238095, 0.8228571428571427, 0.8228571428571427, 0.8228571428571427, 0.8228571428571427, 0.8372123015873015, 0.8372123015873015, 0.8372123015873015, 0.8372123015873015]}], \"precision_score_macro\": [{\"categories\": [\"0\", \"1\", \"2\", \"3\", \"4\", \"5\", \"6\", \"7\", \"8\", \"9\", \"10\", \"11\", \"12\", \"13\", \"14\", \"15\", \"16\", \"17\", \"18\", \"19\", \"20\", \"21\", \"22\", \"23\", \"24\", \"25\", \"26\", \"27\", \"28\", \"29\", \"30\", \"31\", \"32\", \"33\", \"34\", \"35\", \"36\", \"37\", \"38\", \"39\", \"40\"], \"mode\": \"markers\", \"name\": \"precision_score_macro\", \"stepped\": false, \"type\": \"scatter\", \"data\": [0.8126825341840822, 0.8394327731092437, 0.8294827448523268, 0.8282245777098719, 0.8211878562613857, 0.6454871693493984, 0.845172152194211, 0.8360037348272643, 0.7869088509529686, 0.7720822011534927, 0.84828022875817, 0.8443354710305174, 0.8612570195542333, 0.7313612155388471, 0.8549690509308224, 0.7748611111111112, 0.8135960305174702, 0.7015386044161788, 0.825614174696992, 0.8323248238689415, 0.5657345262666471, 0.756186043488675, 0.7675367687867688, 0.836302414905356, 0.7774725723622782, 0.32853260869565215, 0.8219520308123249, 0.8448476890756302, 0.8439985994397758, 0.8292703293438588, 0.8451134437028399, 0.7087669932406775, 0.8476143790849673, 0.8465791316526611, 0.8117156969576541, 0.8207153299916458, 0.7727931040837388, 0.8437339621163151, 0.8251516212545624, 0.8540767973856209, 0.8450887021475257]}, {\"categories\": [\"0\", \"1\", \"2\", \"3\", \"4\", \"5\", \"6\", \"7\", \"8\", \"9\", \"10\", \"11\", \"12\", \"13\", \"14\", \"15\", \"16\", \"17\", \"18\", \"19\", \"20\", \"21\", \"22\", \"23\", \"24\", \"25\", \"26\", \"27\", \"28\", \"29\", \"30\", \"31\", \"32\", \"33\", \"34\", \"35\", \"36\", \"37\", \"38\", \"39\", \"40\"], \"mode\": \"lines\", \"name\": \"precision_score_macro_max\", \"stepped\": true, \"type\": \"scatter\", \"data\": [0.8126825341840822, 0.8394327731092437, 0.8394327731092437, 0.8394327731092437, 0.8394327731092437, 0.8394327731092437, 0.845172152194211, 0.845172152194211, 0.845172152194211, 0.845172152194211, 0.84828022875817, 0.84828022875817, 0.8612570195542333, 0.8612570195542333, 0.8612570195542333, 0.8612570195542333, 0.8612570195542333, 0.8612570195542333, 0.8612570195542333, 0.8612570195542333, 0.8612570195542333, 0.8612570195542333, 0.8612570195542333, 0.8612570195542333, 0.8612570195542333, 0.8612570195542333, 0.8612570195542333, 0.8612570195542333, 0.8612570195542333, 0.8612570195542333, 0.8612570195542333, 0.8612570195542333, 0.8612570195542333, 0.8612570195542333, 0.8612570195542333, 0.8612570195542333, 0.8612570195542333, 0.8612570195542333, 0.8612570195542333, 0.8612570195542333, 0.8612570195542333]}], \"average_precision_score_macro\": [{\"categories\": [\"0\", \"1\", \"2\", \"3\", \"4\", \"5\", \"6\", \"7\", \"8\", \"9\", \"10\", \"11\", \"12\", \"13\", \"14\", \"15\", \"16\", \"17\", \"18\", \"19\", \"20\", \"21\", \"22\", \"23\", \"24\", \"25\", \"26\", \"27\", \"28\", \"29\", \"30\", \"31\", \"32\", \"33\", \"34\", \"35\", \"36\", \"37\", \"38\", \"39\", \"40\"], \"mode\": \"markers\", \"name\": \"average_precision_score_macro\", \"stepped\": false, \"type\": \"scatter\", \"data\": [0.8734810462911631, 0.8810761649352858, 0.8893139135079189, 0.8743659938855926, 0.8722981696281087, 0.7313955068446775, 0.9015191634978018, 0.8989285919564616, 0.8572989191914392, 0.8499640333045949, 0.8993973615815346, 0.8942128229966961, 0.8785074755911595, 0.8055941094855357, 0.8848419047704755, 0.868091901450792, 0.8939728403746651, 0.8466372296253933, 0.8930170254989427, 0.8828265057541642, 0.6350424006909484, 0.8473874280923329, 0.8490508369686032, 0.8749238528174595, 0.8464236905519373, 0.5490457124613662, 0.8764916780949111, 0.898218470416532, 0.8954972750008648, 0.8851783379370044, 0.9036326952538193, 0.8587474214764335, 0.8943212767272044, 0.8921352333972342, 0.8616302706945653, 0.8885089992548003, 0.8441978372966975, 0.9042723436902398, 0.9002330123324429, 0.9009075771830203, 0.9005986427539856]}, {\"categories\": [\"0\", \"1\", \"2\", \"3\", \"4\", \"5\", \"6\", \"7\", \"8\", \"9\", \"10\", \"11\", \"12\", \"13\", \"14\", \"15\", \"16\", \"17\", \"18\", \"19\", \"20\", \"21\", \"22\", \"23\", \"24\", \"25\", \"26\", \"27\", \"28\", \"29\", \"30\", \"31\", \"32\", \"33\", \"34\", \"35\", \"36\", \"37\", \"38\", \"39\", \"40\"], \"mode\": \"lines\", \"name\": \"average_precision_score_macro_max\", \"stepped\": true, \"type\": \"scatter\", \"data\": [0.8734810462911631, 0.8810761649352858, 0.8893139135079189, 0.8893139135079189, 0.8893139135079189, 0.8893139135079189, 0.9015191634978018, 0.9015191634978018, 0.9015191634978018, 0.9015191634978018, 0.9015191634978018, 0.9015191634978018, 0.9015191634978018, 0.9015191634978018, 0.9015191634978018, 0.9015191634978018, 0.9015191634978018, 0.9015191634978018, 0.9015191634978018, 0.9015191634978018, 0.9015191634978018, 0.9015191634978018, 0.9015191634978018, 0.9015191634978018, 0.9015191634978018, 0.9015191634978018, 0.9015191634978018, 0.9015191634978018, 0.9015191634978018, 0.9015191634978018, 0.9036326952538193, 0.9036326952538193, 0.9036326952538193, 0.9036326952538193, 0.9036326952538193, 0.9036326952538193, 0.9036326952538193, 0.9042723436902398, 0.9042723436902398, 0.9042723436902398, 0.9042723436902398]}], \"matthews_correlation\": [{\"categories\": [\"0\", \"1\", \"2\", \"3\", \"4\", \"5\", \"6\", \"7\", \"8\", \"9\", \"10\", \"11\", \"12\", \"13\", \"14\", \"15\", \"16\", \"17\", \"18\", \"19\", \"20\", \"21\", \"22\", \"23\", \"24\", \"25\", \"26\", \"27\", \"28\", \"29\", \"30\", \"31\", \"32\", \"33\", \"34\", \"35\", \"36\", \"37\", \"38\", \"39\", \"40\"], \"mode\": \"markers\", \"name\": \"matthews_correlation\", \"stepped\": false, \"type\": \"scatter\", \"data\": [0.5811470680333605, 0.6424444597531219, 0.6350424115742518, 0.5959412699085684, 0.6377871237634711, 0.2893054783988508, 0.6624470369364776, 0.6344462403343385, 0.521767463287989, 0.4844047090523184, 0.6641123466344843, 0.6351312143171531, 0.6470899837503679, 0.4704255658386704, 0.6084635654140927, 0.5096645730465579, 0.608051496460362, 0.30067037206254144, 0.5737274782794032, 0.6134129535635046, 0.10935028067706438, 0.5179797408694379, 0.4956802746650517, 0.613718312767539, 0.50036149219596, 0.0, 0.6128368408059541, 0.6552787634311827, 0.6567193919661178, 0.6386791934904342, 0.6215413323073867, 0.34897621603776857, 0.6619914215437888, 0.6657477810487026, 0.5439258414804548, 0.557441361695974, 0.48089120624803633, 0.6776306948946808, 0.6032613993219665, 0.6791610556375612, 0.6638246998618229]}, {\"categories\": [\"0\", \"1\", \"2\", \"3\", \"4\", \"5\", \"6\", \"7\", \"8\", \"9\", \"10\", \"11\", \"12\", \"13\", \"14\", \"15\", \"16\", \"17\", \"18\", \"19\", \"20\", \"21\", \"22\", \"23\", \"24\", \"25\", \"26\", \"27\", \"28\", \"29\", \"30\", \"31\", \"32\", \"33\", \"34\", \"35\", \"36\", \"37\", \"38\", \"39\", \"40\"], \"mode\": \"lines\", \"name\": \"matthews_correlation_max\", \"stepped\": true, \"type\": \"scatter\", \"data\": [0.5811470680333605, 0.6424444597531219, 0.6424444597531219, 0.6424444597531219, 0.6424444597531219, 0.6424444597531219, 0.6624470369364776, 0.6624470369364776, 0.6624470369364776, 0.6624470369364776, 0.6641123466344843, 0.6641123466344843, 0.6641123466344843, 0.6641123466344843, 0.6641123466344843, 0.6641123466344843, 0.6641123466344843, 0.6641123466344843, 0.6641123466344843, 0.6641123466344843, 0.6641123466344843, 0.6641123466344843, 0.6641123466344843, 0.6641123466344843, 0.6641123466344843, 0.6641123466344843, 0.6641123466344843, 0.6641123466344843, 0.6641123466344843, 0.6641123466344843, 0.6641123466344843, 0.6641123466344843, 0.6641123466344843, 0.6657477810487026, 0.6657477810487026, 0.6657477810487026, 0.6657477810487026, 0.6776306948946808, 0.6776306948946808, 0.6791610556375612, 0.6791610556375612]}], \"f1_score_micro\": [{\"categories\": [\"0\", \"1\", \"2\", \"3\", \"4\", \"5\", \"6\", \"7\", \"8\", \"9\", \"10\", \"11\", \"12\", \"13\", \"14\", \"15\", \"16\", \"17\", \"18\", \"19\", \"20\", \"21\", \"22\", \"23\", \"24\", \"25\", \"26\", \"27\", \"28\", \"29\", \"30\", \"31\", \"32\", \"33\", \"34\", \"35\", \"36\", \"37\", \"38\", \"39\", \"40\"], \"mode\": \"markers\", \"name\": \"f1_score_micro\", \"stepped\": false, \"type\": \"scatter\", \"data\": [0.803623188405797, 0.8327898550724638, 0.8329710144927537, 0.8161231884057971, 0.8284420289855072, 0.7036231884057971, 0.8452898550724637, 0.8327898550724637, 0.7827898550724638, 0.7704710144927536, 0.8452898550724637, 0.8327898550724637, 0.841123188405797, 0.7742753623188406, 0.8244565217391304, 0.7867753623188406, 0.8244565217391304, 0.7197463768115943, 0.8121376811594203, 0.8284420289855072, 0.6195652173913043, 0.770108695652174, 0.7744565217391304, 0.8284420289855072, 0.7911231884057971, 0.6570652173913043, 0.8242753623188405, 0.841123188405797, 0.8454710144927535, 0.8326086956521739, 0.8326086956521739, 0.7365942028985508, 0.8452898550724637, 0.8452898550724639, 0.7994565217391305, 0.8076086956521739, 0.7829710144927535, 0.8452898550724639, 0.8242753623188406, 0.8536231884057971, 0.8452898550724637]}, {\"categories\": [\"0\", \"1\", \"2\", \"3\", \"4\", \"5\", \"6\", \"7\", \"8\", \"9\", \"10\", \"11\", \"12\", \"13\", \"14\", \"15\", \"16\", \"17\", \"18\", \"19\", \"20\", \"21\", \"22\", \"23\", \"24\", \"25\", \"26\", \"27\", \"28\", \"29\", \"30\", \"31\", \"32\", \"33\", \"34\", \"35\", \"36\", \"37\", \"38\", \"39\", \"40\"], \"mode\": \"lines\", \"name\": \"f1_score_micro_max\", \"stepped\": true, \"type\": \"scatter\", \"data\": [0.803623188405797, 0.8327898550724638, 0.8329710144927537, 0.8329710144927537, 0.8329710144927537, 0.8329710144927537, 0.8452898550724637, 0.8452898550724637, 0.8452898550724637, 0.8452898550724637, 0.8452898550724637, 0.8452898550724637, 0.8452898550724637, 0.8452898550724637, 0.8452898550724637, 0.8452898550724637, 0.8452898550724637, 0.8452898550724637, 0.8452898550724637, 0.8452898550724637, 0.8452898550724637, 0.8452898550724637, 0.8452898550724637, 0.8452898550724637, 0.8452898550724637, 0.8452898550724637, 0.8452898550724637, 0.8452898550724637, 0.8454710144927535, 0.8454710144927535, 0.8454710144927535, 0.8454710144927535, 0.8454710144927535, 0.8454710144927535, 0.8454710144927535, 0.8454710144927535, 0.8454710144927535, 0.8454710144927535, 0.8454710144927535, 0.8536231884057971, 0.8536231884057971]}], \"average_precision_score_micro\": [{\"categories\": [\"0\", \"1\", \"2\", \"3\", \"4\", \"5\", \"6\", \"7\", \"8\", \"9\", \"10\", \"11\", \"12\", \"13\", \"14\", \"15\", \"16\", \"17\", \"18\", \"19\", \"20\", \"21\", \"22\", \"23\", \"24\", \"25\", \"26\", \"27\", \"28\", \"29\", \"30\", \"31\", \"32\", \"33\", \"34\", \"35\", \"36\", \"37\", \"38\", \"39\", \"40\"], \"mode\": \"markers\", \"name\": \"average_precision_score_micro\", \"stepped\": false, \"type\": \"scatter\", \"data\": [0.8883364970720043, 0.9012837561354352, 0.8999133263754366, 0.9035426483530168, 0.8895373725433997, 0.767416815111048, 0.9184068064198037, 0.9066867856472305, 0.8862418717363638, 0.8751074927395998, 0.9108383623833969, 0.9087524873258406, 0.8923275139120646, 0.8497275711837965, 0.8956707021001563, 0.8821634047294881, 0.9138864351457295, 0.8411399763268135, 0.898778881183171, 0.9031550032084263, 0.6817482992545141, 0.8479470021000226, 0.8871499702561956, 0.8896239031656519, 0.8634706776573629, 0.6470616761280654, 0.896773540798678, 0.9123528138436999, 0.9118732109568726, 0.9028774930118579, 0.8996367647101158, 0.8547324775783297, 0.9153018644282976, 0.9082056855471363, 0.8863473107128705, 0.9040094674957082, 0.8654023820419818, 0.914509760300273, 0.909172228772386, 0.9156432599500655, 0.9131872315629812]}, {\"categories\": [\"0\", \"1\", \"2\", \"3\", \"4\", \"5\", \"6\", \"7\", \"8\", \"9\", \"10\", \"11\", \"12\", \"13\", \"14\", \"15\", \"16\", \"17\", \"18\", \"19\", \"20\", \"21\", \"22\", \"23\", \"24\", \"25\", \"26\", \"27\", \"28\", \"29\", \"30\", \"31\", \"32\", \"33\", \"34\", \"35\", \"36\", \"37\", \"38\", \"39\", \"40\"], \"mode\": \"lines\", \"name\": \"average_precision_score_micro_max\", \"stepped\": true, \"type\": \"scatter\", \"data\": [0.8883364970720043, 0.9012837561354352, 0.9012837561354352, 0.9035426483530168, 0.9035426483530168, 0.9035426483530168, 0.9184068064198037, 0.9184068064198037, 0.9184068064198037, 0.9184068064198037, 0.9184068064198037, 0.9184068064198037, 0.9184068064198037, 0.9184068064198037, 0.9184068064198037, 0.9184068064198037, 0.9184068064198037, 0.9184068064198037, 0.9184068064198037, 0.9184068064198037, 0.9184068064198037, 0.9184068064198037, 0.9184068064198037, 0.9184068064198037, 0.9184068064198037, 0.9184068064198037, 0.9184068064198037, 0.9184068064198037, 0.9184068064198037, 0.9184068064198037, 0.9184068064198037, 0.9184068064198037, 0.9184068064198037, 0.9184068064198037, 0.9184068064198037, 0.9184068064198037, 0.9184068064198037, 0.9184068064198037, 0.9184068064198037, 0.9184068064198037, 0.9184068064198037]}], \"recall_score_weighted\": [{\"categories\": [\"0\", \"1\", \"2\", \"3\", \"4\", \"5\", \"6\", \"7\", \"8\", \"9\", \"10\", \"11\", \"12\", \"13\", \"14\", \"15\", \"16\", \"17\", \"18\", \"19\", \"20\", \"21\", \"22\", \"23\", \"24\", \"25\", \"26\", \"27\", \"28\", \"29\", \"30\", \"31\", \"32\", \"33\", \"34\", \"35\", \"36\", \"37\", \"38\", \"39\", \"40\"], \"mode\": \"markers\", \"name\": \"recall_score_weighted\", \"stepped\": false, \"type\": \"scatter\", \"data\": [0.803623188405797, 0.8327898550724638, 0.8329710144927537, 0.8161231884057971, 0.8284420289855072, 0.7036231884057971, 0.8452898550724637, 0.8327898550724637, 0.7827898550724638, 0.7704710144927536, 0.8452898550724637, 0.8327898550724637, 0.841123188405797, 0.7742753623188406, 0.8244565217391304, 0.7867753623188406, 0.8244565217391304, 0.7197463768115943, 0.8121376811594203, 0.8284420289855072, 0.6195652173913043, 0.770108695652174, 0.7744565217391304, 0.8284420289855072, 0.7911231884057971, 0.6570652173913043, 0.8242753623188405, 0.841123188405797, 0.8454710144927535, 0.8326086956521739, 0.8326086956521739, 0.7365942028985508, 0.8452898550724637, 0.8452898550724639, 0.7994565217391305, 0.8076086956521739, 0.7829710144927535, 0.8452898550724639, 0.8242753623188406, 0.8536231884057971, 0.8452898550724637]}, {\"categories\": [\"0\", \"1\", \"2\", \"3\", \"4\", \"5\", \"6\", \"7\", \"8\", \"9\", \"10\", \"11\", \"12\", \"13\", \"14\", \"15\", \"16\", \"17\", \"18\", \"19\", \"20\", \"21\", \"22\", \"23\", \"24\", \"25\", \"26\", \"27\", \"28\", \"29\", \"30\", \"31\", \"32\", \"33\", \"34\", \"35\", \"36\", \"37\", \"38\", \"39\", \"40\"], \"mode\": \"lines\", \"name\": \"recall_score_weighted_max\", \"stepped\": true, \"type\": \"scatter\", \"data\": [0.803623188405797, 0.8327898550724638, 0.8329710144927537, 0.8329710144927537, 0.8329710144927537, 0.8329710144927537, 0.8452898550724637, 0.8452898550724637, 0.8452898550724637, 0.8452898550724637, 0.8452898550724637, 0.8452898550724637, 0.8452898550724637, 0.8452898550724637, 0.8452898550724637, 0.8452898550724637, 0.8452898550724637, 0.8452898550724637, 0.8452898550724637, 0.8452898550724637, 0.8452898550724637, 0.8452898550724637, 0.8452898550724637, 0.8452898550724637, 0.8452898550724637, 0.8452898550724637, 0.8452898550724637, 0.8452898550724637, 0.8454710144927535, 0.8454710144927535, 0.8454710144927535, 0.8454710144927535, 0.8454710144927535, 0.8454710144927535, 0.8454710144927535, 0.8454710144927535, 0.8454710144927535, 0.8454710144927535, 0.8454710144927535, 0.8536231884057971, 0.8536231884057971]}], \"weighted_accuracy\": [{\"categories\": [\"0\", \"1\", \"2\", \"3\", \"4\", \"5\", \"6\", \"7\", \"8\", \"9\", \"10\", \"11\", \"12\", \"13\", \"14\", \"15\", \"16\", \"17\", \"18\", \"19\", \"20\", \"21\", \"22\", \"23\", \"24\", \"25\", \"26\", \"27\", \"28\", \"29\", \"30\", \"31\", \"32\", \"33\", \"34\", \"35\", \"36\", \"37\", \"38\", \"39\", \"40\"], \"mode\": \"markers\", \"name\": \"weighted_accuracy\", \"stepped\": false, \"type\": \"scatter\", \"data\": [0.8281719400210239, 0.8530407794486867, 0.8522824415543798, 0.8464235016115442, 0.836248772880885, 0.7663973737479042, 0.8641934026601336, 0.8562522261895454, 0.8114062785060856, 0.8027836056886203, 0.8650704561842459, 0.8617940915843519, 0.8765682799482221, 0.8078548654729948, 0.8659840192169025, 0.8236647206512202, 0.8445444890406317, 0.809171640299895, 0.8528282815119844, 0.8587177148218614, 0.6754605063115189, 0.7750859200569904, 0.8037631942453544, 0.861759580216668, 0.8440974267420748, 0.7769550939560583, 0.8468532756478755, 0.8616934026601335, 0.8676454516232723, 0.8475259323933384, 0.869259580216668, 0.8183254928023491, 0.8664231323898633, 0.8625757556013101, 0.8394839149660751, 0.8557752134970071, 0.8412494244485567, 0.8506825388551521, 0.8533927563050032, 0.87274268723883, 0.8630129575091002]}, {\"categories\": [\"0\", \"1\", \"2\", \"3\", \"4\", \"5\", \"6\", \"7\", \"8\", \"9\", \"10\", \"11\", \"12\", \"13\", \"14\", \"15\", \"16\", \"17\", \"18\", \"19\", \"20\", \"21\", \"22\", \"23\", \"24\", \"25\", \"26\", \"27\", \"28\", \"29\", \"30\", \"31\", \"32\", \"33\", \"34\", \"35\", \"36\", \"37\", \"38\", \"39\", \"40\"], \"mode\": \"lines\", \"name\": \"weighted_accuracy_max\", \"stepped\": true, \"type\": \"scatter\", \"data\": [0.8281719400210239, 0.8530407794486867, 0.8530407794486867, 0.8530407794486867, 0.8530407794486867, 0.8530407794486867, 0.8641934026601336, 0.8641934026601336, 0.8641934026601336, 0.8641934026601336, 0.8650704561842459, 0.8650704561842459, 0.8765682799482221, 0.8765682799482221, 0.8765682799482221, 0.8765682799482221, 0.8765682799482221, 0.8765682799482221, 0.8765682799482221, 0.8765682799482221, 0.8765682799482221, 0.8765682799482221, 0.8765682799482221, 0.8765682799482221, 0.8765682799482221, 0.8765682799482221, 0.8765682799482221, 0.8765682799482221, 0.8765682799482221, 0.8765682799482221, 0.8765682799482221, 0.8765682799482221, 0.8765682799482221, 0.8765682799482221, 0.8765682799482221, 0.8765682799482221, 0.8765682799482221, 0.8765682799482221, 0.8765682799482221, 0.8765682799482221, 0.8765682799482221]}], \"precision_score_micro\": [{\"categories\": [\"0\", \"1\", \"2\", \"3\", \"4\", \"5\", \"6\", \"7\", \"8\", \"9\", \"10\", \"11\", \"12\", \"13\", \"14\", \"15\", \"16\", \"17\", \"18\", \"19\", \"20\", \"21\", \"22\", \"23\", \"24\", \"25\", \"26\", \"27\", \"28\", \"29\", \"30\", \"31\", \"32\", \"33\", \"34\", \"35\", \"36\", \"37\", \"38\", \"39\", \"40\"], \"mode\": \"markers\", \"name\": \"precision_score_micro\", \"stepped\": false, \"type\": \"scatter\", \"data\": [0.803623188405797, 0.8327898550724638, 0.8329710144927537, 0.8161231884057971, 0.8284420289855072, 0.7036231884057971, 0.8452898550724637, 0.8327898550724637, 0.7827898550724638, 0.7704710144927536, 0.8452898550724637, 0.8327898550724637, 0.841123188405797, 0.7742753623188406, 0.8244565217391304, 0.7867753623188406, 0.8244565217391304, 0.7197463768115943, 0.8121376811594203, 0.8284420289855072, 0.6195652173913043, 0.770108695652174, 0.7744565217391304, 0.8284420289855072, 0.7911231884057971, 0.6570652173913043, 0.8242753623188405, 0.841123188405797, 0.8454710144927535, 0.8326086956521739, 0.8326086956521739, 0.7365942028985508, 0.8452898550724637, 0.8452898550724639, 0.7994565217391305, 0.8076086956521739, 0.7829710144927535, 0.8452898550724639, 0.8242753623188406, 0.8536231884057971, 0.8452898550724637]}, {\"categories\": [\"0\", \"1\", \"2\", \"3\", \"4\", \"5\", \"6\", \"7\", \"8\", \"9\", \"10\", \"11\", \"12\", \"13\", \"14\", \"15\", \"16\", \"17\", \"18\", \"19\", \"20\", \"21\", \"22\", \"23\", \"24\", \"25\", \"26\", \"27\", \"28\", \"29\", \"30\", \"31\", \"32\", \"33\", \"34\", \"35\", \"36\", \"37\", \"38\", \"39\", \"40\"], \"mode\": \"lines\", \"name\": \"precision_score_micro_max\", \"stepped\": true, \"type\": \"scatter\", \"data\": [0.803623188405797, 0.8327898550724638, 0.8329710144927537, 0.8329710144927537, 0.8329710144927537, 0.8329710144927537, 0.8452898550724637, 0.8452898550724637, 0.8452898550724637, 0.8452898550724637, 0.8452898550724637, 0.8452898550724637, 0.8452898550724637, 0.8452898550724637, 0.8452898550724637, 0.8452898550724637, 0.8452898550724637, 0.8452898550724637, 0.8452898550724637, 0.8452898550724637, 0.8452898550724637, 0.8452898550724637, 0.8452898550724637, 0.8452898550724637, 0.8452898550724637, 0.8452898550724637, 0.8452898550724637, 0.8452898550724637, 0.8454710144927535, 0.8454710144927535, 0.8454710144927535, 0.8454710144927535, 0.8454710144927535, 0.8454710144927535, 0.8454710144927535, 0.8454710144927535, 0.8454710144927535, 0.8454710144927535, 0.8454710144927535, 0.8536231884057971, 0.8536231884057971]}]}, \"metricName\": null, \"primaryMetricName\": \"accuracy\", \"showLegend\": false}, \"run_metrics\": [{\"name\": \"experiment_status\", \"run_id\": \"AutoML_cccabceb-02c8-4d5c-901a-529f4bb3781c\", \"categories\": [0, 1, 2, 3, 4, 5, 6, 7, 8, 9, 10, 11, 12, 13], \"series\": [{\"data\": [\"DatasetEvaluation\", \"FeaturesGeneration\", \"DatasetFeaturization\", \"DatasetFeaturizationCompleted\", \"DatasetCrossValidationSplit\", \"ModelSelection\", \"BestRunExplainModel\", \"ModelExplanationDataSetSetup\", \"PickSurrogateModel\", \"EngineeredFeatureExplanations\", \"EngineeredFeatureExplanations\", \"RawFeaturesExplanations\", \"RawFeaturesExplanations\", \"BestRunExplainModel\"]}]}, {\"name\": \"experiment_status_description\", \"run_id\": \"AutoML_cccabceb-02c8-4d5c-901a-529f4bb3781c\", \"categories\": [0, 1, 2, 3, 4, 5, 6, 7, 8, 9, 10, 11, 12, 13], \"series\": [{\"data\": [\"Gathering dataset statistics.\", \"Generating features for the dataset.\", \"Beginning to fit featurizers and featurize the dataset.\", \"Completed fit featurizers and featurizing the dataset.\", \"Generating individually featurized CV splits.\", \"Beginning model selection.\", \"Best run model explanations started\", \"Model explanations data setup completed\", \"Choosing LightGBM as the surrogate model for explanations\", \"Computation of engineered features started\", \"Computation of engineered features completed\", \"Computation of raw features started\", \"Computation of raw features completed\", \"Best run model explanations completed\"]}]}, {\"name\": \"f1_score_micro\", \"run_id\": \"AutoML_cccabceb-02c8-4d5c-901a-529f4bb3781c\", \"categories\": [0], \"series\": [{\"data\": [0.8536231884057971]}]}, {\"name\": \"log_loss\", \"run_id\": \"AutoML_cccabceb-02c8-4d5c-901a-529f4bb3781c\", \"categories\": [0], \"series\": [{\"data\": [0.4167455490218058]}]}, {\"name\": \"precision_score_micro\", \"run_id\": \"AutoML_cccabceb-02c8-4d5c-901a-529f4bb3781c\", \"categories\": [0], \"series\": [{\"data\": [0.8536231884057971]}]}, {\"name\": \"recall_score_weighted\", \"run_id\": \"AutoML_cccabceb-02c8-4d5c-901a-529f4bb3781c\", \"categories\": [0], \"series\": [{\"data\": [0.8536231884057971]}]}, {\"name\": \"recall_score_macro\", \"run_id\": \"AutoML_cccabceb-02c8-4d5c-901a-529f4bb3781c\", \"categories\": [0], \"series\": [{\"data\": [0.8286507936507936]}]}, {\"name\": \"precision_score_macro\", \"run_id\": \"AutoML_cccabceb-02c8-4d5c-901a-529f4bb3781c\", \"categories\": [0], \"series\": [{\"data\": [0.8540767973856209]}]}, {\"name\": \"average_precision_score_macro\", \"run_id\": \"AutoML_cccabceb-02c8-4d5c-901a-529f4bb3781c\", \"categories\": [0], \"series\": [{\"data\": [0.9009075771830203]}]}, {\"name\": \"recall_score_micro\", \"run_id\": \"AutoML_cccabceb-02c8-4d5c-901a-529f4bb3781c\", \"categories\": [0], \"series\": [{\"data\": [0.8536231884057971]}]}, {\"name\": \"accuracy\", \"run_id\": \"AutoML_cccabceb-02c8-4d5c-901a-529f4bb3781c\", \"categories\": [0], \"series\": [{\"data\": [0.8536231884057971]}]}, {\"name\": \"AUC_macro\", \"run_id\": \"AutoML_cccabceb-02c8-4d5c-901a-529f4bb3781c\", \"categories\": [0], \"series\": [{\"data\": [0.9100727513227514]}]}, {\"name\": \"balanced_accuracy\", \"run_id\": \"AutoML_cccabceb-02c8-4d5c-901a-529f4bb3781c\", \"categories\": [0], \"series\": [{\"data\": [0.8286507936507936]}]}, {\"name\": \"average_precision_score_weighted\", \"run_id\": \"AutoML_cccabceb-02c8-4d5c-901a-529f4bb3781c\", \"categories\": [0], \"series\": [{\"data\": [0.9228624647486118]}]}, {\"name\": \"norm_macro_recall\", \"run_id\": \"AutoML_cccabceb-02c8-4d5c-901a-529f4bb3781c\", \"categories\": [0], \"series\": [{\"data\": [0.6573015873015873]}]}, {\"name\": \"AUC_micro\", \"run_id\": \"AutoML_cccabceb-02c8-4d5c-901a-529f4bb3781c\", \"categories\": [0], \"series\": [{\"data\": [0.9096723377441712]}]}, {\"name\": \"AUC_weighted\", \"run_id\": \"AutoML_cccabceb-02c8-4d5c-901a-529f4bb3781c\", \"categories\": [0], \"series\": [{\"data\": [0.9100727513227511]}]}, {\"name\": \"weighted_accuracy\", \"run_id\": \"AutoML_cccabceb-02c8-4d5c-901a-529f4bb3781c\", \"categories\": [0], \"series\": [{\"data\": [0.87274268723883]}]}, {\"name\": \"matthews_correlation\", \"run_id\": \"AutoML_cccabceb-02c8-4d5c-901a-529f4bb3781c\", \"categories\": [0], \"series\": [{\"data\": [0.6791610556375612]}]}, {\"name\": \"f1_score_macro\", \"run_id\": \"AutoML_cccabceb-02c8-4d5c-901a-529f4bb3781c\", \"categories\": [0], \"series\": [{\"data\": [0.828945929002743]}]}, {\"name\": \"precision_score_weighted\", \"run_id\": \"AutoML_cccabceb-02c8-4d5c-901a-529f4bb3781c\", \"categories\": [0], \"series\": [{\"data\": [0.8666579639102017]}]}, {\"name\": \"f1_score_weighted\", \"run_id\": \"AutoML_cccabceb-02c8-4d5c-901a-529f4bb3781c\", \"categories\": [0], \"series\": [{\"data\": [0.8510079472180422]}]}, {\"name\": \"average_precision_score_micro\", \"run_id\": \"AutoML_cccabceb-02c8-4d5c-901a-529f4bb3781c\", \"categories\": [0], \"series\": [{\"data\": [0.9156432599500655]}]}], \"run_logs\": \"\\nRun is completed.\", \"graph\": {}, \"widget_settings\": {\"childWidgetDisplay\": \"popup\", \"send_telemetry\": false, \"log_level\": \"INFO\", \"sdk_version\": \"1.19.0\"}, \"loading\": false}"
          },
          "metadata": {}
        }
      ],
      "execution_count": 9,
      "metadata": {
        "gather": {
          "logged": 1611078283883
        },
        "jupyter": {
          "outputs_hidden": false,
          "source_hidden": false
        },
        "nteract": {
          "transient": {
            "deleting": false
          }
        }
      }
    },
    {
      "cell_type": "markdown",
      "source": [
        "## Run Details\n",
        "\n",
        "OPTIONAL: Write about the different models trained and their performance. Why do you think some models did better than others?\n",
        "\n",
        "TODO: In the cell below, use the `RunDetails` widget to show the different experiments."
      ],
      "metadata": {}
    },
    {
      "cell_type": "code",
      "source": [
        "remote_run.wait_for_completion(show_output=True)"
      ],
      "outputs": [
        {
          "output_type": "stream",
          "name": "stdout",
          "text": [
            "\n",
            "\n",
            "****************************************************************************************************\n",
            "DATA GUARDRAILS: \n",
            "\n",
            "TYPE:         Cross validation\n",
            "STATUS:       DONE\n",
            "DESCRIPTION:  Each iteration of the trained model was validated through cross-validation.\n",
            "              \n",
            "DETAILS:      \n",
            "+---------------------------------+\n",
            "|Number of folds                  |\n",
            "+=================================+\n",
            "|10                               |\n",
            "+---------------------------------+\n",
            "\n",
            "****************************************************************************************************\n",
            "\n",
            "TYPE:         Class balancing detection\n",
            "STATUS:       PASSED\n",
            "DESCRIPTION:  Your inputs were analyzed, and all classes are balanced in your training data.\n",
            "              Learn more about imbalanced data: https://aka.ms/AutomatedMLImbalancedData\n",
            "\n",
            "****************************************************************************************************\n",
            "\n",
            "TYPE:         Missing feature values imputation\n",
            "STATUS:       PASSED\n",
            "DESCRIPTION:  No feature missing values were detected in the training data.\n",
            "              Learn more about missing value imputation: https://aka.ms/AutomatedMLFeaturization\n",
            "\n",
            "****************************************************************************************************\n",
            "\n",
            "TYPE:         High cardinality feature detection\n",
            "STATUS:       PASSED\n",
            "DESCRIPTION:  Your inputs were analyzed, and no high cardinality features were detected.\n",
            "              Learn more about high cardinality feature handling: https://aka.ms/AutomatedMLFeaturization\n",
            "\n",
            "****************************************************************************************************\n",
            "\n",
            "****************************************************************************************************\n",
            "ITERATION: The iteration being evaluated.\n",
            "PIPELINE: A summary description of the pipeline being evaluated.\n",
            "DURATION: Time taken for the current iteration.\n",
            "METRIC: The result of computing score on the fitted pipeline.\n",
            "BEST: The best observed score thus far.\n",
            "****************************************************************************************************\n",
            "\n",
            " ITERATION   PIPELINE                                       DURATION      METRIC      BEST\n",
            "         0   MaxAbsScaler LightGBM                          0:00:47       0.8036    0.8036\n",
            "         1   MaxAbsScaler XGBoostClassifier                 0:00:43       0.8328    0.8328\n",
            "         2   MinMaxScaler RandomForest                      0:00:50       0.8330    0.8330\n",
            "         3   MinMaxScaler RandomForest                      0:00:43       0.8161    0.8330\n",
            "         4   MinMaxScaler RandomForest                      0:00:40       0.8284    0.8330\n",
            "         5   MinMaxScaler SVM                               0:00:52       0.7036    0.8330\n",
            "         6   MaxAbsScaler GradientBoosting                  0:00:49       0.8453    0.8453\n",
            "         7   StandardScalerWrapper RandomForest             0:00:28       0.8328    0.8453\n",
            "         8   SparseNormalizer XGBoostClassifier             0:00:49       0.7828    0.8453\n",
            "         9   SparseNormalizer LightGBM                      0:00:50       0.7705    0.8453\n",
            "        10   RobustScaler RandomForest                      0:00:46       0.8453    0.8453\n",
            "        11   MaxAbsScaler LightGBM                          0:01:43       0.8328    0.8453\n",
            "        12   RobustScaler ExtremeRandomTrees                0:00:43       0.8411    0.8453\n",
            "        13   SparseNormalizer XGBoostClassifier             0:00:49       0.7743    0.8453\n",
            "        14   StandardScalerWrapper ExtremeRandomTrees       0:00:49       0.8245    0.8453\n",
            "        15   StandardScalerWrapper XGBoostClassifier        0:00:50       0.7868    0.8453\n",
            "        16   StandardScalerWrapper GradientBoosting         0:00:52       0.8245    0.8453\n",
            "        17   StandardScalerWrapper ExtremeRandomTrees       0:00:57       0.7197    0.8453\n",
            "        18   MaxAbsScaler RandomForest                      0:00:53       0.8121    0.8453\n",
            "        19   StandardScalerWrapper XGBoostClassifier        0:00:55       0.8284    0.8453\n",
            "        20   RobustScaler KNN                               0:00:52       0.6196    0.8453\n",
            "        21   MaxAbsScaler ExtremeRandomTrees                0:00:54       0.7701    0.8453\n",
            "        22   SparseNormalizer LightGBM                      0:00:45       0.7745    0.8453\n",
            "        23   MaxAbsScaler LightGBM                          0:00:48       0.8284    0.8453\n",
            "        24   SparseNormalizer LightGBM                      0:00:54       0.7911    0.8453\n",
            "        25   TruncatedSVDWrapper GradientBoosting           0:00:52       0.6571    0.8453\n",
            "        26   MaxAbsScaler LightGBM                          0:00:54       0.8243    0.8453\n",
            "        27   RobustScaler RandomForest                      0:00:48       0.8411    0.8453\n",
            "        28   MaxAbsScaler LightGBM                          0:00:38       0.8455    0.8455\n",
            "        29   RobustScaler RandomForest                      0:00:42       0.8326    0.8455\n",
            "        30   MinMaxScaler LightGBM                          0:00:37       0.8326    0.8455\n",
            "        31   StandardScalerWrapper ExtremeRandomTrees       0:00:49       0.7366    0.8455\n",
            "        32   MinMaxScaler LightGBM                          0:01:13       0.8453    0.8455\n",
            "        33   StandardScalerWrapper GradientBoosting         0:00:46       0.8453    0.8455\n",
            "        34   RobustScaler LightGBM                          0:00:50       0.7995    0.8455\n",
            "        35   MaxAbsScaler LightGBM                          0:00:44       0.8076    0.8455\n",
            "        36   SparseNormalizer LightGBM                      0:00:45       0.7830    0.8455\n",
            "        37   StandardScalerWrapper RandomForest             0:00:56       0.8453    0.8455\n",
            "        38   RobustScaler RandomForest                      0:00:54       0.8243    0.8455\n",
            "        39    VotingEnsemble                                0:01:58       0.8536    0.8536\n",
            "        40    StackEnsemble                                 0:01:58       0.8453    0.8536\n"
          ]
        },
        {
          "output_type": "execute_result",
          "execution_count": 10,
          "data": {
            "text/plain": "{'runId': 'AutoML_cccabceb-02c8-4d5c-901a-529f4bb3781c',\n 'target': 'capstone',\n 'status': 'Completed',\n 'startTimeUtc': '2021-01-19T16:49:50.040699Z',\n 'endTimeUtc': '2021-01-19T17:44:35.819996Z',\n 'properties': {'num_iterations': '1000',\n  'training_type': 'TrainFull',\n  'acquisition_function': 'EI',\n  'primary_metric': 'accuracy',\n  'train_split': '0',\n  'acquisition_parameter': '0',\n  'num_cross_validation': None,\n  'target': 'capstone',\n  'AMLSettingsJsonString': '{\"path\":null,\"name\":\"experiment-1\",\"subscription_id\":\"9e65f93e-bdd8-437b-b1e8-0647cd6098f7\",\"resource_group\":\"aml-quickstarts-135374\",\"workspace_name\":\"quick-starts-ws-135374\",\"region\":\"southcentralus\",\"compute_target\":\"capstone\",\"spark_service\":null,\"azure_service\":\"remote\",\"many_models\":false,\"pipeline_fetch_max_batch_size\":1,\"iterations\":1000,\"primary_metric\":\"accuracy\",\"task_type\":\"classification\",\"data_script\":null,\"validation_size\":0.0,\"n_cross_validations\":null,\"y_min\":null,\"y_max\":null,\"num_classes\":null,\"featurization\":\"auto\",\"_ignore_package_version_incompatibilities\":false,\"is_timeseries\":false,\"max_cores_per_iteration\":1,\"max_concurrent_iterations\":1,\"iteration_timeout_minutes\":null,\"mem_in_mb\":null,\"enforce_time_on_windows\":false,\"experiment_timeout_minutes\":8640,\"experiment_exit_score\":null,\"whitelist_models\":null,\"blacklist_algos\":[\"TensorFlowLinearClassifier\",\"TensorFlowDNN\"],\"supported_models\":[\"MultinomialNaiveBayes\",\"ExtremeRandomTrees\",\"LinearSVM\",\"KNN\",\"RandomForest\",\"TensorFlowLinearClassifier\",\"DecisionTree\",\"SGD\",\"XGBoostClassifier\",\"LogisticRegression\",\"SVM\",\"BernoulliNaiveBayes\",\"GradientBoosting\",\"LightGBM\",\"AveragedPerceptronClassifier\",\"TensorFlowDNN\"],\"auto_blacklist\":true,\"blacklist_samples_reached\":false,\"exclude_nan_labels\":true,\"verbosity\":20,\"_debug_log\":\"azureml_automl.log\",\"show_warnings\":false,\"model_explainability\":true,\"service_url\":null,\"sdk_url\":null,\"sdk_packages\":null,\"enable_onnx_compatible_models\":false,\"enable_split_onnx_featurizer_estimator_models\":false,\"vm_type\":\"STANDARD_DS3_V2\",\"telemetry_verbosity\":20,\"send_telemetry\":true,\"enable_dnn\":false,\"scenario\":\"SDK-1.13.0\",\"environment_label\":null,\"force_text_dnn\":false,\"enable_feature_sweeping\":true,\"enable_early_stopping\":true,\"early_stopping_n_iters\":10,\"metrics\":null,\"enable_ensembling\":true,\"enable_stack_ensembling\":true,\"ensemble_iterations\":15,\"enable_tf\":false,\"enable_subsampling\":null,\"subsample_seed\":null,\"enable_nimbusml\":false,\"enable_streaming\":false,\"force_streaming\":false,\"track_child_runs\":true,\"allowed_private_models\":[],\"label_column_name\":\"DEATH_EVENT\",\"weight_column_name\":null,\"cv_split_column_names\":null,\"enable_local_managed\":false,\"_local_managed_run_id\":null,\"cost_mode\":1,\"lag_length\":0,\"metric_operation\":\"maximize\",\"preprocess\":true}',\n  'DataPrepJsonString': '{\\\\\"training_data\\\\\": \\\\\"{\\\\\\\\\\\\\"blocks\\\\\\\\\\\\\": [{\\\\\\\\\\\\\"id\\\\\\\\\\\\\": \\\\\\\\\\\\\"9f2839c1-dd05-4cf1-b5ca-7ae7446371e0\\\\\\\\\\\\\", \\\\\\\\\\\\\"type\\\\\\\\\\\\\": \\\\\\\\\\\\\"Microsoft.DPrep.GetDatastoreFilesBlock\\\\\\\\\\\\\", \\\\\\\\\\\\\"arguments\\\\\\\\\\\\\": {\\\\\\\\\\\\\"datastores\\\\\\\\\\\\\": [{\\\\\\\\\\\\\"datastoreName\\\\\\\\\\\\\": \\\\\\\\\\\\\"workspaceblobstore\\\\\\\\\\\\\", \\\\\\\\\\\\\"path\\\\\\\\\\\\\": \\\\\\\\\\\\\"udacity-project/train_data.csv\\\\\\\\\\\\\", \\\\\\\\\\\\\"resourceGroup\\\\\\\\\\\\\": \\\\\\\\\\\\\"aml-quickstarts-135374\\\\\\\\\\\\\", \\\\\\\\\\\\\"subscription\\\\\\\\\\\\\": \\\\\\\\\\\\\"9e65f93e-bdd8-437b-b1e8-0647cd6098f7\\\\\\\\\\\\\", \\\\\\\\\\\\\"workspaceName\\\\\\\\\\\\\": \\\\\\\\\\\\\"quick-starts-ws-135374\\\\\\\\\\\\\"}]}, \\\\\\\\\\\\\"localData\\\\\\\\\\\\\": {}, \\\\\\\\\\\\\"isEnabled\\\\\\\\\\\\\": true, \\\\\\\\\\\\\"name\\\\\\\\\\\\\": null, \\\\\\\\\\\\\"annotation\\\\\\\\\\\\\": null}, {\\\\\\\\\\\\\"id\\\\\\\\\\\\\": \\\\\\\\\\\\\"894160fd-9c50-441e-9077-f628f5e71a5e\\\\\\\\\\\\\", \\\\\\\\\\\\\"type\\\\\\\\\\\\\": \\\\\\\\\\\\\"Microsoft.DPrep.ParseDelimitedBlock\\\\\\\\\\\\\", \\\\\\\\\\\\\"arguments\\\\\\\\\\\\\": {\\\\\\\\\\\\\"columnHeadersMode\\\\\\\\\\\\\": 3, \\\\\\\\\\\\\"fileEncoding\\\\\\\\\\\\\": 0, \\\\\\\\\\\\\"handleQuotedLineBreaks\\\\\\\\\\\\\": false, \\\\\\\\\\\\\"preview\\\\\\\\\\\\\": false, \\\\\\\\\\\\\"separator\\\\\\\\\\\\\": \\\\\\\\\\\\\",\\\\\\\\\\\\\", \\\\\\\\\\\\\"skipRows\\\\\\\\\\\\\": 0, \\\\\\\\\\\\\"skipRowsMode\\\\\\\\\\\\\": 0}, \\\\\\\\\\\\\"localData\\\\\\\\\\\\\": {}, \\\\\\\\\\\\\"isEnabled\\\\\\\\\\\\\": true, \\\\\\\\\\\\\"name\\\\\\\\\\\\\": null, \\\\\\\\\\\\\"annotation\\\\\\\\\\\\\": null}, {\\\\\\\\\\\\\"id\\\\\\\\\\\\\": \\\\\\\\\\\\\"9bd326c6-ed71-4e4a-ac8e-a765d3b7279d\\\\\\\\\\\\\", \\\\\\\\\\\\\"type\\\\\\\\\\\\\": \\\\\\\\\\\\\"Microsoft.DPrep.DropColumnsBlock\\\\\\\\\\\\\", \\\\\\\\\\\\\"arguments\\\\\\\\\\\\\": {\\\\\\\\\\\\\"columns\\\\\\\\\\\\\": {\\\\\\\\\\\\\"type\\\\\\\\\\\\\": 0, \\\\\\\\\\\\\"details\\\\\\\\\\\\\": {\\\\\\\\\\\\\"selectedColumns\\\\\\\\\\\\\": [\\\\\\\\\\\\\"Path\\\\\\\\\\\\\"]}}}, \\\\\\\\\\\\\"localData\\\\\\\\\\\\\": {}, \\\\\\\\\\\\\"isEnabled\\\\\\\\\\\\\": true, \\\\\\\\\\\\\"name\\\\\\\\\\\\\": null, \\\\\\\\\\\\\"annotation\\\\\\\\\\\\\": null}, {\\\\\\\\\\\\\"id\\\\\\\\\\\\\": \\\\\\\\\\\\\"325da7b9-b0b3-4970-b498-2075d207267b\\\\\\\\\\\\\", \\\\\\\\\\\\\"type\\\\\\\\\\\\\": \\\\\\\\\\\\\"Microsoft.DPrep.SetColumnTypesBlock\\\\\\\\\\\\\", \\\\\\\\\\\\\"arguments\\\\\\\\\\\\\": {\\\\\\\\\\\\\"columnConversion\\\\\\\\\\\\\": [{\\\\\\\\\\\\\"column\\\\\\\\\\\\\": {\\\\\\\\\\\\\"type\\\\\\\\\\\\\": 2, \\\\\\\\\\\\\"details\\\\\\\\\\\\\": {\\\\\\\\\\\\\"selectedColumn\\\\\\\\\\\\\": \\\\\\\\\\\\\"age\\\\\\\\\\\\\"}}, \\\\\\\\\\\\\"typeProperty\\\\\\\\\\\\\": 3}, {\\\\\\\\\\\\\"column\\\\\\\\\\\\\": {\\\\\\\\\\\\\"type\\\\\\\\\\\\\": 2, \\\\\\\\\\\\\"details\\\\\\\\\\\\\": {\\\\\\\\\\\\\"selectedColumn\\\\\\\\\\\\\": \\\\\\\\\\\\\"anaemia\\\\\\\\\\\\\"}}, \\\\\\\\\\\\\"typeProperty\\\\\\\\\\\\\": 2}, {\\\\\\\\\\\\\"column\\\\\\\\\\\\\": {\\\\\\\\\\\\\"type\\\\\\\\\\\\\": 2, \\\\\\\\\\\\\"details\\\\\\\\\\\\\": {\\\\\\\\\\\\\"selectedColumn\\\\\\\\\\\\\": \\\\\\\\\\\\\"creatinine_phosphokinase\\\\\\\\\\\\\"}}, \\\\\\\\\\\\\"typeProperty\\\\\\\\\\\\\": 2}, {\\\\\\\\\\\\\"column\\\\\\\\\\\\\": {\\\\\\\\\\\\\"type\\\\\\\\\\\\\": 2, \\\\\\\\\\\\\"details\\\\\\\\\\\\\": {\\\\\\\\\\\\\"selectedColumn\\\\\\\\\\\\\": \\\\\\\\\\\\\"diabetes\\\\\\\\\\\\\"}}, \\\\\\\\\\\\\"typeProperty\\\\\\\\\\\\\": 2}, {\\\\\\\\\\\\\"column\\\\\\\\\\\\\": {\\\\\\\\\\\\\"type\\\\\\\\\\\\\": 2, \\\\\\\\\\\\\"details\\\\\\\\\\\\\": {\\\\\\\\\\\\\"selectedColumn\\\\\\\\\\\\\": \\\\\\\\\\\\\"ejection_fraction\\\\\\\\\\\\\"}}, \\\\\\\\\\\\\"typeProperty\\\\\\\\\\\\\": 2}, {\\\\\\\\\\\\\"column\\\\\\\\\\\\\": {\\\\\\\\\\\\\"type\\\\\\\\\\\\\": 2, \\\\\\\\\\\\\"details\\\\\\\\\\\\\": {\\\\\\\\\\\\\"selectedColumn\\\\\\\\\\\\\": \\\\\\\\\\\\\"high_blood_pressure\\\\\\\\\\\\\"}}, \\\\\\\\\\\\\"typeProperty\\\\\\\\\\\\\": 2}, {\\\\\\\\\\\\\"column\\\\\\\\\\\\\": {\\\\\\\\\\\\\"type\\\\\\\\\\\\\": 2, \\\\\\\\\\\\\"details\\\\\\\\\\\\\": {\\\\\\\\\\\\\"selectedColumn\\\\\\\\\\\\\": \\\\\\\\\\\\\"platelets\\\\\\\\\\\\\"}}, \\\\\\\\\\\\\"typeProperty\\\\\\\\\\\\\": 3}, {\\\\\\\\\\\\\"column\\\\\\\\\\\\\": {\\\\\\\\\\\\\"type\\\\\\\\\\\\\": 2, \\\\\\\\\\\\\"details\\\\\\\\\\\\\": {\\\\\\\\\\\\\"selectedColumn\\\\\\\\\\\\\": \\\\\\\\\\\\\"serum_creatinine\\\\\\\\\\\\\"}}, \\\\\\\\\\\\\"typeProperty\\\\\\\\\\\\\": 3}, {\\\\\\\\\\\\\"column\\\\\\\\\\\\\": {\\\\\\\\\\\\\"type\\\\\\\\\\\\\": 2, \\\\\\\\\\\\\"details\\\\\\\\\\\\\": {\\\\\\\\\\\\\"selectedColumn\\\\\\\\\\\\\": \\\\\\\\\\\\\"serum_sodium\\\\\\\\\\\\\"}}, \\\\\\\\\\\\\"typeProperty\\\\\\\\\\\\\": 2}, {\\\\\\\\\\\\\"column\\\\\\\\\\\\\": {\\\\\\\\\\\\\"type\\\\\\\\\\\\\": 2, \\\\\\\\\\\\\"details\\\\\\\\\\\\\": {\\\\\\\\\\\\\"selectedColumn\\\\\\\\\\\\\": \\\\\\\\\\\\\"sex\\\\\\\\\\\\\"}}, \\\\\\\\\\\\\"typeProperty\\\\\\\\\\\\\": 2}, {\\\\\\\\\\\\\"column\\\\\\\\\\\\\": {\\\\\\\\\\\\\"type\\\\\\\\\\\\\": 2, \\\\\\\\\\\\\"details\\\\\\\\\\\\\": {\\\\\\\\\\\\\"selectedColumn\\\\\\\\\\\\\": \\\\\\\\\\\\\"smoking\\\\\\\\\\\\\"}}, \\\\\\\\\\\\\"typeProperty\\\\\\\\\\\\\": 2}, {\\\\\\\\\\\\\"column\\\\\\\\\\\\\": {\\\\\\\\\\\\\"type\\\\\\\\\\\\\": 2, \\\\\\\\\\\\\"details\\\\\\\\\\\\\": {\\\\\\\\\\\\\"selectedColumn\\\\\\\\\\\\\": \\\\\\\\\\\\\"time\\\\\\\\\\\\\"}}, \\\\\\\\\\\\\"typeProperty\\\\\\\\\\\\\": 2}, {\\\\\\\\\\\\\"column\\\\\\\\\\\\\": {\\\\\\\\\\\\\"type\\\\\\\\\\\\\": 2, \\\\\\\\\\\\\"details\\\\\\\\\\\\\": {\\\\\\\\\\\\\"selectedColumn\\\\\\\\\\\\\": \\\\\\\\\\\\\"DEATH_EVENT\\\\\\\\\\\\\"}}, \\\\\\\\\\\\\"typeProperty\\\\\\\\\\\\\": 2}]}, \\\\\\\\\\\\\"localData\\\\\\\\\\\\\": {}, \\\\\\\\\\\\\"isEnabled\\\\\\\\\\\\\": true, \\\\\\\\\\\\\"name\\\\\\\\\\\\\": null, \\\\\\\\\\\\\"annotation\\\\\\\\\\\\\": null}], \\\\\\\\\\\\\"inspectors\\\\\\\\\\\\\": [], \\\\\\\\\\\\\"meta\\\\\\\\\\\\\": {\\\\\\\\\\\\\"savedDatasetId\\\\\\\\\\\\\": \\\\\\\\\\\\\"740025bb-274d-457a-8bf8-4b78c6d4cd2a\\\\\\\\\\\\\", \\\\\\\\\\\\\"datasetType\\\\\\\\\\\\\": \\\\\\\\\\\\\"tabular\\\\\\\\\\\\\", \\\\\\\\\\\\\"subscriptionId\\\\\\\\\\\\\": \\\\\\\\\\\\\"9e65f93e-bdd8-437b-b1e8-0647cd6098f7\\\\\\\\\\\\\", \\\\\\\\\\\\\"workspaceId\\\\\\\\\\\\\": \\\\\\\\\\\\\"c7e0eb33-904f-43e4-be30-3dbcf70c8e38\\\\\\\\\\\\\", \\\\\\\\\\\\\"workspaceLocation\\\\\\\\\\\\\": \\\\\\\\\\\\\"southcentralus\\\\\\\\\\\\\"}}\\\\\", \\\\\"activities\\\\\": 0}',\n  'EnableSubsampling': None,\n  'runTemplate': 'AutoML',\n  'azureml.runsource': 'automl',\n  'display_task_type': 'classification',\n  'dependencies_versions': '{\"azureml-widgets\": \"1.19.0\", \"azureml-train\": \"1.19.0\", \"azureml-train-restclients-hyperdrive\": \"1.19.0\", \"azureml-train-core\": \"1.19.0\", \"azureml-train-automl\": \"1.19.0\", \"azureml-train-automl-runtime\": \"1.19.0\", \"azureml-train-automl-client\": \"1.19.0\", \"azureml-tensorboard\": \"1.19.0\", \"azureml-telemetry\": \"1.19.0\", \"azureml-sdk\": \"1.19.0\", \"azureml-samples\": \"0+unknown\", \"azureml-pipeline\": \"1.19.0\", \"azureml-pipeline-steps\": \"1.19.0\", \"azureml-pipeline-core\": \"1.19.0\", \"azureml-opendatasets\": \"1.19.0\", \"azureml-model-management-sdk\": \"1.0.1b6.post1\", \"azureml-mlflow\": \"1.19.0\", \"azureml-interpret\": \"1.19.0\", \"azureml-explain-model\": \"1.19.0\", \"azureml-defaults\": \"1.19.0\", \"azureml-dataset-runtime\": \"1.19.0.post1\", \"azureml-dataprep\": \"2.6.1\", \"azureml-dataprep-rslex\": \"1.4.0\", \"azureml-dataprep-native\": \"26.0.0\", \"azureml-datadrift\": \"1.19.0\", \"azureml-core\": \"1.19.0\", \"azureml-contrib-services\": \"1.19.0\", \"azureml-contrib-server\": \"1.19.0\", \"azureml-contrib-reinforcementlearning\": \"1.19.0\", \"azureml-contrib-pipeline-steps\": \"1.19.0\", \"azureml-contrib-notebook\": \"1.19.0\", \"azureml-contrib-interpret\": \"1.19.0\", \"azureml-contrib-gbdt\": \"1.19.0\", \"azureml-contrib-fairness\": \"1.19.0\", \"azureml-contrib-dataset\": \"1.19.0\", \"azureml-cli-common\": \"1.19.0\", \"azureml-automl-runtime\": \"1.19.0\", \"azureml-automl-core\": \"1.19.0\", \"azureml-accel-models\": \"1.19.0\"}',\n  '_aml_system_scenario_identification': 'Remote.Parent',\n  'ClientType': 'SDK',\n  'environment_cpu_name': 'AzureML-AutoML',\n  'environment_cpu_label': 'prod',\n  'environment_gpu_name': 'AzureML-AutoML-GPU',\n  'environment_gpu_label': 'prod',\n  'root_attribution': 'automl',\n  'attribution': 'AutoML',\n  'Orchestrator': 'AutoML',\n  'CancelUri': 'https://southcentralus.experiments.azureml.net/jasmine/v1.0/subscriptions/9e65f93e-bdd8-437b-b1e8-0647cd6098f7/resourceGroups/aml-quickstarts-135374/providers/Microsoft.MachineLearningServices/workspaces/quick-starts-ws-135374/experimentids/5b360cef-3adc-4726-8150-fe98c57264d1/cancel/AutoML_cccabceb-02c8-4d5c-901a-529f4bb3781c',\n  'ClientSdkVersion': '1.20.0',\n  'snapshotId': '00000000-0000-0000-0000-000000000000',\n  'SetupRunId': 'AutoML_cccabceb-02c8-4d5c-901a-529f4bb3781c_setup',\n  'SetupRunContainerId': 'dcid.AutoML_cccabceb-02c8-4d5c-901a-529f4bb3781c_setup',\n  'FeaturizationRunJsonPath': 'featurizer_container.json',\n  'FeaturizationRunId': 'AutoML_cccabceb-02c8-4d5c-901a-529f4bb3781c_featurize',\n  'ProblemInfoJsonString': '{\"dataset_num_categorical\": 0, \"is_sparse\": false, \"subsampling\": false, \"dataset_classes\": 2, \"dataset_features\": 12, \"dataset_samples\": 239, \"single_frequency_class_detected\": false}',\n  'ModelExplainRunId': 'AutoML_cccabceb-02c8-4d5c-901a-529f4bb3781c_ModelExplain'},\n 'inputDatasets': [{'dataset': {'id': '740025bb-274d-457a-8bf8-4b78c6d4cd2a'}, 'consumptionDetails': {'type': 'RunInput', 'inputName': 'training_data', 'mechanism': 'Direct'}}],\n 'outputDatasets': [],\n 'logFiles': {}}"
          },
          "metadata": {}
        }
      ],
      "execution_count": 10,
      "metadata": {
        "gather": {
          "logged": 1611078838347
        },
        "jupyter": {
          "outputs_hidden": false,
          "source_hidden": false
        },
        "nteract": {
          "transient": {
            "deleting": false
          }
        }
      }
    },
    {
      "cell_type": "markdown",
      "source": [
        "## Best Model\n",
        "\n",
        "TODO: In the cell below, get the best model from the automl experiments and display all the properties of the model.\n",
        "\n"
      ],
      "metadata": {}
    },
    {
      "cell_type": "code",
      "source": [
        "best_model, fitted_model = remote_run.get_output()\r\n",
        "\r\n",
        "print(best_model)"
      ],
      "outputs": [
        {
          "output_type": "stream",
          "name": "stderr",
          "text": [
            "WARNING:root:The version of the SDK does not match the version the model was trained on.\n",
            "WARNING:root:The consistency in the result may not be guaranteed.\n",
            "WARNING:root:Package:azureml-automl-core, training version:1.20.0, current version:1.19.0\n",
            "Package:azureml-automl-runtime, training version:1.20.0, current version:1.19.0\n",
            "Package:azureml-core, training version:1.20.0, current version:1.19.0\n",
            "Package:azureml-dataprep, training version:2.7.2, current version:2.6.1\n",
            "Package:azureml-dataprep-native, training version:27.0.0, current version:26.0.0\n",
            "Package:azureml-dataprep-rslex, training version:1.5.0, current version:1.4.0\n",
            "Package:azureml-dataset-runtime, training version:1.20.0, current version:1.19.0.post1\n",
            "Package:azureml-defaults, training version:1.20.0, current version:1.19.0\n",
            "Package:azureml-interpret, training version:1.20.0, current version:1.19.0\n",
            "Package:azureml-pipeline-core, training version:1.20.0, current version:1.19.0\n",
            "Package:azureml-telemetry, training version:1.20.0, current version:1.19.0\n",
            "Package:azureml-train-automl-client, training version:1.20.0, current version:1.19.0\n",
            "Package:azureml-train-automl-runtime, training version:1.20.0, current version:1.19.0\n",
            "WARNING:root:Please ensure the version of your local conda dependencies match the version on which your model was trained in order to properly retrieve your model.\n"
          ]
        },
        {
          "output_type": "stream",
          "name": "stdout",
          "text": [
            "Run(Experiment: experiment-1,\n",
            "Id: AutoML_cccabceb-02c8-4d5c-901a-529f4bb3781c_39,\n",
            "Type: azureml.scriptrun,\n",
            "Status: Completed)\n"
          ]
        }
      ],
      "execution_count": 11,
      "metadata": {
        "gather": {
          "logged": 1611078942358
        },
        "jupyter": {
          "outputs_hidden": false,
          "source_hidden": false
        },
        "nteract": {
          "transient": {
            "deleting": false
          }
        }
      }
    },
    {
      "cell_type": "code",
      "source": [
        "print(fitted_model)"
      ],
      "outputs": [
        {
          "output_type": "stream",
          "name": "stdout",
          "text": [
            "Pipeline(memory=None,\n",
            "         steps=[('datatransformer',\n",
            "                 DataTransformer(enable_dnn=None, enable_feature_sweeping=None,\n",
            "                                 feature_sweeping_config=None,\n",
            "                                 feature_sweeping_timeout=None,\n",
            "                                 featurization_config=None, force_text_dnn=None,\n",
            "                                 is_cross_validation=None,\n",
            "                                 is_onnx_compatible=None, logger=None,\n",
            "                                 observer=None, task=None, working_dir=None)),\n",
            "                ('prefittedsoftvotingclassifier',...\n",
            "                                                                                                        min_weight_fraction_leaf=0.0,\n",
            "                                                                                                        n_estimators=25,\n",
            "                                                                                                        n_iter_no_change=None,\n",
            "                                                                                                        presort='deprecated',\n",
            "                                                                                                        random_state=None,\n",
            "                                                                                                        subsample=1,\n",
            "                                                                                                        tol=0.0001,\n",
            "                                                                                                        validation_fraction=0.1,\n",
            "                                                                                                        verbose=0,\n",
            "                                                                                                        warm_start=False))],\n",
            "                                                                     verbose=False))],\n",
            "                                               flatten_transform=None,\n",
            "                                               weights=[0.16666666666666666,\n",
            "                                                        0.16666666666666666,\n",
            "                                                        0.16666666666666666,\n",
            "                                                        0.16666666666666666,\n",
            "                                                        0.16666666666666666,\n",
            "                                                        0.16666666666666666]))],\n",
            "         verbose=False)\n"
          ]
        }
      ],
      "execution_count": 12,
      "metadata": {
        "collapsed": true,
        "jupyter": {
          "source_hidden": false,
          "outputs_hidden": false
        },
        "nteract": {
          "transient": {
            "deleting": false
          }
        },
        "gather": {
          "logged": 1611078948715
        }
      }
    },
    {
      "cell_type": "code",
      "source": [
        "#TODO: Save the best model\r\n",
        "best_model.download_file('outputs/model.pkl', 'outputs/model.pkl')\r\n",
        "best_model.download_file('outputs/scoring_file_v_1_0_0.py', 'outputs/score_aml.py')\r\n",
        "best_model.download_file('automl_driver.py', 'outputs/automl_driver.py')"
      ],
      "outputs": [],
      "execution_count": 13,
      "metadata": {
        "gather": {
          "logged": 1611078952269
        },
        "jupyter": {
          "outputs_hidden": false,
          "source_hidden": false
        },
        "nteract": {
          "transient": {
            "deleting": false
          }
        }
      }
    },
    {
      "cell_type": "markdown",
      "source": [
        "## Model Deployment\n",
        "\n",
        "Remember you have to deploy only one of the two models you trained.. Perform the steps in the rest of this notebook only if you wish to deploy this model.\n",
        "\n",
        "TODO: In the cell below, register the model, create an inference config and deploy the model as a web service."
      ],
      "metadata": {}
    },
    {
      "cell_type": "code",
      "source": [
        "model = Model.register(workspace = ws,\r\n",
        "                        model_path =\"outputs/model.pkl\",\r\n",
        "                        model_name = \"model\")\r\n",
        "\r\n",
        "\r\n",
        "print(model.name)"
      ],
      "outputs": [
        {
          "output_type": "stream",
          "name": "stdout",
          "text": [
            "Registering model model\n",
            "model\n"
          ]
        }
      ],
      "execution_count": 14,
      "metadata": {
        "gather": {
          "logged": 1611078956983
        },
        "jupyter": {
          "outputs_hidden": false,
          "source_hidden": false
        },
        "nteract": {
          "transient": {
            "deleting": false
          }
        }
      }
    },
    {
      "cell_type": "code",
      "source": [
        "# Define Deployment\r\n",
        "\r\n",
        "aci_config = AciWebservice.deploy_configuration(cpu_cores=1, memory_gb=2,\r\n",
        "                                              enable_app_insights=True) \r\n"
      ],
      "outputs": [],
      "execution_count": 15,
      "metadata": {
        "collapsed": true,
        "jupyter": {
          "source_hidden": false,
          "outputs_hidden": false
        },
        "nteract": {
          "transient": {
            "deleting": false
          }
        },
        "gather": {
          "logged": 1611078960352
        }
      }
    },
    {
      "cell_type": "code",
      "source": [
        "from azureml.core.conda_dependencies import CondaDependencies\r\n",
        "\r\n",
        "azureml_pip_packages = [\r\n",
        "    'azureml-interpret', 'azureml-train-automl', 'azureml-defaults'\r\n",
        "]\r\n",
        "\r\n",
        "myenv = CondaDependencies.create(conda_packages=['scikit-learn', 'pandas', 'numpy', 'py-xgboost<=0.80'],\r\n",
        "                                 pip_packages=azureml_pip_packages,\r\n",
        "                                 pin_sdk_version=True)\r\n",
        "\r\n",
        "with open(\"env.yml\",\"w\") as f:\r\n",
        "    f.write(myenv.serialize_to_string())\r\n",
        "\r\n",
        "with open(\"env.yml\",\"r\") as f:\r\n",
        "    print(f.read())"
      ],
      "outputs": [
        {
          "output_type": "stream",
          "name": "stdout",
          "text": [
            "# Conda environment specification. The dependencies defined in this file will\n",
            "# be automatically provisioned for runs with userManagedDependencies=False.\n",
            "\n",
            "# Details about the Conda environment file format:\n",
            "# https://conda.io/docs/user-guide/tasks/manage-environments.html#create-env-file-manually\n",
            "\n",
            "name: project_environment\n",
            "dependencies:\n",
            "  # The python interpreter version.\n",
            "  # Currently Azure ML only supports 3.5.2 and later.\n",
            "- python=3.6.2\n",
            "\n",
            "- pip:\n",
            "  - azureml-interpret~=1.19.0\n",
            "  - azureml-train-automl~=1.19.0\n",
            "  - azureml-defaults~=1.19.0\n",
            "- scikit-learn\n",
            "- pandas\n",
            "- numpy\n",
            "- py-xgboost<=0.80\n",
            "channels:\n",
            "- anaconda\n",
            "- conda-forge\n",
            "\n"
          ]
        }
      ],
      "execution_count": 16,
      "metadata": {
        "collapsed": true,
        "jupyter": {
          "source_hidden": false,
          "outputs_hidden": false
        },
        "nteract": {
          "transient": {
            "deleting": false
          }
        },
        "gather": {
          "logged": 1611078962503
        }
      }
    },
    {
      "cell_type": "code",
      "source": [
        "# Create the environment\r\n",
        "\r\n",
        "env = Environment.from_conda_specification(name='env',file_path = 'env.yml')\r\n",
        "\r\n",
        "# myenv = Environment(workspace=ws, name=\"myenv\")\r\n",
        "\r\n",
        "inference_config = InferenceConfig(entry_script='./score.py',environment=env)\r\n",
        "\r\n",
        "f = open(\"envnew.yml\", \"w\")\r\n",
        "f.write(env.python.conda_dependencies.serialize_to_string())\r\n",
        "f.close()\r\n",
        "\r\n",
        "print(\"packages\", env.python.conda_dependencies.serialize_to_string())"
      ],
      "outputs": [
        {
          "output_type": "stream",
          "name": "stdout",
          "text": [
            "packages # Conda environment specification. The dependencies defined in this file will\n",
            "# be automatically provisioned for runs with userManagedDependencies=False.\n",
            "\n",
            "# Details about the Conda environment file format:\n",
            "# https://conda.io/docs/user-guide/tasks/manage-environments.html#create-env-file-manually\n",
            "\n",
            "name: project_environment\n",
            "dependencies:\n",
            "  # The python interpreter version.\n",
            "  # Currently Azure ML only supports 3.5.2 and later.\n",
            "- python=3.6.2\n",
            "\n",
            "- pip:\n",
            "  - azureml-interpret~=1.19.0\n",
            "  - azureml-train-automl~=1.19.0\n",
            "  - azureml-defaults~=1.19.0\n",
            "- scikit-learn\n",
            "- pandas\n",
            "- numpy\n",
            "- py-xgboost<=0.80\n",
            "channels:\n",
            "- anaconda\n",
            "- conda-forge\n",
            "\n"
          ]
        }
      ],
      "execution_count": 17,
      "metadata": {
        "collapsed": true,
        "jupyter": {
          "source_hidden": false,
          "outputs_hidden": false
        },
        "nteract": {
          "transient": {
            "deleting": false
          }
        },
        "gather": {
          "logged": 1611078964262
        }
      }
    },
    {
      "cell_type": "code",
      "source": [
        "service_name = 'services'\r\n",
        "\r\n",
        "services = Model.deploy(ws, service_name, [model], inference_config, deployment_config=aci_config)"
      ],
      "outputs": [],
      "execution_count": 18,
      "metadata": {
        "collapsed": true,
        "jupyter": {
          "source_hidden": false,
          "outputs_hidden": false
        },
        "nteract": {
          "transient": {
            "deleting": false
          }
        },
        "gather": {
          "logged": 1611078968036
        }
      }
    },
    {
      "cell_type": "code",
      "source": [
        "services.wait_for_deployment(True)\r\n",
        "print(services.state)"
      ],
      "outputs": [
        {
          "output_type": "stream",
          "name": "stdout",
          "text": [
            "Tips: You can try get_logs(): https://aka.ms/debugimage#dockerlog or local deployment: https://aka.ms/debugimage#debug-locally to debug if deployment takes longer than 10 minutes.\n",
            "Running.........................................................................................................................\n",
            "Succeeded\n",
            "ACI service creation operation finished, operation \"Succeeded\"\n",
            "Healthy\n"
          ]
        }
      ],
      "execution_count": 19,
      "metadata": {
        "collapsed": true,
        "jupyter": {
          "source_hidden": false,
          "outputs_hidden": false
        },
        "nteract": {
          "transient": {
            "deleting": false
          }
        },
        "gather": {
          "logged": 1611079598872
        }
      }
    },
    {
      "cell_type": "code",
      "source": [
        "print(\"scoring URI: \" + services.scoring_uri)"
      ],
      "outputs": [
        {
          "output_type": "stream",
          "name": "stdout",
          "text": [
            "scoring URI: http://9ef75fbe-f4c6-4826-85cb-8d94258a26f0.southcentralus.azurecontainer.io/score\n"
          ]
        }
      ],
      "execution_count": 20,
      "metadata": {
        "collapsed": true,
        "jupyter": {
          "source_hidden": false,
          "outputs_hidden": false
        },
        "nteract": {
          "transient": {
            "deleting": false
          }
        },
        "gather": {
          "logged": 1611079808058
        }
      }
    },
    {
      "cell_type": "markdown",
      "source": [
        "TODO: In the cell below, send a request to the web service you deployed to test it."
      ],
      "metadata": {
        "collapsed": true,
        "gather": {
          "logged": 1598431657736
        },
        "jupyter": {
          "outputs_hidden": false,
          "source_hidden": false
        },
        "nteract": {
          "transient": {
            "deleting": false
          }
        }
      }
    },
    {
      "cell_type": "code",
      "source": [
        "scoring_uri = 'http://9ef75fbe-f4c6-4826-85cb-8d94258a26f0.southcentralus.azurecontainer.io/score'\r\n",
        "headers = {'Content-Type':'application/json'}\r\n",
        "\r\n",
        "test_data = json.dumps({'data':[{\r\n",
        "    'age':75,\r\n",
        "    'anaemia':0,\r\n",
        "    'creatinine_phosphokinase':582,\r\n",
        "    'diabetes':0,\r\n",
        "    'ejection_fraction':20,\r\n",
        "    'high_blood_pressure':1,\r\n",
        "    'platelets':265000,\r\n",
        "    'serum_creatinine':1.9,\r\n",
        "    'serum_sodium':130,\r\n",
        "    'sex':1,\r\n",
        "    'smoking':0,\r\n",
        "    'time':4}\r\n",
        "    ]\r\n",
        "        })\r\n",
        "\r\n",
        "test_data2 = json.dumps({'data':[{\r\n",
        "    'age':40,\r\n",
        "    'anaemia':0,\r\n",
        "    'creatinine_phosphokinase':321,\r\n",
        "    'diabetes':0,\r\n",
        "    'ejection_fraction':35,\r\n",
        "    'high_blood_pressure':0,\r\n",
        "    'platelets':265000,\r\n",
        "    'serum_creatinine':1,\r\n",
        "    'serum_sodium':130,\r\n",
        "    'sex':1,\r\n",
        "    'smoking':0,\r\n",
        "    'time':198}\r\n",
        "    ]\r\n",
        "        })\r\n",
        "\r\n",
        "\r\n",
        "response = requests.post(scoring_uri, data=test_data2, headers=headers)\r\n",
        "\r\n",
        "print(\"Result:\",response.text)"
      ],
      "outputs": [
        {
          "output_type": "stream",
          "name": "stdout",
          "text": [
            "Result: \"TransformException:\\n\\tMessage: Failed while applying learned transformations.\\n\\tInnerException: RuntimeError: ['age']: The reset parameter is False but there is no n_features_in_ attribute. Is this estimator fitted?\\n\\tErrorResponse \\n{\\n    \\\"error\\\": {\\n        \\\"code\\\": \\\"System\\\",\\n        \\\"inner_error\\\": {\\n            \\\"code\\\": \\\"Transform\\\"\\n        },\\n        \\\"message\\\": \\\"Failed while applying learned transformations.\\\",\\n        \\\"target\\\": \\\"DataTransformer.transform\\\",\\n        \\\"reference_code\\\": \\\"e5bbc77b-2264-418d-bdb3-39ea0f09eae8\\\"\\n    }\\n}\"\n"
          ]
        }
      ],
      "execution_count": 23,
      "metadata": {
        "gather": {
          "logged": 1611080141856
        },
        "jupyter": {
          "outputs_hidden": false,
          "source_hidden": false
        },
        "nteract": {
          "transient": {
            "deleting": false
          }
        }
      }
    },
    {
      "cell_type": "markdown",
      "source": [
        "TODO: In the cell below, print the logs of the web service and delete the service"
      ],
      "metadata": {
        "collapsed": true,
        "gather": {
          "logged": 1598432765711
        },
        "jupyter": {
          "outputs_hidden": false,
          "source_hidden": false
        },
        "nteract": {
          "transient": {
            "deleting": false
          }
        }
      }
    },
    {
      "cell_type": "code",
      "source": [
        "print(service.get_logs())"
      ],
      "outputs": [
        {
          "output_type": "stream",
          "name": "stdout",
          "text": [
            "2021-01-17T07:02:53,156659703+00:00 - gunicorn/run \n",
            "2021-01-17T07:02:53,159072472+00:00 - rsyslog/run \n",
            "2021-01-17T07:02:53,161537944+00:00 - nginx/run \n",
            "/usr/sbin/nginx: /azureml-envs/azureml_c48771bbe5fa224df5d541af81b23025/lib/libcrypto.so.1.0.0: no version information available (required by /usr/sbin/nginx)\n",
            "/usr/sbin/nginx: /azureml-envs/azureml_c48771bbe5fa224df5d541af81b23025/lib/libcrypto.so.1.0.0: no version information available (required by /usr/sbin/nginx)\n",
            "/usr/sbin/nginx: /azureml-envs/azureml_c48771bbe5fa224df5d541af81b23025/lib/libssl.so.1.0.0: no version information available (required by /usr/sbin/nginx)\n",
            "/usr/sbin/nginx: /azureml-envs/azureml_c48771bbe5fa224df5d541af81b23025/lib/libssl.so.1.0.0: no version information available (required by /usr/sbin/nginx)\n",
            "/usr/sbin/nginx: /azureml-envs/azureml_c48771bbe5fa224df5d541af81b23025/lib/libssl.so.1.0.0: no version information available (required by /usr/sbin/nginx)\n",
            "2021-01-17T07:02:53,176550596+00:00 - iot-server/run \n",
            "EdgeHubConnectionString and IOTEDGE_IOTHUBHOSTNAME are not set. Exiting...\n",
            "2021-01-17T07:02:53,361160934+00:00 - iot-server/finish 1 0\n",
            "2021-01-17T07:02:53,362631737+00:00 - Exit code 1 is normal. Not restarting iot-server.\n",
            "Starting gunicorn 19.9.0\n",
            "Listening at: http://127.0.0.1:31311 (11)\n",
            "Using worker: sync\n",
            "worker timeout is set to 300\n",
            "Booting worker with pid: 40\n",
            "SPARK_HOME not set. Skipping PySpark Initialization.\n",
            "Initializing logger\n",
            "2021-01-17 07:02:54,029 | root | INFO | Starting up app insights client\n",
            "Starting up app insights client\n",
            "2021-01-17 07:02:54,030 | root | INFO | Starting up request id generator\n",
            "Starting up request id generator\n",
            "2021-01-17 07:02:54,030 | root | INFO | Starting up app insight hooks\n",
            "Starting up app insight hooks\n",
            "2021-01-17 07:02:54,030 | root | INFO | Invoking user's init function\n",
            "Invoking user's init function\n",
            "Found model:\n",
            "False\n",
            "2021-01-17 07:02:54,030 | root | ERROR | User's init function failed\n",
            "User's init function failed\n",
            "2021-01-17 07:02:54,031 | root | ERROR | Encountered Exception Traceback (most recent call last):\n",
            "  File \"/var/azureml-server/aml_blueprint.py\", line 177, in register\n",
            "    main.init()\n",
            "  File \"/var/azureml-app/score.py\", line 11, in init\n",
            "    model = joblib.load(model_path)\n",
            "  File \"/azureml-envs/azureml_c48771bbe5fa224df5d541af81b23025/lib/python3.6/site-packages/joblib/numpy_pickle.py\", line 597, in load\n",
            "    with open(filename, 'rb') as f:\n",
            "FileNotFoundError: [Errno 2] No such file or directory: 'azureml-models/automl/1/model.pkl'\n",
            "\n",
            "Encountered Exception Traceback (most recent call last):\n",
            "  File \"/var/azureml-server/aml_blueprint.py\", line 177, in register\n",
            "    main.init()\n",
            "  File \"/var/azureml-app/score.py\", line 11, in init\n",
            "    model = joblib.load(model_path)\n",
            "  File \"/azureml-envs/azureml_c48771bbe5fa224df5d541af81b23025/lib/python3.6/site-packages/joblib/numpy_pickle.py\", line 597, in load\n",
            "    with open(filename, 'rb') as f:\n",
            "FileNotFoundError: [Errno 2] No such file or directory: 'azureml-models/automl/1/model.pkl'\n",
            "\n",
            "Worker exiting (pid: 40)\n",
            "Shutting down: Master\n",
            "Reason: Worker failed to boot.\n",
            "2021-01-17T07:02:54,249542289+00:00 - gunicorn/finish 3 0\n",
            "2021-01-17T07:02:54,250894784+00:00 - Exit code 3 is not normal. Killing image.\n",
            "\n"
          ]
        }
      ],
      "execution_count": 31,
      "metadata": {
        "jupyter": {
          "outputs_hidden": false,
          "source_hidden": false
        },
        "nteract": {
          "transient": {
            "deleting": false
          }
        },
        "gather": {
          "logged": 1610867002446
        }
      }
    },
    {
      "cell_type": "code",
      "source": [
        "print(response.status_code)\r\n",
        "print(response.elapsed)\r\n",
        "\r\n",
        "service.delete()"
      ],
      "outputs": [
        {
          "output_type": "stream",
          "name": "stdout",
          "text": [
            "200\n",
            "0:00:00.055716\n"
          ]
        }
      ],
      "execution_count": 34,
      "metadata": {
        "collapsed": true,
        "jupyter": {
          "source_hidden": false,
          "outputs_hidden": false
        },
        "nteract": {
          "transient": {
            "deleting": false
          }
        },
        "gather": {
          "logged": 1610629304939
        }
      }
    }
  ],
  "metadata": {
    "kernel_info": {
      "name": "python3-azureml"
    },
    "kernelspec": {
      "name": "python3-azureml",
      "language": "python",
      "display_name": "Python 3.6 - AzureML"
    },
    "language_info": {
      "name": "python",
      "version": "3.6.9",
      "mimetype": "text/x-python",
      "codemirror_mode": {
        "name": "ipython",
        "version": 3
      },
      "pygments_lexer": "ipython3",
      "nbconvert_exporter": "python",
      "file_extension": ".py"
    },
    "nteract": {
      "version": "nteract-front-end@1.0.0"
    }
  },
  "nbformat": 4,
  "nbformat_minor": 2
}