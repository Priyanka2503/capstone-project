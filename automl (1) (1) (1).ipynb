{
  "cells": [
    {
      "cell_type": "markdown",
      "source": [
        "# Automated ML\n",
        "\n",
        "TODO: Import Dependencies. In the cell below, import all the dependencies that you will need to complete the project."
      ],
      "metadata": {}
    },
    {
      "cell_type": "code",
      "source": [
        "from azureml.core.experiment import Experiment\r\n",
        "from azureml.core.workspace import Workspace\r\n",
        "\r\n",
        "from azureml.core.compute import AmlCompute\r\n",
        "from azureml.core.compute import ComputeTarget\r\n",
        "from azureml.core.compute_target import ComputeTargetException\r\n",
        "\r\n",
        "import azureml.core\r\n",
        "from azureml.train.automl import AutoMLConfig\r\n",
        "from azureml.core.dataset import Dataset\r\n",
        "from azureml.data.dataset_factory import TabularDatasetFactory\r\n",
        "\r\n",
        "from sklearn.model_selection import train_test_split\r\n",
        "\r\n",
        "import pandas as pd\r\n",
        "from azureml.widgets import RunDetails\r\n",
        "\r\n",
        "import joblib \r\n",
        "import azureml.automl\r\n",
        "\r\n",
        "from azureml.core.model import Model\r\n",
        "\r\n",
        "from azureml.pipeline.core import PipelineData, TrainingOutput\r\n",
        "\r\n",
        "from azureml.pipeline.core import Pipeline\r\n",
        "\r\n",
        "import pickle\r\n",
        "\r\n",
        "from azureml.core.model import InferenceConfig\r\n",
        "from azureml.core.environment import Environment\r\n",
        "from azureml.core.conda_dependencies import CondaDependencies\r\n",
        "\r\n",
        "from azureml.core.webservice import Webservice, AciWebservice\r\n",
        "\r\n",
        "import logging\r\n",
        "import os\r\n",
        "\r\n",
        "import requests\r\n",
        "import json"
      ],
      "outputs": [],
      "execution_count": 4,
      "metadata": {
        "gather": {
          "logged": 1610619747750
        },
        "jupyter": {
          "outputs_hidden": false,
          "source_hidden": false
        },
        "nteract": {
          "transient": {
            "deleting": false
          }
        }
      }
    },
    {
      "cell_type": "code",
      "source": [
        "# Check core SDK version number\r\n",
        "print(\"SDK version:\", azureml.core.VERSION)"
      ],
      "outputs": [
        {
          "output_type": "stream",
          "name": "stdout",
          "text": [
            "SDK version: 1.19.0\n"
          ]
        }
      ],
      "execution_count": 5,
      "metadata": {
        "collapsed": true,
        "jupyter": {
          "source_hidden": false,
          "outputs_hidden": false
        },
        "nteract": {
          "transient": {
            "deleting": false
          }
        },
        "gather": {
          "logged": 1610619751807
        }
      }
    },
    {
      "cell_type": "markdown",
      "source": [
        "## Dataset\n",
        "\n",
        "### Overview\n",
        "TODO: In this markdown cell, give an overview of the dataset you are using. Also mention the task you will be performing.\n",
        "\n",
        "\n",
        "TODO: Get data. In the cell below, write code to access the data you will be using in this project. Remember that the dataset needs to be external."
      ],
      "metadata": {}
    },
    {
      "cell_type": "code",
      "source": [
        "ws = Workspace.from_config()\n",
        "\n",
        "# choose a name for experiment\n",
        "experiment_name = 'experiment-1'\n",
        "project_folder = './pipeline-project'\n",
        "\n",
        "experiment=Experiment(ws, experiment_name)\n",
        "experiment"
      ],
      "outputs": [
        {
          "output_type": "execute_result",
          "execution_count": 6,
          "data": {
            "text/plain": "Experiment(Name: experiment-1,\nWorkspace: quick-starts-ws-134643)",
            "text/html": "<table style=\"width:100%\"><tr><th>Name</th><th>Workspace</th><th>Report Page</th><th>Docs Page</th></tr><tr><td>experiment-1</td><td>quick-starts-ws-134643</td><td><a href=\"https://ml.azure.com/experiments/experiment-1?wsid=/subscriptions/3d1a56d2-7c81-4118-9790-f85d1acf0c77/resourcegroups/aml-quickstarts-134643/workspaces/quick-starts-ws-134643\" target=\"_blank\" rel=\"noopener\">Link to Azure Machine Learning studio</a></td><td><a href=\"https://docs.microsoft.com/en-us/python/api/azureml-core/azureml.core.experiment.Experiment?view=azure-ml-py\" target=\"_blank\" rel=\"noopener\">Link to Documentation</a></td></tr></table>"
          },
          "metadata": {}
        }
      ],
      "execution_count": 6,
      "metadata": {
        "gather": {
          "logged": 1610619755886
        },
        "jupyter": {
          "outputs_hidden": false,
          "source_hidden": false
        },
        "nteract": {
          "transient": {
            "deleting": false
          }
        }
      }
    },
    {
      "cell_type": "code",
      "source": [
        "amlcompute_cluster_name = \"capstone\"\r\n",
        "\r\n",
        "# Verify that cluster does not exist already\r\n",
        "\r\n",
        "try:\r\n",
        "    compute_target = ComputeTarget(workspace=ws, name=amlcompute_cluster_name)\r\n",
        "    print('Found existing cluster, use it.')\r\n",
        "except ComputeTargetException:\r\n",
        "    compute_config = AmlCompute.provisioning_configuration(vm_size='STANDARD_D2_V2',# for GPU, use \"STANDARD_NC6\"\r\n",
        "                                                           #vm_priority = 'lowpriority', # optional\r\n",
        "                                                           max_nodes=4)\r\n",
        "    compute_target = ComputeTarget.create(ws, amlcompute_cluster_name, compute_config)\r\n",
        "\r\n",
        "compute_target.wait_for_completion(show_output=True)"
      ],
      "outputs": [
        {
          "output_type": "stream",
          "name": "stdout",
          "text": [
            "Found existing cluster, use it.\n",
            "\n",
            "Running\n"
          ]
        }
      ],
      "execution_count": 7,
      "metadata": {
        "collapsed": true,
        "jupyter": {
          "source_hidden": false,
          "outputs_hidden": false
        },
        "nteract": {
          "transient": {
            "deleting": false
          }
        },
        "gather": {
          "logged": 1610619762991
        }
      }
    },
    {
      "cell_type": "code",
      "source": [
        "data = pd.read_csv(\"heart_failure_clinical_records_dataset.csv\")"
      ],
      "outputs": [],
      "execution_count": 9,
      "metadata": {
        "collapsed": true,
        "jupyter": {
          "source_hidden": false,
          "outputs_hidden": false
        },
        "nteract": {
          "transient": {
            "deleting": false
          }
        },
        "gather": {
          "logged": 1610619799329
        }
      }
    },
    {
      "cell_type": "code",
      "source": [
        "train, test = train_test_split(data, test_size=0.2, random_state=1 )\r\n",
        "\r\n",
        "if \"training\" not in os.listdir():\r\n",
        "    os.mkdir(\"./training\")\r\n",
        "\r\n",
        "if \"models\" not in os.listdir():\r\n",
        "    os.mkdir(\"./models\")\r\n",
        "if \"outputs\" not in os.listdir():\r\n",
        "    os.mkdir(\"./outputs\")\r\n",
        "\r\n",
        "train.to_csv(\"training/train_data.csv\", index = False)\r\n",
        "\r\n",
        "data_store = ws.get_default_datastore()\r\n",
        "data_store.upload(src_dir = \"./training\", target_path = 'udacity-project', overwrite = True,  show_progress = True)"
      ],
      "outputs": [
        {
          "output_type": "stream",
          "name": "stdout",
          "text": [
            "Uploading an estimated of 1 files\n",
            "Uploading ./training/train_data.csv\n",
            "Uploaded ./training/train_data.csv, 1 files out of an estimated total of 1\n",
            "Uploaded 1 files\n"
          ]
        },
        {
          "output_type": "execute_result",
          "execution_count": 10,
          "data": {
            "text/plain": "$AZUREML_DATAREFERENCE_3ccc1c3953484615b2c8a3949e082866"
          },
          "metadata": {}
        }
      ],
      "execution_count": 10,
      "metadata": {
        "collapsed": true,
        "jupyter": {
          "source_hidden": false,
          "outputs_hidden": false
        },
        "nteract": {
          "transient": {
            "deleting": false
          }
        },
        "gather": {
          "logged": 1610619803954
        }
      }
    },
    {
      "cell_type": "code",
      "source": [
        "train_data = Dataset.Tabular.from_delimited_files(path=data_store.path(\"udacity-project/train_data.csv\"))"
      ],
      "outputs": [],
      "execution_count": 11,
      "metadata": {
        "collapsed": true,
        "jupyter": {
          "source_hidden": false,
          "outputs_hidden": false
        },
        "nteract": {
          "transient": {
            "deleting": false
          }
        },
        "gather": {
          "logged": 1610619827769
        }
      }
    },
    {
      "cell_type": "markdown",
      "source": [
        "## AutoML Configuration\n",
        "\n",
        "TODO: Explain why you chose the automl settings and cofiguration you used below."
      ],
      "metadata": {}
    },
    {
      "cell_type": "code",
      "source": [
        "# TODO: Put your automl settings here\n",
        "automl_settings = {\n",
        "    \"experiment_timeout_minutes\": 20,\n",
        "    \"max_concurrent_iterations\": 5,\n",
        "    \"primary_metric\" : 'AUC_weighted'    \n",
        "}\n",
        "\n",
        "# TODO: Put your automl config here\n",
        "automl_config = AutoMLConfig(\n",
        "    \n",
        "    compute_target = compute_target,\n",
        "    task = \"classification\",\n",
        "    training_data = train_data,\n",
        "    label_column_name = \"DEATH_EVENT\",   \n",
        "    path = project_folder,\n",
        "    enable_early_stopping= True,\n",
        "    featurization= 'auto',\n",
        "    debug_log = \"automl_errors.log\",\n",
        "    )"
      ],
      "outputs": [],
      "execution_count": 12,
      "metadata": {
        "gather": {
          "logged": 1610619831764
        },
        "jupyter": {
          "outputs_hidden": false,
          "source_hidden": false
        },
        "nteract": {
          "transient": {
            "deleting": false
          }
        }
      }
    },
    {
      "cell_type": "code",
      "source": [
        "# TODO: Submit your experiment\n",
        "remote_run = experiment.submit(automl_config, show_output= True)\n",
        "RunDetails(remote_run).show()"
      ],
      "outputs": [
        {
          "output_type": "stream",
          "name": "stdout",
          "text": [
            "Running on remote.\n",
            "No run_configuration provided, running on capstone with default configuration\n",
            "Running on remote compute: capstone\n",
            "Parent Run ID: AutoML_8478d8f3-a3af-4022-a8c1-a5fd8d40bf9a\n",
            "\n",
            "Current status: FeaturesGeneration. Generating features for the dataset.\n",
            "Current status: ModelSelection. Beginning model selection.\n",
            "\n",
            "****************************************************************************************************\n",
            "DATA GUARDRAILS: \n",
            "\n",
            "TYPE:         Cross validation\n",
            "STATUS:       DONE\n",
            "DESCRIPTION:  Each iteration of the trained model was validated through cross-validation.\n",
            "              \n",
            "DETAILS:      \n",
            "+---------------------------------+\n",
            "|Number of folds                  |\n",
            "+=================================+\n",
            "|10                               |\n",
            "+---------------------------------+\n",
            "\n",
            "****************************************************************************************************\n",
            "\n",
            "TYPE:         Class balancing detection\n",
            "STATUS:       PASSED\n",
            "DESCRIPTION:  Your inputs were analyzed, and all classes are balanced in your training data.\n",
            "              Learn more about imbalanced data: https://aka.ms/AutomatedMLImbalancedData\n",
            "\n",
            "****************************************************************************************************\n",
            "\n",
            "TYPE:         Missing feature values imputation\n",
            "STATUS:       PASSED\n",
            "DESCRIPTION:  No feature missing values were detected in the training data.\n",
            "              Learn more about missing value imputation: https://aka.ms/AutomatedMLFeaturization\n",
            "\n",
            "****************************************************************************************************\n",
            "\n",
            "TYPE:         High cardinality feature detection\n",
            "STATUS:       PASSED\n",
            "DESCRIPTION:  Your inputs were analyzed, and no high cardinality features were detected.\n",
            "              Learn more about high cardinality feature handling: https://aka.ms/AutomatedMLFeaturization\n",
            "\n",
            "****************************************************************************************************\n",
            "\n",
            "****************************************************************************************************\n",
            "ITERATION: The iteration being evaluated.\n",
            "PIPELINE: A summary description of the pipeline being evaluated.\n",
            "DURATION: Time taken for the current iteration.\n",
            "METRIC: The result of computing score on the fitted pipeline.\n",
            "BEST: The best observed score thus far.\n",
            "****************************************************************************************************\n",
            "\n",
            " ITERATION   PIPELINE                                       DURATION      METRIC      BEST\n",
            "         0   MaxAbsScaler LightGBM                          0:00:41       0.8036    0.8036\n",
            "         1   MaxAbsScaler XGBoostClassifier                 0:00:48       0.8328    0.8328\n",
            "         2   MinMaxScaler RandomForest                      0:00:44       0.8326    0.8328\n",
            "         3   MinMaxScaler RandomForest                      0:00:45       0.8203    0.8328\n",
            "         4   MinMaxScaler RandomForest                      0:00:43       0.8326    0.8328\n",
            "         5   MinMaxScaler SVM                               0:00:42       0.6993    0.8328\n",
            "         6   MaxAbsScaler GradientBoosting                  0:01:07       0.8411    0.8411\n",
            "         7   StandardScalerWrapper RandomForest             0:00:48       0.8288    0.8411\n",
            "         8   SparseNormalizer XGBoostClassifier             0:00:39       0.7953    0.8411\n",
            "         9   SparseNormalizer LightGBM                      0:00:39       0.7576    0.8411\n",
            "        10   RobustScaler RandomForest                      0:00:52       0.8409    0.8411\n",
            "        11   MaxAbsScaler LightGBM                          0:00:43       0.8074    0.8411\n",
            "        12   RobustScaler ExtremeRandomTrees                0:00:53       0.8370    0.8411\n",
            "        13   SparseNormalizer XGBoostClassifier             0:01:16       0.7870    0.8411\n",
            "        14   StandardScalerWrapper ExtremeRandomTrees       0:00:58       0.8328    0.8411\n",
            "        15   StandardScalerWrapper XGBoostClassifier        0:00:46       0.8201    0.8411\n",
            "        16   StandardScalerWrapper GradientBoosting         0:00:41       0.8120    0.8411\n",
            "        17   StandardScalerWrapper ExtremeRandomTrees       0:00:42       0.7406    0.8411\n",
            "        18   MaxAbsScaler RandomForest                      0:00:43       0.8205    0.8411\n",
            "        19   StandardScalerWrapper XGBoostClassifier        0:00:43       0.8328    0.8411\n",
            "        20   RobustScaler KNN                               0:00:56       0.6196    0.8411\n",
            "        21   MaxAbsScaler ExtremeRandomTrees                0:00:52       0.7784    0.8411\n",
            "        22   SparseNormalizer LightGBM                      0:00:52       0.7911    0.8411\n",
            "        23   MaxAbsScaler LightGBM                          0:00:47       0.8284    0.8411\n",
            "        24   MinMaxScaler LightGBM                          0:00:42       0.8076    0.8411\n",
            "        25   PCA GradientBoosting                           0:00:46       0.6571    0.8411\n",
            "        26   MaxAbsScaler LightGBM                          0:00:46       0.8370    0.8411\n",
            "        27   MaxAbsScaler LightGBM                          0:01:04       0.8370    0.8411\n",
            "        28   StandardScalerWrapper XGBoostClassifier        0:00:40       0.8203    0.8411\n",
            "        29   MinMaxScaler LightGBM                          0:00:37       0.8036    0.8411\n",
            "        30    VotingEnsemble                                0:01:51       0.8621    0.8621\n",
            "        31    StackEnsemble                                 0:01:52       0.8495    0.8621\n"
          ]
        },
        {
          "output_type": "display_data",
          "data": {
            "text/plain": "_AutoMLWidget(widget_settings={'childWidgetDisplay': 'popup', 'send_telemetry': False, 'log_level': 'INFO', 's…",
            "application/vnd.jupyter.widget-view+json": {
              "version_major": 2,
              "version_minor": 0,
              "model_id": "6f6007f23d934dbaa42d9475941a31f1"
            }
          },
          "metadata": {}
        },
        {
          "output_type": "display_data",
          "data": {
            "application/aml.mini.widget.v1": "{\"status\": \"Completed\", \"workbench_run_details_uri\": \"https://ml.azure.com/experiments/experiment-1/runs/AutoML_8478d8f3-a3af-4022-a8c1-a5fd8d40bf9a?wsid=/subscriptions/3d1a56d2-7c81-4118-9790-f85d1acf0c77/resourcegroups/aml-quickstarts-134643/workspaces/quick-starts-ws-134643\", \"run_id\": \"AutoML_8478d8f3-a3af-4022-a8c1-a5fd8d40bf9a\", \"run_properties\": {\"run_id\": \"AutoML_8478d8f3-a3af-4022-a8c1-a5fd8d40bf9a\", \"created_utc\": \"2021-01-14T10:23:58.644956Z\", \"properties\": {\"num_iterations\": \"1000\", \"training_type\": \"TrainFull\", \"acquisition_function\": \"EI\", \"primary_metric\": \"accuracy\", \"train_split\": \"0\", \"acquisition_parameter\": \"0\", \"num_cross_validation\": null, \"target\": \"capstone\", \"AMLSettingsJsonString\": \"{\\\"path\\\":null,\\\"name\\\":\\\"experiment-1\\\",\\\"subscription_id\\\":\\\"3d1a56d2-7c81-4118-9790-f85d1acf0c77\\\",\\\"resource_group\\\":\\\"aml-quickstarts-134643\\\",\\\"workspace_name\\\":\\\"quick-starts-ws-134643\\\",\\\"region\\\":\\\"southcentralus\\\",\\\"compute_target\\\":\\\"capstone\\\",\\\"spark_service\\\":null,\\\"azure_service\\\":\\\"remote\\\",\\\"many_models\\\":false,\\\"pipeline_fetch_max_batch_size\\\":1,\\\"iterations\\\":1000,\\\"primary_metric\\\":\\\"accuracy\\\",\\\"task_type\\\":\\\"classification\\\",\\\"data_script\\\":null,\\\"validation_size\\\":0.0,\\\"n_cross_validations\\\":null,\\\"y_min\\\":null,\\\"y_max\\\":null,\\\"num_classes\\\":null,\\\"featurization\\\":\\\"auto\\\",\\\"_ignore_package_version_incompatibilities\\\":false,\\\"is_timeseries\\\":false,\\\"max_cores_per_iteration\\\":1,\\\"max_concurrent_iterations\\\":1,\\\"iteration_timeout_minutes\\\":null,\\\"mem_in_mb\\\":null,\\\"enforce_time_on_windows\\\":false,\\\"experiment_timeout_minutes\\\":8640,\\\"experiment_exit_score\\\":null,\\\"whitelist_models\\\":null,\\\"blacklist_algos\\\":[\\\"TensorFlowLinearClassifier\\\",\\\"TensorFlowDNN\\\"],\\\"supported_models\\\":[\\\"KNN\\\",\\\"MultinomialNaiveBayes\\\",\\\"ExtremeRandomTrees\\\",\\\"TensorFlowLinearClassifier\\\",\\\"DecisionTree\\\",\\\"BernoulliNaiveBayes\\\",\\\"SGD\\\",\\\"RandomForest\\\",\\\"LinearSVM\\\",\\\"XGBoostClassifier\\\",\\\"GradientBoosting\\\",\\\"AveragedPerceptronClassifier\\\",\\\"LogisticRegression\\\",\\\"SVM\\\",\\\"TensorFlowDNN\\\",\\\"LightGBM\\\"],\\\"auto_blacklist\\\":true,\\\"blacklist_samples_reached\\\":false,\\\"exclude_nan_labels\\\":true,\\\"verbosity\\\":20,\\\"_debug_log\\\":\\\"azureml_automl.log\\\",\\\"show_warnings\\\":false,\\\"model_explainability\\\":true,\\\"service_url\\\":null,\\\"sdk_url\\\":null,\\\"sdk_packages\\\":null,\\\"enable_onnx_compatible_models\\\":false,\\\"enable_split_onnx_featurizer_estimator_models\\\":false,\\\"vm_type\\\":\\\"STANDARD_DS3_V2\\\",\\\"telemetry_verbosity\\\":20,\\\"send_telemetry\\\":true,\\\"enable_dnn\\\":false,\\\"scenario\\\":\\\"SDK-1.13.0\\\",\\\"environment_label\\\":null,\\\"force_text_dnn\\\":false,\\\"enable_feature_sweeping\\\":true,\\\"enable_early_stopping\\\":true,\\\"early_stopping_n_iters\\\":10,\\\"metrics\\\":null,\\\"enable_ensembling\\\":true,\\\"enable_stack_ensembling\\\":true,\\\"ensemble_iterations\\\":15,\\\"enable_tf\\\":false,\\\"enable_subsampling\\\":null,\\\"subsample_seed\\\":null,\\\"enable_nimbusml\\\":false,\\\"enable_streaming\\\":false,\\\"force_streaming\\\":false,\\\"track_child_runs\\\":true,\\\"allowed_private_models\\\":[],\\\"label_column_name\\\":\\\"DEATH_EVENT\\\",\\\"weight_column_name\\\":null,\\\"cv_split_column_names\\\":null,\\\"enable_local_managed\\\":false,\\\"_local_managed_run_id\\\":null,\\\"cost_mode\\\":1,\\\"lag_length\\\":0,\\\"metric_operation\\\":\\\"maximize\\\",\\\"preprocess\\\":true}\", \"DataPrepJsonString\": \"{\\\\\\\"training_data\\\\\\\": \\\\\\\"{\\\\\\\\\\\\\\\"blocks\\\\\\\\\\\\\\\": [{\\\\\\\\\\\\\\\"id\\\\\\\\\\\\\\\": \\\\\\\\\\\\\\\"42bd713b-e80a-4a87-ad67-150205c7f5ad\\\\\\\\\\\\\\\", \\\\\\\\\\\\\\\"type\\\\\\\\\\\\\\\": \\\\\\\\\\\\\\\"Microsoft.DPrep.GetDatastoreFilesBlock\\\\\\\\\\\\\\\", \\\\\\\\\\\\\\\"arguments\\\\\\\\\\\\\\\": {\\\\\\\\\\\\\\\"datastores\\\\\\\\\\\\\\\": [{\\\\\\\\\\\\\\\"datastoreName\\\\\\\\\\\\\\\": \\\\\\\\\\\\\\\"workspaceblobstore\\\\\\\\\\\\\\\", \\\\\\\\\\\\\\\"path\\\\\\\\\\\\\\\": \\\\\\\\\\\\\\\"udacity-project/train_data.csv\\\\\\\\\\\\\\\", \\\\\\\\\\\\\\\"resourceGroup\\\\\\\\\\\\\\\": \\\\\\\\\\\\\\\"aml-quickstarts-134643\\\\\\\\\\\\\\\", \\\\\\\\\\\\\\\"subscription\\\\\\\\\\\\\\\": \\\\\\\\\\\\\\\"3d1a56d2-7c81-4118-9790-f85d1acf0c77\\\\\\\\\\\\\\\", \\\\\\\\\\\\\\\"workspaceName\\\\\\\\\\\\\\\": \\\\\\\\\\\\\\\"quick-starts-ws-134643\\\\\\\\\\\\\\\"}]}, \\\\\\\\\\\\\\\"localData\\\\\\\\\\\\\\\": {}, \\\\\\\\\\\\\\\"isEnabled\\\\\\\\\\\\\\\": true, \\\\\\\\\\\\\\\"name\\\\\\\\\\\\\\\": null, \\\\\\\\\\\\\\\"annotation\\\\\\\\\\\\\\\": null}, {\\\\\\\\\\\\\\\"id\\\\\\\\\\\\\\\": \\\\\\\\\\\\\\\"f11b1df3-a2ad-41ab-8f18-d0718f961c86\\\\\\\\\\\\\\\", \\\\\\\\\\\\\\\"type\\\\\\\\\\\\\\\": \\\\\\\\\\\\\\\"Microsoft.DPrep.ParseDelimitedBlock\\\\\\\\\\\\\\\", \\\\\\\\\\\\\\\"arguments\\\\\\\\\\\\\\\": {\\\\\\\\\\\\\\\"columnHeadersMode\\\\\\\\\\\\\\\": 3, \\\\\\\\\\\\\\\"fileEncoding\\\\\\\\\\\\\\\": 0, \\\\\\\\\\\\\\\"handleQuotedLineBreaks\\\\\\\\\\\\\\\": false, \\\\\\\\\\\\\\\"preview\\\\\\\\\\\\\\\": false, \\\\\\\\\\\\\\\"separator\\\\\\\\\\\\\\\": \\\\\\\\\\\\\\\",\\\\\\\\\\\\\\\", \\\\\\\\\\\\\\\"skipRows\\\\\\\\\\\\\\\": 0, \\\\\\\\\\\\\\\"skipRowsMode\\\\\\\\\\\\\\\": 0}, \\\\\\\\\\\\\\\"localData\\\\\\\\\\\\\\\": {}, \\\\\\\\\\\\\\\"isEnabled\\\\\\\\\\\\\\\": true, \\\\\\\\\\\\\\\"name\\\\\\\\\\\\\\\": null, \\\\\\\\\\\\\\\"annotation\\\\\\\\\\\\\\\": null}, {\\\\\\\\\\\\\\\"id\\\\\\\\\\\\\\\": \\\\\\\\\\\\\\\"ade0c1a3-ea92-4661-9331-81f7c8a5b134\\\\\\\\\\\\\\\", \\\\\\\\\\\\\\\"type\\\\\\\\\\\\\\\": \\\\\\\\\\\\\\\"Microsoft.DPrep.DropColumnsBlock\\\\\\\\\\\\\\\", \\\\\\\\\\\\\\\"arguments\\\\\\\\\\\\\\\": {\\\\\\\\\\\\\\\"columns\\\\\\\\\\\\\\\": {\\\\\\\\\\\\\\\"type\\\\\\\\\\\\\\\": 0, \\\\\\\\\\\\\\\"details\\\\\\\\\\\\\\\": {\\\\\\\\\\\\\\\"selectedColumns\\\\\\\\\\\\\\\": [\\\\\\\\\\\\\\\"Path\\\\\\\\\\\\\\\"]}}}, \\\\\\\\\\\\\\\"localData\\\\\\\\\\\\\\\": {}, \\\\\\\\\\\\\\\"isEnabled\\\\\\\\\\\\\\\": true, \\\\\\\\\\\\\\\"name\\\\\\\\\\\\\\\": null, \\\\\\\\\\\\\\\"annotation\\\\\\\\\\\\\\\": null}, {\\\\\\\\\\\\\\\"id\\\\\\\\\\\\\\\": \\\\\\\\\\\\\\\"bd8d1b75-e048-4f11-bb72-65ec2f254215\\\\\\\\\\\\\\\", \\\\\\\\\\\\\\\"type\\\\\\\\\\\\\\\": \\\\\\\\\\\\\\\"Microsoft.DPrep.SetColumnTypesBlock\\\\\\\\\\\\\\\", \\\\\\\\\\\\\\\"arguments\\\\\\\\\\\\\\\": {\\\\\\\\\\\\\\\"columnConversion\\\\\\\\\\\\\\\": [{\\\\\\\\\\\\\\\"column\\\\\\\\\\\\\\\": {\\\\\\\\\\\\\\\"type\\\\\\\\\\\\\\\": 2, \\\\\\\\\\\\\\\"details\\\\\\\\\\\\\\\": {\\\\\\\\\\\\\\\"selectedColumn\\\\\\\\\\\\\\\": \\\\\\\\\\\\\\\"age\\\\\\\\\\\\\\\"}}, \\\\\\\\\\\\\\\"typeProperty\\\\\\\\\\\\\\\": 3}, {\\\\\\\\\\\\\\\"column\\\\\\\\\\\\\\\": {\\\\\\\\\\\\\\\"type\\\\\\\\\\\\\\\": 2, \\\\\\\\\\\\\\\"details\\\\\\\\\\\\\\\": {\\\\\\\\\\\\\\\"selectedColumn\\\\\\\\\\\\\\\": \\\\\\\\\\\\\\\"anaemia\\\\\\\\\\\\\\\"}}, \\\\\\\\\\\\\\\"typeProperty\\\\\\\\\\\\\\\": 2}, {\\\\\\\\\\\\\\\"column\\\\\\\\\\\\\\\": {\\\\\\\\\\\\\\\"type\\\\\\\\\\\\\\\": 2, \\\\\\\\\\\\\\\"details\\\\\\\\\\\\\\\": {\\\\\\\\\\\\\\\"selectedColumn\\\\\\\\\\\\\\\": \\\\\\\\\\\\\\\"creatinine_phosphokinase\\\\\\\\\\\\\\\"}}, \\\\\\\\\\\\\\\"typeProperty\\\\\\\\\\\\\\\": 2}, {\\\\\\\\\\\\\\\"column\\\\\\\\\\\\\\\": {\\\\\\\\\\\\\\\"type\\\\\\\\\\\\\\\": 2, \\\\\\\\\\\\\\\"details\\\\\\\\\\\\\\\": {\\\\\\\\\\\\\\\"selectedColumn\\\\\\\\\\\\\\\": \\\\\\\\\\\\\\\"diabetes\\\\\\\\\\\\\\\"}}, \\\\\\\\\\\\\\\"typeProperty\\\\\\\\\\\\\\\": 2}, {\\\\\\\\\\\\\\\"column\\\\\\\\\\\\\\\": {\\\\\\\\\\\\\\\"type\\\\\\\\\\\\\\\": 2, \\\\\\\\\\\\\\\"details\\\\\\\\\\\\\\\": {\\\\\\\\\\\\\\\"selectedColumn\\\\\\\\\\\\\\\": \\\\\\\\\\\\\\\"ejection_fraction\\\\\\\\\\\\\\\"}}, \\\\\\\\\\\\\\\"typeProperty\\\\\\\\\\\\\\\": 2}, {\\\\\\\\\\\\\\\"column\\\\\\\\\\\\\\\": {\\\\\\\\\\\\\\\"type\\\\\\\\\\\\\\\": 2, \\\\\\\\\\\\\\\"details\\\\\\\\\\\\\\\": {\\\\\\\\\\\\\\\"selectedColumn\\\\\\\\\\\\\\\": \\\\\\\\\\\\\\\"high_blood_pressure\\\\\\\\\\\\\\\"}}, \\\\\\\\\\\\\\\"typeProperty\\\\\\\\\\\\\\\": 2}, {\\\\\\\\\\\\\\\"column\\\\\\\\\\\\\\\": {\\\\\\\\\\\\\\\"type\\\\\\\\\\\\\\\": 2, \\\\\\\\\\\\\\\"details\\\\\\\\\\\\\\\": {\\\\\\\\\\\\\\\"selectedColumn\\\\\\\\\\\\\\\": \\\\\\\\\\\\\\\"platelets\\\\\\\\\\\\\\\"}}, \\\\\\\\\\\\\\\"typeProperty\\\\\\\\\\\\\\\": 3}, {\\\\\\\\\\\\\\\"column\\\\\\\\\\\\\\\": {\\\\\\\\\\\\\\\"type\\\\\\\\\\\\\\\": 2, \\\\\\\\\\\\\\\"details\\\\\\\\\\\\\\\": {\\\\\\\\\\\\\\\"selectedColumn\\\\\\\\\\\\\\\": \\\\\\\\\\\\\\\"serum_creatinine\\\\\\\\\\\\\\\"}}, \\\\\\\\\\\\\\\"typeProperty\\\\\\\\\\\\\\\": 3}, {\\\\\\\\\\\\\\\"column\\\\\\\\\\\\\\\": {\\\\\\\\\\\\\\\"type\\\\\\\\\\\\\\\": 2, \\\\\\\\\\\\\\\"details\\\\\\\\\\\\\\\": {\\\\\\\\\\\\\\\"selectedColumn\\\\\\\\\\\\\\\": \\\\\\\\\\\\\\\"serum_sodium\\\\\\\\\\\\\\\"}}, \\\\\\\\\\\\\\\"typeProperty\\\\\\\\\\\\\\\": 2}, {\\\\\\\\\\\\\\\"column\\\\\\\\\\\\\\\": {\\\\\\\\\\\\\\\"type\\\\\\\\\\\\\\\": 2, \\\\\\\\\\\\\\\"details\\\\\\\\\\\\\\\": {\\\\\\\\\\\\\\\"selectedColumn\\\\\\\\\\\\\\\": \\\\\\\\\\\\\\\"sex\\\\\\\\\\\\\\\"}}, \\\\\\\\\\\\\\\"typeProperty\\\\\\\\\\\\\\\": 2}, {\\\\\\\\\\\\\\\"column\\\\\\\\\\\\\\\": {\\\\\\\\\\\\\\\"type\\\\\\\\\\\\\\\": 2, \\\\\\\\\\\\\\\"details\\\\\\\\\\\\\\\": {\\\\\\\\\\\\\\\"selectedColumn\\\\\\\\\\\\\\\": \\\\\\\\\\\\\\\"smoking\\\\\\\\\\\\\\\"}}, \\\\\\\\\\\\\\\"typeProperty\\\\\\\\\\\\\\\": 2}, {\\\\\\\\\\\\\\\"column\\\\\\\\\\\\\\\": {\\\\\\\\\\\\\\\"type\\\\\\\\\\\\\\\": 2, \\\\\\\\\\\\\\\"details\\\\\\\\\\\\\\\": {\\\\\\\\\\\\\\\"selectedColumn\\\\\\\\\\\\\\\": \\\\\\\\\\\\\\\"time\\\\\\\\\\\\\\\"}}, \\\\\\\\\\\\\\\"typeProperty\\\\\\\\\\\\\\\": 2}, {\\\\\\\\\\\\\\\"column\\\\\\\\\\\\\\\": {\\\\\\\\\\\\\\\"type\\\\\\\\\\\\\\\": 2, \\\\\\\\\\\\\\\"details\\\\\\\\\\\\\\\": {\\\\\\\\\\\\\\\"selectedColumn\\\\\\\\\\\\\\\": \\\\\\\\\\\\\\\"DEATH_EVENT\\\\\\\\\\\\\\\"}}, \\\\\\\\\\\\\\\"typeProperty\\\\\\\\\\\\\\\": 2}]}, \\\\\\\\\\\\\\\"localData\\\\\\\\\\\\\\\": {}, \\\\\\\\\\\\\\\"isEnabled\\\\\\\\\\\\\\\": true, \\\\\\\\\\\\\\\"name\\\\\\\\\\\\\\\": null, \\\\\\\\\\\\\\\"annotation\\\\\\\\\\\\\\\": null}], \\\\\\\\\\\\\\\"inspectors\\\\\\\\\\\\\\\": [], \\\\\\\\\\\\\\\"meta\\\\\\\\\\\\\\\": {\\\\\\\\\\\\\\\"savedDatasetId\\\\\\\\\\\\\\\": \\\\\\\\\\\\\\\"de821ecf-1e45-4cc6-8748-c30e63024fce\\\\\\\\\\\\\\\", \\\\\\\\\\\\\\\"datasetType\\\\\\\\\\\\\\\": \\\\\\\\\\\\\\\"tabular\\\\\\\\\\\\\\\", \\\\\\\\\\\\\\\"subscriptionId\\\\\\\\\\\\\\\": \\\\\\\\\\\\\\\"3d1a56d2-7c81-4118-9790-f85d1acf0c77\\\\\\\\\\\\\\\", \\\\\\\\\\\\\\\"workspaceId\\\\\\\\\\\\\\\": \\\\\\\\\\\\\\\"8e4b7c35-0d66-4c78-9e20-b16a40c06407\\\\\\\\\\\\\\\", \\\\\\\\\\\\\\\"workspaceLocation\\\\\\\\\\\\\\\": \\\\\\\\\\\\\\\"southcentralus\\\\\\\\\\\\\\\"}}\\\\\\\", \\\\\\\"activities\\\\\\\": 0}\", \"EnableSubsampling\": null, \"runTemplate\": \"AutoML\", \"azureml.runsource\": \"automl\", \"display_task_type\": \"classification\", \"dependencies_versions\": \"{\\\"azureml-widgets\\\": \\\"1.19.0\\\", \\\"azureml-train\\\": \\\"1.19.0\\\", \\\"azureml-train-restclients-hyperdrive\\\": \\\"1.19.0\\\", \\\"azureml-train-core\\\": \\\"1.19.0\\\", \\\"azureml-train-automl\\\": \\\"1.19.0\\\", \\\"azureml-train-automl-runtime\\\": \\\"1.19.0\\\", \\\"azureml-train-automl-client\\\": \\\"1.19.0\\\", \\\"azureml-tensorboard\\\": \\\"1.19.0\\\", \\\"azureml-telemetry\\\": \\\"1.19.0\\\", \\\"azureml-sdk\\\": \\\"1.19.0\\\", \\\"azureml-samples\\\": \\\"0+unknown\\\", \\\"azureml-pipeline\\\": \\\"1.19.0\\\", \\\"azureml-pipeline-steps\\\": \\\"1.19.0\\\", \\\"azureml-pipeline-core\\\": \\\"1.19.0\\\", \\\"azureml-opendatasets\\\": \\\"1.19.0\\\", \\\"azureml-model-management-sdk\\\": \\\"1.0.1b6.post1\\\", \\\"azureml-mlflow\\\": \\\"1.19.0\\\", \\\"azureml-interpret\\\": \\\"1.19.0\\\", \\\"azureml-explain-model\\\": \\\"1.19.0\\\", \\\"azureml-defaults\\\": \\\"1.19.0\\\", \\\"azureml-dataset-runtime\\\": \\\"1.19.0\\\", \\\"azureml-dataprep\\\": \\\"2.6.1\\\", \\\"azureml-dataprep-rslex\\\": \\\"1.4.0\\\", \\\"azureml-dataprep-native\\\": \\\"26.0.0\\\", \\\"azureml-datadrift\\\": \\\"1.19.0\\\", \\\"azureml-core\\\": \\\"1.19.0\\\", \\\"azureml-contrib-services\\\": \\\"1.19.0\\\", \\\"azureml-contrib-server\\\": \\\"1.19.0\\\", \\\"azureml-contrib-reinforcementlearning\\\": \\\"1.19.0\\\", \\\"azureml-contrib-pipeline-steps\\\": \\\"1.19.0\\\", \\\"azureml-contrib-notebook\\\": \\\"1.19.0\\\", \\\"azureml-contrib-interpret\\\": \\\"1.19.0\\\", \\\"azureml-contrib-gbdt\\\": \\\"1.19.0\\\", \\\"azureml-contrib-fairness\\\": \\\"1.19.0\\\", \\\"azureml-contrib-dataset\\\": \\\"1.19.0\\\", \\\"azureml-cli-common\\\": \\\"1.19.0\\\", \\\"azureml-automl-runtime\\\": \\\"1.19.0\\\", \\\"azureml-automl-core\\\": \\\"1.19.0\\\", \\\"azureml-accel-models\\\": \\\"1.19.0\\\"}\", \"_aml_system_scenario_identification\": \"Remote.Parent\", \"ClientType\": \"SDK\", \"environment_cpu_name\": \"AzureML-AutoML\", \"environment_cpu_label\": \"prod\", \"environment_gpu_name\": \"AzureML-AutoML-GPU\", \"environment_gpu_label\": \"prod\", \"root_attribution\": \"automl\", \"attribution\": \"AutoML\", \"Orchestrator\": \"AutoML\", \"CancelUri\": \"https://southcentralus.experiments.azureml.net/jasmine/v1.0/subscriptions/3d1a56d2-7c81-4118-9790-f85d1acf0c77/resourceGroups/aml-quickstarts-134643/providers/Microsoft.MachineLearningServices/workspaces/quick-starts-ws-134643/experimentids/0db6dd6c-f06b-4f6b-abab-b5f9a6f7b439/cancel/AutoML_8478d8f3-a3af-4022-a8c1-a5fd8d40bf9a\", \"ClientSdkVersion\": \"1.19.0\", \"snapshotId\": \"00000000-0000-0000-0000-000000000000\", \"SetupRunId\": \"AutoML_8478d8f3-a3af-4022-a8c1-a5fd8d40bf9a_setup\", \"SetupRunContainerId\": \"dcid.AutoML_8478d8f3-a3af-4022-a8c1-a5fd8d40bf9a_setup\", \"FeaturizationRunJsonPath\": \"featurizer_container.json\", \"FeaturizationRunId\": \"AutoML_8478d8f3-a3af-4022-a8c1-a5fd8d40bf9a_featurize\", \"ProblemInfoJsonString\": \"{\\\"dataset_num_categorical\\\": 0, \\\"is_sparse\\\": false, \\\"subsampling\\\": false, \\\"dataset_classes\\\": 2, \\\"dataset_features\\\": 12, \\\"dataset_samples\\\": 239, \\\"single_frequency_class_detected\\\": false}\", \"ModelExplainRunId\": \"AutoML_8478d8f3-a3af-4022-a8c1-a5fd8d40bf9a_ModelExplain\"}, \"tags\": {\"model_explain_run\": \"best_run\", \"_aml_system_azureml.automlComponent\": \"AutoML\", \"pipeline_id\": \"\", \"score\": \"\", \"predicted_cost\": \"\", \"fit_time\": \"\", \"training_percent\": \"\", \"iteration\": \"\", \"run_preprocessor\": \"\", \"run_algorithm\": \"\", \"dynamic_whitelisting_iterations\": \"<25>;\", \"automl_best_child_run_id\": \"AutoML_8478d8f3-a3af-4022-a8c1-a5fd8d40bf9a_30\", \"model_explain_best_run_child_id\": \"AutoML_8478d8f3-a3af-4022-a8c1-a5fd8d40bf9a_30\"}, \"end_time_utc\": \"2021-01-14T11:10:14.542258Z\", \"status\": \"Completed\", \"log_files\": {}, \"log_groups\": [], \"run_duration\": \"0:46:15\"}, \"child_runs\": [{\"run_id\": \"AutoML_8478d8f3-a3af-4022-a8c1-a5fd8d40bf9a_0\", \"run_number\": 11, \"metric\": null, \"status\": \"Completed\", \"run_type\": \"azureml.scriptrun\", \"training_percent\": \"100\", \"start_time\": \"2021-01-14T10:32:53.954861Z\", \"end_time\": \"2021-01-14T10:33:34.931995Z\", \"created_time\": \"2021-01-14T10:32:36.981183Z\", \"created_time_dt\": \"2021-01-14T10:32:36.981183Z\", \"duration\": \"0:00:57\", \"iteration\": \"0\", \"goal\": \"accuracy_max\", \"run_name\": \"MaxAbsScaler, LightGBM\", \"run_properties\": \"copy=True\", \"primary_metric\": 0.80362319, \"best_metric\": 0.80362319}, {\"run_id\": \"AutoML_8478d8f3-a3af-4022-a8c1-a5fd8d40bf9a_1\", \"run_number\": 12, \"metric\": null, \"status\": \"Completed\", \"run_type\": \"azureml.scriptrun\", \"training_percent\": \"100\", \"start_time\": \"2021-01-14T10:33:52.747843Z\", \"end_time\": \"2021-01-14T10:34:40.347329Z\", \"created_time\": \"2021-01-14T10:33:36.388288Z\", \"created_time_dt\": \"2021-01-14T10:33:36.388288Z\", \"duration\": \"0:01:03\", \"iteration\": \"1\", \"goal\": \"accuracy_max\", \"run_name\": \"MaxAbsScaler, XGBoostClassifier\", \"run_properties\": \"copy=True\", \"primary_metric\": 0.83278986, \"best_metric\": 0.83278986}, {\"run_id\": \"AutoML_8478d8f3-a3af-4022-a8c1-a5fd8d40bf9a_2\", \"run_number\": 13, \"metric\": null, \"status\": \"Completed\", \"run_type\": \"azureml.scriptrun\", \"training_percent\": \"100\", \"start_time\": \"2021-01-14T10:34:59.828494Z\", \"end_time\": \"2021-01-14T10:35:44.045671Z\", \"created_time\": \"2021-01-14T10:34:42.069714Z\", \"created_time_dt\": \"2021-01-14T10:34:42.069714Z\", \"duration\": \"0:01:01\", \"iteration\": \"2\", \"goal\": \"accuracy_max\", \"run_name\": \"MinMaxScaler, RandomForest\", \"run_properties\": \"copy=True, feature_range=(0, 1\", \"primary_metric\": 0.8326087, \"best_metric\": 0.83278986}, {\"run_id\": \"AutoML_8478d8f3-a3af-4022-a8c1-a5fd8d40bf9a_3\", \"run_number\": 14, \"metric\": null, \"status\": \"Completed\", \"run_type\": \"azureml.scriptrun\", \"training_percent\": \"100\", \"start_time\": \"2021-01-14T10:35:59.270455Z\", \"end_time\": \"2021-01-14T10:36:44.365399Z\", \"created_time\": \"2021-01-14T10:35:46.396875Z\", \"created_time_dt\": \"2021-01-14T10:35:46.396875Z\", \"duration\": \"0:00:57\", \"iteration\": \"3\", \"goal\": \"accuracy_max\", \"run_name\": \"MinMaxScaler, RandomForest\", \"run_properties\": \"copy=True, feature_range=(0, 1\", \"primary_metric\": 0.82028986, \"best_metric\": 0.83278986}, {\"run_id\": \"AutoML_8478d8f3-a3af-4022-a8c1-a5fd8d40bf9a_4\", \"run_number\": 15, \"metric\": null, \"status\": \"Completed\", \"run_type\": \"azureml.scriptrun\", \"training_percent\": \"100\", \"start_time\": \"2021-01-14T10:37:06.81254Z\", \"end_time\": \"2021-01-14T10:37:49.54537Z\", \"created_time\": \"2021-01-14T10:36:51.795484Z\", \"created_time_dt\": \"2021-01-14T10:36:51.795484Z\", \"duration\": \"0:00:57\", \"iteration\": \"4\", \"goal\": \"accuracy_max\", \"run_name\": \"MinMaxScaler, RandomForest\", \"run_properties\": \"copy=True, feature_range=(0, 1\", \"primary_metric\": 0.8326087, \"best_metric\": 0.83278986}, {\"run_id\": \"AutoML_8478d8f3-a3af-4022-a8c1-a5fd8d40bf9a_5\", \"run_number\": 16, \"metric\": null, \"status\": \"Completed\", \"run_type\": \"azureml.scriptrun\", \"training_percent\": \"100\", \"start_time\": \"2021-01-14T10:38:24.607678Z\", \"end_time\": \"2021-01-14T10:39:06.58872Z\", \"created_time\": \"2021-01-14T10:38:11.735881Z\", \"created_time_dt\": \"2021-01-14T10:38:11.735881Z\", \"duration\": \"0:00:54\", \"iteration\": \"5\", \"goal\": \"accuracy_max\", \"run_name\": \"MinMaxScaler, SVM\", \"run_properties\": \"copy=True, feature_range=(0, 1\", \"primary_metric\": 0.69927536, \"best_metric\": 0.83278986}, {\"run_id\": \"AutoML_8478d8f3-a3af-4022-a8c1-a5fd8d40bf9a_6\", \"run_number\": 17, \"metric\": null, \"status\": \"Completed\", \"run_type\": \"azureml.scriptrun\", \"training_percent\": \"100\", \"start_time\": \"2021-01-14T10:39:22.423695Z\", \"end_time\": \"2021-01-14T10:40:29.082649Z\", \"created_time\": \"2021-01-14T10:39:08.917764Z\", \"created_time_dt\": \"2021-01-14T10:39:08.917764Z\", \"duration\": \"0:01:20\", \"iteration\": \"6\", \"goal\": \"accuracy_max\", \"run_name\": \"MaxAbsScaler, GradientBoosting\", \"run_properties\": \"copy=True\", \"primary_metric\": 0.84112319, \"best_metric\": 0.84112319}, {\"run_id\": \"AutoML_8478d8f3-a3af-4022-a8c1-a5fd8d40bf9a_7\", \"run_number\": 18, \"metric\": null, \"status\": \"Completed\", \"run_type\": \"azureml.scriptrun\", \"training_percent\": \"100\", \"start_time\": \"2021-01-14T10:40:49.445805Z\", \"end_time\": \"2021-01-14T10:41:37.154017Z\", \"created_time\": \"2021-01-14T10:40:31.415686Z\", \"created_time_dt\": \"2021-01-14T10:40:31.415686Z\", \"duration\": \"0:01:05\", \"iteration\": \"7\", \"goal\": \"accuracy_max\", \"run_name\": \"StandardScalerWrapper, RandomForest\", \"run_properties\": \"<azureml.automl.runtime.shared.model_wrappers.StandardScalerWrapper object at 0x7fe43c28bfd0\", \"primary_metric\": 0.82880435, \"best_metric\": 0.84112319}, {\"run_id\": \"AutoML_8478d8f3-a3af-4022-a8c1-a5fd8d40bf9a_8\", \"run_number\": 19, \"metric\": null, \"status\": \"Completed\", \"run_type\": \"azureml.scriptrun\", \"training_percent\": \"100\", \"start_time\": \"2021-01-14T10:41:56.693609Z\", \"end_time\": \"2021-01-14T10:42:35.334277Z\", \"created_time\": \"2021-01-14T10:41:41.40315Z\", \"created_time_dt\": \"2021-01-14T10:41:41.40315Z\", \"duration\": \"0:00:53\", \"iteration\": \"8\", \"goal\": \"accuracy_max\", \"run_name\": \"SparseNormalizer, XGBoostClassifier\", \"run_properties\": \"<azureml.automl.runtime.shared.model_wrappers.SparseNormalizer object at 0x7f2186e1b160\", \"primary_metric\": 0.79528986, \"best_metric\": 0.84112319}, {\"run_id\": \"AutoML_8478d8f3-a3af-4022-a8c1-a5fd8d40bf9a_9\", \"run_number\": 20, \"metric\": null, \"status\": \"Completed\", \"run_type\": \"azureml.scriptrun\", \"training_percent\": \"100\", \"start_time\": \"2021-01-14T10:42:52.602562Z\", \"end_time\": \"2021-01-14T10:43:31.19001Z\", \"created_time\": \"2021-01-14T10:42:38.775739Z\", \"created_time_dt\": \"2021-01-14T10:42:38.775739Z\", \"duration\": \"0:00:52\", \"iteration\": \"9\", \"goal\": \"accuracy_max\", \"run_name\": \"SparseNormalizer, LightGBM\", \"run_properties\": \"<azureml.automl.runtime.shared.model_wrappers.SparseNormalizer object at 0x7f4f86ecf320\", \"primary_metric\": 0.7576087, \"best_metric\": 0.84112319}, {\"run_id\": \"AutoML_8478d8f3-a3af-4022-a8c1-a5fd8d40bf9a_10\", \"run_number\": 21, \"metric\": null, \"status\": \"Completed\", \"run_type\": \"azureml.scriptrun\", \"training_percent\": \"100\", \"start_time\": \"2021-01-14T10:43:49.749548Z\", \"end_time\": \"2021-01-14T10:44:41.911679Z\", \"created_time\": \"2021-01-14T10:43:34.765206Z\", \"created_time_dt\": \"2021-01-14T10:43:34.765206Z\", \"duration\": \"0:01:07\", \"iteration\": \"10\", \"goal\": \"accuracy_max\", \"run_name\": \"RobustScaler, RandomForest\", \"run_properties\": \"copy=True, quantile_range=[10, 90], with_centering=True,\\n             with_scaling=True\", \"primary_metric\": 0.84094203, \"best_metric\": 0.84112319}, {\"run_id\": \"AutoML_8478d8f3-a3af-4022-a8c1-a5fd8d40bf9a_11\", \"run_number\": 22, \"metric\": null, \"status\": \"Completed\", \"run_type\": \"azureml.scriptrun\", \"training_percent\": \"100\", \"start_time\": \"2021-01-14T10:44:59.985522Z\", \"end_time\": \"2021-01-14T10:45:43.236543Z\", \"created_time\": \"2021-01-14T10:44:45.738126Z\", \"created_time_dt\": \"2021-01-14T10:44:45.738126Z\", \"duration\": \"0:00:57\", \"iteration\": \"11\", \"goal\": \"accuracy_max\", \"run_name\": \"MaxAbsScaler, LightGBM\", \"run_properties\": \"copy=True\", \"primary_metric\": 0.80742754, \"best_metric\": 0.84112319}, {\"run_id\": \"AutoML_8478d8f3-a3af-4022-a8c1-a5fd8d40bf9a_12\", \"run_number\": 23, \"metric\": null, \"status\": \"Completed\", \"run_type\": \"azureml.scriptrun\", \"training_percent\": \"100\", \"start_time\": \"2021-01-14T10:46:02.456059Z\", \"end_time\": \"2021-01-14T10:46:55.779271Z\", \"created_time\": \"2021-01-14T10:45:47.106002Z\", \"created_time_dt\": \"2021-01-14T10:45:47.106002Z\", \"duration\": \"0:01:08\", \"iteration\": \"12\", \"goal\": \"accuracy_max\", \"run_name\": \"RobustScaler, ExtremeRandomTrees\", \"run_properties\": \"copy=True, quantile_range=[25, 75], with_centering=True,\\n             with_scaling=False\", \"primary_metric\": 0.83695652, \"best_metric\": 0.84112319}, {\"run_id\": \"AutoML_8478d8f3-a3af-4022-a8c1-a5fd8d40bf9a_13\", \"run_number\": 24, \"metric\": null, \"status\": \"Completed\", \"run_type\": \"azureml.scriptrun\", \"training_percent\": \"100\", \"start_time\": \"2021-01-14T10:47:09.956855Z\", \"end_time\": \"2021-01-14T10:48:25.889022Z\", \"created_time\": \"2021-01-14T10:46:58.809526Z\", \"created_time_dt\": \"2021-01-14T10:46:58.809526Z\", \"duration\": \"0:01:27\", \"iteration\": \"13\", \"goal\": \"accuracy_max\", \"run_name\": \"SparseNormalizer, XGBoostClassifier\", \"run_properties\": \"<azureml.automl.runtime.shared.model_wrappers.SparseNormalizer object at 0x7fa7787b7cc0\", \"primary_metric\": 0.78695652, \"best_metric\": 0.84112319}, {\"run_id\": \"AutoML_8478d8f3-a3af-4022-a8c1-a5fd8d40bf9a_14\", \"run_number\": 25, \"metric\": null, \"status\": \"Completed\", \"run_type\": \"azureml.scriptrun\", \"training_percent\": \"100\", \"start_time\": \"2021-01-14T10:48:47.435022Z\", \"end_time\": \"2021-01-14T10:49:45.61434Z\", \"created_time\": \"2021-01-14T10:48:29.219511Z\", \"created_time_dt\": \"2021-01-14T10:48:29.219511Z\", \"duration\": \"0:01:16\", \"iteration\": \"14\", \"goal\": \"accuracy_max\", \"run_name\": \"StandardScalerWrapper, ExtremeRandomTrees\", \"run_properties\": \"<azureml.automl.runtime.shared.model_wrappers.StandardScalerWrapper object at 0x7f1f01edfb38\", \"primary_metric\": 0.83278986, \"best_metric\": 0.84112319}, {\"run_id\": \"AutoML_8478d8f3-a3af-4022-a8c1-a5fd8d40bf9a_15\", \"run_number\": 26, \"metric\": null, \"status\": \"Completed\", \"run_type\": \"azureml.scriptrun\", \"training_percent\": \"100\", \"start_time\": \"2021-01-14T10:50:06.149688Z\", \"end_time\": \"2021-01-14T10:50:52.275182Z\", \"created_time\": \"2021-01-14T10:49:48.637684Z\", \"created_time_dt\": \"2021-01-14T10:49:48.637684Z\", \"duration\": \"0:01:03\", \"iteration\": \"15\", \"goal\": \"accuracy_max\", \"run_name\": \"StandardScalerWrapper, XGBoostClassifier\", \"run_properties\": \"<azureml.automl.runtime.shared.model_wrappers.StandardScalerWrapper object at 0x7fba67fa26a0\", \"primary_metric\": 0.8201087, \"best_metric\": 0.84112319}, {\"run_id\": \"AutoML_8478d8f3-a3af-4022-a8c1-a5fd8d40bf9a_16\", \"run_number\": 27, \"metric\": null, \"status\": \"Completed\", \"run_type\": \"azureml.scriptrun\", \"training_percent\": \"100\", \"start_time\": \"2021-01-14T10:51:08.107066Z\", \"end_time\": \"2021-01-14T10:51:48.754553Z\", \"created_time\": \"2021-01-14T10:50:54.243949Z\", \"created_time_dt\": \"2021-01-14T10:50:54.243949Z\", \"duration\": \"0:00:54\", \"iteration\": \"16\", \"goal\": \"accuracy_max\", \"run_name\": \"StandardScalerWrapper, GradientBoosting\", \"run_properties\": \"<azureml.automl.runtime.shared.model_wrappers.StandardScalerWrapper object at 0x7f2c28377f28\", \"primary_metric\": 0.81195652, \"best_metric\": 0.84112319}, {\"run_id\": \"AutoML_8478d8f3-a3af-4022-a8c1-a5fd8d40bf9a_17\", \"run_number\": 28, \"metric\": null, \"status\": \"Completed\", \"run_type\": \"azureml.scriptrun\", \"training_percent\": \"100\", \"start_time\": \"2021-01-14T10:52:04.137379Z\", \"end_time\": \"2021-01-14T10:52:46.454666Z\", \"created_time\": \"2021-01-14T10:51:53.325101Z\", \"created_time_dt\": \"2021-01-14T10:51:53.325101Z\", \"duration\": \"0:00:53\", \"iteration\": \"17\", \"goal\": \"accuracy_max\", \"run_name\": \"StandardScalerWrapper, ExtremeRandomTrees\", \"run_properties\": \"<azureml.automl.runtime.shared.model_wrappers.StandardScalerWrapper object at 0x7fa55b382cc0\", \"primary_metric\": 0.74057971, \"best_metric\": 0.84112319}, {\"run_id\": \"AutoML_8478d8f3-a3af-4022-a8c1-a5fd8d40bf9a_18\", \"run_number\": 29, \"metric\": null, \"status\": \"Completed\", \"run_type\": \"azureml.scriptrun\", \"training_percent\": \"100\", \"start_time\": \"2021-01-14T10:53:00.728126Z\", \"end_time\": \"2021-01-14T10:53:43.228204Z\", \"created_time\": \"2021-01-14T10:52:48.050793Z\", \"created_time_dt\": \"2021-01-14T10:52:48.050793Z\", \"duration\": \"0:00:55\", \"iteration\": \"18\", \"goal\": \"accuracy_max\", \"run_name\": \"MaxAbsScaler, RandomForest\", \"run_properties\": \"copy=True\", \"primary_metric\": 0.82047101, \"best_metric\": 0.84112319}, {\"run_id\": \"AutoML_8478d8f3-a3af-4022-a8c1-a5fd8d40bf9a_19\", \"run_number\": 30, \"metric\": null, \"status\": \"Completed\", \"run_type\": \"azureml.scriptrun\", \"training_percent\": \"100\", \"start_time\": \"2021-01-14T10:53:57.83496Z\", \"end_time\": \"2021-01-14T10:54:40.682005Z\", \"created_time\": \"2021-01-14T10:53:45.039901Z\", \"created_time_dt\": \"2021-01-14T10:53:45.039901Z\", \"duration\": \"0:00:55\", \"iteration\": \"19\", \"goal\": \"accuracy_max\", \"run_name\": \"StandardScalerWrapper, XGBoostClassifier\", \"run_properties\": \"<azureml.automl.runtime.shared.model_wrappers.StandardScalerWrapper object at 0x7f8668466ba8\", \"primary_metric\": 0.83278986, \"best_metric\": 0.84112319}, {\"run_id\": \"AutoML_8478d8f3-a3af-4022-a8c1-a5fd8d40bf9a_20\", \"run_number\": 31, \"metric\": null, \"status\": \"Completed\", \"run_type\": \"azureml.scriptrun\", \"training_percent\": \"100\", \"start_time\": \"2021-01-14T10:54:57.69313Z\", \"end_time\": \"2021-01-14T10:55:54.184488Z\", \"created_time\": \"2021-01-14T10:54:47.1588Z\", \"created_time_dt\": \"2021-01-14T10:54:47.1588Z\", \"duration\": \"0:01:07\", \"iteration\": \"20\", \"goal\": \"accuracy_max\", \"run_name\": \"RobustScaler, KNN\", \"run_properties\": \"copy=True, quantile_range=[25, 75], with_centering=True,\\n             with_scaling=False\", \"primary_metric\": 0.61956522, \"best_metric\": 0.84112319}, {\"run_id\": \"AutoML_8478d8f3-a3af-4022-a8c1-a5fd8d40bf9a_21\", \"run_number\": 32, \"metric\": null, \"status\": \"Completed\", \"run_type\": \"azureml.scriptrun\", \"training_percent\": \"100\", \"start_time\": \"2021-01-14T10:56:12.999254Z\", \"end_time\": \"2021-01-14T10:57:05.027264Z\", \"created_time\": \"2021-01-14T10:55:56.89984Z\", \"created_time_dt\": \"2021-01-14T10:55:56.89984Z\", \"duration\": \"0:01:08\", \"iteration\": \"21\", \"goal\": \"accuracy_max\", \"run_name\": \"MaxAbsScaler, ExtremeRandomTrees\", \"run_properties\": \"copy=True\", \"primary_metric\": 0.77844203, \"best_metric\": 0.84112319}, {\"run_id\": \"AutoML_8478d8f3-a3af-4022-a8c1-a5fd8d40bf9a_22\", \"run_number\": 33, \"metric\": null, \"status\": \"Completed\", \"run_type\": \"azureml.scriptrun\", \"training_percent\": \"100\", \"start_time\": \"2021-01-14T10:57:20.023981Z\", \"end_time\": \"2021-01-14T10:58:11.746589Z\", \"created_time\": \"2021-01-14T10:57:07.71215Z\", \"created_time_dt\": \"2021-01-14T10:57:07.71215Z\", \"duration\": \"0:01:04\", \"iteration\": \"22\", \"goal\": \"accuracy_max\", \"run_name\": \"SparseNormalizer, LightGBM\", \"run_properties\": \"<azureml.automl.runtime.shared.model_wrappers.SparseNormalizer object at 0x7f588fdaa2b0\", \"primary_metric\": 0.79112319, \"best_metric\": 0.84112319}, {\"run_id\": \"AutoML_8478d8f3-a3af-4022-a8c1-a5fd8d40bf9a_23\", \"run_number\": 36, \"metric\": null, \"status\": \"Completed\", \"run_type\": \"azureml.scriptrun\", \"training_percent\": \"100\", \"start_time\": \"2021-01-14T10:58:27.770703Z\", \"end_time\": \"2021-01-14T10:59:14.934494Z\", \"created_time\": \"2021-01-14T10:58:13.603907Z\", \"created_time_dt\": \"2021-01-14T10:58:13.603907Z\", \"duration\": \"0:01:01\", \"iteration\": \"23\", \"goal\": \"accuracy_max\", \"run_name\": \"MaxAbsScaler, LightGBM\", \"run_properties\": \"copy=True\", \"primary_metric\": 0.82844203, \"best_metric\": 0.84112319}, {\"run_id\": \"AutoML_8478d8f3-a3af-4022-a8c1-a5fd8d40bf9a_24\", \"run_number\": 37, \"metric\": null, \"status\": \"Completed\", \"run_type\": \"azureml.scriptrun\", \"training_percent\": \"100\", \"start_time\": \"2021-01-14T10:59:36.158198Z\", \"end_time\": \"2021-01-14T11:00:18.104956Z\", \"created_time\": \"2021-01-14T10:59:17.111964Z\", \"created_time_dt\": \"2021-01-14T10:59:17.111964Z\", \"duration\": \"0:01:00\", \"iteration\": \"24\", \"goal\": \"accuracy_max\", \"run_name\": \"MinMaxScaler, LightGBM\", \"run_properties\": \"copy=True, feature_range=(0, 1\", \"primary_metric\": 0.8076087, \"best_metric\": 0.84112319}, {\"run_id\": \"AutoML_8478d8f3-a3af-4022-a8c1-a5fd8d40bf9a_25\", \"run_number\": 38, \"metric\": null, \"status\": \"Completed\", \"run_type\": \"azureml.scriptrun\", \"training_percent\": \"100\", \"start_time\": \"2021-01-14T11:00:34.20608Z\", \"end_time\": \"2021-01-14T11:01:19.976504Z\", \"created_time\": \"2021-01-14T11:00:21.214121Z\", \"created_time_dt\": \"2021-01-14T11:00:21.214121Z\", \"duration\": \"0:00:58\", \"iteration\": \"25\", \"goal\": \"accuracy_max\", \"run_name\": \"PCA, GradientBoosting\", \"run_properties\": \"copy=True, iterated_power='auto', n_components=0.2573684210526316,\\n    random_state=None, svd_solver='auto', tol=0.0, whiten=False\", \"primary_metric\": 0.65706522, \"best_metric\": 0.84112319}, {\"run_id\": \"AutoML_8478d8f3-a3af-4022-a8c1-a5fd8d40bf9a_26\", \"run_number\": 39, \"metric\": null, \"status\": \"Completed\", \"run_type\": \"azureml.scriptrun\", \"training_percent\": \"100\", \"start_time\": \"2021-01-14T11:01:34.720378Z\", \"end_time\": \"2021-01-14T11:02:20.601427Z\", \"created_time\": \"2021-01-14T11:01:22.019155Z\", \"created_time_dt\": \"2021-01-14T11:01:22.019155Z\", \"duration\": \"0:00:58\", \"iteration\": \"26\", \"goal\": \"accuracy_max\", \"run_name\": \"MaxAbsScaler, LightGBM\", \"run_properties\": \"copy=True\", \"primary_metric\": 0.83695652, \"best_metric\": 0.84112319}, {\"run_id\": \"AutoML_8478d8f3-a3af-4022-a8c1-a5fd8d40bf9a_27\", \"run_number\": 42, \"metric\": null, \"status\": \"Completed\", \"run_type\": \"azureml.scriptrun\", \"training_percent\": \"100\", \"start_time\": \"2021-01-14T11:02:36.313557Z\", \"end_time\": \"2021-01-14T11:03:40.217115Z\", \"created_time\": \"2021-01-14T11:02:22.517216Z\", \"created_time_dt\": \"2021-01-14T11:02:22.517216Z\", \"duration\": \"0:01:17\", \"iteration\": \"27\", \"goal\": \"accuracy_max\", \"run_name\": \"MaxAbsScaler, LightGBM\", \"run_properties\": \"copy=True\", \"primary_metric\": 0.83695652, \"best_metric\": 0.84112319}, {\"run_id\": \"AutoML_8478d8f3-a3af-4022-a8c1-a5fd8d40bf9a_28\", \"run_number\": 43, \"metric\": null, \"status\": \"Completed\", \"run_type\": \"azureml.scriptrun\", \"training_percent\": \"100\", \"start_time\": \"2021-01-14T11:04:02.815444Z\", \"end_time\": \"2021-01-14T11:04:43.079496Z\", \"created_time\": \"2021-01-14T11:03:48.865904Z\", \"created_time_dt\": \"2021-01-14T11:03:48.865904Z\", \"duration\": \"0:00:54\", \"iteration\": \"28\", \"goal\": \"accuracy_max\", \"run_name\": \"StandardScalerWrapper, XGBoostClassifier\", \"run_properties\": \"<azureml.automl.runtime.shared.model_wrappers.StandardScalerWrapper object at 0x7fefc40d25f8\", \"primary_metric\": 0.82028986, \"best_metric\": 0.84112319}, {\"run_id\": \"AutoML_8478d8f3-a3af-4022-a8c1-a5fd8d40bf9a_29\", \"run_number\": 44, \"metric\": null, \"status\": \"Completed\", \"run_type\": \"azureml.scriptrun\", \"training_percent\": \"100\", \"start_time\": \"2021-01-14T11:04:59.918666Z\", \"end_time\": \"2021-01-14T11:05:37.094791Z\", \"created_time\": \"2021-01-14T11:04:46.697194Z\", \"created_time_dt\": \"2021-01-14T11:04:46.697194Z\", \"duration\": \"0:00:50\", \"iteration\": \"29\", \"goal\": \"accuracy_max\", \"run_name\": \"MinMaxScaler, LightGBM\", \"run_properties\": \"copy=True, feature_range=(0, 1\", \"primary_metric\": 0.80362319, \"best_metric\": 0.84112319}, {\"run_id\": \"AutoML_8478d8f3-a3af-4022-a8c1-a5fd8d40bf9a_30\", \"run_number\": 45, \"metric\": null, \"status\": \"Completed\", \"run_type\": \"azureml.scriptrun\", \"training_percent\": \"100\", \"start_time\": \"2021-01-14T11:05:55.491201Z\", \"end_time\": \"2021-01-14T11:07:46.24187Z\", \"created_time\": \"2021-01-14T11:05:39.40153Z\", \"created_time_dt\": \"2021-01-14T11:05:39.40153Z\", \"duration\": \"0:02:06\", \"iteration\": \"30\", \"goal\": \"accuracy_max\", \"run_name\": \"VotingEnsemble\", \"run_properties\": \"classification_labels=None,\\n                              estimators=[('6',\\n                                           Pipeline(memory=None,\\n                                                    steps=[('maxabsscaler',\\n                                                            MaxAbsScaler(copy=True\", \"primary_metric\": 0.86213768, \"best_metric\": 0.86213768}, {\"run_id\": \"AutoML_8478d8f3-a3af-4022-a8c1-a5fd8d40bf9a_31\", \"run_number\": 48, \"metric\": null, \"status\": \"Completed\", \"run_type\": \"azureml.scriptrun\", \"training_percent\": \"100\", \"start_time\": \"2021-01-14T11:08:15.725345Z\", \"end_time\": \"2021-01-14T11:10:07.509328Z\", \"created_time\": \"2021-01-14T11:07:57.817983Z\", \"created_time_dt\": \"2021-01-14T11:07:57.817983Z\", \"duration\": \"0:02:09\", \"iteration\": \"31\", \"goal\": \"accuracy_max\", \"run_name\": \"StackEnsemble\", \"run_properties\": \"base_learners=[('6',\\n                                        Pipeline(memory=None,\\n                                                 steps=[('maxabsscaler',\\n                                                         MaxAbsScaler(copy=True\", \"primary_metric\": 0.84945652, \"best_metric\": 0.86213768}], \"children_metrics\": {\"categories\": [0], \"series\": {\"precision_score_macro\": [{\"categories\": [\"0\", \"1\", \"2\", \"3\", \"4\", \"5\", \"6\", \"7\", \"8\", \"9\", \"10\", \"11\", \"12\", \"13\", \"14\", \"15\", \"16\", \"17\", \"18\", \"19\", \"20\", \"21\", \"22\", \"23\", \"24\", \"25\", \"26\", \"27\", \"28\", \"29\", \"30\", \"31\"], \"mode\": \"markers\", \"name\": \"precision_score_macro\", \"stepped\": false, \"type\": \"scatter\", \"data\": [0.8126825341840822, 0.8394327731092437, 0.8348101900249734, 0.8329302422723476, 0.8297120893812069, 0.6377782524493052, 0.8405590569561158, 0.8311185913759443, 0.7973112482632606, 0.7509576437363655, 0.8429743336728631, 0.8226451545530493, 0.8623708888589761, 0.7428665413533835, 0.8546331068312494, 0.8217250233426705, 0.8131244065531991, 0.7327394325735287, 0.8464438055924124, 0.8378768780239367, 0.5657345262666471, 0.7719706061482376, 0.786114506408624, 0.836302414905356, 0.8178656366852961, 0.32853260869565215, 0.8400420168067226, 0.8404444628728684, 0.8139956816059757, 0.8228938796411706, 0.8652690242763772, 0.8510609243697479]}, {\"categories\": [\"0\", \"1\", \"2\", \"3\", \"4\", \"5\", \"6\", \"7\", \"8\", \"9\", \"10\", \"11\", \"12\", \"13\", \"14\", \"15\", \"16\", \"17\", \"18\", \"19\", \"20\", \"21\", \"22\", \"23\", \"24\", \"25\", \"26\", \"27\", \"28\", \"29\", \"30\", \"31\"], \"mode\": \"lines\", \"name\": \"precision_score_macro_max\", \"stepped\": true, \"type\": \"scatter\", \"data\": [0.8126825341840822, 0.8394327731092437, 0.8394327731092437, 0.8394327731092437, 0.8394327731092437, 0.8394327731092437, 0.8405590569561158, 0.8405590569561158, 0.8405590569561158, 0.8405590569561158, 0.8429743336728631, 0.8429743336728631, 0.8623708888589761, 0.8623708888589761, 0.8623708888589761, 0.8623708888589761, 0.8623708888589761, 0.8623708888589761, 0.8623708888589761, 0.8623708888589761, 0.8623708888589761, 0.8623708888589761, 0.8623708888589761, 0.8623708888589761, 0.8623708888589761, 0.8623708888589761, 0.8623708888589761, 0.8623708888589761, 0.8623708888589761, 0.8623708888589761, 0.8652690242763772, 0.8652690242763772]}], \"recall_score_weighted\": [{\"categories\": [\"0\", \"1\", \"2\", \"3\", \"4\", \"5\", \"6\", \"7\", \"8\", \"9\", \"10\", \"11\", \"12\", \"13\", \"14\", \"15\", \"16\", \"17\", \"18\", \"19\", \"20\", \"21\", \"22\", \"23\", \"24\", \"25\", \"26\", \"27\", \"28\", \"29\", \"30\", \"31\"], \"mode\": \"markers\", \"name\": \"recall_score_weighted\", \"stepped\": false, \"type\": \"scatter\", \"data\": [0.803623188405797, 0.8327898550724638, 0.8326086956521739, 0.8202898550724637, 0.8326086956521739, 0.6992753623188406, 0.841123188405797, 0.8288043478260869, 0.7952898550724637, 0.7576086956521739, 0.8409420289855072, 0.807427536231884, 0.8369565217391305, 0.7869565217391304, 0.8327898550724637, 0.8201086956521738, 0.8119565217391305, 0.7405797101449275, 0.8204710144927535, 0.8327898550724637, 0.6195652173913043, 0.7784420289855073, 0.7911231884057972, 0.8284420289855072, 0.8076086956521739, 0.6570652173913043, 0.8369565217391305, 0.8369565217391305, 0.8202898550724639, 0.803623188405797, 0.8621376811594204, 0.8494565217391304]}, {\"categories\": [\"0\", \"1\", \"2\", \"3\", \"4\", \"5\", \"6\", \"7\", \"8\", \"9\", \"10\", \"11\", \"12\", \"13\", \"14\", \"15\", \"16\", \"17\", \"18\", \"19\", \"20\", \"21\", \"22\", \"23\", \"24\", \"25\", \"26\", \"27\", \"28\", \"29\", \"30\", \"31\"], \"mode\": \"lines\", \"name\": \"recall_score_weighted_max\", \"stepped\": true, \"type\": \"scatter\", \"data\": [0.803623188405797, 0.8327898550724638, 0.8327898550724638, 0.8327898550724638, 0.8327898550724638, 0.8327898550724638, 0.841123188405797, 0.841123188405797, 0.841123188405797, 0.841123188405797, 0.841123188405797, 0.841123188405797, 0.841123188405797, 0.841123188405797, 0.841123188405797, 0.841123188405797, 0.841123188405797, 0.841123188405797, 0.841123188405797, 0.841123188405797, 0.841123188405797, 0.841123188405797, 0.841123188405797, 0.841123188405797, 0.841123188405797, 0.841123188405797, 0.841123188405797, 0.841123188405797, 0.841123188405797, 0.841123188405797, 0.8621376811594204, 0.8621376811594204]}], \"f1_score_micro\": [{\"categories\": [\"0\", \"1\", \"2\", \"3\", \"4\", \"5\", \"6\", \"7\", \"8\", \"9\", \"10\", \"11\", \"12\", \"13\", \"14\", \"15\", \"16\", \"17\", \"18\", \"19\", \"20\", \"21\", \"22\", \"23\", \"24\", \"25\", \"26\", \"27\", \"28\", \"29\", \"30\", \"31\"], \"mode\": \"markers\", \"name\": \"f1_score_micro\", \"stepped\": false, \"type\": \"scatter\", \"data\": [0.803623188405797, 0.8327898550724638, 0.8326086956521739, 0.8202898550724637, 0.8326086956521739, 0.6992753623188406, 0.841123188405797, 0.8288043478260869, 0.7952898550724637, 0.7576086956521739, 0.8409420289855072, 0.807427536231884, 0.8369565217391305, 0.7869565217391304, 0.8327898550724637, 0.8201086956521738, 0.8119565217391305, 0.7405797101449275, 0.8204710144927535, 0.8327898550724637, 0.6195652173913043, 0.7784420289855073, 0.7911231884057972, 0.8284420289855072, 0.8076086956521739, 0.6570652173913043, 0.8369565217391305, 0.8369565217391305, 0.8202898550724639, 0.803623188405797, 0.8621376811594204, 0.8494565217391304]}, {\"categories\": [\"0\", \"1\", \"2\", \"3\", \"4\", \"5\", \"6\", \"7\", \"8\", \"9\", \"10\", \"11\", \"12\", \"13\", \"14\", \"15\", \"16\", \"17\", \"18\", \"19\", \"20\", \"21\", \"22\", \"23\", \"24\", \"25\", \"26\", \"27\", \"28\", \"29\", \"30\", \"31\"], \"mode\": \"lines\", \"name\": \"f1_score_micro_max\", \"stepped\": true, \"type\": \"scatter\", \"data\": [0.803623188405797, 0.8327898550724638, 0.8327898550724638, 0.8327898550724638, 0.8327898550724638, 0.8327898550724638, 0.841123188405797, 0.841123188405797, 0.841123188405797, 0.841123188405797, 0.841123188405797, 0.841123188405797, 0.841123188405797, 0.841123188405797, 0.841123188405797, 0.841123188405797, 0.841123188405797, 0.841123188405797, 0.841123188405797, 0.841123188405797, 0.841123188405797, 0.841123188405797, 0.841123188405797, 0.841123188405797, 0.841123188405797, 0.841123188405797, 0.841123188405797, 0.841123188405797, 0.841123188405797, 0.841123188405797, 0.8621376811594204, 0.8621376811594204]}], \"average_precision_score_micro\": [{\"categories\": [\"0\", \"1\", \"2\", \"3\", \"4\", \"5\", \"6\", \"7\", \"8\", \"9\", \"10\", \"11\", \"12\", \"13\", \"14\", \"15\", \"16\", \"17\", \"18\", \"19\", \"20\", \"21\", \"22\", \"23\", \"24\", \"25\", \"26\", \"27\", \"28\", \"29\", \"30\", \"31\"], \"mode\": \"markers\", \"name\": \"average_precision_score_micro\", \"stepped\": false, \"type\": \"scatter\", \"data\": [0.8883364970720043, 0.9012837561354352, 0.9073286551177169, 0.9046684829359061, 0.9143437185644684, 0.7700648466025952, 0.9168012959025276, 0.9136666307063773, 0.8884409313069461, 0.8688518130569701, 0.8935848011343112, 0.9161205127751387, 0.8969068711242268, 0.8737909521383888, 0.8979745896958544, 0.8915284995929132, 0.894798458012516, 0.8555823536941443, 0.8962588144268027, 0.9093331207060877, 0.6817482992545141, 0.8441087102969451, 0.8886575972326904, 0.876708898528709, 0.8715477191004266, 0.6670589914256577, 0.9151910465825808, 0.9012240675796944, 0.8922316711742161, 0.9036408132960035, 0.9083773721879617, 0.9130082124222071]}, {\"categories\": [\"0\", \"1\", \"2\", \"3\", \"4\", \"5\", \"6\", \"7\", \"8\", \"9\", \"10\", \"11\", \"12\", \"13\", \"14\", \"15\", \"16\", \"17\", \"18\", \"19\", \"20\", \"21\", \"22\", \"23\", \"24\", \"25\", \"26\", \"27\", \"28\", \"29\", \"30\", \"31\"], \"mode\": \"lines\", \"name\": \"average_precision_score_micro_max\", \"stepped\": true, \"type\": \"scatter\", \"data\": [0.8883364970720043, 0.9012837561354352, 0.9073286551177169, 0.9073286551177169, 0.9143437185644684, 0.9143437185644684, 0.9168012959025276, 0.9168012959025276, 0.9168012959025276, 0.9168012959025276, 0.9168012959025276, 0.9168012959025276, 0.9168012959025276, 0.9168012959025276, 0.9168012959025276, 0.9168012959025276, 0.9168012959025276, 0.9168012959025276, 0.9168012959025276, 0.9168012959025276, 0.9168012959025276, 0.9168012959025276, 0.9168012959025276, 0.9168012959025276, 0.9168012959025276, 0.9168012959025276, 0.9168012959025276, 0.9168012959025276, 0.9168012959025276, 0.9168012959025276, 0.9168012959025276, 0.9168012959025276]}], \"accuracy\": [{\"categories\": [\"0\", \"1\", \"2\", \"3\", \"4\", \"5\", \"6\", \"7\", \"8\", \"9\", \"10\", \"11\", \"12\", \"13\", \"14\", \"15\", \"16\", \"17\", \"18\", \"19\", \"20\", \"21\", \"22\", \"23\", \"24\", \"25\", \"26\", \"27\", \"28\", \"29\", \"30\", \"31\"], \"mode\": \"markers\", \"name\": \"accuracy\", \"stepped\": false, \"type\": \"scatter\", \"data\": [0.803623188405797, 0.8327898550724638, 0.8326086956521739, 0.8202898550724637, 0.8326086956521739, 0.6992753623188406, 0.841123188405797, 0.8288043478260869, 0.7952898550724637, 0.7576086956521739, 0.8409420289855072, 0.807427536231884, 0.8369565217391305, 0.7869565217391304, 0.8327898550724637, 0.8201086956521738, 0.8119565217391305, 0.7405797101449275, 0.8204710144927535, 0.8327898550724637, 0.6195652173913043, 0.7784420289855073, 0.7911231884057972, 0.8284420289855072, 0.8076086956521739, 0.6570652173913043, 0.8369565217391305, 0.8369565217391305, 0.8202898550724639, 0.803623188405797, 0.8621376811594204, 0.8494565217391304]}, {\"categories\": [\"0\", \"1\", \"2\", \"3\", \"4\", \"5\", \"6\", \"7\", \"8\", \"9\", \"10\", \"11\", \"12\", \"13\", \"14\", \"15\", \"16\", \"17\", \"18\", \"19\", \"20\", \"21\", \"22\", \"23\", \"24\", \"25\", \"26\", \"27\", \"28\", \"29\", \"30\", \"31\"], \"mode\": \"lines\", \"name\": \"accuracy_max\", \"stepped\": true, \"type\": \"scatter\", \"data\": [0.803623188405797, 0.8327898550724638, 0.8327898550724638, 0.8327898550724638, 0.8327898550724638, 0.8327898550724638, 0.841123188405797, 0.841123188405797, 0.841123188405797, 0.841123188405797, 0.841123188405797, 0.841123188405797, 0.841123188405797, 0.841123188405797, 0.841123188405797, 0.841123188405797, 0.841123188405797, 0.841123188405797, 0.841123188405797, 0.841123188405797, 0.841123188405797, 0.841123188405797, 0.841123188405797, 0.841123188405797, 0.841123188405797, 0.841123188405797, 0.841123188405797, 0.841123188405797, 0.841123188405797, 0.841123188405797, 0.8621376811594204, 0.8621376811594204]}], \"balanced_accuracy\": [{\"categories\": [\"0\", \"1\", \"2\", \"3\", \"4\", \"5\", \"6\", \"7\", \"8\", \"9\", \"10\", \"11\", \"12\", \"13\", \"14\", \"15\", \"16\", \"17\", \"18\", \"19\", \"20\", \"21\", \"22\", \"23\", \"24\", \"25\", \"26\", \"27\", \"28\", \"29\", \"30\", \"31\"], \"mode\": \"markers\", \"name\": \"balanced_accuracy\", \"stepped\": false, \"type\": \"scatter\", \"data\": [0.7736210317460317, 0.8073313492063491, 0.8016765873015872, 0.7840079365079365, 0.8149107142857144, 0.6177380952380952, 0.8199801587301587, 0.7889285714285714, 0.7589484126984127, 0.7039980158730158, 0.8084623015873016, 0.7630853174603175, 0.7841865079365078, 0.7401289682539682, 0.7843948412698414, 0.7852579365079365, 0.7879662698412698, 0.6278273809523809, 0.7718055555555555, 0.7941765873015874, 0.5470535714285714, 0.7786111111111111, 0.7499206349206349, 0.784811507936508, 0.7562003968253969, 0.5, 0.806845238095238, 0.802827380952381, 0.7900496031746032, 0.743452380952381, 0.8346527777777778, 0.825873015873016]}, {\"categories\": [\"0\", \"1\", \"2\", \"3\", \"4\", \"5\", \"6\", \"7\", \"8\", \"9\", \"10\", \"11\", \"12\", \"13\", \"14\", \"15\", \"16\", \"17\", \"18\", \"19\", \"20\", \"21\", \"22\", \"23\", \"24\", \"25\", \"26\", \"27\", \"28\", \"29\", \"30\", \"31\"], \"mode\": \"lines\", \"name\": \"balanced_accuracy_max\", \"stepped\": true, \"type\": \"scatter\", \"data\": [0.7736210317460317, 0.8073313492063491, 0.8073313492063491, 0.8073313492063491, 0.8149107142857144, 0.8149107142857144, 0.8199801587301587, 0.8199801587301587, 0.8199801587301587, 0.8199801587301587, 0.8199801587301587, 0.8199801587301587, 0.8199801587301587, 0.8199801587301587, 0.8199801587301587, 0.8199801587301587, 0.8199801587301587, 0.8199801587301587, 0.8199801587301587, 0.8199801587301587, 0.8199801587301587, 0.8199801587301587, 0.8199801587301587, 0.8199801587301587, 0.8199801587301587, 0.8199801587301587, 0.8199801587301587, 0.8199801587301587, 0.8199801587301587, 0.8199801587301587, 0.8346527777777778, 0.8346527777777778]}], \"f1_score_weighted\": [{\"categories\": [\"0\", \"1\", \"2\", \"3\", \"4\", \"5\", \"6\", \"7\", \"8\", \"9\", \"10\", \"11\", \"12\", \"13\", \"14\", \"15\", \"16\", \"17\", \"18\", \"19\", \"20\", \"21\", \"22\", \"23\", \"24\", \"25\", \"26\", \"27\", \"28\", \"29\", \"30\", \"31\"], \"mode\": \"markers\", \"name\": \"f1_score_weighted\", \"stepped\": false, \"type\": \"scatter\", \"data\": [0.7983012006870832, 0.8299387381180269, 0.8291268588574287, 0.8118275562348419, 0.8317795344499512, 0.6607140853547373, 0.8393090064339154, 0.8228382477472126, 0.7895213329484945, 0.7487020748702494, 0.8365222444462885, 0.7968499616783586, 0.8242106376877437, 0.7745669121464461, 0.8221513832764448, 0.8155320937338587, 0.8091097751111415, 0.6807175323193628, 0.8079263680612578, 0.8266977439404297, 0.5996364098773901, 0.7810995616073855, 0.7860673801746889, 0.8211548699870104, 0.7986400930972335, 0.5225129294808928, 0.8320035076897054, 0.8313592068251203, 0.8170447576804625, 0.7888420606913047, 0.8589212289174515, 0.847267416915012]}, {\"categories\": [\"0\", \"1\", \"2\", \"3\", \"4\", \"5\", \"6\", \"7\", \"8\", \"9\", \"10\", \"11\", \"12\", \"13\", \"14\", \"15\", \"16\", \"17\", \"18\", \"19\", \"20\", \"21\", \"22\", \"23\", \"24\", \"25\", \"26\", \"27\", \"28\", \"29\", \"30\", \"31\"], \"mode\": \"lines\", \"name\": \"f1_score_weighted_max\", \"stepped\": true, \"type\": \"scatter\", \"data\": [0.7983012006870832, 0.8299387381180269, 0.8299387381180269, 0.8299387381180269, 0.8317795344499512, 0.8317795344499512, 0.8393090064339154, 0.8393090064339154, 0.8393090064339154, 0.8393090064339154, 0.8393090064339154, 0.8393090064339154, 0.8393090064339154, 0.8393090064339154, 0.8393090064339154, 0.8393090064339154, 0.8393090064339154, 0.8393090064339154, 0.8393090064339154, 0.8393090064339154, 0.8393090064339154, 0.8393090064339154, 0.8393090064339154, 0.8393090064339154, 0.8393090064339154, 0.8393090064339154, 0.8393090064339154, 0.8393090064339154, 0.8393090064339154, 0.8393090064339154, 0.8589212289174515, 0.8589212289174515]}], \"recall_score_macro\": [{\"categories\": [\"0\", \"1\", \"2\", \"3\", \"4\", \"5\", \"6\", \"7\", \"8\", \"9\", \"10\", \"11\", \"12\", \"13\", \"14\", \"15\", \"16\", \"17\", \"18\", \"19\", \"20\", \"21\", \"22\", \"23\", \"24\", \"25\", \"26\", \"27\", \"28\", \"29\", \"30\", \"31\"], \"mode\": \"markers\", \"name\": \"recall_score_macro\", \"stepped\": false, \"type\": \"scatter\", \"data\": [0.7736210317460317, 0.8073313492063491, 0.8016765873015872, 0.7840079365079365, 0.8149107142857144, 0.6177380952380952, 0.8199801587301587, 0.7889285714285714, 0.7589484126984127, 0.7039980158730158, 0.8084623015873016, 0.7630853174603175, 0.7841865079365078, 0.7401289682539682, 0.7843948412698414, 0.7852579365079365, 0.7879662698412698, 0.6278273809523809, 0.7718055555555555, 0.7941765873015874, 0.5470535714285714, 0.7786111111111111, 0.7499206349206349, 0.784811507936508, 0.7562003968253969, 0.5, 0.806845238095238, 0.802827380952381, 0.7900496031746032, 0.743452380952381, 0.8346527777777778, 0.825873015873016]}, {\"categories\": [\"0\", \"1\", \"2\", \"3\", \"4\", \"5\", \"6\", \"7\", \"8\", \"9\", \"10\", \"11\", \"12\", \"13\", \"14\", \"15\", \"16\", \"17\", \"18\", \"19\", \"20\", \"21\", \"22\", \"23\", \"24\", \"25\", \"26\", \"27\", \"28\", \"29\", \"30\", \"31\"], \"mode\": \"lines\", \"name\": \"recall_score_macro_max\", \"stepped\": true, \"type\": \"scatter\", \"data\": [0.7736210317460317, 0.8073313492063491, 0.8073313492063491, 0.8073313492063491, 0.8149107142857144, 0.8149107142857144, 0.8199801587301587, 0.8199801587301587, 0.8199801587301587, 0.8199801587301587, 0.8199801587301587, 0.8199801587301587, 0.8199801587301587, 0.8199801587301587, 0.8199801587301587, 0.8199801587301587, 0.8199801587301587, 0.8199801587301587, 0.8199801587301587, 0.8199801587301587, 0.8199801587301587, 0.8199801587301587, 0.8199801587301587, 0.8199801587301587, 0.8199801587301587, 0.8199801587301587, 0.8199801587301587, 0.8199801587301587, 0.8199801587301587, 0.8199801587301587, 0.8346527777777778, 0.8346527777777778]}], \"norm_macro_recall\": [{\"categories\": [\"0\", \"1\", \"2\", \"3\", \"4\", \"5\", \"6\", \"7\", \"8\", \"9\", \"10\", \"11\", \"12\", \"13\", \"14\", \"15\", \"16\", \"17\", \"18\", \"19\", \"20\", \"21\", \"22\", \"23\", \"24\", \"25\", \"26\", \"27\", \"28\", \"29\", \"30\", \"31\"], \"mode\": \"markers\", \"name\": \"norm_macro_recall\", \"stepped\": false, \"type\": \"scatter\", \"data\": [0.5472420634920635, 0.6146626984126984, 0.6033531746031746, 0.5680158730158731, 0.6298214285714285, 0.23547619047619048, 0.6399603174603175, 0.5778571428571427, 0.5178968253968254, 0.40799603174603183, 0.6169246031746031, 0.526170634920635, 0.5683730158730159, 0.4802579365079366, 0.5687896825396825, 0.570515873015873, 0.5759325396825397, 0.2556547619047619, 0.543611111111111, 0.5883531746031746, 0.1308928571428571, 0.5572222222222223, 0.49984126984126986, 0.5696230158730159, 0.5124007936507936, 0.0, 0.6136904761904762, 0.6056547619047619, 0.5800992063492064, 0.48690476190476184, 0.6693055555555556, 0.6517460317460317]}, {\"categories\": [\"0\", \"1\", \"2\", \"3\", \"4\", \"5\", \"6\", \"7\", \"8\", \"9\", \"10\", \"11\", \"12\", \"13\", \"14\", \"15\", \"16\", \"17\", \"18\", \"19\", \"20\", \"21\", \"22\", \"23\", \"24\", \"25\", \"26\", \"27\", \"28\", \"29\", \"30\", \"31\"], \"mode\": \"lines\", \"name\": \"norm_macro_recall_max\", \"stepped\": true, \"type\": \"scatter\", \"data\": [0.5472420634920635, 0.6146626984126984, 0.6146626984126984, 0.6146626984126984, 0.6298214285714285, 0.6298214285714285, 0.6399603174603175, 0.6399603174603175, 0.6399603174603175, 0.6399603174603175, 0.6399603174603175, 0.6399603174603175, 0.6399603174603175, 0.6399603174603175, 0.6399603174603175, 0.6399603174603175, 0.6399603174603175, 0.6399603174603175, 0.6399603174603175, 0.6399603174603175, 0.6399603174603175, 0.6399603174603175, 0.6399603174603175, 0.6399603174603175, 0.6399603174603175, 0.6399603174603175, 0.6399603174603175, 0.6399603174603175, 0.6399603174603175, 0.6399603174603175, 0.6693055555555556, 0.6693055555555556]}], \"recall_score_micro\": [{\"categories\": [\"0\", \"1\", \"2\", \"3\", \"4\", \"5\", \"6\", \"7\", \"8\", \"9\", \"10\", \"11\", \"12\", \"13\", \"14\", \"15\", \"16\", \"17\", \"18\", \"19\", \"20\", \"21\", \"22\", \"23\", \"24\", \"25\", \"26\", \"27\", \"28\", \"29\", \"30\", \"31\"], \"mode\": \"markers\", \"name\": \"recall_score_micro\", \"stepped\": false, \"type\": \"scatter\", \"data\": [0.803623188405797, 0.8327898550724638, 0.8326086956521739, 0.8202898550724637, 0.8326086956521739, 0.6992753623188406, 0.841123188405797, 0.8288043478260869, 0.7952898550724637, 0.7576086956521739, 0.8409420289855072, 0.807427536231884, 0.8369565217391305, 0.7869565217391304, 0.8327898550724637, 0.8201086956521738, 0.8119565217391305, 0.7405797101449275, 0.8204710144927535, 0.8327898550724637, 0.6195652173913043, 0.7784420289855073, 0.7911231884057972, 0.8284420289855072, 0.8076086956521739, 0.6570652173913043, 0.8369565217391305, 0.8369565217391305, 0.8202898550724639, 0.803623188405797, 0.8621376811594204, 0.8494565217391304]}, {\"categories\": [\"0\", \"1\", \"2\", \"3\", \"4\", \"5\", \"6\", \"7\", \"8\", \"9\", \"10\", \"11\", \"12\", \"13\", \"14\", \"15\", \"16\", \"17\", \"18\", \"19\", \"20\", \"21\", \"22\", \"23\", \"24\", \"25\", \"26\", \"27\", \"28\", \"29\", \"30\", \"31\"], \"mode\": \"lines\", \"name\": \"recall_score_micro_max\", \"stepped\": true, \"type\": \"scatter\", \"data\": [0.803623188405797, 0.8327898550724638, 0.8327898550724638, 0.8327898550724638, 0.8327898550724638, 0.8327898550724638, 0.841123188405797, 0.841123188405797, 0.841123188405797, 0.841123188405797, 0.841123188405797, 0.841123188405797, 0.841123188405797, 0.841123188405797, 0.841123188405797, 0.841123188405797, 0.841123188405797, 0.841123188405797, 0.841123188405797, 0.841123188405797, 0.841123188405797, 0.841123188405797, 0.841123188405797, 0.841123188405797, 0.841123188405797, 0.841123188405797, 0.841123188405797, 0.841123188405797, 0.841123188405797, 0.841123188405797, 0.8621376811594204, 0.8621376811594204]}], \"AUC_macro\": [{\"categories\": [\"0\", \"1\", \"2\", \"3\", \"4\", \"5\", \"6\", \"7\", \"8\", \"9\", \"10\", \"11\", \"12\", \"13\", \"14\", \"15\", \"16\", \"17\", \"18\", \"19\", \"20\", \"21\", \"22\", \"23\", \"24\", \"25\", \"26\", \"27\", \"28\", \"29\", \"30\", \"31\"], \"mode\": \"markers\", \"name\": \"AUC_macro\", \"stepped\": false, \"type\": \"scatter\", \"data\": [0.8900892857142857, 0.8878893849206347, 0.9001471560846562, 0.910404265873016, 0.9075016534391536, 0.7138797949735449, 0.9084126984126983, 0.9086491402116403, 0.867113921957672, 0.8414616402116402, 0.8787450396825397, 0.9121883267195766, 0.8837442129629629, 0.8560400132275132, 0.8881382275132275, 0.882266865079365, 0.8766104497354498, 0.8748305224867725, 0.893714451058201, 0.9064909887566138, 0.6022718253968253, 0.837219742063492, 0.8638690476190476, 0.8692183366402115, 0.8585023974867724, 0.5663020833333333, 0.9108945105820107, 0.8931018518518521, 0.8736003637566137, 0.8936640211640212, 0.897426421957672, 0.9123305224867726]}, {\"categories\": [\"0\", \"1\", \"2\", \"3\", \"4\", \"5\", \"6\", \"7\", \"8\", \"9\", \"10\", \"11\", \"12\", \"13\", \"14\", \"15\", \"16\", \"17\", \"18\", \"19\", \"20\", \"21\", \"22\", \"23\", \"24\", \"25\", \"26\", \"27\", \"28\", \"29\", \"30\", \"31\"], \"mode\": \"lines\", \"name\": \"AUC_macro_max\", \"stepped\": true, \"type\": \"scatter\", \"data\": [0.8900892857142857, 0.8900892857142857, 0.9001471560846562, 0.910404265873016, 0.910404265873016, 0.910404265873016, 0.910404265873016, 0.910404265873016, 0.910404265873016, 0.910404265873016, 0.910404265873016, 0.9121883267195766, 0.9121883267195766, 0.9121883267195766, 0.9121883267195766, 0.9121883267195766, 0.9121883267195766, 0.9121883267195766, 0.9121883267195766, 0.9121883267195766, 0.9121883267195766, 0.9121883267195766, 0.9121883267195766, 0.9121883267195766, 0.9121883267195766, 0.9121883267195766, 0.9121883267195766, 0.9121883267195766, 0.9121883267195766, 0.9121883267195766, 0.9121883267195766, 0.9123305224867726]}], \"average_precision_score_macro\": [{\"categories\": [\"0\", \"1\", \"2\", \"3\", \"4\", \"5\", \"6\", \"7\", \"8\", \"9\", \"10\", \"11\", \"12\", \"13\", \"14\", \"15\", \"16\", \"17\", \"18\", \"19\", \"20\", \"21\", \"22\", \"23\", \"24\", \"25\", \"26\", \"27\", \"28\", \"29\", \"30\", \"31\"], \"mode\": \"markers\", \"name\": \"average_precision_score_macro\", \"stepped\": false, \"type\": \"scatter\", \"data\": [0.8734810462911631, 0.8810761649352858, 0.8907610404350107, 0.9048843306039407, 0.9031116462845924, 0.7313955068446775, 0.8998302954321048, 0.9042527234748932, 0.865745270426918, 0.8431819910988084, 0.8712308583973263, 0.9046531182862003, 0.8838854830549632, 0.850346263237299, 0.8845344366546491, 0.8757662965026978, 0.865289087520104, 0.8771296667413606, 0.8852636405080506, 0.8980744238772506, 0.6350424006909484, 0.8411881117787816, 0.8578076640994986, 0.8528743576763722, 0.8469705324226464, 0.5612174701708466, 0.9015678424070689, 0.8868616372952619, 0.8689810617920113, 0.8812580942768538, 0.8936567132659679, 0.9033498241468714]}, {\"categories\": [\"0\", \"1\", \"2\", \"3\", \"4\", \"5\", \"6\", \"7\", \"8\", \"9\", \"10\", \"11\", \"12\", \"13\", \"14\", \"15\", \"16\", \"17\", \"18\", \"19\", \"20\", \"21\", \"22\", \"23\", \"24\", \"25\", \"26\", \"27\", \"28\", \"29\", \"30\", \"31\"], \"mode\": \"lines\", \"name\": \"average_precision_score_macro_max\", \"stepped\": true, \"type\": \"scatter\", \"data\": [0.8734810462911631, 0.8810761649352858, 0.8907610404350107, 0.9048843306039407, 0.9048843306039407, 0.9048843306039407, 0.9048843306039407, 0.9048843306039407, 0.9048843306039407, 0.9048843306039407, 0.9048843306039407, 0.9048843306039407, 0.9048843306039407, 0.9048843306039407, 0.9048843306039407, 0.9048843306039407, 0.9048843306039407, 0.9048843306039407, 0.9048843306039407, 0.9048843306039407, 0.9048843306039407, 0.9048843306039407, 0.9048843306039407, 0.9048843306039407, 0.9048843306039407, 0.9048843306039407, 0.9048843306039407, 0.9048843306039407, 0.9048843306039407, 0.9048843306039407, 0.9048843306039407, 0.9048843306039407]}], \"weighted_accuracy\": [{\"categories\": [\"0\", \"1\", \"2\", \"3\", \"4\", \"5\", \"6\", \"7\", \"8\", \"9\", \"10\", \"11\", \"12\", \"13\", \"14\", \"15\", \"16\", \"17\", \"18\", \"19\", \"20\", \"21\", \"22\", \"23\", \"24\", \"25\", \"26\", \"27\", \"28\", \"29\", \"30\", \"31\"], \"mode\": \"markers\", \"name\": \"weighted_accuracy\", \"stepped\": false, \"type\": \"scatter\", \"data\": [0.8281719400210239, 0.8530407794486867, 0.8556631872952991, 0.849128484801098, 0.8459785026106145, 0.7611514721085599, 0.857404849400992, 0.8583357006958743, 0.8229007141181685, 0.7963780221880512, 0.8647626556160789, 0.842609333055331, 0.876862397595281, 0.8202576298574369, 0.8701506858835693, 0.8474653583187817, 0.8306030475991901, 0.8267206599077379, 0.8589557324923767, 0.8620938778701557, 0.6754605063115189, 0.7778031961566194, 0.8216752239220899, 0.861759580216668, 0.846714535171623, 0.7769550939560583, 0.860544754011485, 0.8634955736836162, 0.8428910709166255, 0.8493408307053437, 0.8831594950784922, 0.8677426872388299]}, {\"categories\": [\"0\", \"1\", \"2\", \"3\", \"4\", \"5\", \"6\", \"7\", \"8\", \"9\", \"10\", \"11\", \"12\", \"13\", \"14\", \"15\", \"16\", \"17\", \"18\", \"19\", \"20\", \"21\", \"22\", \"23\", \"24\", \"25\", \"26\", \"27\", \"28\", \"29\", \"30\", \"31\"], \"mode\": \"lines\", \"name\": \"weighted_accuracy_max\", \"stepped\": true, \"type\": \"scatter\", \"data\": [0.8281719400210239, 0.8530407794486867, 0.8556631872952991, 0.8556631872952991, 0.8556631872952991, 0.8556631872952991, 0.857404849400992, 0.8583357006958743, 0.8583357006958743, 0.8583357006958743, 0.8647626556160789, 0.8647626556160789, 0.876862397595281, 0.876862397595281, 0.876862397595281, 0.876862397595281, 0.876862397595281, 0.876862397595281, 0.876862397595281, 0.876862397595281, 0.876862397595281, 0.876862397595281, 0.876862397595281, 0.876862397595281, 0.876862397595281, 0.876862397595281, 0.876862397595281, 0.876862397595281, 0.876862397595281, 0.876862397595281, 0.8831594950784922, 0.8831594950784922]}], \"average_precision_score_weighted\": [{\"categories\": [\"0\", \"1\", \"2\", \"3\", \"4\", \"5\", \"6\", \"7\", \"8\", \"9\", \"10\", \"11\", \"12\", \"13\", \"14\", \"15\", \"16\", \"17\", \"18\", \"19\", \"20\", \"21\", \"22\", \"23\", \"24\", \"25\", \"26\", \"27\", \"28\", \"29\", \"30\", \"31\"], \"mode\": \"markers\", \"name\": \"average_precision_score_weighted\", \"stepped\": false, \"type\": \"scatter\", \"data\": [0.9000109067542017, 0.9062493235409341, 0.9135883872677603, 0.9244854607133766, 0.9221011691268666, 0.7722581266571666, 0.9214778618784036, 0.9226515708139036, 0.8892709763067692, 0.8695251206961228, 0.8982134568748892, 0.9239958851872677, 0.9067110201746423, 0.8769847466282888, 0.9077123083548495, 0.9000525144294913, 0.8939229110180786, 0.8972787897338013, 0.9101718015072351, 0.9190493693556856, 0.6748530840140597, 0.8675129442418108, 0.8852204587340751, 0.8786564563627653, 0.8752308061215739, 0.6160002359662109, 0.9226039894874024, 0.9094865863360951, 0.895796404974878, 0.9088007249460045, 0.9165085566703801, 0.9253103534062657]}, {\"categories\": [\"0\", \"1\", \"2\", \"3\", \"4\", \"5\", \"6\", \"7\", \"8\", \"9\", \"10\", \"11\", \"12\", \"13\", \"14\", \"15\", \"16\", \"17\", \"18\", \"19\", \"20\", \"21\", \"22\", \"23\", \"24\", \"25\", \"26\", \"27\", \"28\", \"29\", \"30\", \"31\"], \"mode\": \"lines\", \"name\": \"average_precision_score_weighted_max\", \"stepped\": true, \"type\": \"scatter\", \"data\": [0.9000109067542017, 0.9062493235409341, 0.9135883872677603, 0.9244854607133766, 0.9244854607133766, 0.9244854607133766, 0.9244854607133766, 0.9244854607133766, 0.9244854607133766, 0.9244854607133766, 0.9244854607133766, 0.9244854607133766, 0.9244854607133766, 0.9244854607133766, 0.9244854607133766, 0.9244854607133766, 0.9244854607133766, 0.9244854607133766, 0.9244854607133766, 0.9244854607133766, 0.9244854607133766, 0.9244854607133766, 0.9244854607133766, 0.9244854607133766, 0.9244854607133766, 0.9244854607133766, 0.9244854607133766, 0.9244854607133766, 0.9244854607133766, 0.9244854607133766, 0.9244854607133766, 0.9253103534062657]}], \"log_loss\": [{\"categories\": [\"0\", \"1\", \"2\", \"3\", \"4\", \"5\", \"6\", \"7\", \"8\", \"9\", \"10\", \"11\", \"12\", \"13\", \"14\", \"15\", \"16\", \"17\", \"18\", \"19\", \"20\", \"21\", \"22\", \"23\", \"24\", \"25\", \"26\", \"27\", \"28\", \"29\", \"30\", \"31\"], \"mode\": \"markers\", \"name\": \"log_loss\", \"stepped\": false, \"type\": \"scatter\", \"data\": [0.5113835461600813, 0.43916675172891606, 0.406053136807391, 0.42341679335112997, 0.3912075693414852, 0.5865312630228584, 0.3787173392576658, 0.4102170246676039, 0.4368330343800504, 0.45681774272477, 0.40903031286418134, 0.4419951541328616, 0.42491276255489546, 0.4953771145376439, 0.4450688571561939, 0.48725722088088164, 0.4424452141196634, 0.527458730704341, 0.45834279931332966, 0.423158065865419, 1.1440841664740364, 0.6584152714880734, 0.43712618463419994, 0.45151672022827033, 0.49321318568506056, 0.642512983731063, 0.42179798948362784, 0.4301934532473086, 0.4989522905572231, 0.4364706809798563, 0.42344804435049277, 0.4022032904447069]}, {\"categories\": [\"0\", \"1\", \"2\", \"3\", \"4\", \"5\", \"6\", \"7\", \"8\", \"9\", \"10\", \"11\", \"12\", \"13\", \"14\", \"15\", \"16\", \"17\", \"18\", \"19\", \"20\", \"21\", \"22\", \"23\", \"24\", \"25\", \"26\", \"27\", \"28\", \"29\", \"30\", \"31\"], \"mode\": \"lines\", \"name\": \"log_loss_min\", \"stepped\": true, \"type\": \"scatter\", \"data\": [0.5113835461600813, 0.43916675172891606, 0.406053136807391, 0.406053136807391, 0.3912075693414852, 0.3912075693414852, 0.3787173392576658, 0.3787173392576658, 0.3787173392576658, 0.3787173392576658, 0.3787173392576658, 0.3787173392576658, 0.3787173392576658, 0.3787173392576658, 0.3787173392576658, 0.3787173392576658, 0.3787173392576658, 0.3787173392576658, 0.3787173392576658, 0.3787173392576658, 0.3787173392576658, 0.3787173392576658, 0.3787173392576658, 0.3787173392576658, 0.3787173392576658, 0.3787173392576658, 0.3787173392576658, 0.3787173392576658, 0.3787173392576658, 0.3787173392576658, 0.3787173392576658, 0.3787173392576658]}], \"AUC_weighted\": [{\"categories\": [\"0\", \"1\", \"2\", \"3\", \"4\", \"5\", \"6\", \"7\", \"8\", \"9\", \"10\", \"11\", \"12\", \"13\", \"14\", \"15\", \"16\", \"17\", \"18\", \"19\", \"20\", \"21\", \"22\", \"23\", \"24\", \"25\", \"26\", \"27\", \"28\", \"29\", \"30\", \"31\"], \"mode\": \"markers\", \"name\": \"AUC_weighted\", \"stepped\": false, \"type\": \"scatter\", \"data\": [0.8900892857142857, 0.887889384920635, 0.9001471560846561, 0.9104042658730158, 0.9075016534391533, 0.7138797949735449, 0.9084126984126983, 0.9086491402116403, 0.867113921957672, 0.8414616402116403, 0.8787450396825397, 0.9121883267195766, 0.8837442129629629, 0.8560400132275132, 0.8881382275132275, 0.882266865079365, 0.8766104497354498, 0.8748305224867725, 0.8937144510582012, 0.9064909887566138, 0.6022718253968254, 0.8372197420634923, 0.8638690476190476, 0.8692183366402115, 0.8585023974867724, 0.5663020833333333, 0.9108945105820105, 0.8931018518518521, 0.8736003637566139, 0.8936640211640212, 0.897426421957672, 0.9123305224867726]}, {\"categories\": [\"0\", \"1\", \"2\", \"3\", \"4\", \"5\", \"6\", \"7\", \"8\", \"9\", \"10\", \"11\", \"12\", \"13\", \"14\", \"15\", \"16\", \"17\", \"18\", \"19\", \"20\", \"21\", \"22\", \"23\", \"24\", \"25\", \"26\", \"27\", \"28\", \"29\", \"30\", \"31\"], \"mode\": \"lines\", \"name\": \"AUC_weighted_max\", \"stepped\": true, \"type\": \"scatter\", \"data\": [0.8900892857142857, 0.8900892857142857, 0.9001471560846561, 0.9104042658730158, 0.9104042658730158, 0.9104042658730158, 0.9104042658730158, 0.9104042658730158, 0.9104042658730158, 0.9104042658730158, 0.9104042658730158, 0.9121883267195766, 0.9121883267195766, 0.9121883267195766, 0.9121883267195766, 0.9121883267195766, 0.9121883267195766, 0.9121883267195766, 0.9121883267195766, 0.9121883267195766, 0.9121883267195766, 0.9121883267195766, 0.9121883267195766, 0.9121883267195766, 0.9121883267195766, 0.9121883267195766, 0.9121883267195766, 0.9121883267195766, 0.9121883267195766, 0.9121883267195766, 0.9121883267195766, 0.9123305224867726]}], \"AUC_micro\": [{\"categories\": [\"0\", \"1\", \"2\", \"3\", \"4\", \"5\", \"6\", \"7\", \"8\", \"9\", \"10\", \"11\", \"12\", \"13\", \"14\", \"15\", \"16\", \"17\", \"18\", \"19\", \"20\", \"21\", \"22\", \"23\", \"24\", \"25\", \"26\", \"27\", \"28\", \"29\", \"30\", \"31\"], \"mode\": \"markers\", \"name\": \"AUC_micro\", \"stepped\": false, \"type\": \"scatter\", \"data\": [0.8869486452425962, 0.8970683023524471, 0.9022612108800672, 0.8980906059651333, 0.9090126811594204, 0.7637252874921237, 0.9101623214660786, 0.9096569129384584, 0.8809145925225792, 0.8601160470489393, 0.8895682367149759, 0.9091515044108383, 0.8902895925225792, 0.8697417821886159, 0.8923227131905062, 0.8885459331022896, 0.8874888416299097, 0.8450312434362528, 0.8880982855492544, 0.9058991677168663, 0.6684231253938248, 0.8404671418819575, 0.8796993147448013, 0.8853822069943289, 0.8733721907162361, 0.6869184520058811, 0.9090704421340055, 0.8967440532451167, 0.8856214555765595, 0.8945566845200588, 0.9021414224952741, 0.9062811777987818]}, {\"categories\": [\"0\", \"1\", \"2\", \"3\", \"4\", \"5\", \"6\", \"7\", \"8\", \"9\", \"10\", \"11\", \"12\", \"13\", \"14\", \"15\", \"16\", \"17\", \"18\", \"19\", \"20\", \"21\", \"22\", \"23\", \"24\", \"25\", \"26\", \"27\", \"28\", \"29\", \"30\", \"31\"], \"mode\": \"lines\", \"name\": \"AUC_micro_max\", \"stepped\": true, \"type\": \"scatter\", \"data\": [0.8869486452425962, 0.8970683023524471, 0.9022612108800672, 0.9022612108800672, 0.9090126811594204, 0.9090126811594204, 0.9101623214660786, 0.9101623214660786, 0.9101623214660786, 0.9101623214660786, 0.9101623214660786, 0.9101623214660786, 0.9101623214660786, 0.9101623214660786, 0.9101623214660786, 0.9101623214660786, 0.9101623214660786, 0.9101623214660786, 0.9101623214660786, 0.9101623214660786, 0.9101623214660786, 0.9101623214660786, 0.9101623214660786, 0.9101623214660786, 0.9101623214660786, 0.9101623214660786, 0.9101623214660786, 0.9101623214660786, 0.9101623214660786, 0.9101623214660786, 0.9101623214660786, 0.9101623214660786]}], \"f1_score_macro\": [{\"categories\": [\"0\", \"1\", \"2\", \"3\", \"4\", \"5\", \"6\", \"7\", \"8\", \"9\", \"10\", \"11\", \"12\", \"13\", \"14\", \"15\", \"16\", \"17\", \"18\", \"19\", \"20\", \"21\", \"22\", \"23\", \"24\", \"25\", \"26\", \"27\", \"28\", \"29\", \"30\", \"31\"], \"mode\": \"markers\", \"name\": \"f1_score_macro\", \"stepped\": false, \"type\": \"scatter\", \"data\": [0.7716529969862921, 0.8066550600718466, 0.8033353600244336, 0.7842132551623318, 0.8095519996407937, 0.5958907719280486, 0.8176660819844658, 0.7928384738548402, 0.7584139741504543, 0.7064911180030122, 0.8098404036519206, 0.7666956909841159, 0.7891282680510627, 0.7319854163629046, 0.7909862695665247, 0.7892228956211405, 0.7845427415302957, 0.6065687473582211, 0.7755754758102955, 0.7979451827162928, 0.5393776221119424, 0.7590671580570516, 0.752786337897818, 0.7906383296231493, 0.7636207638555836, 0.3958087526508579, 0.8072607473543261, 0.8059181773435462, 0.7910771424434072, 0.7517710286234954, 0.8367238622763662, 0.8250633532451672]}, {\"categories\": [\"0\", \"1\", \"2\", \"3\", \"4\", \"5\", \"6\", \"7\", \"8\", \"9\", \"10\", \"11\", \"12\", \"13\", \"14\", \"15\", \"16\", \"17\", \"18\", \"19\", \"20\", \"21\", \"22\", \"23\", \"24\", \"25\", \"26\", \"27\", \"28\", \"29\", \"30\", \"31\"], \"mode\": \"lines\", \"name\": \"f1_score_macro_max\", \"stepped\": true, \"type\": \"scatter\", \"data\": [0.7716529969862921, 0.8066550600718466, 0.8066550600718466, 0.8066550600718466, 0.8095519996407937, 0.8095519996407937, 0.8176660819844658, 0.8176660819844658, 0.8176660819844658, 0.8176660819844658, 0.8176660819844658, 0.8176660819844658, 0.8176660819844658, 0.8176660819844658, 0.8176660819844658, 0.8176660819844658, 0.8176660819844658, 0.8176660819844658, 0.8176660819844658, 0.8176660819844658, 0.8176660819844658, 0.8176660819844658, 0.8176660819844658, 0.8176660819844658, 0.8176660819844658, 0.8176660819844658, 0.8176660819844658, 0.8176660819844658, 0.8176660819844658, 0.8176660819844658, 0.8367238622763662, 0.8367238622763662]}], \"precision_score_micro\": [{\"categories\": [\"0\", \"1\", \"2\", \"3\", \"4\", \"5\", \"6\", \"7\", \"8\", \"9\", \"10\", \"11\", \"12\", \"13\", \"14\", \"15\", \"16\", \"17\", \"18\", \"19\", \"20\", \"21\", \"22\", \"23\", \"24\", \"25\", \"26\", \"27\", \"28\", \"29\", \"30\", \"31\"], \"mode\": \"markers\", \"name\": \"precision_score_micro\", \"stepped\": false, \"type\": \"scatter\", \"data\": [0.803623188405797, 0.8327898550724638, 0.8326086956521739, 0.8202898550724637, 0.8326086956521739, 0.6992753623188406, 0.841123188405797, 0.8288043478260869, 0.7952898550724637, 0.7576086956521739, 0.8409420289855072, 0.807427536231884, 0.8369565217391305, 0.7869565217391304, 0.8327898550724637, 0.8201086956521738, 0.8119565217391305, 0.7405797101449275, 0.8204710144927535, 0.8327898550724637, 0.6195652173913043, 0.7784420289855073, 0.7911231884057972, 0.8284420289855072, 0.8076086956521739, 0.6570652173913043, 0.8369565217391305, 0.8369565217391305, 0.8202898550724639, 0.803623188405797, 0.8621376811594204, 0.8494565217391304]}, {\"categories\": [\"0\", \"1\", \"2\", \"3\", \"4\", \"5\", \"6\", \"7\", \"8\", \"9\", \"10\", \"11\", \"12\", \"13\", \"14\", \"15\", \"16\", \"17\", \"18\", \"19\", \"20\", \"21\", \"22\", \"23\", \"24\", \"25\", \"26\", \"27\", \"28\", \"29\", \"30\", \"31\"], \"mode\": \"lines\", \"name\": \"precision_score_micro_max\", \"stepped\": true, \"type\": \"scatter\", \"data\": [0.803623188405797, 0.8327898550724638, 0.8327898550724638, 0.8327898550724638, 0.8327898550724638, 0.8327898550724638, 0.841123188405797, 0.841123188405797, 0.841123188405797, 0.841123188405797, 0.841123188405797, 0.841123188405797, 0.841123188405797, 0.841123188405797, 0.841123188405797, 0.841123188405797, 0.841123188405797, 0.841123188405797, 0.841123188405797, 0.841123188405797, 0.841123188405797, 0.841123188405797, 0.841123188405797, 0.841123188405797, 0.841123188405797, 0.841123188405797, 0.841123188405797, 0.841123188405797, 0.841123188405797, 0.841123188405797, 0.8621376811594204, 0.8621376811594204]}], \"precision_score_weighted\": [{\"categories\": [\"0\", \"1\", \"2\", \"3\", \"4\", \"5\", \"6\", \"7\", \"8\", \"9\", \"10\", \"11\", \"12\", \"13\", \"14\", \"15\", \"16\", \"17\", \"18\", \"19\", \"20\", \"21\", \"22\", \"23\", \"24\", \"25\", \"26\", \"27\", \"28\", \"29\", \"30\", \"31\"], \"mode\": \"markers\", \"name\": \"precision_score_weighted\", \"stepped\": false, \"type\": \"scatter\", \"data\": [0.8264842830302515, 0.8525607416879796, 0.8482676707523382, 0.8412383691717216, 0.8497136186490406, 0.6772141170339111, 0.8558995216444065, 0.840803131062482, 0.8112608538318593, 0.7657794141684133, 0.8532640912919845, 0.8279759634593731, 0.8594375831949866, 0.7791219746225467, 0.8545200185452911, 0.8325822067957617, 0.83109689851361, 0.7381271484046084, 0.8485305254825042, 0.8460780438657677, 0.6074978111795187, 0.8130429709126791, 0.8014324634113636, 0.8424620612408337, 0.8241996568638781, 0.4350251391514388, 0.8519083140502577, 0.8499364956063789, 0.8297497006048795, 0.8249834247980449, 0.8754290294016156, 0.8649119321641698]}, {\"categories\": [\"0\", \"1\", \"2\", \"3\", \"4\", \"5\", \"6\", \"7\", \"8\", \"9\", \"10\", \"11\", \"12\", \"13\", \"14\", \"15\", \"16\", \"17\", \"18\", \"19\", \"20\", \"21\", \"22\", \"23\", \"24\", \"25\", \"26\", \"27\", \"28\", \"29\", \"30\", \"31\"], \"mode\": \"lines\", \"name\": \"precision_score_weighted_max\", \"stepped\": true, \"type\": \"scatter\", \"data\": [0.8264842830302515, 0.8525607416879796, 0.8525607416879796, 0.8525607416879796, 0.8525607416879796, 0.8525607416879796, 0.8558995216444065, 0.8558995216444065, 0.8558995216444065, 0.8558995216444065, 0.8558995216444065, 0.8558995216444065, 0.8594375831949866, 0.8594375831949866, 0.8594375831949866, 0.8594375831949866, 0.8594375831949866, 0.8594375831949866, 0.8594375831949866, 0.8594375831949866, 0.8594375831949866, 0.8594375831949866, 0.8594375831949866, 0.8594375831949866, 0.8594375831949866, 0.8594375831949866, 0.8594375831949866, 0.8594375831949866, 0.8594375831949866, 0.8594375831949866, 0.8754290294016156, 0.8754290294016156]}], \"matthews_correlation\": [{\"categories\": [\"0\", \"1\", \"2\", \"3\", \"4\", \"5\", \"6\", \"7\", \"8\", \"9\", \"10\", \"11\", \"12\", \"13\", \"14\", \"15\", \"16\", \"17\", \"18\", \"19\", \"20\", \"21\", \"22\", \"23\", \"24\", \"25\", \"26\", \"27\", \"28\", \"29\", \"30\", \"31\"], \"mode\": \"markers\", \"name\": \"matthews_correlation\", \"stepped\": false, \"type\": \"scatter\", \"data\": [0.5811470680333605, 0.6424444597531219, 0.6323298726551738, 0.6098392635125492, 0.6412288378560607, 0.2781615999043602, 0.6570109707587704, 0.6131824302422799, 0.5488449685263656, 0.4426525313480642, 0.6448031207271774, 0.5773601481353696, 0.6310453415381414, 0.49378911251113944, 0.6291903266573765, 0.6029385253439449, 0.5971817155150656, 0.36228994721215607, 0.6074497576964939, 0.6250802279877339, 0.10935028067706438, 0.5498319915313858, 0.5296193601440445, 0.613718312767539, 0.5657077736447947, 0.0, 0.6425886674113015, 0.6386955168776531, 0.6007159741590544, 0.5549564112718777, 0.6959923006637372, 0.673296619834993]}, {\"categories\": [\"0\", \"1\", \"2\", \"3\", \"4\", \"5\", \"6\", \"7\", \"8\", \"9\", \"10\", \"11\", \"12\", \"13\", \"14\", \"15\", \"16\", \"17\", \"18\", \"19\", \"20\", \"21\", \"22\", \"23\", \"24\", \"25\", \"26\", \"27\", \"28\", \"29\", \"30\", \"31\"], \"mode\": \"lines\", \"name\": \"matthews_correlation_max\", \"stepped\": true, \"type\": \"scatter\", \"data\": [0.5811470680333605, 0.6424444597531219, 0.6424444597531219, 0.6424444597531219, 0.6424444597531219, 0.6424444597531219, 0.6570109707587704, 0.6570109707587704, 0.6570109707587704, 0.6570109707587704, 0.6570109707587704, 0.6570109707587704, 0.6570109707587704, 0.6570109707587704, 0.6570109707587704, 0.6570109707587704, 0.6570109707587704, 0.6570109707587704, 0.6570109707587704, 0.6570109707587704, 0.6570109707587704, 0.6570109707587704, 0.6570109707587704, 0.6570109707587704, 0.6570109707587704, 0.6570109707587704, 0.6570109707587704, 0.6570109707587704, 0.6570109707587704, 0.6570109707587704, 0.6959923006637372, 0.6959923006637372]}]}, \"metricName\": null, \"primaryMetricName\": \"accuracy\", \"showLegend\": false}, \"run_metrics\": [{\"name\": \"experiment_status\", \"run_id\": \"AutoML_8478d8f3-a3af-4022-a8c1-a5fd8d40bf9a\", \"categories\": [0, 1, 2, 3, 4, 5, 6, 7, 8, 9, 10, 11, 12, 13], \"series\": [{\"data\": [\"DatasetEvaluation\", \"FeaturesGeneration\", \"DatasetFeaturization\", \"DatasetFeaturizationCompleted\", \"DatasetCrossValidationSplit\", \"ModelSelection\", \"BestRunExplainModel\", \"ModelExplanationDataSetSetup\", \"PickSurrogateModel\", \"EngineeredFeatureExplanations\", \"EngineeredFeatureExplanations\", \"RawFeaturesExplanations\", \"RawFeaturesExplanations\", \"BestRunExplainModel\"]}]}, {\"name\": \"experiment_status_description\", \"run_id\": \"AutoML_8478d8f3-a3af-4022-a8c1-a5fd8d40bf9a\", \"categories\": [0, 1, 2, 3, 4, 5, 6, 7, 8, 9, 10, 11, 12, 13], \"series\": [{\"data\": [\"Gathering dataset statistics.\", \"Generating features for the dataset.\", \"Beginning to fit featurizers and featurize the dataset.\", \"Completed fit featurizers and featurizing the dataset.\", \"Generating individually featurized CV splits.\", \"Beginning model selection.\", \"Best run model explanations started\", \"Model explanations data setup completed\", \"Choosing LightGBM as the surrogate model for explanations\", \"Computation of engineered features started\", \"Computation of engineered features completed\", \"Computation of raw features started\", \"Computation of raw features completed\", \"Best run model explanations completed\"]}]}, {\"name\": \"norm_macro_recall\", \"run_id\": \"AutoML_8478d8f3-a3af-4022-a8c1-a5fd8d40bf9a\", \"categories\": [0], \"series\": [{\"data\": [0.6693055555555556]}]}, {\"name\": \"f1_score_micro\", \"run_id\": \"AutoML_8478d8f3-a3af-4022-a8c1-a5fd8d40bf9a\", \"categories\": [0], \"series\": [{\"data\": [0.8621376811594204]}]}, {\"name\": \"AUC_micro\", \"run_id\": \"AutoML_8478d8f3-a3af-4022-a8c1-a5fd8d40bf9a\", \"categories\": [0], \"series\": [{\"data\": [0.9021414224952741]}]}, {\"name\": \"average_precision_score_macro\", \"run_id\": \"AutoML_8478d8f3-a3af-4022-a8c1-a5fd8d40bf9a\", \"categories\": [0], \"series\": [{\"data\": [0.8936567132659679]}]}, {\"name\": \"precision_score_weighted\", \"run_id\": \"AutoML_8478d8f3-a3af-4022-a8c1-a5fd8d40bf9a\", \"categories\": [0], \"series\": [{\"data\": [0.8754290294016156]}]}, {\"name\": \"AUC_macro\", \"run_id\": \"AutoML_8478d8f3-a3af-4022-a8c1-a5fd8d40bf9a\", \"categories\": [0], \"series\": [{\"data\": [0.897426421957672]}]}, {\"name\": \"matthews_correlation\", \"run_id\": \"AutoML_8478d8f3-a3af-4022-a8c1-a5fd8d40bf9a\", \"categories\": [0], \"series\": [{\"data\": [0.6959923006637372]}]}, {\"name\": \"precision_score_micro\", \"run_id\": \"AutoML_8478d8f3-a3af-4022-a8c1-a5fd8d40bf9a\", \"categories\": [0], \"series\": [{\"data\": [0.8621376811594204]}]}, {\"name\": \"precision_score_macro\", \"run_id\": \"AutoML_8478d8f3-a3af-4022-a8c1-a5fd8d40bf9a\", \"categories\": [0], \"series\": [{\"data\": [0.8652690242763772]}]}, {\"name\": \"AUC_weighted\", \"run_id\": \"AutoML_8478d8f3-a3af-4022-a8c1-a5fd8d40bf9a\", \"categories\": [0], \"series\": [{\"data\": [0.897426421957672]}]}, {\"name\": \"recall_score_macro\", \"run_id\": \"AutoML_8478d8f3-a3af-4022-a8c1-a5fd8d40bf9a\", \"categories\": [0], \"series\": [{\"data\": [0.8346527777777778]}]}, {\"name\": \"f1_score_weighted\", \"run_id\": \"AutoML_8478d8f3-a3af-4022-a8c1-a5fd8d40bf9a\", \"categories\": [0], \"series\": [{\"data\": [0.8589212289174515]}]}, {\"name\": \"f1_score_macro\", \"run_id\": \"AutoML_8478d8f3-a3af-4022-a8c1-a5fd8d40bf9a\", \"categories\": [0], \"series\": [{\"data\": [0.8367238622763662]}]}, {\"name\": \"log_loss\", \"run_id\": \"AutoML_8478d8f3-a3af-4022-a8c1-a5fd8d40bf9a\", \"categories\": [0], \"series\": [{\"data\": [0.42344804435049277]}]}, {\"name\": \"accuracy\", \"run_id\": \"AutoML_8478d8f3-a3af-4022-a8c1-a5fd8d40bf9a\", \"categories\": [0], \"series\": [{\"data\": [0.8621376811594204]}]}, {\"name\": \"recall_score_weighted\", \"run_id\": \"AutoML_8478d8f3-a3af-4022-a8c1-a5fd8d40bf9a\", \"categories\": [0], \"series\": [{\"data\": [0.8621376811594204]}]}, {\"name\": \"balanced_accuracy\", \"run_id\": \"AutoML_8478d8f3-a3af-4022-a8c1-a5fd8d40bf9a\", \"categories\": [0], \"series\": [{\"data\": [0.8346527777777778]}]}, {\"name\": \"average_precision_score_micro\", \"run_id\": \"AutoML_8478d8f3-a3af-4022-a8c1-a5fd8d40bf9a\", \"categories\": [0], \"series\": [{\"data\": [0.9083773721879617]}]}, {\"name\": \"average_precision_score_weighted\", \"run_id\": \"AutoML_8478d8f3-a3af-4022-a8c1-a5fd8d40bf9a\", \"categories\": [0], \"series\": [{\"data\": [0.9165085566703801]}]}, {\"name\": \"weighted_accuracy\", \"run_id\": \"AutoML_8478d8f3-a3af-4022-a8c1-a5fd8d40bf9a\", \"categories\": [0], \"series\": [{\"data\": [0.8831594950784922]}]}, {\"name\": \"recall_score_micro\", \"run_id\": \"AutoML_8478d8f3-a3af-4022-a8c1-a5fd8d40bf9a\", \"categories\": [0], \"series\": [{\"data\": [0.8621376811594204]}]}], \"run_logs\": \"\\nRun is completed.\", \"graph\": {}, \"widget_settings\": {\"childWidgetDisplay\": \"popup\", \"send_telemetry\": false, \"log_level\": \"INFO\", \"sdk_version\": \"1.19.0\"}, \"loading\": false}"
          },
          "metadata": {}
        }
      ],
      "execution_count": 13,
      "metadata": {
        "gather": {
          "logged": 1610622630606
        },
        "jupyter": {
          "outputs_hidden": false,
          "source_hidden": false
        },
        "nteract": {
          "transient": {
            "deleting": false
          }
        }
      }
    },
    {
      "cell_type": "markdown",
      "source": [
        "## Run Details\n",
        "\n",
        "OPTIONAL: Write about the different models trained and their performance. Why do you think some models did better than others?\n",
        "\n",
        "TODO: In the cell below, use the `RunDetails` widget to show the different experiments."
      ],
      "metadata": {}
    },
    {
      "cell_type": "code",
      "source": [
        "remote_run.wait_for_completion(show_output=True)"
      ],
      "outputs": [
        {
          "output_type": "stream",
          "name": "stdout",
          "text": [
            "\n",
            "\n",
            "****************************************************************************************************\n",
            "DATA GUARDRAILS: \n",
            "\n",
            "TYPE:         Cross validation\n",
            "STATUS:       DONE\n",
            "DESCRIPTION:  Each iteration of the trained model was validated through cross-validation.\n",
            "              \n",
            "DETAILS:      \n",
            "+---------------------------------+\n",
            "|Number of folds                  |\n",
            "+=================================+\n",
            "|10                               |\n",
            "+---------------------------------+\n",
            "\n",
            "****************************************************************************************************\n",
            "\n",
            "TYPE:         Class balancing detection\n",
            "STATUS:       PASSED\n",
            "DESCRIPTION:  Your inputs were analyzed, and all classes are balanced in your training data.\n",
            "              Learn more about imbalanced data: https://aka.ms/AutomatedMLImbalancedData\n",
            "\n",
            "****************************************************************************************************\n",
            "\n",
            "TYPE:         Missing feature values imputation\n",
            "STATUS:       PASSED\n",
            "DESCRIPTION:  No feature missing values were detected in the training data.\n",
            "              Learn more about missing value imputation: https://aka.ms/AutomatedMLFeaturization\n",
            "\n",
            "****************************************************************************************************\n",
            "\n",
            "TYPE:         High cardinality feature detection\n",
            "STATUS:       PASSED\n",
            "DESCRIPTION:  Your inputs were analyzed, and no high cardinality features were detected.\n",
            "              Learn more about high cardinality feature handling: https://aka.ms/AutomatedMLFeaturization\n",
            "\n",
            "****************************************************************************************************\n",
            "\n",
            "****************************************************************************************************\n",
            "ITERATION: The iteration being evaluated.\n",
            "PIPELINE: A summary description of the pipeline being evaluated.\n",
            "DURATION: Time taken for the current iteration.\n",
            "METRIC: The result of computing score on the fitted pipeline.\n",
            "BEST: The best observed score thus far.\n",
            "****************************************************************************************************\n",
            "\n",
            " ITERATION   PIPELINE                                       DURATION      METRIC      BEST\n",
            "         0   MaxAbsScaler LightGBM                          0:00:41       0.8036    0.8036\n",
            "         1   MaxAbsScaler XGBoostClassifier                 0:00:48       0.8328    0.8328\n",
            "         2   MinMaxScaler RandomForest                      0:00:44       0.8326    0.8328\n",
            "         3   MinMaxScaler RandomForest                      0:00:45       0.8203    0.8328\n",
            "         4   MinMaxScaler RandomForest                      0:00:43       0.8326    0.8328\n",
            "         5   MinMaxScaler SVM                               0:00:42       0.6993    0.8328\n",
            "         6   MaxAbsScaler GradientBoosting                  0:01:07       0.8411    0.8411\n",
            "         7   StandardScalerWrapper RandomForest             0:00:48       0.8288    0.8411\n",
            "         8   SparseNormalizer XGBoostClassifier             0:00:39       0.7953    0.8411\n",
            "         9   SparseNormalizer LightGBM                      0:00:39       0.7576    0.8411\n",
            "        10   RobustScaler RandomForest                      0:00:52       0.8409    0.8411\n",
            "        11   MaxAbsScaler LightGBM                          0:00:43       0.8074    0.8411\n",
            "        12   RobustScaler ExtremeRandomTrees                0:00:53       0.8370    0.8411\n",
            "        13   SparseNormalizer XGBoostClassifier             0:01:16       0.7870    0.8411\n",
            "        14   StandardScalerWrapper ExtremeRandomTrees       0:00:58       0.8328    0.8411\n",
            "        15   StandardScalerWrapper XGBoostClassifier        0:00:46       0.8201    0.8411\n",
            "        16   StandardScalerWrapper GradientBoosting         0:00:41       0.8120    0.8411\n",
            "        17   StandardScalerWrapper ExtremeRandomTrees       0:00:42       0.7406    0.8411\n",
            "        18   MaxAbsScaler RandomForest                      0:00:43       0.8205    0.8411\n",
            "        19   StandardScalerWrapper XGBoostClassifier        0:00:43       0.8328    0.8411\n",
            "        20   RobustScaler KNN                               0:00:56       0.6196    0.8411\n",
            "        21   MaxAbsScaler ExtremeRandomTrees                0:00:52       0.7784    0.8411\n",
            "        22   SparseNormalizer LightGBM                      0:00:52       0.7911    0.8411\n",
            "        23   MaxAbsScaler LightGBM                          0:00:47       0.8284    0.8411\n",
            "        24   MinMaxScaler LightGBM                          0:00:42       0.8076    0.8411\n",
            "        25   PCA GradientBoosting                           0:00:46       0.6571    0.8411\n",
            "        26   MaxAbsScaler LightGBM                          0:00:46       0.8370    0.8411\n",
            "        27   MaxAbsScaler LightGBM                          0:01:04       0.8370    0.8411\n",
            "        28   StandardScalerWrapper XGBoostClassifier        0:00:40       0.8203    0.8411\n",
            "        29   MinMaxScaler LightGBM                          0:00:37       0.8036    0.8411\n",
            "        30    VotingEnsemble                                0:01:51       0.8621    0.8621\n",
            "        31    StackEnsemble                                 0:01:52       0.8495    0.8621\n"
          ]
        },
        {
          "output_type": "execute_result",
          "execution_count": 14,
          "data": {
            "text/plain": "{'runId': 'AutoML_8478d8f3-a3af-4022-a8c1-a5fd8d40bf9a',\n 'target': 'capstone',\n 'status': 'Completed',\n 'startTimeUtc': '2021-01-14T10:24:15.222684Z',\n 'endTimeUtc': '2021-01-14T11:10:14.542258Z',\n 'properties': {'num_iterations': '1000',\n  'training_type': 'TrainFull',\n  'acquisition_function': 'EI',\n  'primary_metric': 'accuracy',\n  'train_split': '0',\n  'acquisition_parameter': '0',\n  'num_cross_validation': None,\n  'target': 'capstone',\n  'AMLSettingsJsonString': '{\"path\":null,\"name\":\"experiment-1\",\"subscription_id\":\"3d1a56d2-7c81-4118-9790-f85d1acf0c77\",\"resource_group\":\"aml-quickstarts-134643\",\"workspace_name\":\"quick-starts-ws-134643\",\"region\":\"southcentralus\",\"compute_target\":\"capstone\",\"spark_service\":null,\"azure_service\":\"remote\",\"many_models\":false,\"pipeline_fetch_max_batch_size\":1,\"iterations\":1000,\"primary_metric\":\"accuracy\",\"task_type\":\"classification\",\"data_script\":null,\"validation_size\":0.0,\"n_cross_validations\":null,\"y_min\":null,\"y_max\":null,\"num_classes\":null,\"featurization\":\"auto\",\"_ignore_package_version_incompatibilities\":false,\"is_timeseries\":false,\"max_cores_per_iteration\":1,\"max_concurrent_iterations\":1,\"iteration_timeout_minutes\":null,\"mem_in_mb\":null,\"enforce_time_on_windows\":false,\"experiment_timeout_minutes\":8640,\"experiment_exit_score\":null,\"whitelist_models\":null,\"blacklist_algos\":[\"TensorFlowLinearClassifier\",\"TensorFlowDNN\"],\"supported_models\":[\"KNN\",\"MultinomialNaiveBayes\",\"ExtremeRandomTrees\",\"TensorFlowLinearClassifier\",\"DecisionTree\",\"BernoulliNaiveBayes\",\"SGD\",\"RandomForest\",\"LinearSVM\",\"XGBoostClassifier\",\"GradientBoosting\",\"AveragedPerceptronClassifier\",\"LogisticRegression\",\"SVM\",\"TensorFlowDNN\",\"LightGBM\"],\"auto_blacklist\":true,\"blacklist_samples_reached\":false,\"exclude_nan_labels\":true,\"verbosity\":20,\"_debug_log\":\"azureml_automl.log\",\"show_warnings\":false,\"model_explainability\":true,\"service_url\":null,\"sdk_url\":null,\"sdk_packages\":null,\"enable_onnx_compatible_models\":false,\"enable_split_onnx_featurizer_estimator_models\":false,\"vm_type\":\"STANDARD_DS3_V2\",\"telemetry_verbosity\":20,\"send_telemetry\":true,\"enable_dnn\":false,\"scenario\":\"SDK-1.13.0\",\"environment_label\":null,\"force_text_dnn\":false,\"enable_feature_sweeping\":true,\"enable_early_stopping\":true,\"early_stopping_n_iters\":10,\"metrics\":null,\"enable_ensembling\":true,\"enable_stack_ensembling\":true,\"ensemble_iterations\":15,\"enable_tf\":false,\"enable_subsampling\":null,\"subsample_seed\":null,\"enable_nimbusml\":false,\"enable_streaming\":false,\"force_streaming\":false,\"track_child_runs\":true,\"allowed_private_models\":[],\"label_column_name\":\"DEATH_EVENT\",\"weight_column_name\":null,\"cv_split_column_names\":null,\"enable_local_managed\":false,\"_local_managed_run_id\":null,\"cost_mode\":1,\"lag_length\":0,\"metric_operation\":\"maximize\",\"preprocess\":true}',\n  'DataPrepJsonString': '{\\\\\"training_data\\\\\": \\\\\"{\\\\\\\\\\\\\"blocks\\\\\\\\\\\\\": [{\\\\\\\\\\\\\"id\\\\\\\\\\\\\": \\\\\\\\\\\\\"42bd713b-e80a-4a87-ad67-150205c7f5ad\\\\\\\\\\\\\", \\\\\\\\\\\\\"type\\\\\\\\\\\\\": \\\\\\\\\\\\\"Microsoft.DPrep.GetDatastoreFilesBlock\\\\\\\\\\\\\", \\\\\\\\\\\\\"arguments\\\\\\\\\\\\\": {\\\\\\\\\\\\\"datastores\\\\\\\\\\\\\": [{\\\\\\\\\\\\\"datastoreName\\\\\\\\\\\\\": \\\\\\\\\\\\\"workspaceblobstore\\\\\\\\\\\\\", \\\\\\\\\\\\\"path\\\\\\\\\\\\\": \\\\\\\\\\\\\"udacity-project/train_data.csv\\\\\\\\\\\\\", \\\\\\\\\\\\\"resourceGroup\\\\\\\\\\\\\": \\\\\\\\\\\\\"aml-quickstarts-134643\\\\\\\\\\\\\", \\\\\\\\\\\\\"subscription\\\\\\\\\\\\\": \\\\\\\\\\\\\"3d1a56d2-7c81-4118-9790-f85d1acf0c77\\\\\\\\\\\\\", \\\\\\\\\\\\\"workspaceName\\\\\\\\\\\\\": \\\\\\\\\\\\\"quick-starts-ws-134643\\\\\\\\\\\\\"}]}, \\\\\\\\\\\\\"localData\\\\\\\\\\\\\": {}, \\\\\\\\\\\\\"isEnabled\\\\\\\\\\\\\": true, \\\\\\\\\\\\\"name\\\\\\\\\\\\\": null, \\\\\\\\\\\\\"annotation\\\\\\\\\\\\\": null}, {\\\\\\\\\\\\\"id\\\\\\\\\\\\\": \\\\\\\\\\\\\"f11b1df3-a2ad-41ab-8f18-d0718f961c86\\\\\\\\\\\\\", \\\\\\\\\\\\\"type\\\\\\\\\\\\\": \\\\\\\\\\\\\"Microsoft.DPrep.ParseDelimitedBlock\\\\\\\\\\\\\", \\\\\\\\\\\\\"arguments\\\\\\\\\\\\\": {\\\\\\\\\\\\\"columnHeadersMode\\\\\\\\\\\\\": 3, \\\\\\\\\\\\\"fileEncoding\\\\\\\\\\\\\": 0, \\\\\\\\\\\\\"handleQuotedLineBreaks\\\\\\\\\\\\\": false, \\\\\\\\\\\\\"preview\\\\\\\\\\\\\": false, \\\\\\\\\\\\\"separator\\\\\\\\\\\\\": \\\\\\\\\\\\\",\\\\\\\\\\\\\", \\\\\\\\\\\\\"skipRows\\\\\\\\\\\\\": 0, \\\\\\\\\\\\\"skipRowsMode\\\\\\\\\\\\\": 0}, \\\\\\\\\\\\\"localData\\\\\\\\\\\\\": {}, \\\\\\\\\\\\\"isEnabled\\\\\\\\\\\\\": true, \\\\\\\\\\\\\"name\\\\\\\\\\\\\": null, \\\\\\\\\\\\\"annotation\\\\\\\\\\\\\": null}, {\\\\\\\\\\\\\"id\\\\\\\\\\\\\": \\\\\\\\\\\\\"ade0c1a3-ea92-4661-9331-81f7c8a5b134\\\\\\\\\\\\\", \\\\\\\\\\\\\"type\\\\\\\\\\\\\": \\\\\\\\\\\\\"Microsoft.DPrep.DropColumnsBlock\\\\\\\\\\\\\", \\\\\\\\\\\\\"arguments\\\\\\\\\\\\\": {\\\\\\\\\\\\\"columns\\\\\\\\\\\\\": {\\\\\\\\\\\\\"type\\\\\\\\\\\\\": 0, \\\\\\\\\\\\\"details\\\\\\\\\\\\\": {\\\\\\\\\\\\\"selectedColumns\\\\\\\\\\\\\": [\\\\\\\\\\\\\"Path\\\\\\\\\\\\\"]}}}, \\\\\\\\\\\\\"localData\\\\\\\\\\\\\": {}, \\\\\\\\\\\\\"isEnabled\\\\\\\\\\\\\": true, \\\\\\\\\\\\\"name\\\\\\\\\\\\\": null, \\\\\\\\\\\\\"annotation\\\\\\\\\\\\\": null}, {\\\\\\\\\\\\\"id\\\\\\\\\\\\\": \\\\\\\\\\\\\"bd8d1b75-e048-4f11-bb72-65ec2f254215\\\\\\\\\\\\\", \\\\\\\\\\\\\"type\\\\\\\\\\\\\": \\\\\\\\\\\\\"Microsoft.DPrep.SetColumnTypesBlock\\\\\\\\\\\\\", \\\\\\\\\\\\\"arguments\\\\\\\\\\\\\": {\\\\\\\\\\\\\"columnConversion\\\\\\\\\\\\\": [{\\\\\\\\\\\\\"column\\\\\\\\\\\\\": {\\\\\\\\\\\\\"type\\\\\\\\\\\\\": 2, \\\\\\\\\\\\\"details\\\\\\\\\\\\\": {\\\\\\\\\\\\\"selectedColumn\\\\\\\\\\\\\": \\\\\\\\\\\\\"age\\\\\\\\\\\\\"}}, \\\\\\\\\\\\\"typeProperty\\\\\\\\\\\\\": 3}, {\\\\\\\\\\\\\"column\\\\\\\\\\\\\": {\\\\\\\\\\\\\"type\\\\\\\\\\\\\": 2, \\\\\\\\\\\\\"details\\\\\\\\\\\\\": {\\\\\\\\\\\\\"selectedColumn\\\\\\\\\\\\\": \\\\\\\\\\\\\"anaemia\\\\\\\\\\\\\"}}, \\\\\\\\\\\\\"typeProperty\\\\\\\\\\\\\": 2}, {\\\\\\\\\\\\\"column\\\\\\\\\\\\\": {\\\\\\\\\\\\\"type\\\\\\\\\\\\\": 2, \\\\\\\\\\\\\"details\\\\\\\\\\\\\": {\\\\\\\\\\\\\"selectedColumn\\\\\\\\\\\\\": \\\\\\\\\\\\\"creatinine_phosphokinase\\\\\\\\\\\\\"}}, \\\\\\\\\\\\\"typeProperty\\\\\\\\\\\\\": 2}, {\\\\\\\\\\\\\"column\\\\\\\\\\\\\": {\\\\\\\\\\\\\"type\\\\\\\\\\\\\": 2, \\\\\\\\\\\\\"details\\\\\\\\\\\\\": {\\\\\\\\\\\\\"selectedColumn\\\\\\\\\\\\\": \\\\\\\\\\\\\"diabetes\\\\\\\\\\\\\"}}, \\\\\\\\\\\\\"typeProperty\\\\\\\\\\\\\": 2}, {\\\\\\\\\\\\\"column\\\\\\\\\\\\\": {\\\\\\\\\\\\\"type\\\\\\\\\\\\\": 2, \\\\\\\\\\\\\"details\\\\\\\\\\\\\": {\\\\\\\\\\\\\"selectedColumn\\\\\\\\\\\\\": \\\\\\\\\\\\\"ejection_fraction\\\\\\\\\\\\\"}}, \\\\\\\\\\\\\"typeProperty\\\\\\\\\\\\\": 2}, {\\\\\\\\\\\\\"column\\\\\\\\\\\\\": {\\\\\\\\\\\\\"type\\\\\\\\\\\\\": 2, \\\\\\\\\\\\\"details\\\\\\\\\\\\\": {\\\\\\\\\\\\\"selectedColumn\\\\\\\\\\\\\": \\\\\\\\\\\\\"high_blood_pressure\\\\\\\\\\\\\"}}, \\\\\\\\\\\\\"typeProperty\\\\\\\\\\\\\": 2}, {\\\\\\\\\\\\\"column\\\\\\\\\\\\\": {\\\\\\\\\\\\\"type\\\\\\\\\\\\\": 2, \\\\\\\\\\\\\"details\\\\\\\\\\\\\": {\\\\\\\\\\\\\"selectedColumn\\\\\\\\\\\\\": \\\\\\\\\\\\\"platelets\\\\\\\\\\\\\"}}, \\\\\\\\\\\\\"typeProperty\\\\\\\\\\\\\": 3}, {\\\\\\\\\\\\\"column\\\\\\\\\\\\\": {\\\\\\\\\\\\\"type\\\\\\\\\\\\\": 2, \\\\\\\\\\\\\"details\\\\\\\\\\\\\": {\\\\\\\\\\\\\"selectedColumn\\\\\\\\\\\\\": \\\\\\\\\\\\\"serum_creatinine\\\\\\\\\\\\\"}}, \\\\\\\\\\\\\"typeProperty\\\\\\\\\\\\\": 3}, {\\\\\\\\\\\\\"column\\\\\\\\\\\\\": {\\\\\\\\\\\\\"type\\\\\\\\\\\\\": 2, \\\\\\\\\\\\\"details\\\\\\\\\\\\\": {\\\\\\\\\\\\\"selectedColumn\\\\\\\\\\\\\": \\\\\\\\\\\\\"serum_sodium\\\\\\\\\\\\\"}}, \\\\\\\\\\\\\"typeProperty\\\\\\\\\\\\\": 2}, {\\\\\\\\\\\\\"column\\\\\\\\\\\\\": {\\\\\\\\\\\\\"type\\\\\\\\\\\\\": 2, \\\\\\\\\\\\\"details\\\\\\\\\\\\\": {\\\\\\\\\\\\\"selectedColumn\\\\\\\\\\\\\": \\\\\\\\\\\\\"sex\\\\\\\\\\\\\"}}, \\\\\\\\\\\\\"typeProperty\\\\\\\\\\\\\": 2}, {\\\\\\\\\\\\\"column\\\\\\\\\\\\\": {\\\\\\\\\\\\\"type\\\\\\\\\\\\\": 2, \\\\\\\\\\\\\"details\\\\\\\\\\\\\": {\\\\\\\\\\\\\"selectedColumn\\\\\\\\\\\\\": \\\\\\\\\\\\\"smoking\\\\\\\\\\\\\"}}, \\\\\\\\\\\\\"typeProperty\\\\\\\\\\\\\": 2}, {\\\\\\\\\\\\\"column\\\\\\\\\\\\\": {\\\\\\\\\\\\\"type\\\\\\\\\\\\\": 2, \\\\\\\\\\\\\"details\\\\\\\\\\\\\": {\\\\\\\\\\\\\"selectedColumn\\\\\\\\\\\\\": \\\\\\\\\\\\\"time\\\\\\\\\\\\\"}}, \\\\\\\\\\\\\"typeProperty\\\\\\\\\\\\\": 2}, {\\\\\\\\\\\\\"column\\\\\\\\\\\\\": {\\\\\\\\\\\\\"type\\\\\\\\\\\\\": 2, \\\\\\\\\\\\\"details\\\\\\\\\\\\\": {\\\\\\\\\\\\\"selectedColumn\\\\\\\\\\\\\": \\\\\\\\\\\\\"DEATH_EVENT\\\\\\\\\\\\\"}}, \\\\\\\\\\\\\"typeProperty\\\\\\\\\\\\\": 2}]}, \\\\\\\\\\\\\"localData\\\\\\\\\\\\\": {}, \\\\\\\\\\\\\"isEnabled\\\\\\\\\\\\\": true, \\\\\\\\\\\\\"name\\\\\\\\\\\\\": null, \\\\\\\\\\\\\"annotation\\\\\\\\\\\\\": null}], \\\\\\\\\\\\\"inspectors\\\\\\\\\\\\\": [], \\\\\\\\\\\\\"meta\\\\\\\\\\\\\": {\\\\\\\\\\\\\"savedDatasetId\\\\\\\\\\\\\": \\\\\\\\\\\\\"de821ecf-1e45-4cc6-8748-c30e63024fce\\\\\\\\\\\\\", \\\\\\\\\\\\\"datasetType\\\\\\\\\\\\\": \\\\\\\\\\\\\"tabular\\\\\\\\\\\\\", \\\\\\\\\\\\\"subscriptionId\\\\\\\\\\\\\": \\\\\\\\\\\\\"3d1a56d2-7c81-4118-9790-f85d1acf0c77\\\\\\\\\\\\\", \\\\\\\\\\\\\"workspaceId\\\\\\\\\\\\\": \\\\\\\\\\\\\"8e4b7c35-0d66-4c78-9e20-b16a40c06407\\\\\\\\\\\\\", \\\\\\\\\\\\\"workspaceLocation\\\\\\\\\\\\\": \\\\\\\\\\\\\"southcentralus\\\\\\\\\\\\\"}}\\\\\", \\\\\"activities\\\\\": 0}',\n  'EnableSubsampling': None,\n  'runTemplate': 'AutoML',\n  'azureml.runsource': 'automl',\n  'display_task_type': 'classification',\n  'dependencies_versions': '{\"azureml-widgets\": \"1.19.0\", \"azureml-train\": \"1.19.0\", \"azureml-train-restclients-hyperdrive\": \"1.19.0\", \"azureml-train-core\": \"1.19.0\", \"azureml-train-automl\": \"1.19.0\", \"azureml-train-automl-runtime\": \"1.19.0\", \"azureml-train-automl-client\": \"1.19.0\", \"azureml-tensorboard\": \"1.19.0\", \"azureml-telemetry\": \"1.19.0\", \"azureml-sdk\": \"1.19.0\", \"azureml-samples\": \"0+unknown\", \"azureml-pipeline\": \"1.19.0\", \"azureml-pipeline-steps\": \"1.19.0\", \"azureml-pipeline-core\": \"1.19.0\", \"azureml-opendatasets\": \"1.19.0\", \"azureml-model-management-sdk\": \"1.0.1b6.post1\", \"azureml-mlflow\": \"1.19.0\", \"azureml-interpret\": \"1.19.0\", \"azureml-explain-model\": \"1.19.0\", \"azureml-defaults\": \"1.19.0\", \"azureml-dataset-runtime\": \"1.19.0\", \"azureml-dataprep\": \"2.6.1\", \"azureml-dataprep-rslex\": \"1.4.0\", \"azureml-dataprep-native\": \"26.0.0\", \"azureml-datadrift\": \"1.19.0\", \"azureml-core\": \"1.19.0\", \"azureml-contrib-services\": \"1.19.0\", \"azureml-contrib-server\": \"1.19.0\", \"azureml-contrib-reinforcementlearning\": \"1.19.0\", \"azureml-contrib-pipeline-steps\": \"1.19.0\", \"azureml-contrib-notebook\": \"1.19.0\", \"azureml-contrib-interpret\": \"1.19.0\", \"azureml-contrib-gbdt\": \"1.19.0\", \"azureml-contrib-fairness\": \"1.19.0\", \"azureml-contrib-dataset\": \"1.19.0\", \"azureml-cli-common\": \"1.19.0\", \"azureml-automl-runtime\": \"1.19.0\", \"azureml-automl-core\": \"1.19.0\", \"azureml-accel-models\": \"1.19.0\"}',\n  '_aml_system_scenario_identification': 'Remote.Parent',\n  'ClientType': 'SDK',\n  'environment_cpu_name': 'AzureML-AutoML',\n  'environment_cpu_label': 'prod',\n  'environment_gpu_name': 'AzureML-AutoML-GPU',\n  'environment_gpu_label': 'prod',\n  'root_attribution': 'automl',\n  'attribution': 'AutoML',\n  'Orchestrator': 'AutoML',\n  'CancelUri': 'https://southcentralus.experiments.azureml.net/jasmine/v1.0/subscriptions/3d1a56d2-7c81-4118-9790-f85d1acf0c77/resourceGroups/aml-quickstarts-134643/providers/Microsoft.MachineLearningServices/workspaces/quick-starts-ws-134643/experimentids/0db6dd6c-f06b-4f6b-abab-b5f9a6f7b439/cancel/AutoML_8478d8f3-a3af-4022-a8c1-a5fd8d40bf9a',\n  'ClientSdkVersion': '1.19.0',\n  'snapshotId': '00000000-0000-0000-0000-000000000000',\n  'SetupRunId': 'AutoML_8478d8f3-a3af-4022-a8c1-a5fd8d40bf9a_setup',\n  'SetupRunContainerId': 'dcid.AutoML_8478d8f3-a3af-4022-a8c1-a5fd8d40bf9a_setup',\n  'FeaturizationRunJsonPath': 'featurizer_container.json',\n  'FeaturizationRunId': 'AutoML_8478d8f3-a3af-4022-a8c1-a5fd8d40bf9a_featurize',\n  'ProblemInfoJsonString': '{\"dataset_num_categorical\": 0, \"is_sparse\": false, \"subsampling\": false, \"dataset_classes\": 2, \"dataset_features\": 12, \"dataset_samples\": 239, \"single_frequency_class_detected\": false}',\n  'ModelExplainRunId': 'AutoML_8478d8f3-a3af-4022-a8c1-a5fd8d40bf9a_ModelExplain'},\n 'inputDatasets': [{'dataset': {'id': 'de821ecf-1e45-4cc6-8748-c30e63024fce'}, 'consumptionDetails': {'type': 'RunInput', 'inputName': 'training_data', 'mechanism': 'Direct'}}],\n 'outputDatasets': [],\n 'logFiles': {}}"
          },
          "metadata": {}
        }
      ],
      "execution_count": 14,
      "metadata": {
        "gather": {
          "logged": 1610623315231
        },
        "jupyter": {
          "outputs_hidden": false,
          "source_hidden": false
        },
        "nteract": {
          "transient": {
            "deleting": false
          }
        }
      }
    },
    {
      "cell_type": "markdown",
      "source": [
        "## Best Model\n",
        "\n",
        "TODO: In the cell below, get the best model from the automl experiments and display all the properties of the model.\n",
        "\n"
      ],
      "metadata": {}
    },
    {
      "cell_type": "code",
      "source": [
        "best_model, fitted_model = remote_run.get_output()\r\n",
        "\r\n",
        "print(best_model)"
      ],
      "outputs": [
        {
          "output_type": "stream",
          "name": "stdout",
          "text": [
            "Run(Experiment: experiment-1,\n",
            "Id: AutoML_8478d8f3-a3af-4022-a8c1-a5fd8d40bf9a_30,\n",
            "Type: azureml.scriptrun,\n",
            "Status: Completed)\n"
          ]
        }
      ],
      "execution_count": 15,
      "metadata": {
        "gather": {
          "logged": 1610623332220
        },
        "jupyter": {
          "outputs_hidden": false,
          "source_hidden": false
        },
        "nteract": {
          "transient": {
            "deleting": false
          }
        }
      }
    },
    {
      "cell_type": "code",
      "source": [
        "print(fitted_model)"
      ],
      "outputs": [
        {
          "output_type": "stream",
          "name": "stdout",
          "text": [
            "Pipeline(memory=None,\n",
            "         steps=[('datatransformer',\n",
            "                 DataTransformer(enable_dnn=None, enable_feature_sweeping=None,\n",
            "                                 feature_sweeping_config=None,\n",
            "                                 feature_sweeping_timeout=None,\n",
            "                                 featurization_config=None, force_text_dnn=None,\n",
            "                                 is_cross_validation=None,\n",
            "                                 is_onnx_compatible=None, logger=None,\n",
            "                                 observer=None, task=None, working_dir=None)),\n",
            "                ('prefittedsoftvotingclassifier',...\n",
            "                                                                                        degree=3,\n",
            "                                                                                        gamma='scale',\n",
            "                                                                                        kernel='rbf',\n",
            "                                                                                        max_iter=-1,\n",
            "                                                                                        probability=True,\n",
            "                                                                                        random_state=None,\n",
            "                                                                                        shrinking=True,\n",
            "                                                                                        tol=0.001,\n",
            "                                                                                        verbose=False))],\n",
            "                                                                     verbose=False))],\n",
            "                                               flatten_transform=None,\n",
            "                                               weights=[0.08333333333333333,\n",
            "                                                        0.16666666666666666,\n",
            "                                                        0.25,\n",
            "                                                        0.08333333333333333,\n",
            "                                                        0.08333333333333333,\n",
            "                                                        0.08333333333333333,\n",
            "                                                        0.08333333333333333,\n",
            "                                                        0.08333333333333333,\n",
            "                                                        0.08333333333333333]))],\n",
            "         verbose=False)\n"
          ]
        }
      ],
      "execution_count": 16,
      "metadata": {
        "collapsed": true,
        "jupyter": {
          "source_hidden": false,
          "outputs_hidden": false
        },
        "nteract": {
          "transient": {
            "deleting": false
          }
        },
        "gather": {
          "logged": 1610623334724
        }
      }
    },
    {
      "cell_type": "code",
      "source": [
        "#TODO: Save the best model\r\n",
        "best_model.download_file('outputs/model.pkl', 'outputs/automl.pkl')\r\n",
        "best_model.download_file('outputs/scoring_file_v_1_0_0.py', 'outputs/score_aml.py')\r\n",
        "best_model.download_file('automl_driver.py', 'outputs/automl_driver.py')"
      ],
      "outputs": [],
      "execution_count": 17,
      "metadata": {
        "gather": {
          "logged": 1610623336623
        },
        "jupyter": {
          "outputs_hidden": false,
          "source_hidden": false
        },
        "nteract": {
          "transient": {
            "deleting": false
          }
        }
      }
    },
    {
      "cell_type": "markdown",
      "source": [
        "## Model Deployment\n",
        "\n",
        "Remember you have to deploy only one of the two models you trained.. Perform the steps in the rest of this notebook only if you wish to deploy this model.\n",
        "\n",
        "TODO: In the cell below, register the model, create an inference config and deploy the model as a web service."
      ],
      "metadata": {}
    },
    {
      "cell_type": "code",
      "source": [
        "model = Model.register(workspace = ws,\r\n",
        "                        model_path =\"outputs/automl.pkl\",\r\n",
        "                        model_name = \"automl\")\r\n",
        "\r\n",
        "\r\n",
        "print(model.name)"
      ],
      "outputs": [
        {
          "output_type": "stream",
          "name": "stdout",
          "text": [
            "Registering model automl\n",
            "automl\n"
          ]
        }
      ],
      "execution_count": 18,
      "metadata": {
        "gather": {
          "logged": 1610623339812
        },
        "jupyter": {
          "outputs_hidden": false,
          "source_hidden": false
        },
        "nteract": {
          "transient": {
            "deleting": false
          }
        }
      }
    },
    {
      "cell_type": "code",
      "source": [
        "# Define Deployment\r\n",
        "\r\n",
        "aci_config = AciWebservice.deploy_configuration(cpu_cores=1, memory_gb=2,\r\n",
        "                                              enable_app_insights=True) \r\n"
      ],
      "outputs": [],
      "execution_count": 19,
      "metadata": {
        "collapsed": true,
        "jupyter": {
          "source_hidden": false,
          "outputs_hidden": false
        },
        "nteract": {
          "transient": {
            "deleting": false
          }
        },
        "gather": {
          "logged": 1610623341347
        }
      }
    },
    {
      "cell_type": "code",
      "source": [
        "from azureml.core.conda_dependencies import CondaDependencies\r\n",
        "\r\n",
        "azureml_pip_packages = [\r\n",
        "    'azureml-interpret', 'azureml-train-automl', 'azureml-defaults'\r\n",
        "]\r\n",
        "\r\n",
        "myenv = CondaDependencies.create(conda_packages=['scikit-learn', 'pandas', 'numpy', 'py-xgboost<=0.80'],\r\n",
        "                                 pip_packages=azureml_pip_packages,\r\n",
        "                                 pin_sdk_version=True)\r\n",
        "\r\n",
        "with open(\"env.yml\",\"w\") as f:\r\n",
        "    f.write(myenv.serialize_to_string())\r\n",
        "\r\n",
        "with open(\"env.yml\",\"r\") as f:\r\n",
        "    print(f.read())"
      ],
      "outputs": [
        {
          "output_type": "stream",
          "name": "stdout",
          "text": [
            "# Conda environment specification. The dependencies defined in this file will\n",
            "# be automatically provisioned for runs with userManagedDependencies=False.\n",
            "\n",
            "# Details about the Conda environment file format:\n",
            "# https://conda.io/docs/user-guide/tasks/manage-environments.html#create-env-file-manually\n",
            "\n",
            "name: project_environment\n",
            "dependencies:\n",
            "  # The python interpreter version.\n",
            "  # Currently Azure ML only supports 3.5.2 and later.\n",
            "- python=3.6.2\n",
            "\n",
            "- pip:\n",
            "  - azureml-interpret~=1.19.0\n",
            "  - azureml-train-automl~=1.19.0\n",
            "  - azureml-defaults~=1.19.0\n",
            "- scikit-learn\n",
            "- pandas\n",
            "- numpy\n",
            "- py-xgboost<=0.80\n",
            "channels:\n",
            "- anaconda\n",
            "- conda-forge\n",
            "\n"
          ]
        }
      ],
      "execution_count": 20,
      "metadata": {
        "collapsed": true,
        "jupyter": {
          "source_hidden": false,
          "outputs_hidden": false
        },
        "nteract": {
          "transient": {
            "deleting": false
          }
        },
        "gather": {
          "logged": 1610623343344
        }
      }
    },
    {
      "cell_type": "code",
      "source": [
        "# Create the environment\r\n",
        "\r\n",
        "env = Environment.from_conda_specification(name='env',file_path = 'env.yml')\r\n",
        "\r\n",
        "# myenv = Environment(workspace=ws, name=\"myenv\")\r\n",
        "\r\n",
        "inference_config = InferenceConfig(entry_script='./score.py',environment=env)\r\n",
        "\r\n",
        "f = open(\"envnew.yml\", \"w\")\r\n",
        "f.write(env.python.conda_dependencies.serialize_to_string())\r\n",
        "f.close()\r\n",
        "\r\n",
        "print(\"packages\", env.python.conda_dependencies.serialize_to_string())"
      ],
      "outputs": [
        {
          "output_type": "stream",
          "name": "stdout",
          "text": [
            "packages # Conda environment specification. The dependencies defined in this file will\n",
            "# be automatically provisioned for runs with userManagedDependencies=False.\n",
            "\n",
            "# Details about the Conda environment file format:\n",
            "# https://conda.io/docs/user-guide/tasks/manage-environments.html#create-env-file-manually\n",
            "\n",
            "name: project_environment\n",
            "dependencies:\n",
            "  # The python interpreter version.\n",
            "  # Currently Azure ML only supports 3.5.2 and later.\n",
            "- python=3.6.2\n",
            "\n",
            "- pip:\n",
            "  - azureml-interpret~=1.19.0\n",
            "  - azureml-train-automl~=1.19.0\n",
            "  - azureml-defaults~=1.19.0\n",
            "- scikit-learn\n",
            "- pandas\n",
            "- numpy\n",
            "- py-xgboost<=0.80\n",
            "channels:\n",
            "- anaconda\n",
            "- conda-forge\n",
            "\n"
          ]
        }
      ],
      "execution_count": 21,
      "metadata": {
        "collapsed": true,
        "jupyter": {
          "source_hidden": false,
          "outputs_hidden": false
        },
        "nteract": {
          "transient": {
            "deleting": false
          }
        },
        "gather": {
          "logged": 1610623345506
        }
      }
    },
    {
      "cell_type": "code",
      "source": [
        "service_name = 'service'\r\n",
        "\r\n",
        "service = Model.deploy(ws, service_name, [model], inference_config, deployment_config=aci_config)"
      ],
      "outputs": [],
      "execution_count": 22,
      "metadata": {
        "collapsed": true,
        "jupyter": {
          "source_hidden": false,
          "outputs_hidden": false
        },
        "nteract": {
          "transient": {
            "deleting": false
          }
        },
        "gather": {
          "logged": 1610623348840
        }
      }
    },
    {
      "cell_type": "code",
      "source": [
        "service.wait_for_deployment(True)\r\n",
        "print(service.state)"
      ],
      "outputs": [
        {
          "output_type": "stream",
          "name": "stdout",
          "text": [
            "Tips: You can try get_logs(): https://aka.ms/debugimage#dockerlog or local deployment: https://aka.ms/debugimage#debug-locally to debug if deployment takes longer than 10 minutes.\n",
            "Running.......................................................................................................................\n",
            "Succeeded\n",
            "ACI service creation operation finished, operation \"Succeeded\"\n",
            "Healthy\n"
          ]
        }
      ],
      "execution_count": 23,
      "metadata": {
        "collapsed": true,
        "jupyter": {
          "source_hidden": false,
          "outputs_hidden": false
        },
        "nteract": {
          "transient": {
            "deleting": false
          }
        },
        "gather": {
          "logged": 1610623956438
        }
      }
    },
    {
      "cell_type": "code",
      "source": [
        "print(\"scoring URI: \" + service.scoring_uri)"
      ],
      "outputs": [
        {
          "output_type": "stream",
          "name": "stdout",
          "text": [
            "scoring URI: http://5f209cfe-2cf1-4d5f-a9fe-405468a28dc5.southcentralus.azurecontainer.io/score\n"
          ]
        }
      ],
      "execution_count": 24,
      "metadata": {
        "collapsed": true,
        "jupyter": {
          "source_hidden": false,
          "outputs_hidden": false
        },
        "nteract": {
          "transient": {
            "deleting": false
          }
        },
        "gather": {
          "logged": 1610623956714
        }
      }
    },
    {
      "cell_type": "markdown",
      "source": [
        "TODO: In the cell below, send a request to the web service you deployed to test it."
      ],
      "metadata": {
        "collapsed": true,
        "gather": {
          "logged": 1598431657736
        },
        "jupyter": {
          "outputs_hidden": false,
          "source_hidden": false
        },
        "nteract": {
          "transient": {
            "deleting": false
          }
        }
      }
    },
    {
      "cell_type": "code",
      "source": [
        "scoring_uri = 'http://5f209cfe-2cf1-4d5f-a9fe-405468a28dc5.southcentralus.azurecontainer.io/score'\r\n",
        "headers = {'Content-Type':'application/json'}\r\n",
        "\r\n",
        "test_data = json.dumps({'data':[{\r\n",
        "    'age':75,\r\n",
        "    'anaemia':0,\r\n",
        "    'creatinine_phosphokinase':582,\r\n",
        "    'diabetes':0,\r\n",
        "    'ejection_fraction':20,\r\n",
        "    'high_blood_pressure':1,\r\n",
        "    'platelets':265000,\r\n",
        "    'serum_creatinine':1.9,\r\n",
        "    'serum_sodium':130,\r\n",
        "    'sex':1,\r\n",
        "    'smoking':0,\r\n",
        "    'time':4}\r\n",
        "    ]\r\n",
        "        })\r\n",
        "\r\n",
        "test_data2 = json.dumps({'data':[{\r\n",
        "    'age':40,\r\n",
        "    'anaemia':0,\r\n",
        "    'creatinine_phosphokinase':321,\r\n",
        "    'diabetes':0,\r\n",
        "    'ejection_fraction':35,\r\n",
        "    'high_blood_pressure':0,\r\n",
        "    'platelets':265000,\r\n",
        "    'serum_creatinine':1,\r\n",
        "    'serum_sodium':130,\r\n",
        "    'sex':1,\r\n",
        "    'smoking':0,\r\n",
        "    'time':198}\r\n",
        "    ]\r\n",
        "        })\r\n",
        "\r\n",
        "\r\n",
        "response = requests.post(scoring_uri, data=test_data2, headers=headers)\r\n",
        "\r\n",
        "print(\"Result:\",response.text)"
      ],
      "outputs": [
        {
          "output_type": "stream",
          "name": "stdout",
          "text": [
            "Result: \"TransformException:\\n\\tMessage: Failed while applying learned transformations.\\n\\tInnerException: RuntimeError: ['age']: The reset parameter is False but there is no n_features_in_ attribute. Is this estimator fitted?\\n\\tErrorResponse \\n{\\n    \\\"error\\\": {\\n        \\\"code\\\": \\\"System\\\",\\n        \\\"inner_error\\\": {\\n            \\\"code\\\": \\\"Transform\\\"\\n        },\\n        \\\"message\\\": \\\"Failed while applying learned transformations.\\\",\\n        \\\"target\\\": \\\"DataTransformer.transform\\\",\\n        \\\"reference_code\\\": \\\"e5bbc77b-2264-418d-bdb3-39ea0f09eae8\\\"\\n    }\\n}\"\n"
          ]
        }
      ],
      "execution_count": 27,
      "metadata": {
        "gather": {
          "logged": 1610624080939
        },
        "jupyter": {
          "outputs_hidden": false,
          "source_hidden": false
        },
        "nteract": {
          "transient": {
            "deleting": false
          }
        }
      }
    },
    {
      "cell_type": "markdown",
      "source": [
        "TODO: In the cell below, print the logs of the web service and delete the service"
      ],
      "metadata": {
        "collapsed": true,
        "gather": {
          "logged": 1598432765711
        },
        "jupyter": {
          "outputs_hidden": false,
          "source_hidden": false
        },
        "nteract": {
          "transient": {
            "deleting": false
          }
        }
      }
    },
    {
      "cell_type": "code",
      "source": [
        "print(service.get_logs())"
      ],
      "outputs": [
        {
          "output_type": "stream",
          "name": "stdout",
          "text": [
            "2021-01-14T11:32:15,988234734+00:00 - iot-server/run \n",
            "2021-01-14T11:32:15,988421147+00:00 - gunicorn/run \n",
            "2021-01-14T11:32:15,989766841+00:00 - rsyslog/run \n",
            "2021-01-14T11:32:16,004344958+00:00 - nginx/run \n",
            "/usr/sbin/nginx: /azureml-envs/azureml_c48771bbe5fa224df5d541af81b23025/lib/libcrypto.so.1.0.0: no version information available (required by /usr/sbin/nginx)\n",
            "/usr/sbin/nginx: /azureml-envs/azureml_c48771bbe5fa224df5d541af81b23025/lib/libcrypto.so.1.0.0: no version information available (required by /usr/sbin/nginx)\n",
            "/usr/sbin/nginx: /azureml-envs/azureml_c48771bbe5fa224df5d541af81b23025/lib/libssl.so.1.0.0: no version information available (required by /usr/sbin/nginx)\n",
            "/usr/sbin/nginx: /azureml-envs/azureml_c48771bbe5fa224df5d541af81b23025/lib/libssl.so.1.0.0: no version information available (required by /usr/sbin/nginx)\n",
            "/usr/sbin/nginx: /azureml-envs/azureml_c48771bbe5fa224df5d541af81b23025/lib/libssl.so.1.0.0: no version information available (required by /usr/sbin/nginx)\n",
            "EdgeHubConnectionString and IOTEDGE_IOTHUBHOSTNAME are not set. Exiting...\n",
            "2021-01-14T11:32:16,128705136+00:00 - iot-server/finish 1 0\n",
            "2021-01-14T11:32:16,129912821+00:00 - Exit code 1 is normal. Not restarting iot-server.\n",
            "Starting gunicorn 19.9.0\n",
            "Listening at: http://127.0.0.1:31311 (12)\n",
            "Using worker: sync\n",
            "worker timeout is set to 300\n",
            "Booting worker with pid: 42\n",
            "SPARK_HOME not set. Skipping PySpark Initialization.\n",
            "Initializing logger\n",
            "2021-01-14 11:32:17,004 | root | INFO | Starting up app insights client\n",
            "Starting up app insights client\n",
            "2021-01-14 11:32:17,004 | root | INFO | Starting up request id generator\n",
            "Starting up request id generator\n",
            "2021-01-14 11:32:17,005 | root | INFO | Starting up app insight hooks\n",
            "Starting up app insight hooks\n",
            "2021-01-14 11:32:17,005 | root | INFO | Invoking user's init function\n",
            "Invoking user's init function\n",
            "Found model:\n",
            "True\n",
            "2021-01-14 11:32:19,713 | root | INFO | Users's init has completed successfully\n",
            "Users's init has completed successfully\n",
            "2021-01-14 11:32:19,788 | root | INFO | Skipping middleware: dbg_model_info as it's not enabled.\n",
            "Skipping middleware: dbg_model_info as it's not enabled.\n",
            "2021-01-14 11:32:19,789 | root | INFO | Skipping middleware: dbg_resource_usage as it's not enabled.\n",
            "Skipping middleware: dbg_resource_usage as it's not enabled.\n",
            "2021-01-14 11:32:19,790 | root | INFO | Scoring timeout is found from os.environ: 60000 ms\n",
            "Scoring timeout is found from os.environ: 60000 ms\n",
            "2021-01-14 11:32:30,216 | root | INFO | Swagger file not present\n",
            "Swagger file not present\n",
            "2021-01-14 11:32:30,217 | root | INFO | 404\n",
            "404\n",
            "127.0.0.1 - - [14/Jan/2021:11:32:30 +0000] \"GET /swagger.json HTTP/1.0\" 404 19 \"-\" \"Go-http-client/1.1\"\n",
            "2021-01-14 11:32:33,522 | root | INFO | Swagger file not present\n",
            "Swagger file not present\n",
            "2021-01-14 11:32:33,522 | root | INFO | 404\n",
            "404\n",
            "127.0.0.1 - - [14/Jan/2021:11:32:33 +0000] \"GET /swagger.json HTTP/1.0\" 404 19 \"-\" \"Go-http-client/1.1\"\n",
            "2021-01-14 11:33:30,948 | root | INFO | Swagger file not present\n",
            "Swagger file not present\n",
            "2021-01-14 11:33:30,948 | root | INFO | 404\n",
            "404\n",
            "127.0.0.1 - - [14/Jan/2021:11:33:30 +0000] \"GET /swagger.json HTTP/1.0\" 404 19 \"-\" \"Go-http-client/1.1\"\n",
            "2021-01-14 11:34:38,077 | root | INFO | Validation Request Content-Type\n",
            "Validation Request Content-Type\n",
            "2021-01-14 11:34:38,077 | root | INFO | \tHost: localhost:5001\n",
            "\tHost: localhost:5001\n",
            "2021-01-14 11:34:38,077 | root | INFO | \tX-Real-Ip: 127.0.0.1\n",
            "\tX-Real-Ip: 127.0.0.1\n",
            "2021-01-14 11:34:38,077 | root | INFO | \tX-Forwarded-For: 127.0.0.1\n",
            "\tX-Forwarded-For: 127.0.0.1\n",
            "2021-01-14 11:34:38,078 | root | INFO | \tX-Forwarded-Proto: http\n",
            "\tX-Forwarded-Proto: http\n",
            "2021-01-14 11:34:38,078 | root | INFO | \tConnection: close\n",
            "\tConnection: close\n",
            "2021-01-14 11:34:38,078 | root | INFO | \tContent-Length: 238\n",
            "\tContent-Length: 238\n",
            "2021-01-14 11:34:38,078 | root | INFO | \tUser-Agent: python-requests/2.25.0\n",
            "\tUser-Agent: python-requests/2.25.0\n",
            "2021-01-14 11:34:38,078 | root | INFO | \tAccept: */*\n",
            "\tAccept: */*\n",
            "2021-01-14 11:34:38,078 | root | INFO | \tAccept-Encoding: gzip, deflate\n",
            "\tAccept-Encoding: gzip, deflate\n",
            "2021-01-14 11:34:38,078 | root | INFO | \tContent-Type: application/json\n",
            "\tContent-Type: application/json\n",
            "2021-01-14 11:34:38,078 | root | INFO | \tX-Ms-Request-Id: 60294d11-bc8d-4e07-af0d-5bebe0ee6d18\n",
            "\tX-Ms-Request-Id: 60294d11-bc8d-4e07-af0d-5bebe0ee6d18\n",
            "2021-01-14 11:34:38,078 | root | INFO | Scoring Timer is set to 60.0 seconds\n",
            "Scoring Timer is set to 60.0 seconds\n",
            "2021-01-14 11:34:38,092 | root | INFO | 200\n",
            "200\n",
            "127.0.0.1 - - [14/Jan/2021:11:34:38 +0000] \"POST /score HTTP/1.0\" 200 572 \"-\" \"python-requests/2.25.0\"\n",
            "\n"
          ]
        }
      ],
      "execution_count": 28,
      "metadata": {
        "jupyter": {
          "outputs_hidden": false,
          "source_hidden": false
        },
        "nteract": {
          "transient": {
            "deleting": false
          }
        },
        "gather": {
          "logged": 1610624090664
        }
      }
    },
    {
      "cell_type": "code",
      "source": [
        "print(response.status_code)\r\n",
        "print(response.elapsed)\r\n",
        "\r\n"
      ],
      "outputs": [
        {
          "output_type": "stream",
          "name": "stdout",
          "text": [
            "200\n",
            "0:00:00.055716\n",
            "TransformException:\n",
            "\tMessage: Failed while applying learned transformations.\n",
            "\tInnerException: RuntimeError: ['age']: The reset parameter is False but there is no n_features_in_ attribute. Is this estimator fitted?\n",
            "\tErrorResponse \n",
            "{\n",
            "    \"error\": {\n",
            "        \"code\": \"System\",\n",
            "        \"inner_error\": {\n",
            "            \"code\": \"Transform\"\n",
            "        },\n",
            "        \"message\": \"Failed while applying learned transformations.\",\n",
            "        \"target\": \"DataTransformer.transform\",\n",
            "        \"reference_code\": \"e5bbc77b-2264-418d-bdb3-39ea0f09eae8\"\n",
            "    }\n",
            "}\n"
          ]
        }
      ],
      "execution_count": 30,
      "metadata": {
        "collapsed": true,
        "jupyter": {
          "source_hidden": false,
          "outputs_hidden": false
        },
        "nteract": {
          "transient": {
            "deleting": false
          }
        },
        "gather": {
          "logged": 1610624288292
        }
      }
    },
    {
      "cell_type": "code",
      "source": [],
      "outputs": [],
      "execution_count": null,
      "metadata": {
        "collapsed": true,
        "jupyter": {
          "source_hidden": false,
          "outputs_hidden": false
        },
        "nteract": {
          "transient": {
            "deleting": false
          }
        }
      }
    }
  ],
  "metadata": {
    "kernel_info": {
      "name": "python3"
    },
    "kernelspec": {
      "name": "python3",
      "language": "python",
      "display_name": "Python 3"
    },
    "language_info": {
      "name": "python",
      "version": "3.6.9",
      "mimetype": "text/x-python",
      "codemirror_mode": {
        "name": "ipython",
        "version": 3
      },
      "pygments_lexer": "ipython3",
      "nbconvert_exporter": "python",
      "file_extension": ".py"
    },
    "nteract": {
      "version": "nteract-front-end@1.0.0"
    }
  },
  "nbformat": 4,
  "nbformat_minor": 2
}